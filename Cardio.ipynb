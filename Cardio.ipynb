{
  "nbformat": 4,
  "nbformat_minor": 0,
  "metadata": {
    "colab": {
      "name": "Cardio.ipynb",
      "provenance": [],
      "collapsed_sections": [],
      "mount_file_id": "https://github.com/alirezash97/Cardio/blob/master/Cardio.ipynb",
      "authorship_tag": "ABX9TyNo5YLFOLDOTrdr9ODJ9yTQ",
      "include_colab_link": true
    },
    "kernelspec": {
      "name": "python3",
      "display_name": "Python 3"
    }
  },
  "cells": [
    {
      "cell_type": "markdown",
      "metadata": {
        "id": "view-in-github",
        "colab_type": "text"
      },
      "source": [
        "<a href=\"https://colab.research.google.com/github/alirezash97/Cardio/blob/master/Cardio.ipynb\" target=\"_parent\"><img src=\"https://colab.research.google.com/assets/colab-badge.svg\" alt=\"Open In Colab\"/></a>"
      ]
    },
    {
      "cell_type": "code",
      "metadata": {
        "id": "woUy50wlThUH",
        "colab_type": "code",
        "outputId": "e5684275-6fe7-456b-ecda-b1a230f3646f",
        "colab": {
          "base_uri": "https://localhost:8080/",
          "height": 101
        }
      },
      "source": [
        "# !pip install kaggle\n",
        "# !mkdir .kaggle\n",
        "# import json\n",
        "# token = {\"username\":\"alirezashafaei97\",\"key\":\"9cb262aa0c5658ffc4eb45857c41903c\"}\n",
        "# with open('/content/.kaggle/kaggle.json', 'w') as file:\n",
        "#     json.dump(token, file)\n",
        "# !mkdir ~/.kaggle\n",
        "# !cp /content/.kaggle/kaggle.json ~/.kaggle/kaggle.json\n",
        "# !kaggle config set -n path -v{/content}\n",
        "# !chmod 600 /root/.kaggle/kaggle.json\n",
        "# !kaggle datasets download -d shayanfazeli/heartbeat -p /content\n",
        "# !unzip /content/heartbeat.zip -d /content/heartbeat"
      ],
      "execution_count": 0,
      "outputs": [
        {
          "output_type": "stream",
          "text": [
            "Archive:  /content/heartbeat.zip\n",
            "  inflating: /content/heartbeat/mitbih_test.csv  \n",
            "  inflating: /content/heartbeat/mitbih_train.csv  \n",
            "  inflating: /content/heartbeat/ptbdb_abnormal.csv  \n",
            "  inflating: /content/heartbeat/ptbdb_normal.csv  \n"
          ],
          "name": "stdout"
        }
      ]
    },
    {
      "cell_type": "code",
      "metadata": {
        "id": "UprTwU387jLd",
        "colab_type": "code",
        "colab": {}
      },
      "source": [
        "\n",
        "!pip3 install git+https://github.com/analysiscenter/cardio.git"
      ],
      "execution_count": 0,
      "outputs": []
    },
    {
      "cell_type": "code",
      "metadata": {
        "id": "EU0eAyTV8aEg",
        "colab_type": "code",
        "colab": {}
      },
      "source": [
        "import cardio\n",
        "import wfdb\n",
        "import tensorflow as tf"
      ],
      "execution_count": 0,
      "outputs": []
    },
    {
      "cell_type": "code",
      "metadata": {
        "id": "ww2MC9iRBtHk",
        "colab_type": "code",
        "colab": {}
      },
      "source": [
        "!unzip '/content/drive/My Drive/Cardio/training2017.zip'"
      ],
      "execution_count": 0,
      "outputs": []
    },
    {
      "cell_type": "code",
      "metadata": {
        "id": "yzFRQBd6G3S3",
        "colab_type": "code",
        "colab": {}
      },
      "source": [
        "########## traingng 2017 ########\n",
        "import sys\n",
        "import numpy as np\n",
        "\n",
        "from matplotlib import pyplot as plt\n",
        "\n",
        "sys.path.append('/content/training2017')\n",
        "\n",
        "import cardio.batchflow as bf\n",
        "index = bf.FilesIndex(path='/content/training2017/A*.hea', no_ext=True, sort=True)"
      ],
      "execution_count": 0,
      "outputs": []
    },
    {
      "cell_type": "code",
      "metadata": {
        "id": "p-j-w7QdG74_",
        "colab_type": "code",
        "outputId": "17310558-0809-4e79-993f-6014d18326f9",
        "colab": {
          "base_uri": "https://localhost:8080/",
          "height": 34
        }
      },
      "source": [
        "print(index.indices)"
      ],
      "execution_count": 0,
      "outputs": [
        {
          "output_type": "stream",
          "text": [
            "['A00001' 'A00002' 'A00003' ... 'A08526' 'A08527' 'A08528']\n"
          ],
          "name": "stdout"
        }
      ]
    },
    {
      "cell_type": "code",
      "metadata": {
        "id": "-YiPEYEyHPNB",
        "colab_type": "code",
        "colab": {}
      },
      "source": [
        "from cardio import EcgBatch\n",
        "eds = bf.Dataset(index, batch_class=EcgBatch)"
      ],
      "execution_count": 0,
      "outputs": []
    },
    {
      "cell_type": "code",
      "metadata": {
        "id": "cVvVyUkJHxmH",
        "colab_type": "code",
        "colab": {}
      },
      "source": [
        "from cardio import EcgDataset\n",
        "eds = EcgDataset(path='/content/training2017/*.hea', no_ext=True, sort=True)"
      ],
      "execution_count": 0,
      "outputs": []
    },
    {
      "cell_type": "code",
      "metadata": {
        "id": "jNWjEAHtHspe",
        "colab_type": "code",
        "colab": {}
      },
      "source": [
        "batch = eds.next_batch(batch_size=8528, unique_labels=['A', 'N', 'O'])"
      ],
      "execution_count": 0,
      "outputs": []
    },
    {
      "cell_type": "code",
      "metadata": {
        "id": "C28AIES3rL6y",
        "colab_type": "code",
        "colab": {}
      },
      "source": [
        "batch_with_data = batch.load(fmt='wfdb', components=['signal', 'meta'])"
      ],
      "execution_count": 0,
      "outputs": []
    },
    {
      "cell_type": "code",
      "metadata": {
        "id": "Tbm3hOuprz11",
        "colab_type": "code",
        "colab": {}
      },
      "source": [
        "batch_with_data = batch_with_data.load(src='/content/training2017/REFERENCE.csv', fmt='csv', components='target')"
      ],
      "execution_count": 0,
      "outputs": []
    },
    {
      "cell_type": "code",
      "metadata": {
        "id": "YZ7OLaFyk0JK",
        "colab_type": "code",
        "outputId": "a7755699-367c-446d-a566-6acc1827f690",
        "colab": {
          "base_uri": "https://localhost:8080/",
          "height": 67
        }
      },
      "source": [
        "print(batch_with_data['A00004'].signal.shape)\n",
        "print(batch_with_data['A00004'].target)\n",
        "print(batch_with_data['A00004'].signal)"
      ],
      "execution_count": 35,
      "outputs": [
        {
          "output_type": "stream",
          "text": [
            "(1, 9000)\n",
            "A\n",
            "[[0.519 0.619 0.723 ... 0.116 0.017 0.018]]\n"
          ],
          "name": "stdout"
        }
      ]
    },
    {
      "cell_type": "code",
      "metadata": {
        "id": "FXMXfXyhnuJ8",
        "colab_type": "code",
        "outputId": "e9745005-7cee-495c-b413-a3860e02009e",
        "colab": {
          "base_uri": "https://localhost:8080/",
          "height": 34
        }
      },
      "source": [
        "import random\n",
        "\n",
        "Augmented = 0\n",
        "dataset = np.zeros((9279, 9001))\n",
        "pointer = 0\n",
        "for ecg in batch_with_data:\n",
        "  \n",
        "  \n",
        "  if ecg.signal.shape[1] == 18000:\n",
        "      dataset[pointer:pointer+1, :9000] = ecg.signal[:1, :9000]\n",
        "\n",
        "      ### pointer+2 for next slice ###\n",
        "\n",
        "      if ecg.target == 'A':\n",
        "        dataset[pointer:pointer+2, 9000:9001] = 1\n",
        "      elif ecg.target == 'N':\n",
        "        dataset[pointer:pointer+2, 9000:9001] = 2\n",
        "      else:\n",
        "        dataset[pointer:pointer+2, 9000:9001] = 3\n",
        "        \n",
        "        \n",
        "      ###### next slice ######\n",
        "\n",
        "      pointer += 1\n",
        "      dataset[pointer:pointer+1, :9000] = ecg.signal[:1, 9000:18000]\n",
        "      pointer += 1 \n",
        "      \n",
        "      ## target column is already filled ##\n",
        "\n",
        "  elif ecg.signal.shape[1] == 9000:\n",
        "      \n",
        "      dataset[pointer:pointer+1, :9000] = ecg.signal[:1, :9000]\n",
        "\n",
        "\n",
        "      if ecg.target == 'A':\n",
        "        dataset[pointer:pointer+1, 9000:9001] = 1\n",
        "      elif ecg.target == 'N':\n",
        "        dataset[pointer:pointer+1, 9000:9001] = 2\n",
        "      else:\n",
        "        dataset[pointer:pointer+1, 9000:9001] = 3\n",
        "      \n",
        "      pointer += 1\n",
        "\n",
        "      ##### data augmentation ######\n",
        "      chance = 0.15\n",
        "      rand_num = random.uniform(0, 1)\n",
        "      \n",
        "      if chance > rand_num :\n",
        "        \n",
        "        noise = np.random.normal(scale=0.01, size=9000)\n",
        "        ecg.signal[:1, :9000] += noise  \n",
        "        dataset[pointer:pointer+1, :9000] = ecg.signal[:1, :9000]\n",
        "\n",
        "\n",
        "\n",
        "        if ecg.target == 'A':\n",
        "          dataset[pointer:pointer+1, 9000:9001] = 1\n",
        "        elif ecg.target == 'N':\n",
        "          dataset[pointer:pointer+1, 9000:9001] = 2\n",
        "        else:\n",
        "          dataset[pointer:pointer+1, 9000:9001] = 3\n",
        "      \n",
        "        pointer += 1\n",
        "        Augmented += 1\n",
        "\n",
        "      ################################\n",
        "\n",
        "  else: \n",
        "    pass\n",
        "\n",
        "\n",
        "print(Augmented)"
      ],
      "execution_count": 55,
      "outputs": [
        {
          "output_type": "stream",
          "text": [
            "922\n"
          ],
          "name": "stdout"
        }
      ]
    },
    {
      "cell_type": "code",
      "metadata": {
        "id": "ARyZgDd-B5B5",
        "colab_type": "code",
        "colab": {
          "base_uri": "https://localhost:8080/",
          "height": 67
        },
        "outputId": "f28f0d1f-994d-4631-8e6c-1aa6e2672358"
      },
      "source": [
        "dataset[8515:8518, :]"
      ],
      "execution_count": 59,
      "outputs": [
        {
          "output_type": "execute_result",
          "data": {
            "text/plain": [
              "array([[-0.227, -0.297, -0.374, ..., -0.044, -0.036,  2.   ],\n",
              "       [-0.237, -0.286, -0.338, ..., -0.017, -0.018,  2.   ],\n",
              "       [ 0.   ,  0.   ,  0.   , ...,  0.   ,  0.   ,  0.   ]])"
            ]
          },
          "metadata": {
            "tags": []
          },
          "execution_count": 59
        }
      ]
    },
    {
      "cell_type": "code",
      "metadata": {
        "id": "tZohjEhKye4s",
        "colab_type": "code",
        "colab": {}
      },
      "source": [
        "\n",
        "trainset = np.zeros((8517, 9001))\n",
        "trainset = dataset[:8517, :]\n",
        "\n",
        "# some of the signals are skipped because of different dimentions"
      ],
      "execution_count": 0,
      "outputs": []
    },
    {
      "cell_type": "code",
      "metadata": {
        "id": "LhehEw6Z7Wnd",
        "colab_type": "code",
        "outputId": "fa2e18ce-02d4-4dfc-9ee6-c1587d58b6e9",
        "colab": {
          "base_uri": "https://localhost:8080/",
          "height": 315
        }
      },
      "source": [
        "import matplotlib.pyplot as plt\n",
        "\n",
        "# signal in trainset \n",
        "x = trainset[8000:8001, :-1]\n",
        "target = trainset[8000:8001, -1:] \n",
        "plt.plot(x[0])\n",
        "plt.show\n",
        "print(x)\n",
        "print(target)"
      ],
      "execution_count": 61,
      "outputs": [
        {
          "output_type": "stream",
          "text": [
            "[[-0.04769999 -0.07657571 -0.10174971 ... -0.00266661 -0.00681984\n",
            "  -0.00235367]]\n",
            "[[1.]]\n"
          ],
          "name": "stdout"
        },
        {
          "output_type": "display_data",
          "data": {
            "image/png": "[encoded data removed]",
            "text/plain": [
              "<Figure size 432x288 with 1 Axes>"
            ]
          },
          "metadata": {
            "tags": [],
            "needs_background": "light"
          }
        }
      ]
    },
    {
      "cell_type": "code",
      "metadata": {
        "id": "hFGvEmxT_KlZ",
        "colab_type": "code",
        "colab": {}
      },
      "source": [
        "X = trainset[:, :-1]\n",
        "X = np.take(X,np.random.permutation(X.shape[0]),axis=0,out=X);\n",
        "Y = trainset[:, -1:].reshape(8517, )"
      ],
      "execution_count": 0,
      "outputs": []
    },
    {
      "cell_type": "code",
      "metadata": {
        "id": "E6Mr_ZSr7kdc",
        "colab_type": "code",
        "colab": {}
      },
      "source": [
        "from sklearn.model_selection import train_test_split\n",
        "\n",
        "X_train, X_test, y_train, y_test = train_test_split(X, Y, test_size=0.23, random_state= 40)\n"
      ],
      "execution_count": 0,
      "outputs": []
    },
    {
      "cell_type": "code",
      "metadata": {
        "id": "4b5Qe4IsIdaF",
        "colab_type": "code",
        "colab": {
          "base_uri": "https://localhost:8080/",
          "height": 84
        },
        "outputId": "c0b3cd5a-bcc7-49bd-afd0-7ecce1af0adc"
      },
      "source": [
        "print(\"X_train\", X_train.shape)\n",
        "print(\"y_train\", y_train.shape)\n",
        "print(\"X_test\", X_test.shape)\n",
        "print(\"y_test\", y_test.shape)"
      ],
      "execution_count": 65,
      "outputs": [
        {
          "output_type": "stream",
          "text": [
            "X_train (6558, 9000)\n",
            "y_train (6558,)\n",
            "X_test (1959, 9000)\n",
            "y_test (1959,)\n"
          ],
          "name": "stdout"
        }
      ]
    },
    {
      "cell_type": "code",
      "metadata": {
        "id": "7jba7CmZKkGI",
        "colab_type": "code",
        "colab": {}
      },
      "source": [
        "X_train = np.array(X_train.reshape(6558, 9000, 1))\n",
        "X_test = np.array(X_test.reshape(1959, 9000, 1))\n",
        "y_train = np.array(y_train)\n",
        "y_test = np.array(y_test)"
      ],
      "execution_count": 0,
      "outputs": []
    },
    {
      "cell_type": "code",
      "metadata": {
        "id": "JG-cNIHDAFfZ",
        "colab_type": "code",
        "outputId": "d380ac56-8313-41cc-9a68-bcf442b45866",
        "colab": {
          "base_uri": "https://localhost:8080/",
          "height": 84
        }
      },
      "source": [
        "print(\"X_train\", X_train.shape)\n",
        "print(\"y_train\", y_train.shape)\n",
        "print(\"X_test\", X_test.shape)\n",
        "print(\"y_test\", y_test.shape)"
      ],
      "execution_count": 67,
      "outputs": [
        {
          "output_type": "stream",
          "text": [
            "X_train (6558, 9000, 1)\n",
            "y_train (6558,)\n",
            "X_test (1959, 9000, 1)\n",
            "y_test (1959,)\n"
          ],
          "name": "stdout"
        }
      ]
    },
    {
      "cell_type": "code",
      "metadata": {
        "id": "zTm81vrLBpbv",
        "colab_type": "code",
        "colab": {}
      },
      "source": [
        "from sklearn.preprocessing import OneHotEncoder\n",
        "\n",
        "ohe = OneHotEncoder()\n",
        "y_train = ohe.fit_transform(y_train.reshape(-1,1))\n",
        "y_test = ohe.transform(y_test.reshape(-1,1))"
      ],
      "execution_count": 0,
      "outputs": []
    },
    {
      "cell_type": "code",
      "metadata": {
        "id": "Jq_BIRZBCCLn",
        "colab_type": "code",
        "outputId": "877eb447-8db2-4ce7-83b5-912fca40e3e1",
        "colab": {
          "base_uri": "https://localhost:8080/",
          "height": 84
        }
      },
      "source": [
        "print(\"X_train\", X_train.shape)\n",
        "print(\"y_train\", y_train.shape)\n",
        "print(\"X_test\", X_test.shape)\n",
        "print(\"y_test\", y_test.shape)"
      ],
      "execution_count": 69,
      "outputs": [
        {
          "output_type": "stream",
          "text": [
            "X_train (6558, 9000, 1)\n",
            "y_train (6558, 3)\n",
            "X_test (1959, 9000, 1)\n",
            "y_test (1959, 3)\n"
          ],
          "name": "stdout"
        }
      ]
    },
    {
      "cell_type": "code",
      "metadata": {
        "id": "htcsc7xKD6qw",
        "colab_type": "code",
        "colab": {}
      },
      "source": [
        "from tensorflow.keras.layers import Input, Conv1D, BatchNormalization, Activation, Add, MaxPooling1D, Flatten, Dense, Softmax, LeakyReLU\n",
        "from tensorflow.keras.models import Model\n",
        "from tensorflow.keras.optimizers import Adam"
      ],
      "execution_count": 0,
      "outputs": []
    },
    {
      "cell_type": "code",
      "metadata": {
        "id": "a1pW4cb4CQ7U",
        "colab_type": "code",
        "colab": {
          "base_uri": "https://localhost:8080/",
          "height": 1000
        },
        "outputId": "834a9a5d-ac24-4b35-91d3-052f423bd225"
      },
      "source": [
        "m, feature, depth = X_train.shape\n",
        "\n",
        "X_input = Input(shape=(feature, depth))\n",
        "Conv = Conv1D(filters=16, kernel_size=5, strides=2)(X_input)\n",
        "\n",
        "\n",
        "### step 1 \n",
        "\n",
        "Conv1_1 = Conv1D(filters=32, kernel_size=9, strides=1, padding='same')(Conv)\n",
        "Bn1_1 = BatchNormalization()(Conv1_1)\n",
        "Act1_1 = LeakyReLU()(Bn1_1)\n",
        "Conv1_2 = Conv1D(filters=32, kernel_size=7, strides=1, padding='same')(Act1_1)\n",
        "Bn1_2 = BatchNormalization()(Conv1_2)\n",
        "Act1_2 = LeakyReLU()(Bn1_2)\n",
        "Conv1_3 = Conv1D(filters=16, kernel_size=9, strides=1, padding='same')(Act1_2)\n",
        "Bn1_3 = BatchNormalization()(Conv1_3)\n",
        "shortcut1_1 = Add()([Bn1_3, Conv])\n",
        "Bn1_4 = BatchNormalization()(shortcut1_1)\n",
        "Act1_3 = LeakyReLU()(Bn1_4)\n",
        "##### auxiliary\n",
        "Conv1_4 = Conv1D(filters=32, kernel_size=7, strides=1, padding='same')(Act1_3)\n",
        "Bn1_4 = BatchNormalization()(Conv1_4)\n",
        "Act1_4 = LeakyReLU()(Bn1_4)\n",
        "###############\n",
        "Max1_1 = MaxPooling1D(pool_size=5, strides=2)(Act1_4)\n",
        "\n",
        "\n",
        "## step 2\n",
        "\n",
        "Conv2_1 = Conv1D(filters=16, kernel_size=3, strides=1, padding='same')(Max1_1)\n",
        "Bn2_1 = BatchNormalization()(Conv2_1)\n",
        "Act2_1 = LeakyReLU()(Bn2_1)\n",
        "Conv2_2 = Conv1D(filters=32, kernel_size=5, strides=1, padding='same')(Act2_1)\n",
        "Bn2_2 = BatchNormalization()(Conv2_2)\n",
        "Act2_2 = LeakyReLU()(Bn2_2)\n",
        "Conv2_3 = Conv1D(filters=32, kernel_size=3, strides=1, padding='same')(Act2_2)\n",
        "Bn2_3 = BatchNormalization()(Conv2_3)\n",
        "shortcut2_1 = Add()([Bn2_3, Max1_1])\n",
        "Bn2_4 = BatchNormalization()(shortcut2_1)\n",
        "Act2_3 = LeakyReLU()(Bn2_4)\n",
        "##### auxiliary\n",
        "Conv2_4 = Conv1D(filters=64, kernel_size=7, strides=1, padding='same')(Act2_3)\n",
        "Bn2_4 = BatchNormalization()(Conv2_4)\n",
        "Act2_4 = LeakyReLU()(Bn2_4)\n",
        "###############\n",
        "Max2_1 = MaxPooling1D(pool_size=5, strides=3)(Act2_4)\n",
        "\n",
        "\n",
        "## step 3\n",
        "\n",
        "Conv3_1 = Conv1D(filters=32, kernel_size=16, strides=1, padding='same')(Max2_1)\n",
        "Bn3_1 = BatchNormalization()(Conv3_1)\n",
        "Act3_1 = LeakyReLU()(Bn3_1)\n",
        "Conv3_2 = Conv1D(filters=64, kernel_size=32, strides=1, padding='same')(Act3_1)\n",
        "Bn3_2 = BatchNormalization()(Conv3_2)\n",
        "Act3_2 = LeakyReLU()(Bn3_2)\n",
        "Conv3_3 = Conv1D(filters=64, kernel_size=16, strides=1, padding='same')(Act3_2)\n",
        "Bn3_3 = BatchNormalization()(Conv3_3)\n",
        "shortcut3_1 = Add()([Bn3_3, Max2_1])\n",
        "Bn3_4 = BatchNormalization()(shortcut3_1)\n",
        "Act3_3 = LeakyReLU()(Bn3_4)\n",
        "##### auxiliary\n",
        "Conv3_4 = Conv1D(filters=128, kernel_size=7, strides=1, padding='same')(Act3_3)\n",
        "Bn3_4 = BatchNormalization()(Conv3_4)\n",
        "Act3_4 = LeakyReLU()(Bn3_4)\n",
        "###############\n",
        "Max3_1 = MaxPooling1D(pool_size=5, strides=2)(Act3_4)\n",
        "\n",
        "\n",
        "## step 4\n",
        "\n",
        "Conv4_1 = Conv1D(filters=64, kernel_size=64, strides=1, padding='same')(Max3_1)\n",
        "Bn4_1 = BatchNormalization()(Conv4_1)\n",
        "Act4_1 = LeakyReLU()(Bn4_1)\n",
        "Conv4_2 = Conv1D(filters=64, kernel_size=128, strides=1, padding='same')(Act4_1)\n",
        "Bn4_2 = BatchNormalization()(Conv4_2)\n",
        "Act4_2 = LeakyReLU()(Bn4_2)\n",
        "Conv4_3 = Conv1D(filters=128, kernel_size=64, strides=1, padding='same')(Act4_2)\n",
        "Bn4_3 = BatchNormalization()(Conv4_3)\n",
        "shortcut4_1 = Add()([Bn4_3, Max3_1])\n",
        "Bn4_4 = BatchNormalization()(shortcut4_1)\n",
        "Act4_3 = LeakyReLU()(Bn4_4)\n",
        "##### auxiliary\n",
        "Conv4_4 = Conv1D(filters=256, kernel_size=7, strides=1, padding='same')(Act4_3)\n",
        "Bn4_4 = BatchNormalization()(Conv4_4)\n",
        "Act4_4 = LeakyReLU()(Bn4_4)\n",
        "###############\n",
        "Max4_1 = MaxPooling1D(pool_size=5, strides=3)(Act4_4)\n",
        "\n",
        "\n",
        "\n",
        "\n",
        "Flat1 = Flatten()(Max4_1)\n",
        "\n",
        "D1 = Dense(256)(Flat1)\n",
        "A6 = LeakyReLU()(D1)\n",
        "D2 = Dense(128)(A6)\n",
        "D3 = Dense(3)(D2)\n",
        "A7 = Softmax()(D3)\n",
        "\n",
        "model = Model(inputs=X_input, outputs=A7)\n",
        "\n",
        "model.summary()\n",
        "\n"
      ],
      "execution_count": 123,
      "outputs": [
        {
          "output_type": "stream",
          "text": [
            "Model: \"model_17\"\n",
            "__________________________________________________________________________________________________\n",
            "Layer (type)                    Output Shape         Param #     Connected to                     \n",
            "==================================================================================================\n",
            "input_24 (InputLayer)           [(None, 9000, 1)]    0                                            \n",
            "__________________________________________________________________________________________________\n",
            "conv1d_371 (Conv1D)             (None, 4498, 16)     96          input_24[0][0]                   \n",
            "__________________________________________________________________________________________________\n",
            "conv1d_372 (Conv1D)             (None, 4498, 32)     4640        conv1d_371[0][0]                 \n",
            "__________________________________________________________________________________________________\n",
            "batch_normalization_364 (BatchN (None, 4498, 32)     128         conv1d_372[0][0]                 \n",
            "__________________________________________________________________________________________________\n",
            "leaky_re_lu_347 (LeakyReLU)     (None, 4498, 32)     0           batch_normalization_364[0][0]    \n",
            "__________________________________________________________________________________________________\n",
            "conv1d_373 (Conv1D)             (None, 4498, 32)     7200        leaky_re_lu_347[0][0]            \n",
            "__________________________________________________________________________________________________\n",
            "batch_normalization_365 (BatchN (None, 4498, 32)     128         conv1d_373[0][0]                 \n",
            "__________________________________________________________________________________________________\n",
            "leaky_re_lu_348 (LeakyReLU)     (None, 4498, 32)     0           batch_normalization_365[0][0]    \n",
            "__________________________________________________________________________________________________\n",
            "conv1d_374 (Conv1D)             (None, 4498, 16)     4624        leaky_re_lu_348[0][0]            \n",
            "__________________________________________________________________________________________________\n",
            "batch_normalization_366 (BatchN (None, 4498, 16)     64          conv1d_374[0][0]                 \n",
            "__________________________________________________________________________________________________\n",
            "add_98 (Add)                    (None, 4498, 16)     0           batch_normalization_366[0][0]    \n",
            "                                                                 conv1d_371[0][0]                 \n",
            "__________________________________________________________________________________________________\n",
            "batch_normalization_367 (BatchN (None, 4498, 16)     64          add_98[0][0]                     \n",
            "__________________________________________________________________________________________________\n",
            "leaky_re_lu_349 (LeakyReLU)     (None, 4498, 16)     0           batch_normalization_367[0][0]    \n",
            "__________________________________________________________________________________________________\n",
            "conv1d_375 (Conv1D)             (None, 4498, 32)     3616        leaky_re_lu_349[0][0]            \n",
            "__________________________________________________________________________________________________\n",
            "batch_normalization_368 (BatchN (None, 4498, 32)     128         conv1d_375[0][0]                 \n",
            "__________________________________________________________________________________________________\n",
            "leaky_re_lu_350 (LeakyReLU)     (None, 4498, 32)     0           batch_normalization_368[0][0]    \n",
            "__________________________________________________________________________________________________\n",
            "max_pooling1d_92 (MaxPooling1D) (None, 2247, 32)     0           leaky_re_lu_350[0][0]            \n",
            "__________________________________________________________________________________________________\n",
            "conv1d_376 (Conv1D)             (None, 2247, 16)     1552        max_pooling1d_92[0][0]           \n",
            "__________________________________________________________________________________________________\n",
            "batch_normalization_369 (BatchN (None, 2247, 16)     64          conv1d_376[0][0]                 \n",
            "__________________________________________________________________________________________________\n",
            "leaky_re_lu_351 (LeakyReLU)     (None, 2247, 16)     0           batch_normalization_369[0][0]    \n",
            "__________________________________________________________________________________________________\n",
            "conv1d_377 (Conv1D)             (None, 2247, 32)     2592        leaky_re_lu_351[0][0]            \n",
            "__________________________________________________________________________________________________\n",
            "batch_normalization_370 (BatchN (None, 2247, 32)     128         conv1d_377[0][0]                 \n",
            "__________________________________________________________________________________________________\n",
            "leaky_re_lu_352 (LeakyReLU)     (None, 2247, 32)     0           batch_normalization_370[0][0]    \n",
            "__________________________________________________________________________________________________\n",
            "conv1d_378 (Conv1D)             (None, 2247, 32)     3104        leaky_re_lu_352[0][0]            \n",
            "__________________________________________________________________________________________________\n",
            "batch_normalization_371 (BatchN (None, 2247, 32)     128         conv1d_378[0][0]                 \n",
            "__________________________________________________________________________________________________\n",
            "add_99 (Add)                    (None, 2247, 32)     0           batch_normalization_371[0][0]    \n",
            "                                                                 max_pooling1d_92[0][0]           \n",
            "__________________________________________________________________________________________________\n",
            "batch_normalization_372 (BatchN (None, 2247, 32)     128         add_99[0][0]                     \n",
            "__________________________________________________________________________________________________\n",
            "leaky_re_lu_353 (LeakyReLU)     (None, 2247, 32)     0           batch_normalization_372[0][0]    \n",
            "__________________________________________________________________________________________________\n",
            "conv1d_379 (Conv1D)             (None, 2247, 64)     14400       leaky_re_lu_353[0][0]            \n",
            "__________________________________________________________________________________________________\n",
            "batch_normalization_373 (BatchN (None, 2247, 64)     256         conv1d_379[0][0]                 \n",
            "__________________________________________________________________________________________________\n",
            "leaky_re_lu_354 (LeakyReLU)     (None, 2247, 64)     0           batch_normalization_373[0][0]    \n",
            "__________________________________________________________________________________________________\n",
            "max_pooling1d_93 (MaxPooling1D) (None, 748, 64)      0           leaky_re_lu_354[0][0]            \n",
            "__________________________________________________________________________________________________\n",
            "conv1d_380 (Conv1D)             (None, 748, 32)      32800       max_pooling1d_93[0][0]           \n",
            "__________________________________________________________________________________________________\n",
            "batch_normalization_374 (BatchN (None, 748, 32)      128         conv1d_380[0][0]                 \n",
            "__________________________________________________________________________________________________\n",
            "leaky_re_lu_355 (LeakyReLU)     (None, 748, 32)      0           batch_normalization_374[0][0]    \n",
            "__________________________________________________________________________________________________\n",
            "conv1d_381 (Conv1D)             (None, 748, 64)      65600       leaky_re_lu_355[0][0]            \n",
            "__________________________________________________________________________________________________\n",
            "batch_normalization_375 (BatchN (None, 748, 64)      256         conv1d_381[0][0]                 \n",
            "__________________________________________________________________________________________________\n",
            "leaky_re_lu_356 (LeakyReLU)     (None, 748, 64)      0           batch_normalization_375[0][0]    \n",
            "__________________________________________________________________________________________________\n",
            "conv1d_382 (Conv1D)             (None, 748, 64)      65600       leaky_re_lu_356[0][0]            \n",
            "__________________________________________________________________________________________________\n",
            "batch_normalization_376 (BatchN (None, 748, 64)      256         conv1d_382[0][0]                 \n",
            "__________________________________________________________________________________________________\n",
            "add_100 (Add)                   (None, 748, 64)      0           batch_normalization_376[0][0]    \n",
            "                                                                 max_pooling1d_93[0][0]           \n",
            "__________________________________________________________________________________________________\n",
            "batch_normalization_377 (BatchN (None, 748, 64)      256         add_100[0][0]                    \n",
            "__________________________________________________________________________________________________\n",
            "leaky_re_lu_357 (LeakyReLU)     (None, 748, 64)      0           batch_normalization_377[0][0]    \n",
            "__________________________________________________________________________________________________\n",
            "conv1d_383 (Conv1D)             (None, 748, 128)     57472       leaky_re_lu_357[0][0]            \n",
            "__________________________________________________________________________________________________\n",
            "batch_normalization_378 (BatchN (None, 748, 128)     512         conv1d_383[0][0]                 \n",
            "__________________________________________________________________________________________________\n",
            "leaky_re_lu_358 (LeakyReLU)     (None, 748, 128)     0           batch_normalization_378[0][0]    \n",
            "__________________________________________________________________________________________________\n",
            "max_pooling1d_94 (MaxPooling1D) (None, 372, 128)     0           leaky_re_lu_358[0][0]            \n",
            "__________________________________________________________________________________________________\n",
            "conv1d_384 (Conv1D)             (None, 372, 64)      524352      max_pooling1d_94[0][0]           \n",
            "__________________________________________________________________________________________________\n",
            "batch_normalization_379 (BatchN (None, 372, 64)      256         conv1d_384[0][0]                 \n",
            "__________________________________________________________________________________________________\n",
            "leaky_re_lu_359 (LeakyReLU)     (None, 372, 64)      0           batch_normalization_379[0][0]    \n",
            "__________________________________________________________________________________________________\n",
            "conv1d_385 (Conv1D)             (None, 372, 64)      524352      leaky_re_lu_359[0][0]            \n",
            "__________________________________________________________________________________________________\n",
            "batch_normalization_380 (BatchN (None, 372, 64)      256         conv1d_385[0][0]                 \n",
            "__________________________________________________________________________________________________\n",
            "leaky_re_lu_360 (LeakyReLU)     (None, 372, 64)      0           batch_normalization_380[0][0]    \n",
            "__________________________________________________________________________________________________\n",
            "conv1d_386 (Conv1D)             (None, 372, 128)     524416      leaky_re_lu_360[0][0]            \n",
            "__________________________________________________________________________________________________\n",
            "batch_normalization_381 (BatchN (None, 372, 128)     512         conv1d_386[0][0]                 \n",
            "__________________________________________________________________________________________________\n",
            "add_101 (Add)                   (None, 372, 128)     0           batch_normalization_381[0][0]    \n",
            "                                                                 max_pooling1d_94[0][0]           \n",
            "__________________________________________________________________________________________________\n",
            "batch_normalization_382 (BatchN (None, 372, 128)     512         add_101[0][0]                    \n",
            "__________________________________________________________________________________________________\n",
            "leaky_re_lu_361 (LeakyReLU)     (None, 372, 128)     0           batch_normalization_382[0][0]    \n",
            "__________________________________________________________________________________________________\n",
            "conv1d_387 (Conv1D)             (None, 372, 256)     229632      leaky_re_lu_361[0][0]            \n",
            "__________________________________________________________________________________________________\n",
            "batch_normalization_383 (BatchN (None, 372, 256)     1024        conv1d_387[0][0]                 \n",
            "__________________________________________________________________________________________________\n",
            "leaky_re_lu_362 (LeakyReLU)     (None, 372, 256)     0           batch_normalization_383[0][0]    \n",
            "__________________________________________________________________________________________________\n",
            "max_pooling1d_95 (MaxPooling1D) (None, 123, 256)     0           leaky_re_lu_362[0][0]            \n",
            "__________________________________________________________________________________________________\n",
            "flatten_17 (Flatten)            (None, 31488)        0           max_pooling1d_95[0][0]           \n",
            "__________________________________________________________________________________________________\n",
            "dense_51 (Dense)                (None, 256)          8061184     flatten_17[0][0]                 \n",
            "__________________________________________________________________________________________________\n",
            "leaky_re_lu_363 (LeakyReLU)     (None, 256)          0           dense_51[0][0]                   \n",
            "__________________________________________________________________________________________________\n",
            "dense_52 (Dense)                (None, 128)          32896       leaky_re_lu_363[0][0]            \n",
            "__________________________________________________________________________________________________\n",
            "dense_53 (Dense)                (None, 3)            387         dense_52[0][0]                   \n",
            "__________________________________________________________________________________________________\n",
            "softmax_17 (Softmax)            (None, 3)            0           dense_53[0][0]                   \n",
            "==================================================================================================\n",
            "Total params: 10,165,699\n",
            "Trainable params: 10,163,107\n",
            "Non-trainable params: 2,592\n",
            "__________________________________________________________________________________________________\n"
          ],
          "name": "stdout"
        }
      ]
    },
    {
      "cell_type": "code",
      "metadata": {
        "id": "zhvO7xmOgczd",
        "colab_type": "code",
        "colab": {}
      },
      "source": [
        "from scipy.sparse import csr_matrix\n",
        "y_train = csr_matrix.toarray(y_train)\n",
        "y_test = csr_matrix.toarray(y_test)"
      ],
      "execution_count": 0,
      "outputs": []
    },
    {
      "cell_type": "code",
      "metadata": {
        "id": "Xeq3PoZwKMwc",
        "colab_type": "code",
        "colab": {}
      },
      "source": [
        "# Compile Model\n",
        "model.compile(loss='categorical_crossentropy', optimizer='adam', metrics=['accuracy'])"
      ],
      "execution_count": 0,
      "outputs": []
    },
    {
      "cell_type": "code",
      "metadata": {
        "id": "MNlDavTkO7Sy",
        "colab_type": "code",
        "outputId": "70aa0aa9-0895-479b-fca9-2b53c8069ba3",
        "colab": {
          "base_uri": "https://localhost:8080/",
          "height": 441
        }
      },
      "source": [
        "# Train Model\n",
        "\n",
        "history = model.fit(X_train, y_train, epochs=6, batch_size=32, validation_data=(X_test, y_test))"
      ],
      "execution_count": 129,
      "outputs": [
        {
          "output_type": "stream",
          "text": [
            "Epoch 1/6\n"
          ],
          "name": "stdout"
        },
        {
          "output_type": "error",
          "ename": "InvalidArgumentError",
          "evalue": "ignored",
          "traceback": [
            "\u001b[0;31m---------------------------------------------------------------------------\u001b[0m",
            "\u001b[0;31mInvalidArgumentError\u001b[0m                      Traceback (most recent call last)",
            "\u001b[0;32m<ipython-input-129-6664843eb30b>\u001b[0m in \u001b[0;36m<module>\u001b[0;34m()\u001b[0m\n\u001b[1;32m      1\u001b[0m \u001b[0;31m# Train Model\u001b[0m\u001b[0;34m\u001b[0m\u001b[0;34m\u001b[0m\u001b[0;34m\u001b[0m\u001b[0m\n\u001b[1;32m      2\u001b[0m \u001b[0;34m\u001b[0m\u001b[0m\n\u001b[0;32m----> 3\u001b[0;31m \u001b[0mhistory\u001b[0m \u001b[0;34m=\u001b[0m \u001b[0mmodel\u001b[0m\u001b[0;34m.\u001b[0m\u001b[0mfit\u001b[0m\u001b[0;34m(\u001b[0m\u001b[0mX_train\u001b[0m\u001b[0;34m,\u001b[0m \u001b[0my_train\u001b[0m\u001b[0;34m,\u001b[0m \u001b[0mepochs\u001b[0m\u001b[0;34m=\u001b[0m\u001b[0;36m6\u001b[0m\u001b[0;34m,\u001b[0m \u001b[0mbatch_size\u001b[0m\u001b[0;34m=\u001b[0m\u001b[0;36m32\u001b[0m\u001b[0;34m,\u001b[0m \u001b[0mvalidation_data\u001b[0m\u001b[0;34m=\u001b[0m\u001b[0;34m(\u001b[0m\u001b[0mX_test\u001b[0m\u001b[0;34m,\u001b[0m \u001b[0my_test\u001b[0m\u001b[0;34m)\u001b[0m\u001b[0;34m)\u001b[0m\u001b[0;34m\u001b[0m\u001b[0;34m\u001b[0m\u001b[0m\n\u001b[0m",
            "\u001b[0;32m/usr/local/lib/python3.6/dist-packages/tensorflow/python/keras/engine/training.py\u001b[0m in \u001b[0;36m_method_wrapper\u001b[0;34m(self, *args, **kwargs)\u001b[0m\n\u001b[1;32m     64\u001b[0m   \u001b[0;32mdef\u001b[0m \u001b[0m_method_wrapper\u001b[0m\u001b[0;34m(\u001b[0m\u001b[0mself\u001b[0m\u001b[0;34m,\u001b[0m \u001b[0;34m*\u001b[0m\u001b[0margs\u001b[0m\u001b[0;34m,\u001b[0m \u001b[0;34m**\u001b[0m\u001b[0mkwargs\u001b[0m\u001b[0;34m)\u001b[0m\u001b[0;34m:\u001b[0m\u001b[0;34m\u001b[0m\u001b[0;34m\u001b[0m\u001b[0m\n\u001b[1;32m     65\u001b[0m     \u001b[0;32mif\u001b[0m \u001b[0;32mnot\u001b[0m \u001b[0mself\u001b[0m\u001b[0;34m.\u001b[0m\u001b[0m_in_multi_worker_mode\u001b[0m\u001b[0;34m(\u001b[0m\u001b[0;34m)\u001b[0m\u001b[0;34m:\u001b[0m  \u001b[0;31m# pylint: disable=protected-access\u001b[0m\u001b[0;34m\u001b[0m\u001b[0;34m\u001b[0m\u001b[0m\n\u001b[0;32m---> 66\u001b[0;31m       \u001b[0;32mreturn\u001b[0m \u001b[0mmethod\u001b[0m\u001b[0;34m(\u001b[0m\u001b[0mself\u001b[0m\u001b[0;34m,\u001b[0m \u001b[0;34m*\u001b[0m\u001b[0margs\u001b[0m\u001b[0;34m,\u001b[0m \u001b[0;34m**\u001b[0m\u001b[0mkwargs\u001b[0m\u001b[0;34m)\u001b[0m\u001b[0;34m\u001b[0m\u001b[0;34m\u001b[0m\u001b[0m\n\u001b[0m\u001b[1;32m     67\u001b[0m \u001b[0;34m\u001b[0m\u001b[0m\n\u001b[1;32m     68\u001b[0m     \u001b[0;31m# Running inside `run_distribute_coordinator` already.\u001b[0m\u001b[0;34m\u001b[0m\u001b[0;34m\u001b[0m\u001b[0;34m\u001b[0m\u001b[0m\n",
            "\u001b[0;32m/usr/local/lib/python3.6/dist-packages/tensorflow/python/keras/engine/training.py\u001b[0m in \u001b[0;36mfit\u001b[0;34m(self, x, y, batch_size, epochs, verbose, callbacks, validation_split, validation_data, shuffle, class_weight, sample_weight, initial_epoch, steps_per_epoch, validation_steps, validation_batch_size, validation_freq, max_queue_size, workers, use_multiprocessing)\u001b[0m\n\u001b[1;32m    846\u001b[0m                 batch_size=batch_size):\n\u001b[1;32m    847\u001b[0m               \u001b[0mcallbacks\u001b[0m\u001b[0;34m.\u001b[0m\u001b[0mon_train_batch_begin\u001b[0m\u001b[0;34m(\u001b[0m\u001b[0mstep\u001b[0m\u001b[0;34m)\u001b[0m\u001b[0;34m\u001b[0m\u001b[0;34m\u001b[0m\u001b[0m\n\u001b[0;32m--> 848\u001b[0;31m               \u001b[0mtmp_logs\u001b[0m \u001b[0;34m=\u001b[0m \u001b[0mtrain_function\u001b[0m\u001b[0;34m(\u001b[0m\u001b[0miterator\u001b[0m\u001b[0;34m)\u001b[0m\u001b[0;34m\u001b[0m\u001b[0;34m\u001b[0m\u001b[0m\n\u001b[0m\u001b[1;32m    849\u001b[0m               \u001b[0;31m# Catch OutOfRangeError for Datasets of unknown size.\u001b[0m\u001b[0;34m\u001b[0m\u001b[0;34m\u001b[0m\u001b[0;34m\u001b[0m\u001b[0m\n\u001b[1;32m    850\u001b[0m               \u001b[0;31m# This blocks until the batch has finished executing.\u001b[0m\u001b[0;34m\u001b[0m\u001b[0;34m\u001b[0m\u001b[0;34m\u001b[0m\u001b[0m\n",
            "\u001b[0;32m/usr/local/lib/python3.6/dist-packages/tensorflow/python/eager/def_function.py\u001b[0m in \u001b[0;36m__call__\u001b[0;34m(self, *args, **kwds)\u001b[0m\n\u001b[1;32m    578\u001b[0m         \u001b[0mxla_context\u001b[0m\u001b[0;34m.\u001b[0m\u001b[0mExit\u001b[0m\u001b[0;34m(\u001b[0m\u001b[0;34m)\u001b[0m\u001b[0;34m\u001b[0m\u001b[0;34m\u001b[0m\u001b[0m\n\u001b[1;32m    579\u001b[0m     \u001b[0;32melse\u001b[0m\u001b[0;34m:\u001b[0m\u001b[0;34m\u001b[0m\u001b[0;34m\u001b[0m\u001b[0m\n\u001b[0;32m--> 580\u001b[0;31m       \u001b[0mresult\u001b[0m \u001b[0;34m=\u001b[0m \u001b[0mself\u001b[0m\u001b[0;34m.\u001b[0m\u001b[0m_call\u001b[0m\u001b[0;34m(\u001b[0m\u001b[0;34m*\u001b[0m\u001b[0margs\u001b[0m\u001b[0;34m,\u001b[0m \u001b[0;34m**\u001b[0m\u001b[0mkwds\u001b[0m\u001b[0;34m)\u001b[0m\u001b[0;34m\u001b[0m\u001b[0;34m\u001b[0m\u001b[0m\n\u001b[0m\u001b[1;32m    581\u001b[0m \u001b[0;34m\u001b[0m\u001b[0m\n\u001b[1;32m    582\u001b[0m     \u001b[0;32mif\u001b[0m \u001b[0mtracing_count\u001b[0m \u001b[0;34m==\u001b[0m \u001b[0mself\u001b[0m\u001b[0;34m.\u001b[0m\u001b[0m_get_tracing_count\u001b[0m\u001b[0;34m(\u001b[0m\u001b[0;34m)\u001b[0m\u001b[0;34m:\u001b[0m\u001b[0;34m\u001b[0m\u001b[0;34m\u001b[0m\u001b[0m\n",
            "\u001b[0;32m/usr/local/lib/python3.6/dist-packages/tensorflow/python/eager/def_function.py\u001b[0m in \u001b[0;36m_call\u001b[0;34m(self, *args, **kwds)\u001b[0m\n\u001b[1;32m    642\u001b[0m         \u001b[0;31m# Lifting succeeded, so variables are initialized and we can run the\u001b[0m\u001b[0;34m\u001b[0m\u001b[0;34m\u001b[0m\u001b[0;34m\u001b[0m\u001b[0m\n\u001b[1;32m    643\u001b[0m         \u001b[0;31m# stateless function.\u001b[0m\u001b[0;34m\u001b[0m\u001b[0;34m\u001b[0m\u001b[0;34m\u001b[0m\u001b[0m\n\u001b[0;32m--> 644\u001b[0;31m         \u001b[0;32mreturn\u001b[0m \u001b[0mself\u001b[0m\u001b[0;34m.\u001b[0m\u001b[0m_stateless_fn\u001b[0m\u001b[0;34m(\u001b[0m\u001b[0;34m*\u001b[0m\u001b[0margs\u001b[0m\u001b[0;34m,\u001b[0m \u001b[0;34m**\u001b[0m\u001b[0mkwds\u001b[0m\u001b[0;34m)\u001b[0m\u001b[0;34m\u001b[0m\u001b[0;34m\u001b[0m\u001b[0m\n\u001b[0m\u001b[1;32m    645\u001b[0m     \u001b[0;32melse\u001b[0m\u001b[0;34m:\u001b[0m\u001b[0;34m\u001b[0m\u001b[0;34m\u001b[0m\u001b[0m\n\u001b[1;32m    646\u001b[0m       \u001b[0mcanon_args\u001b[0m\u001b[0;34m,\u001b[0m \u001b[0mcanon_kwds\u001b[0m \u001b[0;34m=\u001b[0m\u001b[0;31m \u001b[0m\u001b[0;31m\\\u001b[0m\u001b[0;34m\u001b[0m\u001b[0;34m\u001b[0m\u001b[0m\n",
            "\u001b[0;32m/usr/local/lib/python3.6/dist-packages/tensorflow/python/eager/function.py\u001b[0m in \u001b[0;36m__call__\u001b[0;34m(self, *args, **kwargs)\u001b[0m\n\u001b[1;32m   2418\u001b[0m     \u001b[0;32mwith\u001b[0m \u001b[0mself\u001b[0m\u001b[0;34m.\u001b[0m\u001b[0m_lock\u001b[0m\u001b[0;34m:\u001b[0m\u001b[0;34m\u001b[0m\u001b[0;34m\u001b[0m\u001b[0m\n\u001b[1;32m   2419\u001b[0m       \u001b[0mgraph_function\u001b[0m\u001b[0;34m,\u001b[0m \u001b[0margs\u001b[0m\u001b[0;34m,\u001b[0m \u001b[0mkwargs\u001b[0m \u001b[0;34m=\u001b[0m \u001b[0mself\u001b[0m\u001b[0;34m.\u001b[0m\u001b[0m_maybe_define_function\u001b[0m\u001b[0;34m(\u001b[0m\u001b[0margs\u001b[0m\u001b[0;34m,\u001b[0m \u001b[0mkwargs\u001b[0m\u001b[0;34m)\u001b[0m\u001b[0;34m\u001b[0m\u001b[0;34m\u001b[0m\u001b[0m\n\u001b[0;32m-> 2420\u001b[0;31m     \u001b[0;32mreturn\u001b[0m \u001b[0mgraph_function\u001b[0m\u001b[0;34m.\u001b[0m\u001b[0m_filtered_call\u001b[0m\u001b[0;34m(\u001b[0m\u001b[0margs\u001b[0m\u001b[0;34m,\u001b[0m \u001b[0mkwargs\u001b[0m\u001b[0;34m)\u001b[0m  \u001b[0;31m# pylint: disable=protected-access\u001b[0m\u001b[0;34m\u001b[0m\u001b[0;34m\u001b[0m\u001b[0m\n\u001b[0m\u001b[1;32m   2421\u001b[0m \u001b[0;34m\u001b[0m\u001b[0m\n\u001b[1;32m   2422\u001b[0m   \u001b[0;34m@\u001b[0m\u001b[0mproperty\u001b[0m\u001b[0;34m\u001b[0m\u001b[0;34m\u001b[0m\u001b[0m\n",
            "\u001b[0;32m/usr/local/lib/python3.6/dist-packages/tensorflow/python/eager/function.py\u001b[0m in \u001b[0;36m_filtered_call\u001b[0;34m(self, args, kwargs)\u001b[0m\n\u001b[1;32m   1663\u001b[0m          if isinstance(t, (ops.Tensor,\n\u001b[1;32m   1664\u001b[0m                            resource_variable_ops.BaseResourceVariable))),\n\u001b[0;32m-> 1665\u001b[0;31m         self.captured_inputs)\n\u001b[0m\u001b[1;32m   1666\u001b[0m \u001b[0;34m\u001b[0m\u001b[0m\n\u001b[1;32m   1667\u001b[0m   \u001b[0;32mdef\u001b[0m \u001b[0m_call_flat\u001b[0m\u001b[0;34m(\u001b[0m\u001b[0mself\u001b[0m\u001b[0;34m,\u001b[0m \u001b[0margs\u001b[0m\u001b[0;34m,\u001b[0m \u001b[0mcaptured_inputs\u001b[0m\u001b[0;34m,\u001b[0m \u001b[0mcancellation_manager\u001b[0m\u001b[0;34m=\u001b[0m\u001b[0;32mNone\u001b[0m\u001b[0;34m)\u001b[0m\u001b[0;34m:\u001b[0m\u001b[0;34m\u001b[0m\u001b[0;34m\u001b[0m\u001b[0m\n",
            "\u001b[0;32m/usr/local/lib/python3.6/dist-packages/tensorflow/python/eager/function.py\u001b[0m in \u001b[0;36m_call_flat\u001b[0;34m(self, args, captured_inputs, cancellation_manager)\u001b[0m\n\u001b[1;32m   1744\u001b[0m       \u001b[0;31m# No tape is watching; skip to running the function.\u001b[0m\u001b[0;34m\u001b[0m\u001b[0;34m\u001b[0m\u001b[0;34m\u001b[0m\u001b[0m\n\u001b[1;32m   1745\u001b[0m       return self._build_call_outputs(self._inference_function.call(\n\u001b[0;32m-> 1746\u001b[0;31m           ctx, args, cancellation_manager=cancellation_manager))\n\u001b[0m\u001b[1;32m   1747\u001b[0m     forward_backward = self._select_forward_and_backward_functions(\n\u001b[1;32m   1748\u001b[0m         \u001b[0margs\u001b[0m\u001b[0;34m,\u001b[0m\u001b[0;34m\u001b[0m\u001b[0;34m\u001b[0m\u001b[0m\n",
            "\u001b[0;32m/usr/local/lib/python3.6/dist-packages/tensorflow/python/eager/function.py\u001b[0m in \u001b[0;36mcall\u001b[0;34m(self, ctx, args, cancellation_manager)\u001b[0m\n\u001b[1;32m    596\u001b[0m               \u001b[0minputs\u001b[0m\u001b[0;34m=\u001b[0m\u001b[0margs\u001b[0m\u001b[0;34m,\u001b[0m\u001b[0;34m\u001b[0m\u001b[0;34m\u001b[0m\u001b[0m\n\u001b[1;32m    597\u001b[0m               \u001b[0mattrs\u001b[0m\u001b[0;34m=\u001b[0m\u001b[0mattrs\u001b[0m\u001b[0;34m,\u001b[0m\u001b[0;34m\u001b[0m\u001b[0;34m\u001b[0m\u001b[0m\n\u001b[0;32m--> 598\u001b[0;31m               ctx=ctx)\n\u001b[0m\u001b[1;32m    599\u001b[0m         \u001b[0;32melse\u001b[0m\u001b[0;34m:\u001b[0m\u001b[0;34m\u001b[0m\u001b[0;34m\u001b[0m\u001b[0m\n\u001b[1;32m    600\u001b[0m           outputs = execute.execute_with_cancellation(\n",
            "\u001b[0;32m/usr/local/lib/python3.6/dist-packages/tensorflow/python/eager/execute.py\u001b[0m in \u001b[0;36mquick_execute\u001b[0;34m(op_name, num_outputs, inputs, attrs, ctx, name)\u001b[0m\n\u001b[1;32m     58\u001b[0m     \u001b[0mctx\u001b[0m\u001b[0;34m.\u001b[0m\u001b[0mensure_initialized\u001b[0m\u001b[0;34m(\u001b[0m\u001b[0;34m)\u001b[0m\u001b[0;34m\u001b[0m\u001b[0;34m\u001b[0m\u001b[0m\n\u001b[1;32m     59\u001b[0m     tensors = pywrap_tfe.TFE_Py_Execute(ctx._handle, device_name, op_name,\n\u001b[0;32m---> 60\u001b[0;31m                                         inputs, attrs, num_outputs)\n\u001b[0m\u001b[1;32m     61\u001b[0m   \u001b[0;32mexcept\u001b[0m \u001b[0mcore\u001b[0m\u001b[0;34m.\u001b[0m\u001b[0m_NotOkStatusException\u001b[0m \u001b[0;32mas\u001b[0m \u001b[0me\u001b[0m\u001b[0;34m:\u001b[0m\u001b[0;34m\u001b[0m\u001b[0;34m\u001b[0m\u001b[0m\n\u001b[1;32m     62\u001b[0m     \u001b[0;32mif\u001b[0m \u001b[0mname\u001b[0m \u001b[0;32mis\u001b[0m \u001b[0;32mnot\u001b[0m \u001b[0;32mNone\u001b[0m\u001b[0;34m:\u001b[0m\u001b[0;34m\u001b[0m\u001b[0;34m\u001b[0m\u001b[0m\n",
            "\u001b[0;31mInvalidArgumentError\u001b[0m:  logits and labels must have the same first dimension, got logits shape [32,3] and labels shape [96]\n\t [[node sparse_categorical_crossentropy/SparseSoftmaxCrossEntropyWithLogits/SparseSoftmaxCrossEntropyWithLogits (defined at <ipython-input-129-6664843eb30b>:3) ]] [Op:__inference_train_function_145954]\n\nFunction call stack:\ntrain_function\n"
          ]
        }
      ]
    },
    {
      "cell_type": "code",
      "metadata": {
        "id": "VjzaZzVtQZ7c",
        "colab_type": "code",
        "colab": {}
      },
      "source": [
        ""
      ],
      "execution_count": 0,
      "outputs": []
    }
  ]
}