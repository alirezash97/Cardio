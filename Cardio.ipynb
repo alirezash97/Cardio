{
  "nbformat": 4,
  "nbformat_minor": 0,
  "metadata": {
    "colab": {
      "name": "Cardio.ipynb",
      "provenance": [],
      "collapsed_sections": [],
      "mount_file_id": "https://github.com/alirezash97/Cardio/blob/master/Cardio.ipynb",
      "authorship_tag": "ABX9TyNuiRb5hig1FFEcFzDvxYZ5",
      "include_colab_link": true
    },
    "kernelspec": {
      "name": "python3",
      "display_name": "Python 3"
    }
  },
  "cells": [
    {
      "cell_type": "markdown",
      "metadata": {
        "id": "view-in-github",
        "colab_type": "text"
      },
      "source": [
        "<a href=\"https://colab.research.google.com/github/alirezash97/Cardio/blob/master/Cardio.ipynb\" target=\"_parent\"><img src=\"https://colab.research.google.com/assets/colab-badge.svg\" alt=\"Open In Colab\"/></a>"
      ]
    },
    {
      "cell_type": "code",
      "metadata": {
        "id": "UprTwU387jLd",
        "colab_type": "code",
        "colab": {}
      },
      "source": [
        "\n",
        "!pip3 install git+https://github.com/analysiscenter/cardio.git"
      ],
      "execution_count": 0,
      "outputs": []
    },
    {
      "cell_type": "code",
      "metadata": {
        "id": "EU0eAyTV8aEg",
        "colab_type": "code",
        "colab": {}
      },
      "source": [
        "import cardio\n",
        "import wfdb\n",
        "import tensorflow as tf"
      ],
      "execution_count": 0,
      "outputs": []
    },
    {
      "cell_type": "code",
      "metadata": {
        "id": "ww2MC9iRBtHk",
        "colab_type": "code",
        "colab": {}
      },
      "source": [
        "!unzip '/content/drive/My Drive/Cardio/training2017.zip'"
      ],
      "execution_count": 0,
      "outputs": []
    },
    {
      "cell_type": "code",
      "metadata": {
        "id": "yzFRQBd6G3S3",
        "colab_type": "code",
        "colab": {}
      },
      "source": [
        "########## traingng 2017 ########\n",
        "import sys\n",
        "import numpy as np\n",
        "\n",
        "from matplotlib import pyplot as plt\n",
        "\n",
        "sys.path.append('/content/training2017')\n",
        "\n",
        "import cardio.batchflow as bf\n",
        "index = bf.FilesIndex(path='/content/training2017/A*.hea', no_ext=True, sort=True)"
      ],
      "execution_count": 0,
      "outputs": []
    },
    {
      "cell_type": "code",
      "metadata": {
        "id": "p-j-w7QdG74_",
        "colab_type": "code",
        "outputId": "06d6ad4e-0714-4a83-dc2f-10b093ce573e",
        "colab": {
          "base_uri": "https://localhost:8080/",
          "height": 34
        }
      },
      "source": [
        "print(index.indices)"
      ],
      "execution_count": 3,
      "outputs": [
        {
          "output_type": "stream",
          "text": [
            "['A00001' 'A00002' 'A00003' ... 'A08526' 'A08527' 'A08528']\n"
          ],
          "name": "stdout"
        }
      ]
    },
    {
      "cell_type": "code",
      "metadata": {
        "id": "-YiPEYEyHPNB",
        "colab_type": "code",
        "colab": {}
      },
      "source": [
        "from cardio import EcgBatch\n",
        "eds = bf.Dataset(index, batch_class=EcgBatch)"
      ],
      "execution_count": 0,
      "outputs": []
    },
    {
      "cell_type": "code",
      "metadata": {
        "id": "cVvVyUkJHxmH",
        "colab_type": "code",
        "colab": {}
      },
      "source": [
        "from cardio import EcgDataset\n",
        "eds = EcgDataset(path='/content/training2017/*.hea', no_ext=True, sort=True)"
      ],
      "execution_count": 0,
      "outputs": []
    },
    {
      "cell_type": "code",
      "metadata": {
        "id": "jNWjEAHtHspe",
        "colab_type": "code",
        "colab": {}
      },
      "source": [
        "batch = eds.next_batch(batch_size=8528, unique_labels=['A', 'N', 'O', '~'])"
      ],
      "execution_count": 0,
      "outputs": []
    },
    {
      "cell_type": "code",
      "metadata": {
        "id": "C28AIES3rL6y",
        "colab_type": "code",
        "colab": {}
      },
      "source": [
        "batch_with_data = batch.load(fmt='wfdb', components=['signal', 'meta'])"
      ],
      "execution_count": 0,
      "outputs": []
    },
    {
      "cell_type": "code",
      "metadata": {
        "id": "Tbm3hOuprz11",
        "colab_type": "code",
        "colab": {}
      },
      "source": [
        "batch_with_data = batch_with_data.load(src='/content/training2017/REFERENCE.csv', fmt='csv', components='target')"
      ],
      "execution_count": 0,
      "outputs": []
    },
    {
      "cell_type": "code",
      "metadata": {
        "id": "YZ7OLaFyk0JK",
        "colab_type": "code",
        "outputId": "a7f6b31c-bcb0-434c-dc19-0c74ca083fc4",
        "colab": {
          "base_uri": "https://localhost:8080/",
          "height": 67
        }
      },
      "source": [
        "print(batch_with_data['A04211'].signal.shape)\n",
        "print(batch_with_data['A04211'].target)\n",
        "print(batch_with_data['A04211'].signal)"
      ],
      "execution_count": 49,
      "outputs": [
        {
          "output_type": "stream",
          "text": [
            "(1, 18000)\n",
            "N\n",
            "[[-0.497 -0.633 -0.775 ... -0.01  -0.028 -0.04 ]]\n"
          ],
          "name": "stdout"
        }
      ]
    },
    {
      "cell_type": "code",
      "metadata": {
        "id": "FXMXfXyhnuJ8",
        "colab_type": "code",
        "outputId": "6d3680d2-ffc7-4daf-914c-1ac8cad1cf5e",
        "colab": {
          "base_uri": "https://localhost:8080/",
          "height": 34
        }
      },
      "source": [
        "import random\n",
        "\n",
        "Augmented = 0\n",
        "dataset = np.zeros((15000, 9001))\n",
        "pointer = 0\n",
        "for ecg in batch_with_data:\n",
        "  \n",
        "  if ecg.target == 'A' or ecg.target == 'O' or ecg.target == 'N' or ecg.target == '~' : \n",
        "    if ecg.signal.shape[1] == 18000:\n",
        "        \n",
        "        dataset[pointer:pointer+1, :9000] = ecg.signal[:1, :9000]\n",
        "\n",
        "        ### pointer+2 for next slice ###\n",
        "\n",
        "        if ecg.target == 'A':\n",
        "          dataset[pointer:pointer+2, 9000:9001] = 0\n",
        "        elif ecg.target == 'N':\n",
        "          dataset[pointer:pointer+2, 9000:9001] = 1\n",
        "        elif ecg.target == 'O':\n",
        "          dataset[pointer:pointer+2, 9000:9001] = 2\n",
        "        elif ecg.target == '~':\n",
        "          dataset[pointer:pointer+2, 9000:9001] = 3\n",
        "        \n",
        "        pointer += 1 \n",
        "          \n",
        "        ###### next slice ######\n",
        "\n",
        "        \n",
        "        dataset[pointer:pointer+1, :9000] = ecg.signal[:1, 9000:18000]\n",
        "        pointer += 1 \n",
        "        \n",
        "        ## target column is already filled ##\n",
        "\n",
        "    elif ecg.signal.shape[1] == 9000:\n",
        "        \n",
        "        dataset[pointer:pointer+1, :9000] = ecg.signal[:1, :9000]\n",
        "\n",
        "\n",
        "        if ecg.target == 'A':\n",
        "          dataset[pointer:pointer+1, 9000:9001] = 0\n",
        "        elif ecg.target == 'N':\n",
        "          dataset[pointer:pointer+1, 9000:9001] = 1\n",
        "        elif ecg.target == 'O':\n",
        "          dataset[pointer:pointer+1, 9000:9001] = 2\n",
        "        elif ecg.target == '~':\n",
        "          dataset[pointer:pointer+2, 9000:9001] = 3\n",
        "        \n",
        "        pointer += 1\n",
        "\n",
        "    elif ecg.signal.shape[1] > 9000 and ecg.signal.shape[1] != 18000:\n",
        "      \n",
        "      \n",
        "      dataset[pointer:pointer+1, :9000] = ecg.signal[:1, :9000]\n",
        "      \n",
        "\n",
        "      if ecg.target == 'A':\n",
        "        dataset[pointer:pointer+1, 9000:9001] = 0\n",
        "      elif ecg.target == 'N':\n",
        "        dataset[pointer:pointer+1, 9000:9001] = 1\n",
        "      elif ecg.target == 'O':\n",
        "        dataset[pointer:pointer+1, 9000:9001] = 2\n",
        "      elif ecg.target == '~':\n",
        "        dataset[pointer:pointer+2, 9000:9001] = 3\n",
        "        \n",
        "        pointer += 1\n",
        "\n",
        "    #### data augmentation ######\n",
        "\n",
        "\n",
        "    if ecg.signal.shape[1] >= 9000:\n",
        "      chance = 0.5\n",
        "      rand_num = random.uniform(0, 1)\n",
        "        \n",
        "      if chance > rand_num :\n",
        "\n",
        "          \n",
        "        noise = np.random.normal(0,0.05,9000)\n",
        "        new_signal = ecg.signal[:1, :9000] + noise  \n",
        "        dataset[pointer:pointer+1, :9000] = new_signal\n",
        "\n",
        "\n",
        "\n",
        "        if ecg.target == 'A':\n",
        "          dataset[pointer:pointer+1, 9000:9001] = 0\n",
        "        elif ecg.target == 'N':\n",
        "          dataset[pointer:pointer+1, 9000:9001] = 1\n",
        "        elif ecg.target == 'O':\n",
        "          dataset[pointer:pointer+1, 9000:9001] = 2\n",
        "        elif ecg.target == '~':\n",
        "          dataset[pointer:pointer+2, 9000:9001] = 3\n",
        "        \n",
        "        pointer += 1\n",
        "        Augmented += 1\n",
        "\n",
        "    ################################\n",
        "\n",
        "    else: \n",
        "      pass\n",
        "\n",
        "  else:\n",
        "    pass\n",
        "\n",
        "\n",
        "\n",
        "print(Augmented)"
      ],
      "execution_count": 50,
      "outputs": [
        {
          "output_type": "stream",
          "text": [
            "3793\n"
          ],
          "name": "stdout"
        }
      ]
    },
    {
      "cell_type": "code",
      "metadata": {
        "id": "ARyZgDd-B5B5",
        "colab_type": "code",
        "outputId": "e4e82a4a-95d4-4edd-a2bc-9db4fba0d6c2",
        "colab": {
          "base_uri": "https://localhost:8080/",
          "height": 67
        }
      },
      "source": [
        "dataset[11401:11405, :]"
      ],
      "execution_count": 59,
      "outputs": [
        {
          "output_type": "execute_result",
          "data": {
            "text/plain": [
              "array([[0., 0., 0., ..., 0., 0., 0.],\n",
              "       [0., 0., 0., ..., 0., 0., 0.],\n",
              "       [0., 0., 0., ..., 0., 0., 0.]])"
            ]
          },
          "metadata": {
            "tags": []
          },
          "execution_count": 59
        }
      ]
    },
    {
      "cell_type": "code",
      "metadata": {
        "id": "tZohjEhKye4s",
        "colab_type": "code",
        "colab": {}
      },
      "source": [
        "\n",
        "trainset = np.zeros((11401, 9001))\n",
        "trainset = dataset[:11401, :]\n",
        "\n",
        "# some of the signals are skipped because of different dimentions"
      ],
      "execution_count": 0,
      "outputs": []
    },
    {
      "cell_type": "code",
      "metadata": {
        "id": "LhehEw6Z7Wnd",
        "colab_type": "code",
        "outputId": "f0cec01c-ce83-4eda-92a2-046be9a0e4e8",
        "colab": {
          "base_uri": "https://localhost:8080/",
          "height": 298
        }
      },
      "source": [
        "import matplotlib.pyplot as plt\n",
        "\n",
        "# signal in trainset \n",
        "x = trainset[7000:7001, :-1]\n",
        "target = trainset[7000:7001, -1:] \n",
        "plt.plot(x[0])\n",
        "plt.show\n",
        "print(x)\n",
        "print(target)"
      ],
      "execution_count": 61,
      "outputs": [
        {
          "output_type": "stream",
          "text": [
            "[[ 0.455  0.54   0.629 ... -0.012 -0.01  -0.008]]\n",
            "[[2.]]\n"
          ],
          "name": "stdout"
        },
        {
          "output_type": "display_data",
          "data": {
            "image/png": "[encoded data removed]",
            "text/plain": [
              "<Figure size 432x288 with 1 Axes>"
            ]
          },
          "metadata": {
            "tags": [],
            "needs_background": "light"
          }
        }
      ]
    },
    {
      "cell_type": "code",
      "metadata": {
        "id": "hFGvEmxT_KlZ",
        "colab_type": "code",
        "colab": {}
      },
      "source": [
        "temp = trainset[:, :]\n",
        "temp = np.take(temp,np.random.permutation(temp.shape[0]),axis=0,out=temp);\n",
        "X = temp[:, :-1]\n",
        "Y = temp[:, -1:].reshape(11401, 1)"
      ],
      "execution_count": 0,
      "outputs": []
    },
    {
      "cell_type": "code",
      "metadata": {
        "id": "E6Mr_ZSr7kdc",
        "colab_type": "code",
        "colab": {}
      },
      "source": [
        "from sklearn.model_selection import train_test_split\n",
        "\n",
        "X_train, X_test, y_train, y_test = train_test_split(X, Y, test_size=0.1)\n"
      ],
      "execution_count": 0,
      "outputs": []
    },
    {
      "cell_type": "code",
      "metadata": {
        "id": "GIgAyY2mLwPf",
        "colab_type": "code",
        "outputId": "c7e66c90-d192-4e0f-c6d0-00b69e9c8a37",
        "colab": {
          "base_uri": "https://localhost:8080/",
          "height": 50
        }
      },
      "source": [
        "########  teeeeest ########## \n",
        "for index,row in enumerate(X_train):\n",
        "\n",
        "  if row[0] == -0.497:\n",
        "    print(row)\n",
        "    print(y_train[index])\n",
        "\n",
        "\n",
        "#############################"
      ],
      "execution_count": 0,
      "outputs": [
        {
          "output_type": "stream",
          "text": [
            "[-0.497 -0.633 -0.775 ... -0.016 -0.014 -0.011]\n",
            "2.0\n"
          ],
          "name": "stdout"
        }
      ]
    },
    {
      "cell_type": "code",
      "metadata": {
        "id": "4b5Qe4IsIdaF",
        "colab_type": "code",
        "outputId": "58fee5b1-7436-462f-8bce-c3ef89791ee9",
        "colab": {
          "base_uri": "https://localhost:8080/",
          "height": 84
        }
      },
      "source": [
        "print(\"X_train\", X_train.shape)\n",
        "print(\"y_train\", y_train.shape)\n",
        "print(\"X_test\", X_test.shape)\n",
        "print(\"y_test\", y_test.shape)"
      ],
      "execution_count": 64,
      "outputs": [
        {
          "output_type": "stream",
          "text": [
            "X_train (10260, 9000)\n",
            "y_train (10260, 1)\n",
            "X_test (1141, 9000)\n",
            "y_test (1141, 1)\n"
          ],
          "name": "stdout"
        }
      ]
    },
    {
      "cell_type": "code",
      "metadata": {
        "id": "7jba7CmZKkGI",
        "colab_type": "code",
        "colab": {}
      },
      "source": [
        "X_train = np.array(X_train.reshape(10260, 9000, 1))\n",
        "X_test = np.array(X_test.reshape(1141, 9000, 1))\n",
        "y_train = np.array(y_train)\n",
        "y_test = np.array(y_test)"
      ],
      "execution_count": 0,
      "outputs": []
    },
    {
      "cell_type": "code",
      "metadata": {
        "id": "JG-cNIHDAFfZ",
        "colab_type": "code",
        "outputId": "e1a5ee60-ccaa-4e87-ca4e-5f14c16133e0",
        "colab": {
          "base_uri": "https://localhost:8080/",
          "height": 84
        }
      },
      "source": [
        "print(\"X_train\", X_train.shape)\n",
        "print(\"y_train\", y_train.shape)\n",
        "print(\"X_test\", X_test.shape)\n",
        "print(\"y_test\", y_test.shape)"
      ],
      "execution_count": 66,
      "outputs": [
        {
          "output_type": "stream",
          "text": [
            "X_train (10260, 9000, 1)\n",
            "y_train (10260, 1)\n",
            "X_test (1141, 9000, 1)\n",
            "y_test (1141, 1)\n"
          ],
          "name": "stdout"
        }
      ]
    },
    {
      "cell_type": "code",
      "metadata": {
        "id": "zTm81vrLBpbv",
        "colab_type": "code",
        "colab": {}
      },
      "source": [
        "from keras.utils.np_utils import to_categorical\n",
        "\n",
        "\n",
        "y_train=to_categorical(y_train)\n",
        "y_test=to_categorical(y_test)"
      ],
      "execution_count": 0,
      "outputs": []
    },
    {
      "cell_type": "code",
      "metadata": {
        "id": "Jq_BIRZBCCLn",
        "colab_type": "code",
        "outputId": "28ab72bf-a1f3-4026-9f6d-1f958819f6d5",
        "colab": {
          "base_uri": "https://localhost:8080/",
          "height": 84
        }
      },
      "source": [
        "print(\"X_train\", X_train.shape)\n",
        "print(\"y_train\", y_train.shape)\n",
        "print(\"X_test\", X_test.shape)\n",
        "print(\"y_test\", y_test.shape)"
      ],
      "execution_count": 68,
      "outputs": [
        {
          "output_type": "stream",
          "text": [
            "X_train (10260, 9000, 1)\n",
            "y_train (10260, 4)\n",
            "X_test (1141, 9000, 1)\n",
            "y_test (1141, 4)\n"
          ],
          "name": "stdout"
        }
      ]
    },
    {
      "cell_type": "code",
      "metadata": {
        "id": "zhvO7xmOgczd",
        "colab_type": "code",
        "colab": {}
      },
      "source": [
        "# from scipy.sparse import csr_matrix\n",
        "# y_train = csr_matrix.toarray(y_train)\n",
        "# y_test = csr_matrix.toarray(y_test)"
      ],
      "execution_count": 0,
      "outputs": []
    },
    {
      "cell_type": "code",
      "metadata": {
        "id": "cvLTX-K5pMQd",
        "colab_type": "code",
        "outputId": "28fe52cc-8197-4fb6-9d1b-9cce76fe7517",
        "colab": {
          "base_uri": "https://localhost:8080/",
          "height": 1000
        }
      },
      "source": [
        "from tensorflow.keras.preprocessing.image import img_to_array\n",
        "from tensorflow.keras.models import load_model\n",
        "\n",
        "\n",
        "# load model\n",
        "model = load_model('/content/drive/My Drive/Cardio/HeartBeat.h5')\n",
        "\n",
        "# summarize model.\n",
        "model.summary()"
      ],
      "execution_count": 74,
      "outputs": [
        {
          "output_type": "stream",
          "text": [
            "Model: \"model\"\n",
            "__________________________________________________________________________________________________\n",
            "Layer (type)                    Output Shape         Param #     Connected to                     \n",
            "==================================================================================================\n",
            "input_1 (InputLayer)            [(None, 9000, 1)]    0                                            \n",
            "__________________________________________________________________________________________________\n",
            "conv1d (Conv1D)                 (None, 2999, 64)     384         input_1[0][0]                    \n",
            "__________________________________________________________________________________________________\n",
            "conv1d_1 (Conv1D)               (None, 2999, 64)     36928       conv1d[0][0]                     \n",
            "__________________________________________________________________________________________________\n",
            "batch_normalization (BatchNorma (None, 2999, 64)     256         conv1d_1[0][0]                   \n",
            "__________________________________________________________________________________________________\n",
            "leaky_re_lu (LeakyReLU)         (None, 2999, 64)     0           batch_normalization[0][0]        \n",
            "__________________________________________________________________________________________________\n",
            "conv1d_2 (Conv1D)               (None, 2999, 32)     14368       leaky_re_lu[0][0]                \n",
            "__________________________________________________________________________________________________\n",
            "batch_normalization_1 (BatchNor (None, 2999, 32)     128         conv1d_2[0][0]                   \n",
            "__________________________________________________________________________________________________\n",
            "leaky_re_lu_1 (LeakyReLU)       (None, 2999, 32)     0           batch_normalization_1[0][0]      \n",
            "__________________________________________________________________________________________________\n",
            "dropout (Dropout)               (None, 2999, 32)     0           leaky_re_lu_1[0][0]              \n",
            "__________________________________________________________________________________________________\n",
            "conv1d_3 (Conv1D)               (None, 2999, 64)     18496       dropout[0][0]                    \n",
            "__________________________________________________________________________________________________\n",
            "batch_normalization_2 (BatchNor (None, 2999, 64)     256         conv1d_3[0][0]                   \n",
            "__________________________________________________________________________________________________\n",
            "add (Add)                       (None, 2999, 64)     0           batch_normalization_2[0][0]      \n",
            "                                                                 conv1d[0][0]                     \n",
            "__________________________________________________________________________________________________\n",
            "batch_normalization_3 (BatchNor (None, 2999, 64)     256         add[0][0]                        \n",
            "__________________________________________________________________________________________________\n",
            "leaky_re_lu_2 (LeakyReLU)       (None, 2999, 64)     0           batch_normalization_3[0][0]      \n",
            "__________________________________________________________________________________________________\n",
            "conv1d_4 (Conv1D)               (None, 1000, 128)    57472       leaky_re_lu_2[0][0]              \n",
            "__________________________________________________________________________________________________\n",
            "batch_normalization_4 (BatchNor (None, 1000, 128)    512         conv1d_4[0][0]                   \n",
            "__________________________________________________________________________________________________\n",
            "leaky_re_lu_3 (LeakyReLU)       (None, 1000, 128)    0           batch_normalization_4[0][0]      \n",
            "__________________________________________________________________________________________________\n",
            "max_pooling1d (MaxPooling1D)    (None, 498, 128)     0           leaky_re_lu_3[0][0]              \n",
            "__________________________________________________________________________________________________\n",
            "conv1d_5 (Conv1D)               (None, 498, 256)     98560       max_pooling1d[0][0]              \n",
            "__________________________________________________________________________________________________\n",
            "batch_normalization_5 (BatchNor (None, 498, 256)     1024        conv1d_5[0][0]                   \n",
            "__________________________________________________________________________________________________\n",
            "leaky_re_lu_4 (LeakyReLU)       (None, 498, 256)     0           batch_normalization_5[0][0]      \n",
            "__________________________________________________________________________________________________\n",
            "conv1d_6 (Conv1D)               (None, 498, 256)     327936      leaky_re_lu_4[0][0]              \n",
            "__________________________________________________________________________________________________\n",
            "batch_normalization_6 (BatchNor (None, 498, 256)     1024        conv1d_6[0][0]                   \n",
            "__________________________________________________________________________________________________\n",
            "leaky_re_lu_5 (LeakyReLU)       (None, 498, 256)     0           batch_normalization_6[0][0]      \n",
            "__________________________________________________________________________________________________\n",
            "dropout_1 (Dropout)             (None, 498, 256)     0           leaky_re_lu_5[0][0]              \n",
            "__________________________________________________________________________________________________\n",
            "conv1d_7 (Conv1D)               (None, 498, 128)     98432       dropout_1[0][0]                  \n",
            "__________________________________________________________________________________________________\n",
            "batch_normalization_7 (BatchNor (None, 498, 128)     512         conv1d_7[0][0]                   \n",
            "__________________________________________________________________________________________________\n",
            "add_1 (Add)                     (None, 498, 128)     0           batch_normalization_7[0][0]      \n",
            "                                                                 max_pooling1d[0][0]              \n",
            "__________________________________________________________________________________________________\n",
            "batch_normalization_8 (BatchNor (None, 498, 128)     512         add_1[0][0]                      \n",
            "__________________________________________________________________________________________________\n",
            "leaky_re_lu_6 (LeakyReLU)       (None, 498, 128)     0           batch_normalization_8[0][0]      \n",
            "__________________________________________________________________________________________________\n",
            "conv1d_8 (Conv1D)               (None, 249, 512)     459264      leaky_re_lu_6[0][0]              \n",
            "__________________________________________________________________________________________________\n",
            "batch_normalization_9 (BatchNor (None, 249, 512)     2048        conv1d_8[0][0]                   \n",
            "__________________________________________________________________________________________________\n",
            "leaky_re_lu_7 (LeakyReLU)       (None, 249, 512)     0           batch_normalization_9[0][0]      \n",
            "__________________________________________________________________________________________________\n",
            "max_pooling1d_1 (MaxPooling1D)  (None, 82, 512)      0           leaky_re_lu_7[0][0]              \n",
            "__________________________________________________________________________________________________\n",
            "flatten (Flatten)               (None, 41984)        0           max_pooling1d_1[0][0]            \n",
            "__________________________________________________________________________________________________\n",
            "dense (Dense)                   (None, 256)          10748160    flatten[0][0]                    \n",
            "__________________________________________________________________________________________________\n",
            "leaky_re_lu_8 (LeakyReLU)       (None, 256)          0           dense[0][0]                      \n",
            "__________________________________________________________________________________________________\n",
            "dropout_2 (Dropout)             (None, 256)          0           leaky_re_lu_8[0][0]              \n",
            "__________________________________________________________________________________________________\n",
            "dense_1 (Dense)                 (None, 128)          32896       dropout_2[0][0]                  \n",
            "__________________________________________________________________________________________________\n",
            "dense_2 (Dense)                 (None, 5)            645         dense_1[0][0]                    \n",
            "__________________________________________________________________________________________________\n",
            "softmax (Softmax)               (None, 5)            0           dense_2[0][0]                    \n",
            "==================================================================================================\n",
            "Total params: 11,900,069\n",
            "Trainable params: 11,896,805\n",
            "Non-trainable params: 3,264\n",
            "__________________________________________________________________________________________________\n"
          ],
          "name": "stdout"
        }
      ]
    },
    {
      "cell_type": "code",
      "metadata": {
        "id": "htcsc7xKD6qw",
        "colab_type": "code",
        "colab": {}
      },
      "source": [
        "from tensorflow.keras.layers import (Input, Conv1D, BatchNormalization, Activation, Add, MaxPooling1D,\n",
        "                                     Flatten, Dense, Softmax, LeakyReLU, Dropout)\n",
        "from tensorflow.keras.models import Model\n",
        "from tensorflow.keras.optimizers import Adam\n",
        "from tensorflow.keras import regularizers\n"
      ],
      "execution_count": 0,
      "outputs": []
    },
    {
      "cell_type": "code",
      "metadata": {
        "id": "a1pW4cb4CQ7U",
        "colab_type": "code",
        "outputId": "a706d140-7466-4423-eb11-ddb58f8ff0fa",
        "colab": {
          "base_uri": "https://localhost:8080/",
          "height": 1000
        }
      },
      "source": [
        "X_input = model.layers[-8].output\n",
        "\n",
        "\n",
        "### step 1 \n",
        "\n",
        "Conv1_1 = Conv1D(filters=256, kernel_size=9, strides=1, padding='same', name='conv1_1')(X_input)\n",
        "Bn1_1 = BatchNormalization(name='Bn1_1')(Conv1_1)\n",
        "Act1_1 = LeakyReLU()(Bn1_1)\n",
        "Conv1_2 = Conv1D(filters=256, kernel_size=7, strides=1, padding='same', name='conv1_2')(Act1_1)\n",
        "Bn1_2 = BatchNormalization(name='Bn1_2')(Conv1_2)\n",
        "Act1_2 = LeakyReLU()(Bn1_2)\n",
        "DO1_1 = Dropout(0.2)(Act1_2)\n",
        "Conv1_3 = Conv1D(filters=512, kernel_size=9, strides=1, padding='same', name='conv1_3')(DO1_1)\n",
        "Bn1_3 = BatchNormalization(name='Bn1_3')(Conv1_3)\n",
        "shortcut1_1 = Add()([Bn1_3, X_input])\n",
        "Bn1_4 = BatchNormalization(name='Bn1_4')(shortcut1_1)\n",
        "Act1_3 = LeakyReLU()(Bn1_4)\n",
        "##### auxiliary\n",
        "Conv1_4 = Conv1D(filters=1024, kernel_size=7, strides=2, padding='same', name='conv1_4')(Act1_3)\n",
        "Bn1_5 = BatchNormalization(name='Bn1_5')(Conv1_4)\n",
        "Act1_4 = LeakyReLU()(Bn1_5)\n",
        "###############\n",
        "Max1_1 = MaxPooling1D(pool_size=5, strides=1)(Act1_4)\n",
        "\n",
        "\n",
        "\n",
        "\n",
        "Flat1 = Flatten()(Max1_1)\n",
        "\n",
        "\n",
        "# , kernel_regularizer=regularizers.l1_l2(l1=1e-5, l2=1e-4)\n",
        "D0 = Dense(1024)(Flat1)\n",
        "Bn2 = BatchNormalization(name= 'batchNorm0')(D0)\n",
        "Act2 = LeakyReLU(name='leaky_re_lu1')(Bn2)\n",
        "Drop0 = Dropout(0.2)(Act2)\n",
        "######\n",
        "\n",
        "D1 = Dense(256)(Drop0)\n",
        "# AP1 = GlobalAveragePooling2D()(D1)\n",
        "Bn3 = BatchNormalization(name= 'batchNorm1')(D1)\n",
        "Act3 = LeakyReLU(name='leaky_re_lu2')(Bn3)\n",
        "\n",
        "\n",
        "#####\n",
        "\n",
        "D2 = Dense(64)(Act3)\n",
        "# AP1 = GlobalAveragePooling2D()(D1)\n",
        "Bn4 = BatchNormalization(name= 'batchNorm2')(D2)\n",
        "Act4 = LeakyReLU(name='leaky_re_lu3')(Bn4)\n",
        "\n",
        "#####\n",
        "D3 = Dense(4)(Act4)\n",
        "Act5 = Softmax()(D3)\n",
        "\n",
        "new_model = Model(inputs=model.inputs, outputs=Act5)\n",
        "new_model.summary()"
      ],
      "execution_count": 75,
      "outputs": [
        {
          "output_type": "stream",
          "text": [
            "Model: \"model_4\"\n",
            "__________________________________________________________________________________________________\n",
            "Layer (type)                    Output Shape         Param #     Connected to                     \n",
            "==================================================================================================\n",
            "input_1 (InputLayer)            [(None, 9000, 1)]    0                                            \n",
            "__________________________________________________________________________________________________\n",
            "conv1d (Conv1D)                 (None, 2999, 64)     384         input_1[0][0]                    \n",
            "__________________________________________________________________________________________________\n",
            "conv1d_1 (Conv1D)               (None, 2999, 64)     36928       conv1d[0][0]                     \n",
            "__________________________________________________________________________________________________\n",
            "batch_normalization (BatchNorma (None, 2999, 64)     256         conv1d_1[0][0]                   \n",
            "__________________________________________________________________________________________________\n",
            "leaky_re_lu (LeakyReLU)         (None, 2999, 64)     0           batch_normalization[0][0]        \n",
            "__________________________________________________________________________________________________\n",
            "conv1d_2 (Conv1D)               (None, 2999, 32)     14368       leaky_re_lu[0][0]                \n",
            "__________________________________________________________________________________________________\n",
            "batch_normalization_1 (BatchNor (None, 2999, 32)     128         conv1d_2[0][0]                   \n",
            "__________________________________________________________________________________________________\n",
            "leaky_re_lu_1 (LeakyReLU)       (None, 2999, 32)     0           batch_normalization_1[0][0]      \n",
            "__________________________________________________________________________________________________\n",
            "dropout (Dropout)               (None, 2999, 32)     0           leaky_re_lu_1[0][0]              \n",
            "__________________________________________________________________________________________________\n",
            "conv1d_3 (Conv1D)               (None, 2999, 64)     18496       dropout[0][0]                    \n",
            "__________________________________________________________________________________________________\n",
            "batch_normalization_2 (BatchNor (None, 2999, 64)     256         conv1d_3[0][0]                   \n",
            "__________________________________________________________________________________________________\n",
            "add (Add)                       (None, 2999, 64)     0           batch_normalization_2[0][0]      \n",
            "                                                                 conv1d[0][0]                     \n",
            "__________________________________________________________________________________________________\n",
            "batch_normalization_3 (BatchNor (None, 2999, 64)     256         add[0][0]                        \n",
            "__________________________________________________________________________________________________\n",
            "leaky_re_lu_2 (LeakyReLU)       (None, 2999, 64)     0           batch_normalization_3[0][0]      \n",
            "__________________________________________________________________________________________________\n",
            "conv1d_4 (Conv1D)               (None, 1000, 128)    57472       leaky_re_lu_2[0][0]              \n",
            "__________________________________________________________________________________________________\n",
            "batch_normalization_4 (BatchNor (None, 1000, 128)    512         conv1d_4[0][0]                   \n",
            "__________________________________________________________________________________________________\n",
            "leaky_re_lu_3 (LeakyReLU)       (None, 1000, 128)    0           batch_normalization_4[0][0]      \n",
            "__________________________________________________________________________________________________\n",
            "max_pooling1d (MaxPooling1D)    (None, 498, 128)     0           leaky_re_lu_3[0][0]              \n",
            "__________________________________________________________________________________________________\n",
            "conv1d_5 (Conv1D)               (None, 498, 256)     98560       max_pooling1d[0][0]              \n",
            "__________________________________________________________________________________________________\n",
            "batch_normalization_5 (BatchNor (None, 498, 256)     1024        conv1d_5[0][0]                   \n",
            "__________________________________________________________________________________________________\n",
            "leaky_re_lu_4 (LeakyReLU)       (None, 498, 256)     0           batch_normalization_5[0][0]      \n",
            "__________________________________________________________________________________________________\n",
            "conv1d_6 (Conv1D)               (None, 498, 256)     327936      leaky_re_lu_4[0][0]              \n",
            "__________________________________________________________________________________________________\n",
            "batch_normalization_6 (BatchNor (None, 498, 256)     1024        conv1d_6[0][0]                   \n",
            "__________________________________________________________________________________________________\n",
            "leaky_re_lu_5 (LeakyReLU)       (None, 498, 256)     0           batch_normalization_6[0][0]      \n",
            "__________________________________________________________________________________________________\n",
            "dropout_1 (Dropout)             (None, 498, 256)     0           leaky_re_lu_5[0][0]              \n",
            "__________________________________________________________________________________________________\n",
            "conv1d_7 (Conv1D)               (None, 498, 128)     98432       dropout_1[0][0]                  \n",
            "__________________________________________________________________________________________________\n",
            "batch_normalization_7 (BatchNor (None, 498, 128)     512         conv1d_7[0][0]                   \n",
            "__________________________________________________________________________________________________\n",
            "add_1 (Add)                     (None, 498, 128)     0           batch_normalization_7[0][0]      \n",
            "                                                                 max_pooling1d[0][0]              \n",
            "__________________________________________________________________________________________________\n",
            "batch_normalization_8 (BatchNor (None, 498, 128)     512         add_1[0][0]                      \n",
            "__________________________________________________________________________________________________\n",
            "leaky_re_lu_6 (LeakyReLU)       (None, 498, 128)     0           batch_normalization_8[0][0]      \n",
            "__________________________________________________________________________________________________\n",
            "conv1d_8 (Conv1D)               (None, 249, 512)     459264      leaky_re_lu_6[0][0]              \n",
            "__________________________________________________________________________________________________\n",
            "batch_normalization_9 (BatchNor (None, 249, 512)     2048        conv1d_8[0][0]                   \n",
            "__________________________________________________________________________________________________\n",
            "leaky_re_lu_7 (LeakyReLU)       (None, 249, 512)     0           batch_normalization_9[0][0]      \n",
            "__________________________________________________________________________________________________\n",
            "max_pooling1d_1 (MaxPooling1D)  (None, 82, 512)      0           leaky_re_lu_7[0][0]              \n",
            "__________________________________________________________________________________________________\n",
            "conv1_1 (Conv1D)                (None, 82, 256)      1179904     max_pooling1d_1[0][0]            \n",
            "__________________________________________________________________________________________________\n",
            "Bn1_1 (BatchNormalization)      (None, 82, 256)      1024        conv1_1[0][0]                    \n",
            "__________________________________________________________________________________________________\n",
            "leaky_re_lu_18 (LeakyReLU)      (None, 82, 256)      0           Bn1_1[0][0]                      \n",
            "__________________________________________________________________________________________________\n",
            "conv1_2 (Conv1D)                (None, 82, 256)      459008      leaky_re_lu_18[0][0]             \n",
            "__________________________________________________________________________________________________\n",
            "Bn1_2 (BatchNormalization)      (None, 82, 256)      1024        conv1_2[0][0]                    \n",
            "__________________________________________________________________________________________________\n",
            "leaky_re_lu_19 (LeakyReLU)      (None, 82, 256)      0           Bn1_2[0][0]                      \n",
            "__________________________________________________________________________________________________\n",
            "dropout_17 (Dropout)            (None, 82, 256)      0           leaky_re_lu_19[0][0]             \n",
            "__________________________________________________________________________________________________\n",
            "conv1_3 (Conv1D)                (None, 82, 512)      1180160     dropout_17[0][0]                 \n",
            "__________________________________________________________________________________________________\n",
            "Bn1_3 (BatchNormalization)      (None, 82, 512)      2048        conv1_3[0][0]                    \n",
            "__________________________________________________________________________________________________\n",
            "add_5 (Add)                     (None, 82, 512)      0           Bn1_3[0][0]                      \n",
            "                                                                 max_pooling1d_1[0][0]            \n",
            "__________________________________________________________________________________________________\n",
            "Bn1_4 (BatchNormalization)      (None, 82, 512)      2048        add_5[0][0]                      \n",
            "__________________________________________________________________________________________________\n",
            "leaky_re_lu_20 (LeakyReLU)      (None, 82, 512)      0           Bn1_4[0][0]                      \n",
            "__________________________________________________________________________________________________\n",
            "conv1_4 (Conv1D)                (None, 41, 1024)     3671040     leaky_re_lu_20[0][0]             \n",
            "__________________________________________________________________________________________________\n",
            "Bn1_5 (BatchNormalization)      (None, 41, 1024)     4096        conv1_4[0][0]                    \n",
            "__________________________________________________________________________________________________\n",
            "leaky_re_lu_21 (LeakyReLU)      (None, 41, 1024)     0           Bn1_5[0][0]                      \n",
            "__________________________________________________________________________________________________\n",
            "max_pooling1d_4 (MaxPooling1D)  (None, 37, 1024)     0           leaky_re_lu_21[0][0]             \n",
            "__________________________________________________________________________________________________\n",
            "flatten_4 (Flatten)             (None, 37888)        0           max_pooling1d_4[0][0]            \n",
            "__________________________________________________________________________________________________\n",
            "dense_16 (Dense)                (None, 1024)         38798336    flatten_4[0][0]                  \n",
            "__________________________________________________________________________________________________\n",
            "batchNorm0 (BatchNormalization) (None, 1024)         4096        dense_16[0][0]                   \n",
            "__________________________________________________________________________________________________\n",
            "leaky_re_lu1 (LeakyReLU)        (None, 1024)         0           batchNorm0[0][0]                 \n",
            "__________________________________________________________________________________________________\n",
            "dropout_18 (Dropout)            (None, 1024)         0           leaky_re_lu1[0][0]               \n",
            "__________________________________________________________________________________________________\n",
            "dense_17 (Dense)                (None, 256)          262400      dropout_18[0][0]                 \n",
            "__________________________________________________________________________________________________\n",
            "batchNorm1 (BatchNormalization) (None, 256)          1024        dense_17[0][0]                   \n",
            "__________________________________________________________________________________________________\n",
            "leaky_re_lu2 (LeakyReLU)        (None, 256)          0           batchNorm1[0][0]                 \n",
            "__________________________________________________________________________________________________\n",
            "dense_18 (Dense)                (None, 64)           16448       leaky_re_lu2[0][0]               \n",
            "__________________________________________________________________________________________________\n",
            "batchNorm2 (BatchNormalization) (None, 64)           256         dense_18[0][0]                   \n",
            "__________________________________________________________________________________________________\n",
            "leaky_re_lu3 (LeakyReLU)        (None, 64)           0           batchNorm2[0][0]                 \n",
            "__________________________________________________________________________________________________\n",
            "dense_19 (Dense)                (None, 4)            260         leaky_re_lu3[0][0]               \n",
            "__________________________________________________________________________________________________\n",
            "softmax_4 (Softmax)             (None, 4)            0           dense_19[0][0]                   \n",
            "==================================================================================================\n",
            "Total params: 46,701,540\n",
            "Trainable params: 46,690,468\n",
            "Non-trainable params: 11,072\n",
            "__________________________________________________________________________________________________\n"
          ],
          "name": "stdout"
        }
      ]
    },
    {
      "cell_type": "code",
      "metadata": {
        "id": "8rCj0i9nBE5b",
        "colab_type": "code",
        "outputId": "53dfc512-06f9-4bc8-c738-afa99bde3931",
        "colab": {
          "base_uri": "https://localhost:8080/",
          "height": 1000
        }
      },
      "source": [
        "new_model.get_layer('conv1d').trainable = False\n",
        "new_model.get_layer('conv1d_1').trainable = False\n",
        "new_model.get_layer('batch_normalization').trainable = False\n",
        "new_model.get_layer('conv1d_2').trainable = False\n",
        "new_model.get_layer('batch_normalization_1').trainable = False\n",
        "new_model.get_layer('conv1d_3').trainable = False\n",
        "new_model.get_layer('batch_normalization_2').trainable = False\n",
        "new_model.get_layer('batch_normalization_3').trainable = False\n",
        "new_model.get_layer('conv1d_4').trainable = False\n",
        "new_model.get_layer('batch_normalization_4').trainable = False\n",
        "new_model.get_layer('conv1d_5').trainable = False\n",
        "new_model.get_layer('batch_normalization_5').trainable = False\n",
        "new_model.get_layer('conv1d_6').trainable = False\n",
        "new_model.get_layer('batch_normalization_6').trainable = False\n",
        "new_model.get_layer('conv1d_7').trainable = False\n",
        "new_model.get_layer('batch_normalization_7').trainable = False\n",
        "new_model.get_layer('batch_normalization_8').trainable = False\n",
        "new_model.get_layer('conv1d_8').trainable = False\n",
        "new_model.get_layer('batch_normalization_9').trainable = False\n",
        "new_model.summary()"
      ],
      "execution_count": 76,
      "outputs": [
        {
          "output_type": "stream",
          "text": [
            "Model: \"model_4\"\n",
            "__________________________________________________________________________________________________\n",
            "Layer (type)                    Output Shape         Param #     Connected to                     \n",
            "==================================================================================================\n",
            "input_1 (InputLayer)            [(None, 9000, 1)]    0                                            \n",
            "__________________________________________________________________________________________________\n",
            "conv1d (Conv1D)                 (None, 2999, 64)     384         input_1[0][0]                    \n",
            "__________________________________________________________________________________________________\n",
            "conv1d_1 (Conv1D)               (None, 2999, 64)     36928       conv1d[0][0]                     \n",
            "__________________________________________________________________________________________________\n",
            "batch_normalization (BatchNorma (None, 2999, 64)     256         conv1d_1[0][0]                   \n",
            "__________________________________________________________________________________________________\n",
            "leaky_re_lu (LeakyReLU)         (None, 2999, 64)     0           batch_normalization[0][0]        \n",
            "__________________________________________________________________________________________________\n",
            "conv1d_2 (Conv1D)               (None, 2999, 32)     14368       leaky_re_lu[0][0]                \n",
            "__________________________________________________________________________________________________\n",
            "batch_normalization_1 (BatchNor (None, 2999, 32)     128         conv1d_2[0][0]                   \n",
            "__________________________________________________________________________________________________\n",
            "leaky_re_lu_1 (LeakyReLU)       (None, 2999, 32)     0           batch_normalization_1[0][0]      \n",
            "__________________________________________________________________________________________________\n",
            "dropout (Dropout)               (None, 2999, 32)     0           leaky_re_lu_1[0][0]              \n",
            "__________________________________________________________________________________________________\n",
            "conv1d_3 (Conv1D)               (None, 2999, 64)     18496       dropout[0][0]                    \n",
            "__________________________________________________________________________________________________\n",
            "batch_normalization_2 (BatchNor (None, 2999, 64)     256         conv1d_3[0][0]                   \n",
            "__________________________________________________________________________________________________\n",
            "add (Add)                       (None, 2999, 64)     0           batch_normalization_2[0][0]      \n",
            "                                                                 conv1d[0][0]                     \n",
            "__________________________________________________________________________________________________\n",
            "batch_normalization_3 (BatchNor (None, 2999, 64)     256         add[0][0]                        \n",
            "__________________________________________________________________________________________________\n",
            "leaky_re_lu_2 (LeakyReLU)       (None, 2999, 64)     0           batch_normalization_3[0][0]      \n",
            "__________________________________________________________________________________________________\n",
            "conv1d_4 (Conv1D)               (None, 1000, 128)    57472       leaky_re_lu_2[0][0]              \n",
            "__________________________________________________________________________________________________\n",
            "batch_normalization_4 (BatchNor (None, 1000, 128)    512         conv1d_4[0][0]                   \n",
            "__________________________________________________________________________________________________\n",
            "leaky_re_lu_3 (LeakyReLU)       (None, 1000, 128)    0           batch_normalization_4[0][0]      \n",
            "__________________________________________________________________________________________________\n",
            "max_pooling1d (MaxPooling1D)    (None, 498, 128)     0           leaky_re_lu_3[0][0]              \n",
            "__________________________________________________________________________________________________\n",
            "conv1d_5 (Conv1D)               (None, 498, 256)     98560       max_pooling1d[0][0]              \n",
            "__________________________________________________________________________________________________\n",
            "batch_normalization_5 (BatchNor (None, 498, 256)     1024        conv1d_5[0][0]                   \n",
            "__________________________________________________________________________________________________\n",
            "leaky_re_lu_4 (LeakyReLU)       (None, 498, 256)     0           batch_normalization_5[0][0]      \n",
            "__________________________________________________________________________________________________\n",
            "conv1d_6 (Conv1D)               (None, 498, 256)     327936      leaky_re_lu_4[0][0]              \n",
            "__________________________________________________________________________________________________\n",
            "batch_normalization_6 (BatchNor (None, 498, 256)     1024        conv1d_6[0][0]                   \n",
            "__________________________________________________________________________________________________\n",
            "leaky_re_lu_5 (LeakyReLU)       (None, 498, 256)     0           batch_normalization_6[0][0]      \n",
            "__________________________________________________________________________________________________\n",
            "dropout_1 (Dropout)             (None, 498, 256)     0           leaky_re_lu_5[0][0]              \n",
            "__________________________________________________________________________________________________\n",
            "conv1d_7 (Conv1D)               (None, 498, 128)     98432       dropout_1[0][0]                  \n",
            "__________________________________________________________________________________________________\n",
            "batch_normalization_7 (BatchNor (None, 498, 128)     512         conv1d_7[0][0]                   \n",
            "__________________________________________________________________________________________________\n",
            "add_1 (Add)                     (None, 498, 128)     0           batch_normalization_7[0][0]      \n",
            "                                                                 max_pooling1d[0][0]              \n",
            "__________________________________________________________________________________________________\n",
            "batch_normalization_8 (BatchNor (None, 498, 128)     512         add_1[0][0]                      \n",
            "__________________________________________________________________________________________________\n",
            "leaky_re_lu_6 (LeakyReLU)       (None, 498, 128)     0           batch_normalization_8[0][0]      \n",
            "__________________________________________________________________________________________________\n",
            "conv1d_8 (Conv1D)               (None, 249, 512)     459264      leaky_re_lu_6[0][0]              \n",
            "__________________________________________________________________________________________________\n",
            "batch_normalization_9 (BatchNor (None, 249, 512)     2048        conv1d_8[0][0]                   \n",
            "__________________________________________________________________________________________________\n",
            "leaky_re_lu_7 (LeakyReLU)       (None, 249, 512)     0           batch_normalization_9[0][0]      \n",
            "__________________________________________________________________________________________________\n",
            "max_pooling1d_1 (MaxPooling1D)  (None, 82, 512)      0           leaky_re_lu_7[0][0]              \n",
            "__________________________________________________________________________________________________\n",
            "conv1_1 (Conv1D)                (None, 82, 256)      1179904     max_pooling1d_1[0][0]            \n",
            "__________________________________________________________________________________________________\n",
            "Bn1_1 (BatchNormalization)      (None, 82, 256)      1024        conv1_1[0][0]                    \n",
            "__________________________________________________________________________________________________\n",
            "leaky_re_lu_18 (LeakyReLU)      (None, 82, 256)      0           Bn1_1[0][0]                      \n",
            "__________________________________________________________________________________________________\n",
            "conv1_2 (Conv1D)                (None, 82, 256)      459008      leaky_re_lu_18[0][0]             \n",
            "__________________________________________________________________________________________________\n",
            "Bn1_2 (BatchNormalization)      (None, 82, 256)      1024        conv1_2[0][0]                    \n",
            "__________________________________________________________________________________________________\n",
            "leaky_re_lu_19 (LeakyReLU)      (None, 82, 256)      0           Bn1_2[0][0]                      \n",
            "__________________________________________________________________________________________________\n",
            "dropout_17 (Dropout)            (None, 82, 256)      0           leaky_re_lu_19[0][0]             \n",
            "__________________________________________________________________________________________________\n",
            "conv1_3 (Conv1D)                (None, 82, 512)      1180160     dropout_17[0][0]                 \n",
            "__________________________________________________________________________________________________\n",
            "Bn1_3 (BatchNormalization)      (None, 82, 512)      2048        conv1_3[0][0]                    \n",
            "__________________________________________________________________________________________________\n",
            "add_5 (Add)                     (None, 82, 512)      0           Bn1_3[0][0]                      \n",
            "                                                                 max_pooling1d_1[0][0]            \n",
            "__________________________________________________________________________________________________\n",
            "Bn1_4 (BatchNormalization)      (None, 82, 512)      2048        add_5[0][0]                      \n",
            "__________________________________________________________________________________________________\n",
            "leaky_re_lu_20 (LeakyReLU)      (None, 82, 512)      0           Bn1_4[0][0]                      \n",
            "__________________________________________________________________________________________________\n",
            "conv1_4 (Conv1D)                (None, 41, 1024)     3671040     leaky_re_lu_20[0][0]             \n",
            "__________________________________________________________________________________________________\n",
            "Bn1_5 (BatchNormalization)      (None, 41, 1024)     4096        conv1_4[0][0]                    \n",
            "__________________________________________________________________________________________________\n",
            "leaky_re_lu_21 (LeakyReLU)      (None, 41, 1024)     0           Bn1_5[0][0]                      \n",
            "__________________________________________________________________________________________________\n",
            "max_pooling1d_4 (MaxPooling1D)  (None, 37, 1024)     0           leaky_re_lu_21[0][0]             \n",
            "__________________________________________________________________________________________________\n",
            "flatten_4 (Flatten)             (None, 37888)        0           max_pooling1d_4[0][0]            \n",
            "__________________________________________________________________________________________________\n",
            "dense_16 (Dense)                (None, 1024)         38798336    flatten_4[0][0]                  \n",
            "__________________________________________________________________________________________________\n",
            "batchNorm0 (BatchNormalization) (None, 1024)         4096        dense_16[0][0]                   \n",
            "__________________________________________________________________________________________________\n",
            "leaky_re_lu1 (LeakyReLU)        (None, 1024)         0           batchNorm0[0][0]                 \n",
            "__________________________________________________________________________________________________\n",
            "dropout_18 (Dropout)            (None, 1024)         0           leaky_re_lu1[0][0]               \n",
            "__________________________________________________________________________________________________\n",
            "dense_17 (Dense)                (None, 256)          262400      dropout_18[0][0]                 \n",
            "__________________________________________________________________________________________________\n",
            "batchNorm1 (BatchNormalization) (None, 256)          1024        dense_17[0][0]                   \n",
            "__________________________________________________________________________________________________\n",
            "leaky_re_lu2 (LeakyReLU)        (None, 256)          0           batchNorm1[0][0]                 \n",
            "__________________________________________________________________________________________________\n",
            "dense_18 (Dense)                (None, 64)           16448       leaky_re_lu2[0][0]               \n",
            "__________________________________________________________________________________________________\n",
            "batchNorm2 (BatchNormalization) (None, 64)           256         dense_18[0][0]                   \n",
            "__________________________________________________________________________________________________\n",
            "leaky_re_lu3 (LeakyReLU)        (None, 64)           0           batchNorm2[0][0]                 \n",
            "__________________________________________________________________________________________________\n",
            "dense_19 (Dense)                (None, 4)            260         leaky_re_lu3[0][0]               \n",
            "__________________________________________________________________________________________________\n",
            "softmax_4 (Softmax)             (None, 4)            0           dense_19[0][0]                   \n",
            "==================================================================================================\n",
            "Total params: 46,701,540\n",
            "Trainable params: 45,575,364\n",
            "Non-trainable params: 1,126,176\n",
            "__________________________________________________________________________________________________\n"
          ],
          "name": "stdout"
        }
      ]
    },
    {
      "cell_type": "code",
      "metadata": {
        "id": "MNlDavTkO7Sy",
        "colab_type": "code",
        "outputId": "babc2dcb-7046-4636-cd6f-6a5852742b01",
        "colab": {
          "base_uri": "https://localhost:8080/",
          "height": 521
        }
      },
      "source": [
        "# compile model\n",
        "new_model.compile(loss='categorical_crossentropy', optimizer='adam', metrics=['accuracy'])\n",
        "\n",
        "# Early Stopping\n",
        "es_callback = tf.keras.callbacks.EarlyStopping(monitor='val_loss', patience=4)\n",
        "\n",
        "# Fit the model\n",
        "new_model.fit(X_train, y_train, epochs=25, batch_size=128, validation_data=(X_test, y_test), callbacks=[es_callback])"
      ],
      "execution_count": 0,
      "outputs": [
        {
          "output_type": "stream",
          "text": [
            "Epoch 1/25\n",
            "81/81 [==============================] - 940s 12s/step - loss: 0.9710 - accuracy: 0.6108 - val_loss: 1.4913 - val_accuracy: 0.5267\n",
            "Epoch 2/25\n",
            "81/81 [==============================] - 932s 12s/step - loss: 0.7194 - accuracy: 0.7058 - val_loss: 1.4719 - val_accuracy: 0.4330\n",
            "Epoch 3/25\n",
            "81/81 [==============================] - 935s 12s/step - loss: 0.6077 - accuracy: 0.7545 - val_loss: 0.7730 - val_accuracy: 0.6766\n",
            "Epoch 4/25\n",
            "81/81 [==============================] - 931s 11s/step - loss: 0.5600 - accuracy: 0.7724 - val_loss: 0.7013 - val_accuracy: 0.7195\n",
            "Epoch 5/25\n",
            "81/81 [==============================] - 927s 11s/step - loss: 0.5315 - accuracy: 0.7893 - val_loss: 0.9130 - val_accuracy: 0.6082\n",
            "Epoch 6/25\n",
            "81/81 [==============================] - 916s 11s/step - loss: 0.4918 - accuracy: 0.8089 - val_loss: 0.5051 - val_accuracy: 0.7975\n",
            "Epoch 7/25\n",
            "81/81 [==============================] - 904s 11s/step - loss: 0.4730 - accuracy: 0.8178 - val_loss: 0.5673 - val_accuracy: 0.7783\n",
            "Epoch 8/25\n",
            "81/81 [==============================] - 906s 11s/step - loss: 0.4557 - accuracy: 0.8209 - val_loss: 0.5494 - val_accuracy: 0.7853\n",
            "Epoch 9/25\n",
            "81/81 [==============================] - 906s 11s/step - loss: 0.4302 - accuracy: 0.8330 - val_loss: 0.4958 - val_accuracy: 0.8002\n",
            "Epoch 10/25\n",
            "81/81 [==============================] - 908s 11s/step - loss: 0.4144 - accuracy: 0.8368 - val_loss: 0.4937 - val_accuracy: 0.8089\n",
            "Epoch 11/25\n",
            "81/81 [==============================] - 912s 11s/step - loss: 0.3850 - accuracy: 0.8510 - val_loss: 0.5544 - val_accuracy: 0.7870\n",
            "Epoch 12/25\n",
            "81/81 [==============================] - 910s 11s/step - loss: 0.3777 - accuracy: 0.8569 - val_loss: 0.5014 - val_accuracy: 0.8151\n",
            "Epoch 13/25\n",
            "81/81 [==============================] - 910s 11s/step - loss: 0.3523 - accuracy: 0.8649 - val_loss: 0.4729 - val_accuracy: 0.8291\n",
            "Epoch 14/25\n",
            "81/81 [==============================] - 911s 11s/step - loss: 0.3472 - accuracy: 0.8682 - val_loss: 0.4553 - val_accuracy: 0.8265\n",
            "Epoch 15/25\n",
            "58/81 [====================>.........] - ETA: 4:09 - loss: 0.3145 - accuracy: 0.8759"
          ],
          "name": "stdout"
        }
      ]
    },
    {
      "cell_type": "code",
      "metadata": {
        "id": "VjzaZzVtQZ7c",
        "colab_type": "code",
        "outputId": "b37fee63-1694-40a5-8d3b-6f26ca1c8a45",
        "colab": {
          "base_uri": "https://localhost:8080/",
          "height": 50
        }
      },
      "source": [
        "scores = model.evaluate(X_test, y_test, verbose=0)\n",
        "print(\"%s: %.2f%%\" % (model.metrics_names[1], scores[1]*100))\n",
        "# save model and architecture to single file\n",
        "model.save('/content/drive/My Drive/Cardio/AF_Classification.h5')\n",
        "print(\"Saved model to disk\")"
      ],
      "execution_count": 0,
      "outputs": [
        {
          "output_type": "stream",
          "text": [
            "accuracy: 79.56%\n",
            "Saved model to disk\n"
          ],
          "name": "stdout"
        }
      ]
    }
  ]
}