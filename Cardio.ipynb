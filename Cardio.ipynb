{
  "nbformat": 4,
  "nbformat_minor": 0,
  "metadata": {
    "colab": {
      "name": "Cardio.ipynb",
      "provenance": [],
      "collapsed_sections": [],
      "mount_file_id": "https://github.com/alirezash97/Cardio/blob/master/Cardio.ipynb",
      "authorship_tag": "ABX9TyMGnfPKVPo0p5CzHfDKxY5K",
      "include_colab_link": true
    },
    "kernelspec": {
      "name": "python3",
      "display_name": "Python 3"
    }
  },
  "cells": [
    {
      "cell_type": "markdown",
      "metadata": {
        "id": "view-in-github",
        "colab_type": "text"
      },
      "source": [
        "<a href=\"https://colab.research.google.com/github/alirezash97/Cardio/blob/master/Cardio.ipynb\" target=\"_parent\"><img src=\"https://colab.research.google.com/assets/colab-badge.svg\" alt=\"Open In Colab\"/></a>"
      ]
    },
    {
      "cell_type": "code",
      "metadata": {
        "id": "UprTwU387jLd",
        "colab_type": "code",
        "colab": {}
      },
      "source": [
        "\n",
        "!pip3 install git+https://github.com/analysiscenter/cardio.git"
      ],
      "execution_count": 0,
      "outputs": []
    },
    {
      "cell_type": "code",
      "metadata": {
        "id": "EU0eAyTV8aEg",
        "colab_type": "code",
        "colab": {}
      },
      "source": [
        "import cardio\n",
        "import wfdb\n",
        "import tensorflow as tf"
      ],
      "execution_count": 0,
      "outputs": []
    },
    {
      "cell_type": "code",
      "metadata": {
        "id": "ww2MC9iRBtHk",
        "colab_type": "code",
        "colab": {}
      },
      "source": [
        "!unzip '/content/drive/My Drive/Cardio/training2017.zip'"
      ],
      "execution_count": 0,
      "outputs": []
    },
    {
      "cell_type": "code",
      "metadata": {
        "id": "yzFRQBd6G3S3",
        "colab_type": "code",
        "colab": {}
      },
      "source": [
        "########## traingng 2017 ########\n",
        "import sys\n",
        "import numpy as np\n",
        "\n",
        "from matplotlib import pyplot as plt\n",
        "\n",
        "sys.path.append('/content/training2017')\n",
        "\n",
        "import cardio.batchflow as bf\n",
        "index = bf.FilesIndex(path='/content/training2017/A*.hea', no_ext=True, sort=True)"
      ],
      "execution_count": 0,
      "outputs": []
    },
    {
      "cell_type": "code",
      "metadata": {
        "id": "p-j-w7QdG74_",
        "colab_type": "code",
        "outputId": "69774411-3a88-4ddc-d6d5-1e374c884ace",
        "colab": {
          "base_uri": "https://localhost:8080/",
          "height": 34
        }
      },
      "source": [
        "print(index.indices)"
      ],
      "execution_count": 3,
      "outputs": [
        {
          "output_type": "stream",
          "text": [
            "['A00001' 'A00002' 'A00003' ... 'A08526' 'A08527' 'A08528']\n"
          ],
          "name": "stdout"
        }
      ]
    },
    {
      "cell_type": "code",
      "metadata": {
        "id": "-YiPEYEyHPNB",
        "colab_type": "code",
        "colab": {}
      },
      "source": [
        "from cardio import EcgBatch\n",
        "eds = bf.Dataset(index, batch_class=EcgBatch)"
      ],
      "execution_count": 0,
      "outputs": []
    },
    {
      "cell_type": "code",
      "metadata": {
        "id": "cVvVyUkJHxmH",
        "colab_type": "code",
        "colab": {}
      },
      "source": [
        "from cardio import EcgDataset\n",
        "eds = EcgDataset(path='/content/training2017/*.hea', no_ext=True, sort=True)"
      ],
      "execution_count": 0,
      "outputs": []
    },
    {
      "cell_type": "code",
      "metadata": {
        "id": "jNWjEAHtHspe",
        "colab_type": "code",
        "colab": {}
      },
      "source": [
        "batch = eds.next_batch(batch_size=8528, unique_labels=['A', 'N', 'O', '~'])"
      ],
      "execution_count": 0,
      "outputs": []
    },
    {
      "cell_type": "code",
      "metadata": {
        "id": "C28AIES3rL6y",
        "colab_type": "code",
        "colab": {}
      },
      "source": [
        "batch_with_data = batch.load(fmt='wfdb', components=['signal', 'meta'])"
      ],
      "execution_count": 0,
      "outputs": []
    },
    {
      "cell_type": "code",
      "metadata": {
        "id": "Tbm3hOuprz11",
        "colab_type": "code",
        "colab": {}
      },
      "source": [
        "batch_with_data = batch_with_data.load(src='/content/training2017/REFERENCE.csv', fmt='csv', components='target')"
      ],
      "execution_count": 0,
      "outputs": []
    },
    {
      "cell_type": "code",
      "metadata": {
        "id": "YZ7OLaFyk0JK",
        "colab_type": "code",
        "outputId": "77843302-a079-45d5-d9d0-d0e9295395be",
        "colab": {
          "base_uri": "https://localhost:8080/",
          "height": 67
        }
      },
      "source": [
        "print(batch_with_data['A04211'].signal.shape)\n",
        "print(batch_with_data['A04211'].target)\n",
        "print(batch_with_data['A04211'].signal)"
      ],
      "execution_count": 9,
      "outputs": [
        {
          "output_type": "stream",
          "text": [
            "(1, 18000)\n",
            "N\n",
            "[[-0.497 -0.633 -0.775 ... -0.01  -0.028 -0.04 ]]\n"
          ],
          "name": "stdout"
        }
      ]
    },
    {
      "cell_type": "code",
      "metadata": {
        "id": "FXMXfXyhnuJ8",
        "colab_type": "code",
        "outputId": "369805d4-f677-4768-db6a-5b061bffbb86",
        "colab": {
          "base_uri": "https://localhost:8080/",
          "height": 34
        }
      },
      "source": [
        "import random\n",
        "\n",
        "Augmented = 0\n",
        "dataset = np.zeros((10000, 9001))\n",
        "pointer = 0\n",
        "for ecg in batch_with_data:\n",
        "  \n",
        "  if ecg.target == 'A' or ecg.target == 'O' or ecg.target == 'N' or ecg.target == '~' : \n",
        "    if ecg.signal.shape[1] == 18000:\n",
        "        \n",
        "        dataset[pointer:pointer+1, :9000] = ecg.signal[:1, :9000]\n",
        "\n",
        "        ### pointer+2 for next slice ###\n",
        "\n",
        "        if ecg.target == 'A':\n",
        "          dataset[pointer:pointer+2, 9000:9001] = 0\n",
        "        elif ecg.target == 'N':\n",
        "          dataset[pointer:pointer+2, 9000:9001] = 1\n",
        "        elif ecg.target == 'O':\n",
        "          dataset[pointer:pointer+2, 9000:9001] = 2\n",
        "        elif ecg.target == '~':\n",
        "          dataset[pointer:pointer+2, 9000:9001] = 3\n",
        "        \n",
        "        pointer += 1 \n",
        "          \n",
        "        ###### next slice ######\n",
        "\n",
        "        \n",
        "        dataset[pointer:pointer+1, :9000] = ecg.signal[:1, 9000:18000]\n",
        "        pointer += 1 \n",
        "        \n",
        "        ## target column is already filled ##\n",
        "\n",
        "    elif ecg.signal.shape[1] == 9000:\n",
        "        \n",
        "        dataset[pointer:pointer+1, :9000] = ecg.signal[:1, :9000]\n",
        "\n",
        "\n",
        "        if ecg.target == 'A':\n",
        "          dataset[pointer:pointer+1, 9000:9001] = 0\n",
        "        elif ecg.target == 'N':\n",
        "          dataset[pointer:pointer+1, 9000:9001] = 1\n",
        "        elif ecg.target == 'O':\n",
        "          dataset[pointer:pointer+1, 9000:9001] = 2\n",
        "        elif ecg.target == '~':\n",
        "          dataset[pointer:pointer+2, 9000:9001] = 3\n",
        "        \n",
        "        pointer += 1\n",
        "\n",
        "    elif ecg.signal.shape[1] > 9000 and ecg.signal.shape[1] != 18000:\n",
        "      \n",
        "      \n",
        "      dataset[pointer:pointer+1, :9000] = ecg.signal[:1, :9000]\n",
        "      \n",
        "\n",
        "      if ecg.target == 'A':\n",
        "        dataset[pointer:pointer+1, 9000:9001] = 0\n",
        "      elif ecg.target == 'N':\n",
        "        dataset[pointer:pointer+1, 9000:9001] = 1\n",
        "      elif ecg.target == 'O':\n",
        "        dataset[pointer:pointer+1, 9000:9001] = 2\n",
        "      elif ecg.target == '~':\n",
        "        dataset[pointer:pointer+2, 9000:9001] = 3\n",
        "        \n",
        "        pointer += 1\n",
        "\n",
        "    #### data augmentation ######\n",
        "\n",
        "\n",
        "    if ecg.signal.shape[1] >= 9000:\n",
        "      chance = 0.08\n",
        "      rand_num = random.uniform(0, 1)\n",
        "        \n",
        "      if chance > rand_num :\n",
        "\n",
        "          \n",
        "        noise = np.random.normal(scale=0.05, size=9000)\n",
        "        new_signal = ecg.signal[:1, :9000] + noise  \n",
        "        dataset[pointer:pointer+1, :9000] = new_signal\n",
        "\n",
        "\n",
        "\n",
        "        if ecg.target == 'A':\n",
        "          dataset[pointer:pointer+1, 9000:9001] = 0\n",
        "        elif ecg.target == 'N':\n",
        "          dataset[pointer:pointer+1, 9000:9001] = 1\n",
        "        elif ecg.target == 'O':\n",
        "          dataset[pointer:pointer+1, 9000:9001] = 2\n",
        "        elif ecg.target == '~':\n",
        "          dataset[pointer:pointer+2, 9000:9001] = 3\n",
        "        \n",
        "        pointer += 1\n",
        "        Augmented += 1\n",
        "\n",
        "    ################################\n",
        "\n",
        "    else: \n",
        "      pass\n",
        "\n",
        "  else:\n",
        "    pass\n",
        "\n",
        "\n",
        "\n",
        "print(Augmented)"
      ],
      "execution_count": 10,
      "outputs": [
        {
          "output_type": "stream",
          "text": [
            "564\n"
          ],
          "name": "stdout"
        }
      ]
    },
    {
      "cell_type": "code",
      "metadata": {
        "id": "ARyZgDd-B5B5",
        "colab_type": "code",
        "outputId": "646f5a2f-3a51-4f83-8520-94b341afecee",
        "colab": {
          "base_uri": "https://localhost:8080/",
          "height": 134
        }
      },
      "source": [
        "dataset[8172:8574, :]"
      ],
      "execution_count": 17,
      "outputs": [
        {
          "output_type": "execute_result",
          "data": {
            "text/plain": [
              "array([[-0.237, -0.286, -0.338, ..., -0.017, -0.018,  1.   ],\n",
              "       [ 0.   ,  0.   ,  0.   , ...,  0.   ,  0.   ,  0.   ],\n",
              "       [ 0.   ,  0.   ,  0.   , ...,  0.   ,  0.   ,  0.   ],\n",
              "       ...,\n",
              "       [ 0.   ,  0.   ,  0.   , ...,  0.   ,  0.   ,  0.   ],\n",
              "       [ 0.   ,  0.   ,  0.   , ...,  0.   ,  0.   ,  0.   ],\n",
              "       [ 0.   ,  0.   ,  0.   , ...,  0.   ,  0.   ,  0.   ]])"
            ]
          },
          "metadata": {
            "tags": []
          },
          "execution_count": 17
        }
      ]
    },
    {
      "cell_type": "code",
      "metadata": {
        "id": "tZohjEhKye4s",
        "colab_type": "code",
        "colab": {}
      },
      "source": [
        "\n",
        "trainset = np.zeros((8172, 9001))\n",
        "trainset = dataset[:8172, :]\n",
        "\n",
        "# some of the signals are skipped because of different dimentions"
      ],
      "execution_count": 0,
      "outputs": []
    },
    {
      "cell_type": "code",
      "metadata": {
        "id": "LhehEw6Z7Wnd",
        "colab_type": "code",
        "outputId": "7a3e67af-cb52-457e-819a-9c2f2c546344",
        "colab": {
          "base_uri": "https://localhost:8080/",
          "height": 298
        }
      },
      "source": [
        "import matplotlib.pyplot as plt\n",
        "\n",
        "# signal in trainset \n",
        "x = trainset[7000:7001, :-1]\n",
        "target = trainset[7000:7001, -1:] \n",
        "plt.plot(x[0])\n",
        "plt.show\n",
        "print(x)\n",
        "print(target)"
      ],
      "execution_count": 19,
      "outputs": [
        {
          "output_type": "stream",
          "text": [
            "[[ 0.057  0.066  0.076 ... -0.016 -0.009 -0.003]]\n",
            "[[0.]]\n"
          ],
          "name": "stdout"
        },
        {
          "output_type": "display_data",
          "data": {
            "image/png": "[encoded data removed]",
            "text/plain": [
              "<Figure size 432x288 with 1 Axes>"
            ]
          },
          "metadata": {
            "tags": [],
            "needs_background": "light"
          }
        }
      ]
    },
    {
      "cell_type": "code",
      "metadata": {
        "id": "hFGvEmxT_KlZ",
        "colab_type": "code",
        "colab": {}
      },
      "source": [
        "temp = trainset[:, :]\n",
        "temp = np.take(temp,np.random.permutation(temp.shape[0]),axis=0,out=temp);\n",
        "X = temp[:, :-1]\n",
        "Y = temp[:, -1:].reshape(8172, 1)"
      ],
      "execution_count": 0,
      "outputs": []
    },
    {
      "cell_type": "code",
      "metadata": {
        "id": "E6Mr_ZSr7kdc",
        "colab_type": "code",
        "colab": {}
      },
      "source": [
        "from sklearn.model_selection import train_test_split\n",
        "\n",
        "X_train, X_test, y_train, y_test = train_test_split(X, Y, test_size=0.1)\n"
      ],
      "execution_count": 0,
      "outputs": []
    },
    {
      "cell_type": "code",
      "metadata": {
        "id": "GIgAyY2mLwPf",
        "colab_type": "code",
        "outputId": "c7e66c90-d192-4e0f-c6d0-00b69e9c8a37",
        "colab": {
          "base_uri": "https://localhost:8080/",
          "height": 50
        }
      },
      "source": [
        "########  teeeeest ########## \n",
        "for index,row in enumerate(X_train):\n",
        "\n",
        "  if row[0] == -0.497:\n",
        "    print(row)\n",
        "    print(y_train[index])\n",
        "\n",
        "\n",
        "#############################"
      ],
      "execution_count": 0,
      "outputs": [
        {
          "output_type": "stream",
          "text": [
            "[-0.497 -0.633 -0.775 ... -0.016 -0.014 -0.011]\n",
            "2.0\n"
          ],
          "name": "stdout"
        }
      ]
    },
    {
      "cell_type": "code",
      "metadata": {
        "id": "4b5Qe4IsIdaF",
        "colab_type": "code",
        "outputId": "0766993e-5a0b-4812-fa04-1c5e2a214af1",
        "colab": {
          "base_uri": "https://localhost:8080/",
          "height": 84
        }
      },
      "source": [
        "print(\"X_train\", X_train.shape)\n",
        "print(\"y_train\", y_train.shape)\n",
        "print(\"X_test\", X_test.shape)\n",
        "print(\"y_test\", y_test.shape)"
      ],
      "execution_count": 22,
      "outputs": [
        {
          "output_type": "stream",
          "text": [
            "X_train (7354, 9000)\n",
            "y_train (7354, 1)\n",
            "X_test (818, 9000)\n",
            "y_test (818, 1)\n"
          ],
          "name": "stdout"
        }
      ]
    },
    {
      "cell_type": "code",
      "metadata": {
        "id": "7jba7CmZKkGI",
        "colab_type": "code",
        "colab": {}
      },
      "source": [
        "X_train = np.array(X_train.reshape(7354, 9000, 1))\n",
        "X_test = np.array(X_test.reshape(818, 9000, 1))\n",
        "y_train = np.array(y_train)\n",
        "y_test = np.array(y_test)"
      ],
      "execution_count": 0,
      "outputs": []
    },
    {
      "cell_type": "code",
      "metadata": {
        "id": "JG-cNIHDAFfZ",
        "colab_type": "code",
        "outputId": "17cd76a1-2d3e-44f3-a879-603e35db7846",
        "colab": {
          "base_uri": "https://localhost:8080/",
          "height": 84
        }
      },
      "source": [
        "print(\"X_train\", X_train.shape)\n",
        "print(\"y_train\", y_train.shape)\n",
        "print(\"X_test\", X_test.shape)\n",
        "print(\"y_test\", y_test.shape)"
      ],
      "execution_count": 24,
      "outputs": [
        {
          "output_type": "stream",
          "text": [
            "X_train (7354, 9000, 1)\n",
            "y_train (7354, 1)\n",
            "X_test (818, 9000, 1)\n",
            "y_test (818, 1)\n"
          ],
          "name": "stdout"
        }
      ]
    },
    {
      "cell_type": "code",
      "metadata": {
        "id": "zTm81vrLBpbv",
        "colab_type": "code",
        "colab": {
          "base_uri": "https://localhost:8080/",
          "height": 34
        },
        "outputId": "f9f4c1ea-74dd-4387-8059-25f1067f1114"
      },
      "source": [
        "from keras.utils.np_utils import to_categorical\n",
        "\n",
        "\n",
        "y_train=to_categorical(y_train)\n",
        "y_test=to_categorical(y_test)"
      ],
      "execution_count": 25,
      "outputs": [
        {
          "output_type": "stream",
          "text": [
            "Using TensorFlow backend.\n"
          ],
          "name": "stderr"
        }
      ]
    },
    {
      "cell_type": "code",
      "metadata": {
        "id": "Jq_BIRZBCCLn",
        "colab_type": "code",
        "outputId": "5214765c-8011-4fdd-ae94-b20d4f76d840",
        "colab": {
          "base_uri": "https://localhost:8080/",
          "height": 84
        }
      },
      "source": [
        "print(\"X_train\", X_train.shape)\n",
        "print(\"y_train\", y_train.shape)\n",
        "print(\"X_test\", X_test.shape)\n",
        "print(\"y_test\", y_test.shape)"
      ],
      "execution_count": 26,
      "outputs": [
        {
          "output_type": "stream",
          "text": [
            "X_train (7354, 9000, 1)\n",
            "y_train (7354, 4)\n",
            "X_test (818, 9000, 1)\n",
            "y_test (818, 4)\n"
          ],
          "name": "stdout"
        }
      ]
    },
    {
      "cell_type": "code",
      "metadata": {
        "id": "zhvO7xmOgczd",
        "colab_type": "code",
        "colab": {}
      },
      "source": [
        "# from scipy.sparse import csr_matrix\n",
        "# y_train = csr_matrix.toarray(y_train)\n",
        "# y_test = csr_matrix.toarray(y_test)"
      ],
      "execution_count": 0,
      "outputs": []
    },
    {
      "cell_type": "code",
      "metadata": {
        "id": "cvLTX-K5pMQd",
        "colab_type": "code",
        "colab": {
          "base_uri": "https://localhost:8080/",
          "height": 1000
        },
        "outputId": "60cca1ce-0a8d-4333-8d58-1e71ae4be6a4"
      },
      "source": [
        "from tensorflow.keras.preprocessing.image import img_to_array\n",
        "from tensorflow.keras.models import load_model\n",
        "\n",
        "\n",
        "# load model\n",
        "model = load_model('/content/drive/My Drive/Cardio/HeartBeat.h5')\n",
        "\n",
        "# summarize model.\n",
        "model.summary()"
      ],
      "execution_count": 27,
      "outputs": [
        {
          "output_type": "stream",
          "text": [
            "Model: \"model\"\n",
            "__________________________________________________________________________________________________\n",
            "Layer (type)                    Output Shape         Param #     Connected to                     \n",
            "==================================================================================================\n",
            "input_1 (InputLayer)            [(None, 9000, 1)]    0                                            \n",
            "__________________________________________________________________________________________________\n",
            "conv1d (Conv1D)                 (None, 2999, 64)     384         input_1[0][0]                    \n",
            "__________________________________________________________________________________________________\n",
            "conv1d_1 (Conv1D)               (None, 2999, 64)     36928       conv1d[0][0]                     \n",
            "__________________________________________________________________________________________________\n",
            "batch_normalization (BatchNorma (None, 2999, 64)     256         conv1d_1[0][0]                   \n",
            "__________________________________________________________________________________________________\n",
            "leaky_re_lu (LeakyReLU)         (None, 2999, 64)     0           batch_normalization[0][0]        \n",
            "__________________________________________________________________________________________________\n",
            "conv1d_2 (Conv1D)               (None, 2999, 32)     14368       leaky_re_lu[0][0]                \n",
            "__________________________________________________________________________________________________\n",
            "batch_normalization_1 (BatchNor (None, 2999, 32)     128         conv1d_2[0][0]                   \n",
            "__________________________________________________________________________________________________\n",
            "leaky_re_lu_1 (LeakyReLU)       (None, 2999, 32)     0           batch_normalization_1[0][0]      \n",
            "__________________________________________________________________________________________________\n",
            "dropout (Dropout)               (None, 2999, 32)     0           leaky_re_lu_1[0][0]              \n",
            "__________________________________________________________________________________________________\n",
            "conv1d_3 (Conv1D)               (None, 2999, 64)     18496       dropout[0][0]                    \n",
            "__________________________________________________________________________________________________\n",
            "batch_normalization_2 (BatchNor (None, 2999, 64)     256         conv1d_3[0][0]                   \n",
            "__________________________________________________________________________________________________\n",
            "add (Add)                       (None, 2999, 64)     0           batch_normalization_2[0][0]      \n",
            "                                                                 conv1d[0][0]                     \n",
            "__________________________________________________________________________________________________\n",
            "batch_normalization_3 (BatchNor (None, 2999, 64)     256         add[0][0]                        \n",
            "__________________________________________________________________________________________________\n",
            "leaky_re_lu_2 (LeakyReLU)       (None, 2999, 64)     0           batch_normalization_3[0][0]      \n",
            "__________________________________________________________________________________________________\n",
            "conv1d_4 (Conv1D)               (None, 1000, 128)    57472       leaky_re_lu_2[0][0]              \n",
            "__________________________________________________________________________________________________\n",
            "batch_normalization_4 (BatchNor (None, 1000, 128)    512         conv1d_4[0][0]                   \n",
            "__________________________________________________________________________________________________\n",
            "leaky_re_lu_3 (LeakyReLU)       (None, 1000, 128)    0           batch_normalization_4[0][0]      \n",
            "__________________________________________________________________________________________________\n",
            "max_pooling1d (MaxPooling1D)    (None, 498, 128)     0           leaky_re_lu_3[0][0]              \n",
            "__________________________________________________________________________________________________\n",
            "conv1d_5 (Conv1D)               (None, 498, 256)     98560       max_pooling1d[0][0]              \n",
            "__________________________________________________________________________________________________\n",
            "batch_normalization_5 (BatchNor (None, 498, 256)     1024        conv1d_5[0][0]                   \n",
            "__________________________________________________________________________________________________\n",
            "leaky_re_lu_4 (LeakyReLU)       (None, 498, 256)     0           batch_normalization_5[0][0]      \n",
            "__________________________________________________________________________________________________\n",
            "conv1d_6 (Conv1D)               (None, 498, 256)     327936      leaky_re_lu_4[0][0]              \n",
            "__________________________________________________________________________________________________\n",
            "batch_normalization_6 (BatchNor (None, 498, 256)     1024        conv1d_6[0][0]                   \n",
            "__________________________________________________________________________________________________\n",
            "leaky_re_lu_5 (LeakyReLU)       (None, 498, 256)     0           batch_normalization_6[0][0]      \n",
            "__________________________________________________________________________________________________\n",
            "dropout_1 (Dropout)             (None, 498, 256)     0           leaky_re_lu_5[0][0]              \n",
            "__________________________________________________________________________________________________\n",
            "conv1d_7 (Conv1D)               (None, 498, 128)     98432       dropout_1[0][0]                  \n",
            "__________________________________________________________________________________________________\n",
            "batch_normalization_7 (BatchNor (None, 498, 128)     512         conv1d_7[0][0]                   \n",
            "__________________________________________________________________________________________________\n",
            "add_1 (Add)                     (None, 498, 128)     0           batch_normalization_7[0][0]      \n",
            "                                                                 max_pooling1d[0][0]              \n",
            "__________________________________________________________________________________________________\n",
            "batch_normalization_8 (BatchNor (None, 498, 128)     512         add_1[0][0]                      \n",
            "__________________________________________________________________________________________________\n",
            "leaky_re_lu_6 (LeakyReLU)       (None, 498, 128)     0           batch_normalization_8[0][0]      \n",
            "__________________________________________________________________________________________________\n",
            "conv1d_8 (Conv1D)               (None, 249, 512)     459264      leaky_re_lu_6[0][0]              \n",
            "__________________________________________________________________________________________________\n",
            "batch_normalization_9 (BatchNor (None, 249, 512)     2048        conv1d_8[0][0]                   \n",
            "__________________________________________________________________________________________________\n",
            "leaky_re_lu_7 (LeakyReLU)       (None, 249, 512)     0           batch_normalization_9[0][0]      \n",
            "__________________________________________________________________________________________________\n",
            "max_pooling1d_1 (MaxPooling1D)  (None, 82, 512)      0           leaky_re_lu_7[0][0]              \n",
            "__________________________________________________________________________________________________\n",
            "flatten (Flatten)               (None, 41984)        0           max_pooling1d_1[0][0]            \n",
            "__________________________________________________________________________________________________\n",
            "dense (Dense)                   (None, 256)          10748160    flatten[0][0]                    \n",
            "__________________________________________________________________________________________________\n",
            "leaky_re_lu_8 (LeakyReLU)       (None, 256)          0           dense[0][0]                      \n",
            "__________________________________________________________________________________________________\n",
            "dropout_2 (Dropout)             (None, 256)          0           leaky_re_lu_8[0][0]              \n",
            "__________________________________________________________________________________________________\n",
            "dense_1 (Dense)                 (None, 128)          32896       dropout_2[0][0]                  \n",
            "__________________________________________________________________________________________________\n",
            "dense_2 (Dense)                 (None, 5)            645         dense_1[0][0]                    \n",
            "__________________________________________________________________________________________________\n",
            "softmax (Softmax)               (None, 5)            0           dense_2[0][0]                    \n",
            "==================================================================================================\n",
            "Total params: 11,900,069\n",
            "Trainable params: 11,896,805\n",
            "Non-trainable params: 3,264\n",
            "__________________________________________________________________________________________________\n"
          ],
          "name": "stdout"
        }
      ]
    },
    {
      "cell_type": "code",
      "metadata": {
        "id": "htcsc7xKD6qw",
        "colab_type": "code",
        "colab": {}
      },
      "source": [
        "from tensorflow.keras.layers import Input, Conv1D, BatchNormalization, Activation, Add, MaxPooling1D, Flatten, Dense, Softmax, LeakyReLU, Dropout\n",
        "from tensorflow.keras.models import Model\n",
        "from tensorflow.keras.optimizers import Adam\n"
      ],
      "execution_count": 0,
      "outputs": []
    },
    {
      "cell_type": "code",
      "metadata": {
        "id": "a1pW4cb4CQ7U",
        "colab_type": "code",
        "colab": {
          "base_uri": "https://localhost:8080/",
          "height": 1000
        },
        "outputId": "5c52e5c1-6fe9-4ed4-9dc1-fc895f043f53"
      },
      "source": [
        "X_input = model.layers[-8].output\n",
        "\n",
        "\n",
        "# ######\n",
        "# conv0 = Conv1D(filters=128, kernel_size= 9, strides = 2, padding='same')(X_input)\n",
        "# # Bn0 = BatchNormalization()(conv0)\n",
        "# Act0 = ReLU()(conv0)\n",
        "# conv1 = Conv1D(filters=256, kernel_size= 7, strides = 2, padding='same')(Act0)\n",
        "# # Bn1 = BatchNormalization()(conv1)\n",
        "# Act1 = ReLU()(conv1)\n",
        "\n",
        "# pool0=MaxPool1D(pool_size=(2), strides=(2), padding=\"same\")(Act1)\n",
        "# flatten=Flatten()(pool0)\n",
        "\n",
        "\n",
        "Flat1 = Flatten()(X_input)\n",
        "\n",
        "D0 = Dense(256)(Flat1)\n",
        "Bn2 = BatchNormalization(name= 'batchNorm0')(D0)\n",
        "Act2 = LeakyReLU(name='leaky_re_lu1')(Bn2)\n",
        "Drop0 = Dropout(0.5)(Act2)\n",
        "######\n",
        "\n",
        "D1 = Dense(128)(Drop0)\n",
        "# AP1 = GlobalAveragePooling2D()(D1)\n",
        "Bn3 = BatchNormalization(name= 'batchNorm1')(D1)\n",
        "Act3 = LeakyReLU(name='leaky_re_lu2')(Bn3)\n",
        "Drop1 = Dropout(0.3)(Act3)\n",
        "\n",
        "#####\n",
        "\n",
        "D2 = Dense(128)(Drop1)\n",
        "# AP1 = GlobalAveragePooling2D()(D1)\n",
        "Bn4 = BatchNormalization(name= 'batchNorm2')(D2)\n",
        "Act4 = LeakyReLU(name='leaky_re_lu3')(Bn4)\n",
        "Drop2 = Dropout(0.3)(Act2)\n",
        "\n",
        "#####\n",
        "D3 = Dense(4)(Drop2)\n",
        "Act5 = Softmax()(D3)\n",
        "\n",
        "new_model = Model(inputs=model.inputs, outputs=Act5)\n",
        "new_model.summary()"
      ],
      "execution_count": 35,
      "outputs": [
        {
          "output_type": "stream",
          "text": [
            "Model: \"model_4\"\n",
            "__________________________________________________________________________________________________\n",
            "Layer (type)                    Output Shape         Param #     Connected to                     \n",
            "==================================================================================================\n",
            "input_1 (InputLayer)            [(None, 9000, 1)]    0                                            \n",
            "__________________________________________________________________________________________________\n",
            "conv1d (Conv1D)                 (None, 2999, 64)     384         input_1[0][0]                    \n",
            "__________________________________________________________________________________________________\n",
            "conv1d_1 (Conv1D)               (None, 2999, 64)     36928       conv1d[0][0]                     \n",
            "__________________________________________________________________________________________________\n",
            "batch_normalization (BatchNorma (None, 2999, 64)     256         conv1d_1[0][0]                   \n",
            "__________________________________________________________________________________________________\n",
            "leaky_re_lu (LeakyReLU)         (None, 2999, 64)     0           batch_normalization[0][0]        \n",
            "__________________________________________________________________________________________________\n",
            "conv1d_2 (Conv1D)               (None, 2999, 32)     14368       leaky_re_lu[0][0]                \n",
            "__________________________________________________________________________________________________\n",
            "batch_normalization_1 (BatchNor (None, 2999, 32)     128         conv1d_2[0][0]                   \n",
            "__________________________________________________________________________________________________\n",
            "leaky_re_lu_1 (LeakyReLU)       (None, 2999, 32)     0           batch_normalization_1[0][0]      \n",
            "__________________________________________________________________________________________________\n",
            "dropout (Dropout)               (None, 2999, 32)     0           leaky_re_lu_1[0][0]              \n",
            "__________________________________________________________________________________________________\n",
            "conv1d_3 (Conv1D)               (None, 2999, 64)     18496       dropout[0][0]                    \n",
            "__________________________________________________________________________________________________\n",
            "batch_normalization_2 (BatchNor (None, 2999, 64)     256         conv1d_3[0][0]                   \n",
            "__________________________________________________________________________________________________\n",
            "add (Add)                       (None, 2999, 64)     0           batch_normalization_2[0][0]      \n",
            "                                                                 conv1d[0][0]                     \n",
            "__________________________________________________________________________________________________\n",
            "batch_normalization_3 (BatchNor (None, 2999, 64)     256         add[0][0]                        \n",
            "__________________________________________________________________________________________________\n",
            "leaky_re_lu_2 (LeakyReLU)       (None, 2999, 64)     0           batch_normalization_3[0][0]      \n",
            "__________________________________________________________________________________________________\n",
            "conv1d_4 (Conv1D)               (None, 1000, 128)    57472       leaky_re_lu_2[0][0]              \n",
            "__________________________________________________________________________________________________\n",
            "batch_normalization_4 (BatchNor (None, 1000, 128)    512         conv1d_4[0][0]                   \n",
            "__________________________________________________________________________________________________\n",
            "leaky_re_lu_3 (LeakyReLU)       (None, 1000, 128)    0           batch_normalization_4[0][0]      \n",
            "__________________________________________________________________________________________________\n",
            "max_pooling1d (MaxPooling1D)    (None, 498, 128)     0           leaky_re_lu_3[0][0]              \n",
            "__________________________________________________________________________________________________\n",
            "conv1d_5 (Conv1D)               (None, 498, 256)     98560       max_pooling1d[0][0]              \n",
            "__________________________________________________________________________________________________\n",
            "batch_normalization_5 (BatchNor (None, 498, 256)     1024        conv1d_5[0][0]                   \n",
            "__________________________________________________________________________________________________\n",
            "leaky_re_lu_4 (LeakyReLU)       (None, 498, 256)     0           batch_normalization_5[0][0]      \n",
            "__________________________________________________________________________________________________\n",
            "conv1d_6 (Conv1D)               (None, 498, 256)     327936      leaky_re_lu_4[0][0]              \n",
            "__________________________________________________________________________________________________\n",
            "batch_normalization_6 (BatchNor (None, 498, 256)     1024        conv1d_6[0][0]                   \n",
            "__________________________________________________________________________________________________\n",
            "leaky_re_lu_5 (LeakyReLU)       (None, 498, 256)     0           batch_normalization_6[0][0]      \n",
            "__________________________________________________________________________________________________\n",
            "dropout_1 (Dropout)             (None, 498, 256)     0           leaky_re_lu_5[0][0]              \n",
            "__________________________________________________________________________________________________\n",
            "conv1d_7 (Conv1D)               (None, 498, 128)     98432       dropout_1[0][0]                  \n",
            "__________________________________________________________________________________________________\n",
            "batch_normalization_7 (BatchNor (None, 498, 128)     512         conv1d_7[0][0]                   \n",
            "__________________________________________________________________________________________________\n",
            "add_1 (Add)                     (None, 498, 128)     0           batch_normalization_7[0][0]      \n",
            "                                                                 max_pooling1d[0][0]              \n",
            "__________________________________________________________________________________________________\n",
            "batch_normalization_8 (BatchNor (None, 498, 128)     512         add_1[0][0]                      \n",
            "__________________________________________________________________________________________________\n",
            "leaky_re_lu_6 (LeakyReLU)       (None, 498, 128)     0           batch_normalization_8[0][0]      \n",
            "__________________________________________________________________________________________________\n",
            "conv1d_8 (Conv1D)               (None, 249, 512)     459264      leaky_re_lu_6[0][0]              \n",
            "__________________________________________________________________________________________________\n",
            "batch_normalization_9 (BatchNor (None, 249, 512)     2048        conv1d_8[0][0]                   \n",
            "__________________________________________________________________________________________________\n",
            "leaky_re_lu_7 (LeakyReLU)       (None, 249, 512)     0           batch_normalization_9[0][0]      \n",
            "__________________________________________________________________________________________________\n",
            "max_pooling1d_1 (MaxPooling1D)  (None, 82, 512)      0           leaky_re_lu_7[0][0]              \n",
            "__________________________________________________________________________________________________\n",
            "flatten_4 (Flatten)             (None, 41984)        0           max_pooling1d_1[0][0]            \n",
            "__________________________________________________________________________________________________\n",
            "dense_16 (Dense)                (None, 256)          10748160    flatten_4[0][0]                  \n",
            "__________________________________________________________________________________________________\n",
            "batchNorm0 (BatchNormalization) (None, 256)          1024        dense_16[0][0]                   \n",
            "__________________________________________________________________________________________________\n",
            "leaky_re_lu1 (LeakyReLU)        (None, 256)          0           batchNorm0[0][0]                 \n",
            "__________________________________________________________________________________________________\n",
            "dropout_14 (Dropout)            (None, 256)          0           leaky_re_lu1[0][0]               \n",
            "__________________________________________________________________________________________________\n",
            "dense_19 (Dense)                (None, 4)            1028        dropout_14[0][0]                 \n",
            "__________________________________________________________________________________________________\n",
            "softmax_4 (Softmax)             (None, 4)            0           dense_19[0][0]                   \n",
            "==================================================================================================\n",
            "Total params: 11,868,580\n",
            "Trainable params: 11,864,804\n",
            "Non-trainable params: 3,776\n",
            "__________________________________________________________________________________________________\n"
          ],
          "name": "stdout"
        }
      ]
    },
    {
      "cell_type": "code",
      "metadata": {
        "id": "8rCj0i9nBE5b",
        "colab_type": "code",
        "colab": {}
      },
      "source": [
        "new_model.get_layer('conv1d').trainable = False\n",
        "new_model.get_layer('conv1d_1').trainable = False\n",
        "new_model.get_layer('batch_normalization').trainable = False\n",
        "new_model.get_layer('conv1d_2').trainable = False\n",
        "new_model.get_layer('batch_normalization_1').trainable = False\n",
        "# new_model.get_layer('conv1d_3').trainable = False\n",
        "# new_model.get_layer('batch_normalization_2').trainable = False\n",
        "# new_model.get_layer('batch_normalization_3').trainable = False\n",
        "# new_model.summary()"
      ],
      "execution_count": 0,
      "outputs": []
    },
    {
      "cell_type": "code",
      "metadata": {
        "id": "MNlDavTkO7Sy",
        "colab_type": "code",
        "outputId": "15bc83e3-d3b9-4943-c314-cb289e0c7b97",
        "colab": {
          "base_uri": "https://localhost:8080/",
          "height": 336
        }
      },
      "source": [
        "# compile model\n",
        "new_model.compile(loss='categorical_crossentropy', optimizer='adam', metrics=['accuracy'])\n",
        "\n",
        "# Early Stopping\n",
        "es_callback = tf.keras.callbacks.EarlyStopping(monitor='val_loss', patience=4)\n",
        "\n",
        "# Fit the model\n",
        "new_model.fit(X_train, y_train, epochs=15, batch_size=256, validation_data=(X_test, y_test), callbacks=[es_callback])"
      ],
      "execution_count": 37,
      "outputs": [
        {
          "output_type": "stream",
          "text": [
            "Epoch 1/15\n",
            "29/29 [==============================] - 614s 21s/step - loss: 1.5286 - accuracy: 0.5011 - val_loss: 1.7139 - val_accuracy: 0.5954\n",
            "Epoch 2/15\n",
            "29/29 [==============================] - 620s 21s/step - loss: 0.9169 - accuracy: 0.6488 - val_loss: 1.0680 - val_accuracy: 0.6161\n",
            "Epoch 3/15\n",
            "29/29 [==============================] - 644s 22s/step - loss: 0.7755 - accuracy: 0.6863 - val_loss: 0.8647 - val_accuracy: 0.6455\n",
            "Epoch 4/15\n",
            "29/29 [==============================] - 632s 22s/step - loss: 0.6962 - accuracy: 0.7165 - val_loss: 0.8236 - val_accuracy: 0.6479\n",
            "Epoch 5/15\n",
            "29/29 [==============================] - 603s 21s/step - loss: 0.6312 - accuracy: 0.7437 - val_loss: 0.7603 - val_accuracy: 0.6626\n",
            "Epoch 6/15\n",
            "29/29 [==============================] - 608s 21s/step - loss: 0.5882 - accuracy: 0.7525 - val_loss: 0.8322 - val_accuracy: 0.6381\n",
            "Epoch 7/15\n",
            "29/29 [==============================] - 610s 21s/step - loss: 0.4929 - accuracy: 0.8007 - val_loss: 0.8246 - val_accuracy: 0.6381\n",
            "Epoch 8/15\n",
            "29/29 [==============================] - 608s 21s/step - loss: 0.4124 - accuracy: 0.8341 - val_loss: 1.0075 - val_accuracy: 0.6345\n",
            "Epoch 9/15\n",
            "29/29 [==============================] - 612s 21s/step - loss: 0.3465 - accuracy: 0.8640 - val_loss: 1.0937 - val_accuracy: 0.6320\n"
          ],
          "name": "stdout"
        },
        {
          "output_type": "execute_result",
          "data": {
            "text/plain": [
              "<tensorflow.python.keras.callbacks.History at 0x7efc9c355a20>"
            ]
          },
          "metadata": {
            "tags": []
          },
          "execution_count": 37
        }
      ]
    },
    {
      "cell_type": "code",
      "metadata": {
        "id": "VjzaZzVtQZ7c",
        "colab_type": "code",
        "outputId": "b37fee63-1694-40a5-8d3b-6f26ca1c8a45",
        "colab": {
          "base_uri": "https://localhost:8080/",
          "height": 50
        }
      },
      "source": [
        "scores = model.evaluate(X_test, y_test, verbose=0)\n",
        "print(\"%s: %.2f%%\" % (model.metrics_names[1], scores[1]*100))\n",
        "# save model and architecture to single file\n",
        "model.save('/content/drive/My Drive/Cardio/AF_Classification.h5')\n",
        "print(\"Saved model to disk\")"
      ],
      "execution_count": 0,
      "outputs": [
        {
          "output_type": "stream",
          "text": [
            "accuracy: 79.56%\n",
            "Saved model to disk\n"
          ],
          "name": "stdout"
        }
      ]
    }
  ]
}