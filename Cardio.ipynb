{
  "nbformat": 4,
  "nbformat_minor": 0,
  "metadata": {
    "colab": {
      "name": "Cardio.ipynb",
      "provenance": [],
      "collapsed_sections": [],
      "mount_file_id": "https://github.com/alirezash97/Cardio/blob/master/Cardio.ipynb",
      "authorship_tag": "ABX9TyMop/kMYRO9YrFeBBpkiGNT",
      "include_colab_link": true
    },
    "kernelspec": {
      "name": "python3",
      "display_name": "Python 3"
    }
  },
  "cells": [
    {
      "cell_type": "markdown",
      "metadata": {
        "id": "view-in-github",
        "colab_type": "text"
      },
      "source": [
        "<a href=\"https://colab.research.google.com/github/alirezash97/Cardio/blob/master/Cardio.ipynb\" target=\"_parent\"><img src=\"https://colab.research.google.com/assets/colab-badge.svg\" alt=\"Open In Colab\"/></a>"
      ]
    },
    {
      "cell_type": "code",
      "metadata": {
        "id": "rZxGxCl7H8kb",
        "colab_type": "code",
        "colab": {}
      },
      "source": [
        "batch_with_data = batch.load(fmt='wfdb', components=['signal', 'meta'])"
      ],
      "execution_count": 0,
      "outputs": []
    },
    {
      "cell_type": "code",
      "metadata": {
        "id": "woUy50wlThUH",
        "colab_type": "code",
        "outputId": "e5684275-6fe7-456b-ecda-b1a230f3646f",
        "colab": {
          "base_uri": "https://localhost:8080/",
          "height": 101
        }
      },
      "source": [
        "# !pip install kaggle\n",
        "# !mkdir .kaggle\n",
        "# import json\n",
        "# token = {\"username\":\"alirezashafaei97\",\"key\":\"9cb262aa0c5658ffc4eb45857c41903c\"}\n",
        "# with open('/content/.kaggle/kaggle.json', 'w') as file:\n",
        "#     json.dump(token, file)\n",
        "# !mkdir ~/.kaggle\n",
        "# !cp /content/.kaggle/kaggle.json ~/.kaggle/kaggle.json\n",
        "# !kaggle config set -n path -v{/content}\n",
        "# !chmod 600 /root/.kaggle/kaggle.json\n",
        "# !kaggle datasets download -d shayanfazeli/heartbeat -p /content\n",
        "# !unzip /content/heartbeat.zip -d /content/heartbeat"
      ],
      "execution_count": 0,
      "outputs": [
        {
          "output_type": "stream",
          "text": [
            "Archive:  /content/heartbeat.zip\n",
            "  inflating: /content/heartbeat/mitbih_test.csv  \n",
            "  inflating: /content/heartbeat/mitbih_train.csv  \n",
            "  inflating: /content/heartbeat/ptbdb_abnormal.csv  \n",
            "  inflating: /content/heartbeat/ptbdb_normal.csv  \n"
          ],
          "name": "stdout"
        }
      ]
    },
    {
      "cell_type": "code",
      "metadata": {
        "id": "UprTwU387jLd",
        "colab_type": "code",
        "colab": {}
      },
      "source": [
        "\n",
        "!pip3 install git+https://github.com/analysiscenter/cardio.git"
      ],
      "execution_count": 0,
      "outputs": []
    },
    {
      "cell_type": "code",
      "metadata": {
        "id": "EU0eAyTV8aEg",
        "colab_type": "code",
        "colab": {}
      },
      "source": [
        "import cardio\n",
        "import wfdb\n",
        "import tensorflow as tf"
      ],
      "execution_count": 0,
      "outputs": []
    },
    {
      "cell_type": "code",
      "metadata": {
        "id": "ww2MC9iRBtHk",
        "colab_type": "code",
        "colab": {}
      },
      "source": [
        "!unzip '/content/drive/My Drive/Cardio/training2017.zip'"
      ],
      "execution_count": 0,
      "outputs": []
    },
    {
      "cell_type": "code",
      "metadata": {
        "id": "yzFRQBd6G3S3",
        "colab_type": "code",
        "colab": {}
      },
      "source": [
        "########## traingng 2017 ########\n",
        "import sys\n",
        "import numpy as np\n",
        "\n",
        "from matplotlib import pyplot as plt\n",
        "\n",
        "sys.path.append('/content/training2017')\n",
        "\n",
        "import cardio.batchflow as bf\n",
        "index = bf.FilesIndex(path='/content/training2017/A*.hea', no_ext=True, sort=True)"
      ],
      "execution_count": 0,
      "outputs": []
    },
    {
      "cell_type": "code",
      "metadata": {
        "id": "p-j-w7QdG74_",
        "colab_type": "code",
        "outputId": "17310558-0809-4e79-993f-6014d18326f9",
        "colab": {
          "base_uri": "https://localhost:8080/",
          "height": 34
        }
      },
      "source": [
        "print(index.indices)"
      ],
      "execution_count": 88,
      "outputs": [
        {
          "output_type": "stream",
          "text": [
            "['A00001' 'A00002' 'A00003' ... 'A08526' 'A08527' 'A08528']\n"
          ],
          "name": "stdout"
        }
      ]
    },
    {
      "cell_type": "code",
      "metadata": {
        "id": "-YiPEYEyHPNB",
        "colab_type": "code",
        "colab": {}
      },
      "source": [
        "from cardio import EcgBatch\n",
        "eds = bf.Dataset(index, batch_class=EcgBatch)"
      ],
      "execution_count": 0,
      "outputs": []
    },
    {
      "cell_type": "code",
      "metadata": {
        "id": "cVvVyUkJHxmH",
        "colab_type": "code",
        "colab": {}
      },
      "source": [
        "from cardio import EcgDataset\n",
        "eds = EcgDataset(path='/content/training2017/*.hea', no_ext=True, sort=True)"
      ],
      "execution_count": 0,
      "outputs": []
    },
    {
      "cell_type": "code",
      "metadata": {
        "id": "jNWjEAHtHspe",
        "colab_type": "code",
        "colab": {}
      },
      "source": [
        "batch = eds.next_batch(batch_size=8528, unique_labels=['A', 'N', 'O'])"
      ],
      "execution_count": 0,
      "outputs": []
    },
    {
      "cell_type": "code",
      "metadata": {
        "id": "C28AIES3rL6y",
        "colab_type": "code",
        "colab": {}
      },
      "source": [
        "batch_with_data = batch.load(fmt='wfdb', components=['signal', 'meta'])"
      ],
      "execution_count": 0,
      "outputs": []
    },
    {
      "cell_type": "code",
      "metadata": {
        "id": "Tbm3hOuprz11",
        "colab_type": "code",
        "colab": {}
      },
      "source": [
        "batch_with_data = batch_with_data.load(src='/content/training2017/REFERENCE.csv', fmt='csv', components='target')"
      ],
      "execution_count": 0,
      "outputs": []
    },
    {
      "cell_type": "code",
      "metadata": {
        "id": "YZ7OLaFyk0JK",
        "colab_type": "code",
        "colab": {
          "base_uri": "https://localhost:8080/",
          "height": 67
        },
        "outputId": "ea00ee90-c14d-4411-b54b-0b6b63f98c69"
      },
      "source": [
        "print(batch_with_data['A00004'].signal.shape)\n",
        "print(batch_with_data['A00004'].target)\n",
        "print(batch_with_data['A00004'].signal)"
      ],
      "execution_count": 243,
      "outputs": [
        {
          "output_type": "stream",
          "text": [
            "(1, 9000)\n",
            "A\n",
            "[[0.519 0.619 0.723 ... 0.116 0.017 0.018]]\n"
          ],
          "name": "stdout"
        }
      ]
    },
    {
      "cell_type": "code",
      "metadata": {
        "id": "FXMXfXyhnuJ8",
        "colab_type": "code",
        "colab": {
          "base_uri": "https://localhost:8080/",
          "height": 34
        },
        "outputId": "3abe030c-f29a-46d7-d3de-b31437d765c9"
      },
      "source": [
        "dataset = np.zeros((9279, 9001))\n",
        "pointer = 0\n",
        "skip = 0 \n",
        "for ecg in batch_with_data:\n",
        "  \n",
        "  \n",
        "  if ecg.signal.shape[1] == 18000:\n",
        "      dataset[pointer:pointer+1, :9000] = ecg.signal[:1, :9000]\n",
        "\n",
        "      ### pointer+2 for next slice ###\n",
        "\n",
        "      if ecg.target == 'A':\n",
        "        dataset[pointer:pointer+2, 9000:9001] = 1\n",
        "      elif ecg.target == 'N':\n",
        "        dataset[pointer:pointer+2, 9000:9001] = 2\n",
        "      else:\n",
        "        dataset[pointer:pointer+2, 9000:9001] = 3\n",
        "        \n",
        "        \n",
        "      ###### next slice ######\n",
        "\n",
        "      pointer += 1\n",
        "      dataset[pointer:pointer+1, :9000] = ecg.signal[:1, 9000:18000]\n",
        "      pointer += 1 \n",
        "      \n",
        "      ## target column is already filled ##\n",
        "\n",
        "  elif ecg.signal.shape[1] == 9000:\n",
        "      \n",
        "      dataset[pointer:pointer+1, :9000] = ecg.signal[:1, :9000]\n",
        "\n",
        "      if ecg.target == 'A':\n",
        "        dataset[pointer:pointer+1, 9000:9001] = 1\n",
        "      elif ecg.target == 'N':\n",
        "        dataset[pointer:pointer+1, 9000:9001] = 2\n",
        "      else:\n",
        "        dataset[pointer:pointer+1, 9000:9001] = 3\n",
        "      \n",
        "      pointer += 1\n",
        "\n",
        "  else: \n",
        "    skip += 1\n",
        "\n",
        "print(skip)\n",
        "\n"
      ],
      "execution_count": 244,
      "outputs": [
        {
          "output_type": "stream",
          "text": [
            "1742\n"
          ],
          "name": "stdout"
        }
      ]
    },
    {
      "cell_type": "code",
      "metadata": {
        "id": "tZohjEhKye4s",
        "colab_type": "code",
        "colab": {}
      },
      "source": [
        "\n",
        "trainset = np.zeros((7594, 9001))\n",
        "trainset = dataset[:7594, :]\n",
        "\n",
        "# some of the signals are skipped because of different dimentions"
      ],
      "execution_count": 0,
      "outputs": []
    },
    {
      "cell_type": "code",
      "metadata": {
        "id": "LhehEw6Z7Wnd",
        "colab_type": "code",
        "colab": {
          "base_uri": "https://localhost:8080/",
          "height": 300
        },
        "outputId": "c7f82f40-daff-401e-9b60-ef8e8d7bdcba"
      },
      "source": [
        "import matplotlib.pyplot as plt\n",
        "\n",
        "# signal in trainset \n",
        "x = trainset[4:5, :-1]\n",
        "target = trainset[4:5, -1:] \n",
        "plt.plot(x[0])\n",
        "plt.show\n",
        "print(x)\n",
        "print(target)"
      ],
      "execution_count": 265,
      "outputs": [
        {
          "output_type": "stream",
          "text": [
            "[[0.519 0.619 0.723 ... 0.116 0.017 0.018]]\n",
            "[[1.]]\n"
          ],
          "name": "stdout"
        },
        {
          "output_type": "display_data",
          "data": {
            "image/png": "[encoded data removed]",
            "text/plain": [
              "<Figure size 432x288 with 1 Axes>"
            ]
          },
          "metadata": {
            "tags": [],
            "needs_background": "light"
          }
        }
      ]
    },
    {
      "cell_type": "code",
      "metadata": {
        "id": "hFGvEmxT_KlZ",
        "colab_type": "code",
        "colab": {}
      },
      "source": [
        "X = trainset[:, :-1]\n",
        "Y = trainset[:, -1:].reshape(7594, )"
      ],
      "execution_count": 0,
      "outputs": []
    },
    {
      "cell_type": "code",
      "metadata": {
        "id": "E6Mr_ZSr7kdc",
        "colab_type": "code",
        "colab": {}
      },
      "source": [
        "from sklearn.model_selection import train_test_split\n",
        "\n",
        "X_train, X_test, y_train, y_test = train_test_split(X, Y, test_size=0.1, random_state= 40)\n"
      ],
      "execution_count": 0,
      "outputs": []
    },
    {
      "cell_type": "code",
      "metadata": {
        "id": "7jba7CmZKkGI",
        "colab_type": "code",
        "colab": {}
      },
      "source": [
        "X_train = np.array(X_train.reshape(6834, 9000, 1))\n",
        "X_test = np.array(X_test.reshape(760, 9000, 1))\n",
        "y_train = np.array(y_train)\n",
        "y_test = np.array(y_test)"
      ],
      "execution_count": 0,
      "outputs": []
    },
    {
      "cell_type": "code",
      "metadata": {
        "id": "JG-cNIHDAFfZ",
        "colab_type": "code",
        "colab": {
          "base_uri": "https://localhost:8080/",
          "height": 84
        },
        "outputId": "c81e5a56-5830-40d5-b59c-fe50c091c3e5"
      },
      "source": [
        "print(\"X_train\", X_train.shape)\n",
        "print(\"y_train\", y_train.shape)\n",
        "print(\"X_test\", X_test.shape)\n",
        "print(\"y_test\", y_test.shape)"
      ],
      "execution_count": 319,
      "outputs": [
        {
          "output_type": "stream",
          "text": [
            "X_train (6834, 9000, 1)\n",
            "y_train (6834,)\n",
            "X_test (760, 9000, 1)\n",
            "y_test (760,)\n"
          ],
          "name": "stdout"
        }
      ]
    },
    {
      "cell_type": "code",
      "metadata": {
        "id": "zTm81vrLBpbv",
        "colab_type": "code",
        "colab": {}
      },
      "source": [
        "from sklearn.preprocessing import OneHotEncoder\n",
        "\n",
        "ohe = OneHotEncoder()\n",
        "y_train = ohe.fit_transform(y_train.reshape(-1,1))\n",
        "y_test = ohe.transform(y_test.reshape(-1,1))"
      ],
      "execution_count": 0,
      "outputs": []
    },
    {
      "cell_type": "code",
      "metadata": {
        "id": "Jq_BIRZBCCLn",
        "colab_type": "code",
        "colab": {
          "base_uri": "https://localhost:8080/",
          "height": 84
        },
        "outputId": "845cd7c5-e1fa-4ec1-8153-48b7b7ccdceb"
      },
      "source": [
        "print(\"X_train\", X_train.shape)\n",
        "print(\"y_train\", y_train.shape)\n",
        "print(\"X_test\", X_test.shape)\n",
        "print(\"y_test\", y_test.shape)"
      ],
      "execution_count": 321,
      "outputs": [
        {
          "output_type": "stream",
          "text": [
            "X_train (6834, 9000, 1)\n",
            "y_train (6834, 3)\n",
            "X_test (760, 9000, 1)\n",
            "y_test (760, 3)\n"
          ],
          "name": "stdout"
        }
      ]
    },
    {
      "cell_type": "code",
      "metadata": {
        "id": "htcsc7xKD6qw",
        "colab_type": "code",
        "colab": {}
      },
      "source": [
        "from tensorflow.keras.layers import Input, Conv1D, BatchNormalization, Activation, Add, MaxPooling1D, Flatten, Dense, Softmax\n",
        "from tensorflow.keras.models import Model\n",
        "from tensorflow.keras.optimizers import Adam"
      ],
      "execution_count": 0,
      "outputs": []
    },
    {
      "cell_type": "code",
      "metadata": {
        "id": "a1pW4cb4CQ7U",
        "colab_type": "code",
        "colab": {}
      },
      "source": [
        "m, feature, depth = X_train.shape\n",
        "batch_size = 32\n",
        "\n",
        "X_input = Input(shape=(feature, depth))\n",
        "Conv = Conv1D(filters=32, kernel_size=5, strides=1)(X_input)\n",
        "\n",
        "\n",
        "### step 1 \n",
        "\n",
        "Conv1_1 = Conv1D(filters=32, kernel_size=3, strides=1, padding='same')(Conv)\n",
        "Bn1_1 = BatchNormalization()(Conv1_1)\n",
        "Act1_1 = Activation(\"relu\")(Bn1_1)\n",
        "Conv1_2 = Conv1D(filters=128, kernel_size=5, strides=1, padding='same')(Act1_1)\n",
        "Bn1_2 = BatchNormalization()(Conv1_2)\n",
        "Act1_2 = Activation(\"relu\")(Bn1_2)\n",
        "Conv1_3 = Conv1D(filters=32, kernel_size=5, strides=1, padding='same')(Act1_2)\n",
        "Bn1_3 = BatchNormalization()(Conv1_3)\n",
        "shortcut1_1 = Add()([Bn1_3, Conv])\n",
        "Act1_3 = Activation(\"relu\")(shortcut1_1)\n",
        "Max1_1 = MaxPooling1D(pool_size=5, strides=2)(Act1_3)\n",
        "\n",
        "\n",
        "## step 2\n",
        "\n",
        "Conv2_1 = Conv1D(filters=32, kernel_size=3, strides=1, padding='same')(Max1_1)\n",
        "Bn2_1 = BatchNormalization()(Conv2_1)\n",
        "Act2_1 = Activation(\"relu\")(Bn2_1)\n",
        "Conv2_2 = Conv1D(filters=128, kernel_size=5, strides=1, padding='same')(Act2_1)\n",
        "Bn2_2 = BatchNormalization()(Conv2_2)\n",
        "Act2_2 = Activation(\"relu\")(Bn2_2)\n",
        "Conv2_3 = Conv1D(filters=32, kernel_size=5, strides=1, padding='same')(Act2_2)\n",
        "Bn2_3 = BatchNormalization()(Conv2_3)\n",
        "shortcut2_1 = Add()([Bn2_3, Max1_1])\n",
        "Act2_3 = Activation(\"relu\")(shortcut2_1)\n",
        "Max2_1 = MaxPooling1D(pool_size=5, strides=2)(Act2_3)\n",
        "\n",
        "\n",
        "## step 3\n",
        "\n",
        "Conv3_1 = Conv1D(filters=32, kernel_size=3, strides=1, padding='same')(Max2_1)\n",
        "Bn3_1 = BatchNormalization()(Conv3_1)\n",
        "Act3_1 = Activation(\"relu\")(Bn3_1)\n",
        "Conv3_2 = Conv1D(filters=128, kernel_size=5, strides=1, padding='same')(Act3_1)\n",
        "Bn3_2 = BatchNormalization()(Conv3_2)\n",
        "Act3_2 = Activation(\"relu\")(Bn3_2)\n",
        "Conv3_3 = Conv1D(filters=32, kernel_size=5, strides=1, padding='same')(Act3_2)\n",
        "Bn3_3 = BatchNormalization()(Conv3_3)\n",
        "shortcut3_1 = Add()([Bn3_3, Max2_1])\n",
        "Act3_3 = Activation(\"relu\")(shortcut3_1)\n",
        "Max3_1 = MaxPooling1D(pool_size=5, strides=2)(Act3_3)\n",
        "\n",
        "\n",
        "## step 4\n",
        "\n",
        "Conv4_1 = Conv1D(filters=32, kernel_size=3, strides=1, padding='same')(Max3_1)\n",
        "Bn4_1 = BatchNormalization()(Conv4_1)\n",
        "Act4_1 = Activation(\"relu\")(Bn4_1)\n",
        "Conv4_2 = Conv1D(filters=128, kernel_size=5, strides=1, padding='same')(Act4_1)\n",
        "Bn4_2 = BatchNormalization()(Conv4_2)\n",
        "Act4_2 = Activation(\"relu\")(Bn4_2)\n",
        "Conv4_3 = Conv1D(filters=32, kernel_size=5, strides=1, padding='same')(Act4_2)\n",
        "Bn4_3 = BatchNormalization()(Conv4_3)\n",
        "shortcut4_1 = Add()([Bn4_3, Max3_1])\n",
        "Act4_3 = Activation(\"relu\")(shortcut4_1)\n",
        "Max4_1 = MaxPooling1D(pool_size=5, strides=2)(Act4_3)\n",
        "\n",
        "\n",
        "## step 5\n",
        "\n",
        "Conv5_1 = Conv1D(filters=32, kernel_size=3, strides=1, padding='same')(Max4_1)\n",
        "Bn5_1 = BatchNormalization()(Conv5_1)\n",
        "Act5_1 = Activation(\"relu\")(Bn5_1)\n",
        "Conv5_2 = Conv1D(filters=128, kernel_size=5, strides=1, padding='same')(Act5_1)\n",
        "Bn5_2 = BatchNormalization()(Conv5_2)\n",
        "Act5_2 = Activation(\"relu\")(Bn5_2)\n",
        "Conv5_3 = Conv1D(filters=32, kernel_size=5, strides=1, padding='same')(Act5_2)\n",
        "Bn5_3 = BatchNormalization()(Conv5_3)\n",
        "shortcut5_1 = Add()([Bn5_3, Max4_1])\n",
        "Act5_3 = Activation(\"relu\")(shortcut5_1)\n",
        "Max5_1 = MaxPooling1D(pool_size=5, strides=2)(Act5_3)\n",
        "\n",
        "\n",
        "\n",
        "Flat1 = Flatten()(Max5_1)\n",
        "\n",
        "D1 = Dense(64)(Flat1)\n",
        "A6 = Activation(\"relu\")(D1)\n",
        "D2 = Dense(32)(A6)\n",
        "D3 = Dense(3)(D2)\n",
        "A7 = Softmax()(D3)\n",
        "\n",
        "model = Model(inputs=X_input, outputs=A7)\n",
        "\n",
        "model.summary()\n",
        "\n"
      ],
      "execution_count": 0,
      "outputs": []
    },
    {
      "cell_type": "code",
      "metadata": {
        "id": "zhvO7xmOgczd",
        "colab_type": "code",
        "colab": {}
      },
      "source": [
        "from scipy.sparse import csr_matrix\n",
        "y_train = csr_matrix.toarray(y_train)\n",
        "y_test = csr_matrix.toarray(y_test)"
      ],
      "execution_count": 0,
      "outputs": []
    },
    {
      "cell_type": "code",
      "metadata": {
        "id": "Xeq3PoZwKMwc",
        "colab_type": "code",
        "colab": {}
      },
      "source": [
        "# Compile Model\n",
        "model.compile(loss='categorical_crossentropy', optimizer='adam', metrics=['accuracy'])"
      ],
      "execution_count": 0,
      "outputs": []
    },
    {
      "cell_type": "code",
      "metadata": {
        "id": "MNlDavTkO7Sy",
        "colab_type": "code",
        "outputId": "a92d8531-3262-4910-edce-837e34678a14",
        "colab": {
          "base_uri": "https://localhost:8080/",
          "height": 353
        }
      },
      "source": [
        "# train more epochs to increase accuracy \n",
        "num_epochs = 10 # 75\n",
        "\n",
        "# Train Model\n",
        "\n",
        "history = model.fit(X_train, y_train, epochs=10, batch_size=16, validation_data=(X_test, y_test))"
      ],
      "execution_count": 326,
      "outputs": [
        {
          "output_type": "stream",
          "text": [
            "Epoch 1/10\n",
            "428/428 [==============================] - 1245s 3s/step - loss: 1.4384 - accuracy: 0.5806 - val_loss: 0.8310 - val_accuracy: 0.6276\n",
            "Epoch 2/10\n",
            "428/428 [==============================] - 1233s 3s/step - loss: 0.7962 - accuracy: 0.6157 - val_loss: 0.7850 - val_accuracy: 0.6171\n",
            "Epoch 3/10\n",
            "428/428 [==============================] - 1233s 3s/step - loss: 0.7436 - accuracy: 0.6362 - val_loss: 0.7331 - val_accuracy: 0.6526\n",
            "Epoch 4/10\n",
            "428/428 [==============================] - 1217s 3s/step - loss: 0.7181 - accuracy: 0.6567 - val_loss: 0.7209 - val_accuracy: 0.6645\n",
            "Epoch 5/10\n",
            "428/428 [==============================] - 1175s 3s/step - loss: 0.6897 - accuracy: 0.6716 - val_loss: 0.6503 - val_accuracy: 0.6961\n",
            "Epoch 6/10\n",
            "428/428 [==============================] - 1188s 3s/step - loss: 0.6792 - accuracy: 0.6835 - val_loss: 0.7774 - val_accuracy: 0.6539\n",
            "Epoch 7/10\n",
            "428/428 [==============================] - 1205s 3s/step - loss: 0.6774 - accuracy: 0.6911 - val_loss: 0.7984 - val_accuracy: 0.6342\n",
            "Epoch 8/10\n",
            "428/428 [==============================] - 1215s 3s/step - loss: 0.6591 - accuracy: 0.6965 - val_loss: 0.7697 - val_accuracy: 0.6474\n",
            "Epoch 9/10\n",
            "428/428 [==============================] - 1210s 3s/step - loss: 0.6451 - accuracy: 0.6990 - val_loss: 0.6930 - val_accuracy: 0.6816\n",
            "Epoch 10/10\n",
            "428/428 [==============================] - 1232s 3s/step - loss: 0.6324 - accuracy: 0.7082 - val_loss: 0.9950 - val_accuracy: 0.5250\n"
          ],
          "name": "stdout"
        }
      ]
    },
    {
      "cell_type": "code",
      "metadata": {
        "id": "VjzaZzVtQZ7c",
        "colab_type": "code",
        "colab": {}
      },
      "source": [
        ""
      ],
      "execution_count": 0,
      "outputs": []
    }
  ]
}