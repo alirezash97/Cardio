{
  "nbformat": 4,
  "nbformat_minor": 0,
  "metadata": {
    "colab": {
      "name": "Cardio.ipynb",
      "provenance": [],
      "collapsed_sections": [],
      "mount_file_id": "https://github.com/alirezash97/Cardio/blob/master/Cardio.ipynb",
      "authorship_tag": "ABX9TyNuEsFAFfbvgqX/s9ftaYQt",
      "include_colab_link": true
    },
    "kernelspec": {
      "name": "python3",
      "display_name": "Python 3"
    }
  },
  "cells": [
    {
      "cell_type": "markdown",
      "metadata": {
        "id": "view-in-github",
        "colab_type": "text"
      },
      "source": [
        "<a href=\"https://colab.research.google.com/github/alirezash97/Cardio/blob/master/Cardio.ipynb\" target=\"_parent\"><img src=\"https://colab.research.google.com/assets/colab-badge.svg\" alt=\"Open In Colab\"/></a>"
      ]
    },
    {
      "cell_type": "code",
      "metadata": {
        "id": "UprTwU387jLd",
        "colab_type": "code",
        "colab": {}
      },
      "source": [
        "\n",
        "!pip3 install git+https://github.com/analysiscenter/cardio.git"
      ],
      "execution_count": 0,
      "outputs": []
    },
    {
      "cell_type": "code",
      "metadata": {
        "id": "EU0eAyTV8aEg",
        "colab_type": "code",
        "colab": {}
      },
      "source": [
        "import cardio\n",
        "import wfdb\n",
        "import tensorflow as tf"
      ],
      "execution_count": 0,
      "outputs": []
    },
    {
      "cell_type": "code",
      "metadata": {
        "id": "ww2MC9iRBtHk",
        "colab_type": "code",
        "colab": {}
      },
      "source": [
        "!unzip '/content/drive/My Drive/Cardio/training2017.zip'"
      ],
      "execution_count": 0,
      "outputs": []
    },
    {
      "cell_type": "code",
      "metadata": {
        "id": "yzFRQBd6G3S3",
        "colab_type": "code",
        "colab": {}
      },
      "source": [
        "########## traingng 2017 ########\n",
        "import sys\n",
        "import numpy as np\n",
        "\n",
        "from matplotlib import pyplot as plt\n",
        "\n",
        "sys.path.append('/content/training2017')\n",
        "\n",
        "import cardio.batchflow as bf\n",
        "index = bf.FilesIndex(path='/content/training2017/A*.hea', no_ext=True, sort=True)"
      ],
      "execution_count": 0,
      "outputs": []
    },
    {
      "cell_type": "code",
      "metadata": {
        "id": "p-j-w7QdG74_",
        "colab_type": "code",
        "outputId": "b91f701f-8a7f-42e6-ba8e-22f038c0abfe",
        "colab": {
          "base_uri": "https://localhost:8080/",
          "height": 34
        }
      },
      "source": [
        "print(index.indices)"
      ],
      "execution_count": 5,
      "outputs": [
        {
          "output_type": "stream",
          "text": [
            "['A00001' 'A00002' 'A00003' ... 'A08526' 'A08527' 'A08528']\n"
          ],
          "name": "stdout"
        }
      ]
    },
    {
      "cell_type": "code",
      "metadata": {
        "id": "-YiPEYEyHPNB",
        "colab_type": "code",
        "colab": {}
      },
      "source": [
        "from cardio import EcgBatch\n",
        "eds = bf.Dataset(index, batch_class=EcgBatch)"
      ],
      "execution_count": 0,
      "outputs": []
    },
    {
      "cell_type": "code",
      "metadata": {
        "id": "cVvVyUkJHxmH",
        "colab_type": "code",
        "colab": {}
      },
      "source": [
        "from cardio import EcgDataset\n",
        "eds = EcgDataset(path='/content/training2017/*.hea', no_ext=True, sort=True)"
      ],
      "execution_count": 0,
      "outputs": []
    },
    {
      "cell_type": "code",
      "metadata": {
        "id": "jNWjEAHtHspe",
        "colab_type": "code",
        "colab": {}
      },
      "source": [
        "batch = eds.next_batch(batch_size=8528, unique_labels=['A', 'N', 'O', '~'])"
      ],
      "execution_count": 0,
      "outputs": []
    },
    {
      "cell_type": "code",
      "metadata": {
        "id": "C28AIES3rL6y",
        "colab_type": "code",
        "colab": {}
      },
      "source": [
        "batch_with_data = batch.load(fmt='wfdb', components=['signal', 'meta'])"
      ],
      "execution_count": 0,
      "outputs": []
    },
    {
      "cell_type": "code",
      "metadata": {
        "id": "Tbm3hOuprz11",
        "colab_type": "code",
        "colab": {}
      },
      "source": [
        "batch_with_data = batch_with_data.load(src='/content/training2017/REFERENCE.csv', fmt='csv', components='target')"
      ],
      "execution_count": 0,
      "outputs": []
    },
    {
      "cell_type": "code",
      "metadata": {
        "id": "YZ7OLaFyk0JK",
        "colab_type": "code",
        "outputId": "10431782-85b0-4f99-90b5-12f870b876ee",
        "colab": {
          "base_uri": "https://localhost:8080/",
          "height": 67
        }
      },
      "source": [
        "print(batch_with_data['A04211'].signal.shape)\n",
        "print(batch_with_data['A04211'].target)\n",
        "print(batch_with_data['A04211'].signal)"
      ],
      "execution_count": 11,
      "outputs": [
        {
          "output_type": "stream",
          "text": [
            "(1, 18000)\n",
            "N\n",
            "[[-0.497 -0.633 -0.775 ... -0.01  -0.028 -0.04 ]]\n"
          ],
          "name": "stdout"
        }
      ]
    },
    {
      "cell_type": "code",
      "metadata": {
        "id": "2Oj51Gdc51ID",
        "colab_type": "code",
        "outputId": "65438d1a-cda1-41f8-cdee-2b917104e653",
        "colab": {
          "base_uri": "https://localhost:8080/",
          "height": 265
        }
      },
      "source": [
        "plt.plot(batch_with_data['A04211'].signal[0])\n",
        "plt.show()"
      ],
      "execution_count": 12,
      "outputs": [
        {
          "output_type": "display_data",
          "data": {
            "image/png": "[encoded data removed]",
            "text/plain": [
              "<Figure size 432x288 with 1 Axes>"
            ]
          },
          "metadata": {
            "tags": [],
            "needs_background": "light"
          }
        }
      ]
    },
    {
      "cell_type": "code",
      "metadata": {
        "id": "FXMXfXyhnuJ8",
        "colab_type": "code",
        "outputId": "648e8a4f-e4bf-4b04-feb0-11d27b239892",
        "colab": {
          "base_uri": "https://localhost:8080/",
          "height": 34
        }
      },
      "source": [
        "import random\n",
        "\n",
        "Augmented = 0\n",
        "dataset = np.zeros((15000, 9001))\n",
        "pointer = 0\n",
        "for ecg in batch_with_data:\n",
        "  \n",
        "  if ecg.target == 'A' or ecg.target == 'O' or ecg.target == 'N' or ecg.target == '~' : \n",
        "    if ecg.signal.shape[1] == 18000:\n",
        "        \n",
        "        dataset[pointer:pointer+1, :9000] = ecg.signal[:1, :9000]\n",
        "\n",
        "        ### pointer+2 for next slice ###\n",
        "\n",
        "        if ecg.target == 'A':\n",
        "          dataset[pointer:pointer+2, 9000:9001] = 0\n",
        "        elif ecg.target == 'N':\n",
        "          dataset[pointer:pointer+2, 9000:9001] = 1\n",
        "        elif ecg.target == 'O':\n",
        "          dataset[pointer:pointer+2, 9000:9001] = 2\n",
        "        elif ecg.target == '~':\n",
        "          dataset[pointer:pointer+2, 9000:9001] = 3\n",
        "        \n",
        "        pointer += 1 \n",
        "          \n",
        "        ###### next slice ######\n",
        "\n",
        "        \n",
        "        dataset[pointer:pointer+1, :9000] = ecg.signal[:1, 9000:18000]\n",
        "        pointer += 1 \n",
        "        \n",
        "        ## target column is already filled ##\n",
        "\n",
        "    elif ecg.signal.shape[1] == 9000:\n",
        "        \n",
        "        dataset[pointer:pointer+1, :9000] = ecg.signal[:1, :9000]\n",
        "\n",
        "\n",
        "        if ecg.target == 'A':\n",
        "          dataset[pointer:pointer+1, 9000:9001] = 0\n",
        "        elif ecg.target == 'N':\n",
        "          dataset[pointer:pointer+1, 9000:9001] = 1\n",
        "        elif ecg.target == 'O':\n",
        "          dataset[pointer:pointer+1, 9000:9001] = 2\n",
        "        elif ecg.target == '~':\n",
        "          dataset[pointer:pointer+2, 9000:9001] = 3\n",
        "        \n",
        "        pointer += 1\n",
        "\n",
        "    elif ecg.signal.shape[1] > 9000 and ecg.signal.shape[1] != 18000:\n",
        "      \n",
        "      \n",
        "      dataset[pointer:pointer+1, :9000] = ecg.signal[:1, :9000]\n",
        "      \n",
        "\n",
        "      if ecg.target == 'A':\n",
        "        dataset[pointer:pointer+1, 9000:9001] = 0\n",
        "      elif ecg.target == 'N':\n",
        "        dataset[pointer:pointer+1, 9000:9001] = 1\n",
        "      elif ecg.target == 'O':\n",
        "        dataset[pointer:pointer+1, 9000:9001] = 2\n",
        "      elif ecg.target == '~':\n",
        "        dataset[pointer:pointer+2, 9000:9001] = 3\n",
        "        \n",
        "        pointer += 1\n",
        "\n",
        "    #### data augmentation ######\n",
        "\n",
        "\n",
        "\n",
        "    # if ecg.signal.shape[1] >= 9000:\n",
        "    #   chance = 0.0   # not now, this is for both training and test\n",
        "    #   rand_num = random.uniform(0, 1)\n",
        "        \n",
        "    #   if chance > rand_num :\n",
        "\n",
        "          \n",
        "    #     noise = np.random.normal(0,0.05,9000)\n",
        "    #     new_signal = ecg.signal[:1, :9000] + noise  \n",
        "    #     dataset[pointer:pointer+1, :9000] = new_signal\n",
        "\n",
        "\n",
        "\n",
        "    #     if ecg.target == 'A':\n",
        "    #       dataset[pointer:pointer+1, 9000:9001] = 0\n",
        "    #     elif ecg.target == 'N':\n",
        "    #       dataset[pointer:pointer+1, 9000:9001] = 1\n",
        "    #     elif ecg.target == 'O':\n",
        "    #       dataset[pointer:pointer+1, 9000:9001] = 2\n",
        "    #     elif ecg.target == '~':\n",
        "    #       dataset[pointer:pointer+2, 9000:9001] = 3\n",
        "        \n",
        "    #     pointer += 1\n",
        "    #     Augmented += 1\n",
        "\n",
        "    ################################\n",
        "\n",
        "    else: \n",
        "      pass\n",
        "\n",
        "  else:\n",
        "    pass\n",
        "\n",
        "\n",
        "\n",
        "print(Augmented)"
      ],
      "execution_count": 13,
      "outputs": [
        {
          "output_type": "stream",
          "text": [
            "0\n"
          ],
          "name": "stdout"
        }
      ]
    },
    {
      "cell_type": "code",
      "metadata": {
        "id": "ARyZgDd-B5B5",
        "colab_type": "code",
        "outputId": "5fcfca83-25e9-4f46-c97f-dc28e70a6c07",
        "colab": {
          "base_uri": "https://localhost:8080/",
          "height": 134
        }
      },
      "source": [
        "filled = 7608+Augmented\n",
        "dataset[filled:15000, :]"
      ],
      "execution_count": 14,
      "outputs": [
        {
          "output_type": "execute_result",
          "data": {
            "text/plain": [
              "array([[-0.237, -0.286, -0.338, ..., -0.017, -0.018,  1.   ],\n",
              "       [ 0.   ,  0.   ,  0.   , ...,  0.   ,  0.   ,  0.   ],\n",
              "       [ 0.   ,  0.   ,  0.   , ...,  0.   ,  0.   ,  0.   ],\n",
              "       ...,\n",
              "       [ 0.   ,  0.   ,  0.   , ...,  0.   ,  0.   ,  0.   ],\n",
              "       [ 0.   ,  0.   ,  0.   , ...,  0.   ,  0.   ,  0.   ],\n",
              "       [ 0.   ,  0.   ,  0.   , ...,  0.   ,  0.   ,  0.   ]])"
            ]
          },
          "metadata": {
            "tags": []
          },
          "execution_count": 14
        }
      ]
    },
    {
      "cell_type": "code",
      "metadata": {
        "id": "tZohjEhKye4s",
        "colab_type": "code",
        "colab": {}
      },
      "source": [
        "\n",
        "trainset = np.zeros((filled, 9001))\n",
        "trainset = dataset[:filled, :]\n",
        "\n",
        "# some of the signals are skipped because of different dimentions"
      ],
      "execution_count": 0,
      "outputs": []
    },
    {
      "cell_type": "code",
      "metadata": {
        "id": "LhehEw6Z7Wnd",
        "colab_type": "code",
        "outputId": "c81c0640-85ec-489d-f21e-2c3b47fc7237",
        "colab": {
          "base_uri": "https://localhost:8080/",
          "height": 298
        }
      },
      "source": [
        "import matplotlib.pyplot as plt\n",
        "\n",
        "# signal in trainset \n",
        "x = trainset[7000:7001, :-1]\n",
        "target = trainset[7000:7001, -1:] \n",
        "plt.plot(x[0])\n",
        "plt.show\n",
        "print(x)\n",
        "print(target)"
      ],
      "execution_count": 0,
      "outputs": [
        {
          "output_type": "stream",
          "text": [
            "[[0.396 0.475 0.558 ... 0.026 0.018 0.009]]\n",
            "[[2.]]\n"
          ],
          "name": "stdout"
        },
        {
          "output_type": "display_data",
          "data": {
            "image/png": "[encoded data removed]",
            "text/plain": [
              "<Figure size 432x288 with 1 Axes>"
            ]
          },
          "metadata": {
            "tags": [],
            "needs_background": "light"
          }
        }
      ]
    },
    {
      "cell_type": "code",
      "metadata": {
        "id": "hFGvEmxT_KlZ",
        "colab_type": "code",
        "colab": {}
      },
      "source": [
        "temp = trainset[:, :]\n",
        "temp = np.take(temp,np.random.permutation(temp.shape[0]),axis=0,out=temp);\n",
        "X = temp[:, :-1]\n",
        "Y = temp[:, -1:].reshape(filled, 1)"
      ],
      "execution_count": 0,
      "outputs": []
    },
    {
      "cell_type": "code",
      "metadata": {
        "id": "E6Mr_ZSr7kdc",
        "colab_type": "code",
        "colab": {}
      },
      "source": [
        "from sklearn.model_selection import train_test_split\n",
        "\n",
        "X_train, X_test, y_train, y_test = train_test_split(X, Y, test_size=0.15)\n"
      ],
      "execution_count": 0,
      "outputs": []
    },
    {
      "cell_type": "code",
      "metadata": {
        "id": "GIgAyY2mLwPf",
        "colab_type": "code",
        "outputId": "c7e66c90-d192-4e0f-c6d0-00b69e9c8a37",
        "colab": {
          "base_uri": "https://localhost:8080/",
          "height": 50
        }
      },
      "source": [
        "########  teeeeest ########## \n",
        "for index,row in enumerate(X_train):\n",
        "\n",
        "  if row[0] == -0.497:\n",
        "    print(row)\n",
        "    print(y_train[index])\n",
        "\n",
        "\n",
        "#############################"
      ],
      "execution_count": 0,
      "outputs": [
        {
          "output_type": "stream",
          "text": [
            "[-0.497 -0.633 -0.775 ... -0.016 -0.014 -0.011]\n",
            "2.0\n"
          ],
          "name": "stdout"
        }
      ]
    },
    {
      "cell_type": "code",
      "metadata": {
        "id": "4b5Qe4IsIdaF",
        "colab_type": "code",
        "outputId": "c5ecba4b-b608-46dc-f1c8-817dd7aa48f2",
        "colab": {
          "base_uri": "https://localhost:8080/",
          "height": 84
        }
      },
      "source": [
        "print(\"X_train\", X_train.shape)\n",
        "print(\"y_train\", y_train.shape)\n",
        "print(\"X_test\", X_test.shape)\n",
        "print(\"y_test\", y_test.shape)"
      ],
      "execution_count": 25,
      "outputs": [
        {
          "output_type": "stream",
          "text": [
            "X_train (6466, 9000)\n",
            "y_train (6466, 1)\n",
            "X_test (1142, 9000)\n",
            "y_test (1142, 1)\n"
          ],
          "name": "stdout"
        }
      ]
    },
    {
      "cell_type": "code",
      "metadata": {
        "id": "mc1t5PU4dhDv",
        "colab_type": "code",
        "colab": {}
      },
      "source": [
        "# data augmentation\n",
        "\n",
        "def augmetation(X_train, y_train, chance):\n",
        "\n",
        "  augment_number = 0\n",
        "  XF_train = np.zeros((X_train.shape[0]*2, X_train.shape[1]))\n",
        "  yf_train = np.zeros((y_train.shape[0]*2, y_train.shape[1]))\n",
        "  pointer = 0\n",
        "  for index, row in enumerate(X_train):\n",
        "\n",
        "    XF_train[pointer, :] = row\n",
        "    yf_train[pointer, :] = y_train[index, :]\n",
        "    pointer += 1\n",
        "\n",
        "    rand_num = random.uniform(0, 1)      \n",
        "    if chance > rand_num :\n",
        "\n",
        "      augment_number += 1\n",
        "      rand_num_new = random.uniform(0, 1)\n",
        "      \n",
        "      if rand_num_new > 0.5 :\n",
        "        noise = np.random.normal(0,0.05,9000)\n",
        "      else:\n",
        "        noise = np.random.normal(0,0.025,9000)\n",
        "\n",
        "      new_signal = row + noise  \n",
        "      XF_train[pointer, :] = new_signal\n",
        "      yf_train[pointer, :] = y_train[index, :]\n",
        "      pointer += 1\n",
        "\n",
        "      filled = X_train.shape[0] + augment_number\n",
        "      XFF_train = XF_train[:filled, :]\n",
        "      yff_train = yf_train[:filled, :]\n",
        "\n",
        "    \n",
        "  return XFF_train, yff_train\n",
        "\n",
        "\n"
      ],
      "execution_count": 0,
      "outputs": []
    },
    {
      "cell_type": "code",
      "metadata": {
        "id": "9fkvNKS-hNd-",
        "colab_type": "code",
        "colab": {}
      },
      "source": [
        "X_train, y_train = augmetation(X_train, y_train, 0.8)"
      ],
      "execution_count": 0,
      "outputs": []
    },
    {
      "cell_type": "code",
      "metadata": {
        "id": "7jba7CmZKkGI",
        "colab_type": "code",
        "colab": {}
      },
      "source": [
        "X_train = np.array(X_train.reshape(X_train.shape[0], 9000, 1))\n",
        "X_test = np.array(X_test.reshape(X_test.shape[0], 9000, 1))\n",
        "y_train = np.array(y_train)\n",
        "y_test = np.array(y_test)"
      ],
      "execution_count": 0,
      "outputs": []
    },
    {
      "cell_type": "code",
      "metadata": {
        "id": "JG-cNIHDAFfZ",
        "colab_type": "code",
        "outputId": "f761d95d-d402-4db9-9b44-86545d3cd3b7",
        "colab": {
          "base_uri": "https://localhost:8080/",
          "height": 84
        }
      },
      "source": [
        "print(\"X_train\", X_train.shape)\n",
        "print(\"y_train\", y_train.shape)\n",
        "print(\"X_test\", X_test.shape)\n",
        "print(\"y_test\", y_test.shape)"
      ],
      "execution_count": 29,
      "outputs": [
        {
          "output_type": "stream",
          "text": [
            "X_train (11601, 9000, 1)\n",
            "y_train (11601, 1)\n",
            "X_test (1142, 9000, 1)\n",
            "y_test (1142, 1)\n"
          ],
          "name": "stdout"
        }
      ]
    },
    {
      "cell_type": "code",
      "metadata": {
        "id": "zTm81vrLBpbv",
        "colab_type": "code",
        "outputId": "1758c62a-555e-4cd5-b5c6-aa779e46d345",
        "colab": {
          "base_uri": "https://localhost:8080/",
          "height": 34
        }
      },
      "source": [
        "from keras.utils.np_utils import to_categorical\n",
        "\n",
        "\n",
        "y_train=to_categorical(y_train)\n",
        "y_test=to_categorical(y_test)"
      ],
      "execution_count": 30,
      "outputs": [
        {
          "output_type": "stream",
          "text": [
            "Using TensorFlow backend.\n"
          ],
          "name": "stderr"
        }
      ]
    },
    {
      "cell_type": "code",
      "metadata": {
        "id": "Jq_BIRZBCCLn",
        "colab_type": "code",
        "outputId": "8d4d273b-8fbd-4750-a989-5fa262bee695",
        "colab": {
          "base_uri": "https://localhost:8080/",
          "height": 84
        }
      },
      "source": [
        "print(\"X_train\", X_train.shape)\n",
        "print(\"y_train\", y_train.shape)\n",
        "print(\"X_test\", X_test.shape)\n",
        "print(\"y_test\", y_test.shape)"
      ],
      "execution_count": 31,
      "outputs": [
        {
          "output_type": "stream",
          "text": [
            "X_train (11601, 9000, 1)\n",
            "y_train (11601, 4)\n",
            "X_test (1142, 9000, 1)\n",
            "y_test (1142, 4)\n"
          ],
          "name": "stdout"
        }
      ]
    },
    {
      "cell_type": "code",
      "metadata": {
        "id": "zhvO7xmOgczd",
        "colab_type": "code",
        "colab": {}
      },
      "source": [
        "# from scipy.sparse import csr_matrix\n",
        "# y_train = csr_matrix.toarray(y_train)\n",
        "# y_test = csr_matrix.toarray(y_test)"
      ],
      "execution_count": 0,
      "outputs": []
    },
    {
      "cell_type": "code",
      "metadata": {
        "id": "cvLTX-K5pMQd",
        "colab_type": "code",
        "outputId": "271af13e-5e11-45bf-9cae-e27d492aeb8e",
        "colab": {
          "base_uri": "https://localhost:8080/",
          "height": 1000
        }
      },
      "source": [
        "from tensorflow.keras.preprocessing.image import img_to_array\n",
        "from tensorflow.keras.models import load_model\n",
        "\n",
        "\n",
        "# load model\n",
        "model = load_model('/content/drive/My Drive/Cardio/HeartBeat.h5')\n",
        "\n",
        "# summarize model.\n",
        "model.summary()"
      ],
      "execution_count": 32,
      "outputs": [
        {
          "output_type": "stream",
          "text": [
            "Model: \"model\"\n",
            "__________________________________________________________________________________________________\n",
            "Layer (type)                    Output Shape         Param #     Connected to                     \n",
            "==================================================================================================\n",
            "input_1 (InputLayer)            [(None, 9000, 1)]    0                                            \n",
            "__________________________________________________________________________________________________\n",
            "conv1d (Conv1D)                 (None, 2999, 64)     384         input_1[0][0]                    \n",
            "__________________________________________________________________________________________________\n",
            "conv1d_1 (Conv1D)               (None, 2999, 64)     36928       conv1d[0][0]                     \n",
            "__________________________________________________________________________________________________\n",
            "batch_normalization (BatchNorma (None, 2999, 64)     256         conv1d_1[0][0]                   \n",
            "__________________________________________________________________________________________________\n",
            "leaky_re_lu (LeakyReLU)         (None, 2999, 64)     0           batch_normalization[0][0]        \n",
            "__________________________________________________________________________________________________\n",
            "conv1d_2 (Conv1D)               (None, 2999, 32)     14368       leaky_re_lu[0][0]                \n",
            "__________________________________________________________________________________________________\n",
            "batch_normalization_1 (BatchNor (None, 2999, 32)     128         conv1d_2[0][0]                   \n",
            "__________________________________________________________________________________________________\n",
            "leaky_re_lu_1 (LeakyReLU)       (None, 2999, 32)     0           batch_normalization_1[0][0]      \n",
            "__________________________________________________________________________________________________\n",
            "dropout (Dropout)               (None, 2999, 32)     0           leaky_re_lu_1[0][0]              \n",
            "__________________________________________________________________________________________________\n",
            "conv1d_3 (Conv1D)               (None, 2999, 64)     18496       dropout[0][0]                    \n",
            "__________________________________________________________________________________________________\n",
            "batch_normalization_2 (BatchNor (None, 2999, 64)     256         conv1d_3[0][0]                   \n",
            "__________________________________________________________________________________________________\n",
            "add (Add)                       (None, 2999, 64)     0           batch_normalization_2[0][0]      \n",
            "                                                                 conv1d[0][0]                     \n",
            "__________________________________________________________________________________________________\n",
            "batch_normalization_3 (BatchNor (None, 2999, 64)     256         add[0][0]                        \n",
            "__________________________________________________________________________________________________\n",
            "leaky_re_lu_2 (LeakyReLU)       (None, 2999, 64)     0           batch_normalization_3[0][0]      \n",
            "__________________________________________________________________________________________________\n",
            "conv1d_4 (Conv1D)               (None, 1000, 128)    57472       leaky_re_lu_2[0][0]              \n",
            "__________________________________________________________________________________________________\n",
            "batch_normalization_4 (BatchNor (None, 1000, 128)    512         conv1d_4[0][0]                   \n",
            "__________________________________________________________________________________________________\n",
            "leaky_re_lu_3 (LeakyReLU)       (None, 1000, 128)    0           batch_normalization_4[0][0]      \n",
            "__________________________________________________________________________________________________\n",
            "max_pooling1d (MaxPooling1D)    (None, 498, 128)     0           leaky_re_lu_3[0][0]              \n",
            "__________________________________________________________________________________________________\n",
            "conv1d_5 (Conv1D)               (None, 498, 256)     98560       max_pooling1d[0][0]              \n",
            "__________________________________________________________________________________________________\n",
            "batch_normalization_5 (BatchNor (None, 498, 256)     1024        conv1d_5[0][0]                   \n",
            "__________________________________________________________________________________________________\n",
            "leaky_re_lu_4 (LeakyReLU)       (None, 498, 256)     0           batch_normalization_5[0][0]      \n",
            "__________________________________________________________________________________________________\n",
            "conv1d_6 (Conv1D)               (None, 498, 256)     327936      leaky_re_lu_4[0][0]              \n",
            "__________________________________________________________________________________________________\n",
            "batch_normalization_6 (BatchNor (None, 498, 256)     1024        conv1d_6[0][0]                   \n",
            "__________________________________________________________________________________________________\n",
            "leaky_re_lu_5 (LeakyReLU)       (None, 498, 256)     0           batch_normalization_6[0][0]      \n",
            "__________________________________________________________________________________________________\n",
            "dropout_1 (Dropout)             (None, 498, 256)     0           leaky_re_lu_5[0][0]              \n",
            "__________________________________________________________________________________________________\n",
            "conv1d_7 (Conv1D)               (None, 498, 128)     98432       dropout_1[0][0]                  \n",
            "__________________________________________________________________________________________________\n",
            "batch_normalization_7 (BatchNor (None, 498, 128)     512         conv1d_7[0][0]                   \n",
            "__________________________________________________________________________________________________\n",
            "add_1 (Add)                     (None, 498, 128)     0           batch_normalization_7[0][0]      \n",
            "                                                                 max_pooling1d[0][0]              \n",
            "__________________________________________________________________________________________________\n",
            "batch_normalization_8 (BatchNor (None, 498, 128)     512         add_1[0][0]                      \n",
            "__________________________________________________________________________________________________\n",
            "leaky_re_lu_6 (LeakyReLU)       (None, 498, 128)     0           batch_normalization_8[0][0]      \n",
            "__________________________________________________________________________________________________\n",
            "conv1d_8 (Conv1D)               (None, 249, 512)     459264      leaky_re_lu_6[0][0]              \n",
            "__________________________________________________________________________________________________\n",
            "batch_normalization_9 (BatchNor (None, 249, 512)     2048        conv1d_8[0][0]                   \n",
            "__________________________________________________________________________________________________\n",
            "leaky_re_lu_7 (LeakyReLU)       (None, 249, 512)     0           batch_normalization_9[0][0]      \n",
            "__________________________________________________________________________________________________\n",
            "max_pooling1d_1 (MaxPooling1D)  (None, 82, 512)      0           leaky_re_lu_7[0][0]              \n",
            "__________________________________________________________________________________________________\n",
            "flatten (Flatten)               (None, 41984)        0           max_pooling1d_1[0][0]            \n",
            "__________________________________________________________________________________________________\n",
            "dense (Dense)                   (None, 256)          10748160    flatten[0][0]                    \n",
            "__________________________________________________________________________________________________\n",
            "leaky_re_lu_8 (LeakyReLU)       (None, 256)          0           dense[0][0]                      \n",
            "__________________________________________________________________________________________________\n",
            "dropout_2 (Dropout)             (None, 256)          0           leaky_re_lu_8[0][0]              \n",
            "__________________________________________________________________________________________________\n",
            "dense_1 (Dense)                 (None, 128)          32896       dropout_2[0][0]                  \n",
            "__________________________________________________________________________________________________\n",
            "dense_2 (Dense)                 (None, 5)            645         dense_1[0][0]                    \n",
            "__________________________________________________________________________________________________\n",
            "softmax (Softmax)               (None, 5)            0           dense_2[0][0]                    \n",
            "==================================================================================================\n",
            "Total params: 11,900,069\n",
            "Trainable params: 11,896,805\n",
            "Non-trainable params: 3,264\n",
            "__________________________________________________________________________________________________\n"
          ],
          "name": "stdout"
        }
      ]
    },
    {
      "cell_type": "code",
      "metadata": {
        "id": "htcsc7xKD6qw",
        "colab_type": "code",
        "colab": {}
      },
      "source": [
        "from tensorflow.keras.layers import (Input, Conv1D, BatchNormalization, Activation, Add, MaxPooling1D,\n",
        "                                     Flatten, Dense, Softmax, LeakyReLU, Dropout, GlobalAveragePooling1D)\n",
        "from tensorflow.keras.models import Model\n",
        "from tensorflow.keras.optimizers import Adam\n",
        "from tensorflow.keras import regularizers\n"
      ],
      "execution_count": 0,
      "outputs": []
    },
    {
      "cell_type": "code",
      "metadata": {
        "id": "4VaGRLtMfQ-D",
        "colab_type": "code",
        "colab": {}
      },
      "source": [
        "def acid(inp, neuron):\n",
        "  \n",
        "  random_num = random.uniform(0, 1)\n",
        "  \n",
        "  if random_num > 0.5:\n",
        "    out = Dense(neuron)(inp)\n",
        "  else:\n",
        "    out = Dense(neuron)(inp)\n",
        "\n",
        "  return out\n",
        "  "
      ],
      "execution_count": 0,
      "outputs": []
    },
    {
      "cell_type": "code",
      "metadata": {
        "id": "a1pW4cb4CQ7U",
        "colab_type": "code",
        "outputId": "0aaf7fa2-4083-48e1-e56f-002a0b2ba5f5",
        "colab": {
          "base_uri": "https://localhost:8080/",
          "height": 1000
        }
      },
      "source": [
        "X_input = model.layers[-8].output\n",
        "\n",
        "\n",
        "### step 1 \n",
        "\n",
        "Conv1_1 = Conv1D(filters=256, kernel_size=9, strides=1, padding='same', name='conv1_1')(X_input)\n",
        "Bn1_1 = BatchNormalization(name='Bn1_1')(Conv1_1)\n",
        "Act1_1 = LeakyReLU(name='leaky_re_lu00')(Bn1_1)\n",
        "Conv1_2 = Conv1D(filters=256, kernel_size=7, strides=1, padding='same', name='conv1_2')(Act1_1)\n",
        "Bn1_2 = BatchNormalization(name='Bn1_2')(Conv1_2)\n",
        "Act1_2 = LeakyReLU(name='leaky_re_lu01')(Bn1_2)\n",
        "DO1_1 = Dropout(0.2, name= 'DO1_1')(Act1_2)\n",
        "Conv1_3 = Conv1D(filters=512, kernel_size=9, strides=1, padding='same', name='conv1_3')(DO1_1)\n",
        "Bn1_3 = BatchNormalization(name='Bn1_3')(Conv1_3)\n",
        "shortcut1_1 = Add(name='Add0')([Bn1_3, X_input])\n",
        "Bn1_4 = BatchNormalization(name='Bn1_4')(shortcut1_1)\n",
        "Act1_3 = LeakyReLU(name='leaky_re_lu02')(Bn1_4)\n",
        "##### auxiliary\n",
        "Conv1_4 = Conv1D(filters=512, kernel_size=7, strides=2, padding='same', name='conv1_4')(Act1_3)\n",
        "Bn1_5 = BatchNormalization(name='Bn1_5')(Conv1_4)\n",
        "Act1_4 = LeakyReLU(name='leaky_re_lu03')(Bn1_5)\n",
        "Drop0_0 = Dropout(0.5, name='Drop0_0')(Act1_4)\n",
        "###############\n",
        "gap = GlobalAveragePooling1D()(Drop0_0)\n",
        "\n",
        "\n",
        "\n",
        "# ### step 2\n",
        "\n",
        "# Conv2_1 = Conv1D(filters=256, kernel_size=9, strides=1, padding='same', name='conv2_1')(Max1_1)\n",
        "# Bn2_1 = BatchNormalization(name='Bn2_1')(Conv2_1)\n",
        "# Act2_1 = LeakyReLU(name='leaky_re_lu20')(Bn2_1)\n",
        "# Conv2_2 = Conv1D(filters=256, kernel_size=7, strides=1, padding='same', name='conv2_2')(Act2_1)\n",
        "# Bn2_2 = BatchNormalization(name='Bn2_2')(Conv2_2)\n",
        "# Act2_2 = LeakyReLU(name='leaky_re_lu21')(Bn2_2)\n",
        "# DO2_1 = Dropout(0.2, name= 'DO2_1')(Act2_2)\n",
        "# Conv2_3 = Conv1D(filters=512, kernel_size=9, strides=1, padding='same', name='conv2_3')(DO2_1)\n",
        "# Bn2_3 = BatchNormalization(name='Bn2_3')(Conv2_3)\n",
        "# shortcut2_1 = Add(name='Add2')([Bn2_3, Max1_1])\n",
        "# Bn2_4 = BatchNormalization(name='Bn2_4')(shortcut2_1)\n",
        "# Act2_3 = LeakyReLU(name='leaky_re_lu22')(Bn2_4)\n",
        "# ##### auxiliary\n",
        "# Conv2_4 = Conv1D(filters=1024, kernel_size=7, strides=2, padding='same', name='conv2_4')(Act2_3)\n",
        "# Bn2_5 = BatchNormalization(name='Bn2_5')(Conv2_4)\n",
        "# Act2_4 = LeakyReLU(name='leaky_re_lu23')(Bn2_5)\n",
        "# Drop2_0 = Dropout(0.5, name='Drop2_0')(Act2_4)\n",
        "# ###############\n",
        "# Max2_1 = MaxPooling1D(pool_size=5, strides=2, name='Max2_1')(Drop2_0)\n",
        "\n",
        "\n",
        "\n",
        "\n",
        "Flat1 = Flatten()(gap)\n",
        "\n",
        "\n",
        "D0 = Dense(1024, name='D0', kernel_regularizer=regularizers.l1_l2(l1=1e-5, l2=1e-4))(Flat1)\n",
        "Bn2 = BatchNormalization(name= 'batchNorm0')(D0)\n",
        "Act2 = LeakyReLU(name='leaky_re_lu1')(Bn2)\n",
        "Drop0 = Dropout(0.5, name= 'Drop0')(Act2)\n",
        "######\n",
        "\n",
        "# D1 = Dense(256)(Drop0)\n",
        "D1 = Dense(512, name='D1')(Drop0)\n",
        "Bn3 = BatchNormalization(name= 'batchNorm1')(D1)\n",
        "Act3 = LeakyReLU(name='leaky_re_lu2')(Bn3)\n",
        "Drop1 = Dropout(0.3, name= 'Drop1')(Act3)\n",
        "\n",
        "\n",
        "#####\n",
        "\n",
        "# D2 = Dense(64)(Drop1)\n",
        "D2 = Dense(128, name='D2')(Drop1)\n",
        "Bn4 = BatchNormalization(name= 'batchNorm2')(D2)\n",
        "Act4 = LeakyReLU(name='leaky_re_lu3')(Bn4)\n",
        "\n",
        "#####\n",
        "D3 = Dense(4)(Act4)\n",
        "Act5 = Softmax()(D3)\n",
        "\n",
        "new_model = Model(inputs=model.inputs, outputs=Act5)\n",
        "new_model.summary()"
      ],
      "execution_count": 60,
      "outputs": [
        {
          "output_type": "stream",
          "text": [
            "Model: \"model_6\"\n",
            "__________________________________________________________________________________________________\n",
            "Layer (type)                    Output Shape         Param #     Connected to                     \n",
            "==================================================================================================\n",
            "input_1 (InputLayer)            [(None, 9000, 1)]    0                                            \n",
            "__________________________________________________________________________________________________\n",
            "conv1d (Conv1D)                 (None, 2999, 64)     384         input_1[0][0]                    \n",
            "__________________________________________________________________________________________________\n",
            "conv1d_1 (Conv1D)               (None, 2999, 64)     36928       conv1d[0][0]                     \n",
            "__________________________________________________________________________________________________\n",
            "batch_normalization (BatchNorma (None, 2999, 64)     256         conv1d_1[0][0]                   \n",
            "__________________________________________________________________________________________________\n",
            "leaky_re_lu (LeakyReLU)         (None, 2999, 64)     0           batch_normalization[0][0]        \n",
            "__________________________________________________________________________________________________\n",
            "conv1d_2 (Conv1D)               (None, 2999, 32)     14368       leaky_re_lu[0][0]                \n",
            "__________________________________________________________________________________________________\n",
            "batch_normalization_1 (BatchNor (None, 2999, 32)     128         conv1d_2[0][0]                   \n",
            "__________________________________________________________________________________________________\n",
            "leaky_re_lu_1 (LeakyReLU)       (None, 2999, 32)     0           batch_normalization_1[0][0]      \n",
            "__________________________________________________________________________________________________\n",
            "dropout (Dropout)               (None, 2999, 32)     0           leaky_re_lu_1[0][0]              \n",
            "__________________________________________________________________________________________________\n",
            "conv1d_3 (Conv1D)               (None, 2999, 64)     18496       dropout[0][0]                    \n",
            "__________________________________________________________________________________________________\n",
            "batch_normalization_2 (BatchNor (None, 2999, 64)     256         conv1d_3[0][0]                   \n",
            "__________________________________________________________________________________________________\n",
            "add (Add)                       (None, 2999, 64)     0           batch_normalization_2[0][0]      \n",
            "                                                                 conv1d[0][0]                     \n",
            "__________________________________________________________________________________________________\n",
            "batch_normalization_3 (BatchNor (None, 2999, 64)     256         add[0][0]                        \n",
            "__________________________________________________________________________________________________\n",
            "leaky_re_lu_2 (LeakyReLU)       (None, 2999, 64)     0           batch_normalization_3[0][0]      \n",
            "__________________________________________________________________________________________________\n",
            "conv1d_4 (Conv1D)               (None, 1000, 128)    57472       leaky_re_lu_2[0][0]              \n",
            "__________________________________________________________________________________________________\n",
            "batch_normalization_4 (BatchNor (None, 1000, 128)    512         conv1d_4[0][0]                   \n",
            "__________________________________________________________________________________________________\n",
            "leaky_re_lu_3 (LeakyReLU)       (None, 1000, 128)    0           batch_normalization_4[0][0]      \n",
            "__________________________________________________________________________________________________\n",
            "max_pooling1d (MaxPooling1D)    (None, 498, 128)     0           leaky_re_lu_3[0][0]              \n",
            "__________________________________________________________________________________________________\n",
            "conv1d_5 (Conv1D)               (None, 498, 256)     98560       max_pooling1d[0][0]              \n",
            "__________________________________________________________________________________________________\n",
            "batch_normalization_5 (BatchNor (None, 498, 256)     1024        conv1d_5[0][0]                   \n",
            "__________________________________________________________________________________________________\n",
            "leaky_re_lu_4 (LeakyReLU)       (None, 498, 256)     0           batch_normalization_5[0][0]      \n",
            "__________________________________________________________________________________________________\n",
            "conv1d_6 (Conv1D)               (None, 498, 256)     327936      leaky_re_lu_4[0][0]              \n",
            "__________________________________________________________________________________________________\n",
            "batch_normalization_6 (BatchNor (None, 498, 256)     1024        conv1d_6[0][0]                   \n",
            "__________________________________________________________________________________________________\n",
            "leaky_re_lu_5 (LeakyReLU)       (None, 498, 256)     0           batch_normalization_6[0][0]      \n",
            "__________________________________________________________________________________________________\n",
            "dropout_1 (Dropout)             (None, 498, 256)     0           leaky_re_lu_5[0][0]              \n",
            "__________________________________________________________________________________________________\n",
            "conv1d_7 (Conv1D)               (None, 498, 128)     98432       dropout_1[0][0]                  \n",
            "__________________________________________________________________________________________________\n",
            "batch_normalization_7 (BatchNor (None, 498, 128)     512         conv1d_7[0][0]                   \n",
            "__________________________________________________________________________________________________\n",
            "add_1 (Add)                     (None, 498, 128)     0           batch_normalization_7[0][0]      \n",
            "                                                                 max_pooling1d[0][0]              \n",
            "__________________________________________________________________________________________________\n",
            "batch_normalization_8 (BatchNor (None, 498, 128)     512         add_1[0][0]                      \n",
            "__________________________________________________________________________________________________\n",
            "leaky_re_lu_6 (LeakyReLU)       (None, 498, 128)     0           batch_normalization_8[0][0]      \n",
            "__________________________________________________________________________________________________\n",
            "conv1d_8 (Conv1D)               (None, 249, 512)     459264      leaky_re_lu_6[0][0]              \n",
            "__________________________________________________________________________________________________\n",
            "batch_normalization_9 (BatchNor (None, 249, 512)     2048        conv1d_8[0][0]                   \n",
            "__________________________________________________________________________________________________\n",
            "leaky_re_lu_7 (LeakyReLU)       (None, 249, 512)     0           batch_normalization_9[0][0]      \n",
            "__________________________________________________________________________________________________\n",
            "max_pooling1d_1 (MaxPooling1D)  (None, 82, 512)      0           leaky_re_lu_7[0][0]              \n",
            "__________________________________________________________________________________________________\n",
            "conv1_1 (Conv1D)                (None, 82, 256)      1179904     max_pooling1d_1[0][0]            \n",
            "__________________________________________________________________________________________________\n",
            "Bn1_1 (BatchNormalization)      (None, 82, 256)      1024        conv1_1[0][0]                    \n",
            "__________________________________________________________________________________________________\n",
            "leaky_re_lu00 (LeakyReLU)       (None, 82, 256)      0           Bn1_1[0][0]                      \n",
            "__________________________________________________________________________________________________\n",
            "conv1_2 (Conv1D)                (None, 82, 256)      459008      leaky_re_lu00[0][0]              \n",
            "__________________________________________________________________________________________________\n",
            "Bn1_2 (BatchNormalization)      (None, 82, 256)      1024        conv1_2[0][0]                    \n",
            "__________________________________________________________________________________________________\n",
            "leaky_re_lu01 (LeakyReLU)       (None, 82, 256)      0           Bn1_2[0][0]                      \n",
            "__________________________________________________________________________________________________\n",
            "DO1_1 (Dropout)                 (None, 82, 256)      0           leaky_re_lu01[0][0]              \n",
            "__________________________________________________________________________________________________\n",
            "conv1_3 (Conv1D)                (None, 82, 512)      1180160     DO1_1[0][0]                      \n",
            "__________________________________________________________________________________________________\n",
            "Bn1_3 (BatchNormalization)      (None, 82, 512)      2048        conv1_3[0][0]                    \n",
            "__________________________________________________________________________________________________\n",
            "Add0 (Add)                      (None, 82, 512)      0           Bn1_3[0][0]                      \n",
            "                                                                 max_pooling1d_1[0][0]            \n",
            "__________________________________________________________________________________________________\n",
            "Bn1_4 (BatchNormalization)      (None, 82, 512)      2048        Add0[0][0]                       \n",
            "__________________________________________________________________________________________________\n",
            "leaky_re_lu02 (LeakyReLU)       (None, 82, 512)      0           Bn1_4[0][0]                      \n",
            "__________________________________________________________________________________________________\n",
            "conv1_4 (Conv1D)                (None, 41, 512)      1835520     leaky_re_lu02[0][0]              \n",
            "__________________________________________________________________________________________________\n",
            "Bn1_5 (BatchNormalization)      (None, 41, 512)      2048        conv1_4[0][0]                    \n",
            "__________________________________________________________________________________________________\n",
            "leaky_re_lu03 (LeakyReLU)       (None, 41, 512)      0           Bn1_5[0][0]                      \n",
            "__________________________________________________________________________________________________\n",
            "Drop0_0 (Dropout)               (None, 41, 512)      0           leaky_re_lu03[0][0]              \n",
            "__________________________________________________________________________________________________\n",
            "global_average_pooling1d_3 (Glo (None, 512)          0           Drop0_0[0][0]                    \n",
            "__________________________________________________________________________________________________\n",
            "flatten_8 (Flatten)             (None, 512)          0           global_average_pooling1d_3[0][0] \n",
            "__________________________________________________________________________________________________\n",
            "D0 (Dense)                      (None, 1024)         525312      flatten_8[0][0]                  \n",
            "__________________________________________________________________________________________________\n",
            "batchNorm0 (BatchNormalization) (None, 1024)         4096        D0[0][0]                         \n",
            "__________________________________________________________________________________________________\n",
            "leaky_re_lu1 (LeakyReLU)        (None, 1024)         0           batchNorm0[0][0]                 \n",
            "__________________________________________________________________________________________________\n",
            "Drop0 (Dropout)                 (None, 1024)         0           leaky_re_lu1[0][0]               \n",
            "__________________________________________________________________________________________________\n",
            "D1 (Dense)                      (None, 512)          524800      Drop0[0][0]                      \n",
            "__________________________________________________________________________________________________\n",
            "batchNorm1 (BatchNormalization) (None, 512)          2048        D1[0][0]                         \n",
            "__________________________________________________________________________________________________\n",
            "leaky_re_lu2 (LeakyReLU)        (None, 512)          0           batchNorm1[0][0]                 \n",
            "__________________________________________________________________________________________________\n",
            "Drop1 (Dropout)                 (None, 512)          0           leaky_re_lu2[0][0]               \n",
            "__________________________________________________________________________________________________\n",
            "D2 (Dense)                      (None, 128)          65664       Drop1[0][0]                      \n",
            "__________________________________________________________________________________________________\n",
            "batchNorm2 (BatchNormalization) (None, 128)          512         D2[0][0]                         \n",
            "__________________________________________________________________________________________________\n",
            "leaky_re_lu3 (LeakyReLU)        (None, 128)          0           batchNorm2[0][0]                 \n",
            "__________________________________________________________________________________________________\n",
            "dense_21 (Dense)                (None, 4)            516         leaky_re_lu3[0][0]               \n",
            "__________________________________________________________________________________________________\n",
            "softmax_6 (Softmax)             (None, 4)            0           dense_21[0][0]                   \n",
            "==================================================================================================\n",
            "Total params: 6,904,100\n",
            "Trainable params: 5,778,308\n",
            "Non-trainable params: 1,125,792\n",
            "__________________________________________________________________________________________________\n"
          ],
          "name": "stdout"
        }
      ]
    },
    {
      "cell_type": "code",
      "metadata": {
        "id": "8rCj0i9nBE5b",
        "colab_type": "code",
        "outputId": "b04cd25a-ee7a-4082-8fec-7d67e5ce48ff",
        "colab": {
          "base_uri": "https://localhost:8080/",
          "height": 1000
        }
      },
      "source": [
        "new_model.get_layer('conv1d').trainable = False\n",
        "new_model.get_layer('conv1d_1').trainable = False\n",
        "new_model.get_layer('batch_normalization').trainable = False\n",
        "new_model.get_layer('conv1d_2').trainable = False\n",
        "new_model.get_layer('batch_normalization_1').trainable = False\n",
        "new_model.get_layer('conv1d_3').trainable = False\n",
        "new_model.get_layer('batch_normalization_2').trainable = False\n",
        "new_model.get_layer('batch_normalization_3').trainable = False\n",
        "new_model.get_layer('conv1d_4').trainable = False\n",
        "new_model.get_layer('batch_normalization_4').trainable = False\n",
        "new_model.get_layer('conv1d_5').trainable = False\n",
        "new_model.get_layer('batch_normalization_5').trainable = False\n",
        "new_model.get_layer('conv1d_6').trainable = False\n",
        "new_model.get_layer('batch_normalization_6').trainable = False\n",
        "new_model.get_layer('conv1d_7').trainable = False\n",
        "new_model.get_layer('batch_normalization_7').trainable = False\n",
        "new_model.get_layer('batch_normalization_8').trainable = False\n",
        "new_model.get_layer('conv1d_8').trainable = False\n",
        "new_model.get_layer('batch_normalization_9').trainable = False\n",
        "new_model.summary()"
      ],
      "execution_count": 61,
      "outputs": [
        {
          "output_type": "stream",
          "text": [
            "Model: \"model_6\"\n",
            "__________________________________________________________________________________________________\n",
            "Layer (type)                    Output Shape         Param #     Connected to                     \n",
            "==================================================================================================\n",
            "input_1 (InputLayer)            [(None, 9000, 1)]    0                                            \n",
            "__________________________________________________________________________________________________\n",
            "conv1d (Conv1D)                 (None, 2999, 64)     384         input_1[0][0]                    \n",
            "__________________________________________________________________________________________________\n",
            "conv1d_1 (Conv1D)               (None, 2999, 64)     36928       conv1d[0][0]                     \n",
            "__________________________________________________________________________________________________\n",
            "batch_normalization (BatchNorma (None, 2999, 64)     256         conv1d_1[0][0]                   \n",
            "__________________________________________________________________________________________________\n",
            "leaky_re_lu (LeakyReLU)         (None, 2999, 64)     0           batch_normalization[0][0]        \n",
            "__________________________________________________________________________________________________\n",
            "conv1d_2 (Conv1D)               (None, 2999, 32)     14368       leaky_re_lu[0][0]                \n",
            "__________________________________________________________________________________________________\n",
            "batch_normalization_1 (BatchNor (None, 2999, 32)     128         conv1d_2[0][0]                   \n",
            "__________________________________________________________________________________________________\n",
            "leaky_re_lu_1 (LeakyReLU)       (None, 2999, 32)     0           batch_normalization_1[0][0]      \n",
            "__________________________________________________________________________________________________\n",
            "dropout (Dropout)               (None, 2999, 32)     0           leaky_re_lu_1[0][0]              \n",
            "__________________________________________________________________________________________________\n",
            "conv1d_3 (Conv1D)               (None, 2999, 64)     18496       dropout[0][0]                    \n",
            "__________________________________________________________________________________________________\n",
            "batch_normalization_2 (BatchNor (None, 2999, 64)     256         conv1d_3[0][0]                   \n",
            "__________________________________________________________________________________________________\n",
            "add (Add)                       (None, 2999, 64)     0           batch_normalization_2[0][0]      \n",
            "                                                                 conv1d[0][0]                     \n",
            "__________________________________________________________________________________________________\n",
            "batch_normalization_3 (BatchNor (None, 2999, 64)     256         add[0][0]                        \n",
            "__________________________________________________________________________________________________\n",
            "leaky_re_lu_2 (LeakyReLU)       (None, 2999, 64)     0           batch_normalization_3[0][0]      \n",
            "__________________________________________________________________________________________________\n",
            "conv1d_4 (Conv1D)               (None, 1000, 128)    57472       leaky_re_lu_2[0][0]              \n",
            "__________________________________________________________________________________________________\n",
            "batch_normalization_4 (BatchNor (None, 1000, 128)    512         conv1d_4[0][0]                   \n",
            "__________________________________________________________________________________________________\n",
            "leaky_re_lu_3 (LeakyReLU)       (None, 1000, 128)    0           batch_normalization_4[0][0]      \n",
            "__________________________________________________________________________________________________\n",
            "max_pooling1d (MaxPooling1D)    (None, 498, 128)     0           leaky_re_lu_3[0][0]              \n",
            "__________________________________________________________________________________________________\n",
            "conv1d_5 (Conv1D)               (None, 498, 256)     98560       max_pooling1d[0][0]              \n",
            "__________________________________________________________________________________________________\n",
            "batch_normalization_5 (BatchNor (None, 498, 256)     1024        conv1d_5[0][0]                   \n",
            "__________________________________________________________________________________________________\n",
            "leaky_re_lu_4 (LeakyReLU)       (None, 498, 256)     0           batch_normalization_5[0][0]      \n",
            "__________________________________________________________________________________________________\n",
            "conv1d_6 (Conv1D)               (None, 498, 256)     327936      leaky_re_lu_4[0][0]              \n",
            "__________________________________________________________________________________________________\n",
            "batch_normalization_6 (BatchNor (None, 498, 256)     1024        conv1d_6[0][0]                   \n",
            "__________________________________________________________________________________________________\n",
            "leaky_re_lu_5 (LeakyReLU)       (None, 498, 256)     0           batch_normalization_6[0][0]      \n",
            "__________________________________________________________________________________________________\n",
            "dropout_1 (Dropout)             (None, 498, 256)     0           leaky_re_lu_5[0][0]              \n",
            "__________________________________________________________________________________________________\n",
            "conv1d_7 (Conv1D)               (None, 498, 128)     98432       dropout_1[0][0]                  \n",
            "__________________________________________________________________________________________________\n",
            "batch_normalization_7 (BatchNor (None, 498, 128)     512         conv1d_7[0][0]                   \n",
            "__________________________________________________________________________________________________\n",
            "add_1 (Add)                     (None, 498, 128)     0           batch_normalization_7[0][0]      \n",
            "                                                                 max_pooling1d[0][0]              \n",
            "__________________________________________________________________________________________________\n",
            "batch_normalization_8 (BatchNor (None, 498, 128)     512         add_1[0][0]                      \n",
            "__________________________________________________________________________________________________\n",
            "leaky_re_lu_6 (LeakyReLU)       (None, 498, 128)     0           batch_normalization_8[0][0]      \n",
            "__________________________________________________________________________________________________\n",
            "conv1d_8 (Conv1D)               (None, 249, 512)     459264      leaky_re_lu_6[0][0]              \n",
            "__________________________________________________________________________________________________\n",
            "batch_normalization_9 (BatchNor (None, 249, 512)     2048        conv1d_8[0][0]                   \n",
            "__________________________________________________________________________________________________\n",
            "leaky_re_lu_7 (LeakyReLU)       (None, 249, 512)     0           batch_normalization_9[0][0]      \n",
            "__________________________________________________________________________________________________\n",
            "max_pooling1d_1 (MaxPooling1D)  (None, 82, 512)      0           leaky_re_lu_7[0][0]              \n",
            "__________________________________________________________________________________________________\n",
            "conv1_1 (Conv1D)                (None, 82, 256)      1179904     max_pooling1d_1[0][0]            \n",
            "__________________________________________________________________________________________________\n",
            "Bn1_1 (BatchNormalization)      (None, 82, 256)      1024        conv1_1[0][0]                    \n",
            "__________________________________________________________________________________________________\n",
            "leaky_re_lu00 (LeakyReLU)       (None, 82, 256)      0           Bn1_1[0][0]                      \n",
            "__________________________________________________________________________________________________\n",
            "conv1_2 (Conv1D)                (None, 82, 256)      459008      leaky_re_lu00[0][0]              \n",
            "__________________________________________________________________________________________________\n",
            "Bn1_2 (BatchNormalization)      (None, 82, 256)      1024        conv1_2[0][0]                    \n",
            "__________________________________________________________________________________________________\n",
            "leaky_re_lu01 (LeakyReLU)       (None, 82, 256)      0           Bn1_2[0][0]                      \n",
            "__________________________________________________________________________________________________\n",
            "DO1_1 (Dropout)                 (None, 82, 256)      0           leaky_re_lu01[0][0]              \n",
            "__________________________________________________________________________________________________\n",
            "conv1_3 (Conv1D)                (None, 82, 512)      1180160     DO1_1[0][0]                      \n",
            "__________________________________________________________________________________________________\n",
            "Bn1_3 (BatchNormalization)      (None, 82, 512)      2048        conv1_3[0][0]                    \n",
            "__________________________________________________________________________________________________\n",
            "Add0 (Add)                      (None, 82, 512)      0           Bn1_3[0][0]                      \n",
            "                                                                 max_pooling1d_1[0][0]            \n",
            "__________________________________________________________________________________________________\n",
            "Bn1_4 (BatchNormalization)      (None, 82, 512)      2048        Add0[0][0]                       \n",
            "__________________________________________________________________________________________________\n",
            "leaky_re_lu02 (LeakyReLU)       (None, 82, 512)      0           Bn1_4[0][0]                      \n",
            "__________________________________________________________________________________________________\n",
            "conv1_4 (Conv1D)                (None, 41, 512)      1835520     leaky_re_lu02[0][0]              \n",
            "__________________________________________________________________________________________________\n",
            "Bn1_5 (BatchNormalization)      (None, 41, 512)      2048        conv1_4[0][0]                    \n",
            "__________________________________________________________________________________________________\n",
            "leaky_re_lu03 (LeakyReLU)       (None, 41, 512)      0           Bn1_5[0][0]                      \n",
            "__________________________________________________________________________________________________\n",
            "Drop0_0 (Dropout)               (None, 41, 512)      0           leaky_re_lu03[0][0]              \n",
            "__________________________________________________________________________________________________\n",
            "global_average_pooling1d_3 (Glo (None, 512)          0           Drop0_0[0][0]                    \n",
            "__________________________________________________________________________________________________\n",
            "flatten_8 (Flatten)             (None, 512)          0           global_average_pooling1d_3[0][0] \n",
            "__________________________________________________________________________________________________\n",
            "D0 (Dense)                      (None, 1024)         525312      flatten_8[0][0]                  \n",
            "__________________________________________________________________________________________________\n",
            "batchNorm0 (BatchNormalization) (None, 1024)         4096        D0[0][0]                         \n",
            "__________________________________________________________________________________________________\n",
            "leaky_re_lu1 (LeakyReLU)        (None, 1024)         0           batchNorm0[0][0]                 \n",
            "__________________________________________________________________________________________________\n",
            "Drop0 (Dropout)                 (None, 1024)         0           leaky_re_lu1[0][0]               \n",
            "__________________________________________________________________________________________________\n",
            "D1 (Dense)                      (None, 512)          524800      Drop0[0][0]                      \n",
            "__________________________________________________________________________________________________\n",
            "batchNorm1 (BatchNormalization) (None, 512)          2048        D1[0][0]                         \n",
            "__________________________________________________________________________________________________\n",
            "leaky_re_lu2 (LeakyReLU)        (None, 512)          0           batchNorm1[0][0]                 \n",
            "__________________________________________________________________________________________________\n",
            "Drop1 (Dropout)                 (None, 512)          0           leaky_re_lu2[0][0]               \n",
            "__________________________________________________________________________________________________\n",
            "D2 (Dense)                      (None, 128)          65664       Drop1[0][0]                      \n",
            "__________________________________________________________________________________________________\n",
            "batchNorm2 (BatchNormalization) (None, 128)          512         D2[0][0]                         \n",
            "__________________________________________________________________________________________________\n",
            "leaky_re_lu3 (LeakyReLU)        (None, 128)          0           batchNorm2[0][0]                 \n",
            "__________________________________________________________________________________________________\n",
            "dense_21 (Dense)                (None, 4)            516         leaky_re_lu3[0][0]               \n",
            "__________________________________________________________________________________________________\n",
            "softmax_6 (Softmax)             (None, 4)            0           dense_21[0][0]                   \n",
            "==================================================================================================\n",
            "Total params: 6,904,100\n",
            "Trainable params: 5,778,308\n",
            "Non-trainable params: 1,125,792\n",
            "__________________________________________________________________________________________________\n"
          ],
          "name": "stdout"
        }
      ]
    },
    {
      "cell_type": "code",
      "metadata": {
        "id": "KdN5SR0mBgH1",
        "colab_type": "code",
        "colab": {}
      },
      "source": [
        "lr_schedule = tf.keras.optimizers.schedules.ExponentialDecay(\n",
        "    initial_learning_rate=1e-3,\n",
        "    decay_steps=453,\n",
        "    decay_rate=0.9) # it was 0.5\n",
        "opt = tf.keras.optimizers.Adam(learning_rate=lr_schedule)"
      ],
      "execution_count": 0,
      "outputs": []
    },
    {
      "cell_type": "code",
      "metadata": {
        "id": "MNlDavTkO7Sy",
        "colab_type": "code",
        "outputId": "e1d558d7-a77a-4c80-fd41-c7a54331d4be",
        "colab": {
          "base_uri": "https://localhost:8080/",
          "height": 218
        }
      },
      "source": [
        "# compile model\n",
        "new_model.compile(loss='categorical_crossentropy', optimizer=opt, metrics=['accuracy'])\n",
        "\n",
        "# Early Stopping\n",
        "es_callback = tf.keras.callbacks.EarlyStopping(monitor='val_loss', patience=4)\n",
        "\n",
        "# Fit the model\n",
        "history = new_model.fit(X_train, y_train, epochs=40, batch_size=128, validation_data=(X_test, y_test), callbacks=[es_callback])"
      ],
      "execution_count": 0,
      "outputs": [
        {
          "output_type": "stream",
          "text": [
            "Epoch 1/40\n",
            "91/91 [==============================] - 815s 9s/step - loss: 1.2118 - accuracy: 0.6124 - val_loss: 1.1683 - val_accuracy: 0.5893\n",
            "Epoch 2/40\n",
            "91/91 [==============================] - 815s 9s/step - loss: 0.9698 - accuracy: 0.6786 - val_loss: 1.3975 - val_accuracy: 0.4930\n",
            "Epoch 3/40\n",
            "91/91 [==============================] - 817s 9s/step - loss: 0.8833 - accuracy: 0.7128 - val_loss: 1.0485 - val_accuracy: 0.6804\n",
            "Epoch 4/40\n",
            "91/91 [==============================] - 810s 9s/step - loss: 0.8312 - accuracy: 0.7312 - val_loss: 0.8421 - val_accuracy: 0.7478\n",
            "Epoch 5/40\n",
            "91/91 [==============================] - 807s 9s/step - loss: 0.7658 - accuracy: 0.7441 - val_loss: 0.8588 - val_accuracy: 0.6970\n",
            "Epoch 6/40\n",
            "75/91 [=======================>......] - ETA: 2:16 - loss: 0.7204 - accuracy: 0.7638"
          ],
          "name": "stdout"
        }
      ]
    },
    {
      "cell_type": "code",
      "metadata": {
        "id": "VjzaZzVtQZ7c",
        "colab_type": "code",
        "outputId": "b37fee63-1694-40a5-8d3b-6f26ca1c8a45",
        "colab": {
          "base_uri": "https://localhost:8080/",
          "height": 50
        }
      },
      "source": [
        "scores = model.evaluate(X_test, y_test, verbose=0)\n",
        "print(\"%s: %.2f%%\" % (model.metrics_names[1], scores[1]*100))\n",
        "# save model and architecture to single file\n",
        "model.save('/content/drive/My Drive/Cardio/AF_Classification.h5')\n",
        "print(\"Saved model to disk\")"
      ],
      "execution_count": 0,
      "outputs": [
        {
          "output_type": "stream",
          "text": [
            "accuracy: 79.56%\n",
            "Saved model to disk\n"
          ],
          "name": "stdout"
        }
      ]
    }
  ]
}