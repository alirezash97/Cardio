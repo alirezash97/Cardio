{
  "nbformat": 4,
  "nbformat_minor": 0,
  "metadata": {
    "colab": {
      "name": "Cardio.ipynb",
      "provenance": [],
      "collapsed_sections": [],
      "mount_file_id": "https://github.com/alirezash97/Cardio/blob/master/Cardio.ipynb",
      "authorship_tag": "ABX9TyMp7SxOSXFnlvNS3KjDVhLr",
      "include_colab_link": true
    },
    "kernelspec": {
      "name": "python3",
      "display_name": "Python 3"
    }
  },
  "cells": [
    {
      "cell_type": "markdown",
      "metadata": {
        "id": "view-in-github",
        "colab_type": "text"
      },
      "source": [
        "<a href=\"https://colab.research.google.com/github/alirezash97/Cardio/blob/master/Cardio.ipynb\" target=\"_parent\"><img src=\"https://colab.research.google.com/assets/colab-badge.svg\" alt=\"Open In Colab\"/></a>"
      ]
    },
    {
      "cell_type": "code",
      "metadata": {
        "id": "woUy50wlThUH",
        "colab_type": "code",
        "outputId": "e5684275-6fe7-456b-ecda-b1a230f3646f",
        "colab": {
          "base_uri": "https://localhost:8080/",
          "height": 101
        }
      },
      "source": [
        "# !pip install kaggle\n",
        "# !mkdir .kaggle\n",
        "# import json\n",
        "# token = {\"username\":\"alirezashafaei97\",\"key\":\"9cb262aa0c5658ffc4eb45857c41903c\"}\n",
        "# with open('/content/.kaggle/kaggle.json', 'w') as file:\n",
        "#     json.dump(token, file)\n",
        "# !mkdir ~/.kaggle\n",
        "# !cp /content/.kaggle/kaggle.json ~/.kaggle/kaggle.json\n",
        "# !kaggle config set -n path -v{/content}\n",
        "# !chmod 600 /root/.kaggle/kaggle.json\n",
        "# !kaggle datasets download -d shayanfazeli/heartbeat -p /content\n",
        "# !unzip /content/heartbeat.zip -d /content/heartbeat"
      ],
      "execution_count": 0,
      "outputs": [
        {
          "output_type": "stream",
          "text": [
            "Archive:  /content/heartbeat.zip\n",
            "  inflating: /content/heartbeat/mitbih_test.csv  \n",
            "  inflating: /content/heartbeat/mitbih_train.csv  \n",
            "  inflating: /content/heartbeat/ptbdb_abnormal.csv  \n",
            "  inflating: /content/heartbeat/ptbdb_normal.csv  \n"
          ],
          "name": "stdout"
        }
      ]
    },
    {
      "cell_type": "code",
      "metadata": {
        "id": "UprTwU387jLd",
        "colab_type": "code",
        "colab": {}
      },
      "source": [
        "\n",
        "!pip3 install git+https://github.com/analysiscenter/cardio.git"
      ],
      "execution_count": 0,
      "outputs": []
    },
    {
      "cell_type": "code",
      "metadata": {
        "id": "EU0eAyTV8aEg",
        "colab_type": "code",
        "colab": {}
      },
      "source": [
        "import cardio\n",
        "import wfdb\n",
        "import tensorflow as tf"
      ],
      "execution_count": 0,
      "outputs": []
    },
    {
      "cell_type": "code",
      "metadata": {
        "id": "ww2MC9iRBtHk",
        "colab_type": "code",
        "colab": {}
      },
      "source": [
        "!unzip '/content/drive/My Drive/Cardio/training2017.zip'"
      ],
      "execution_count": 0,
      "outputs": []
    },
    {
      "cell_type": "code",
      "metadata": {
        "id": "yzFRQBd6G3S3",
        "colab_type": "code",
        "colab": {}
      },
      "source": [
        "########## traingng 2017 ########\n",
        "import sys\n",
        "import numpy as np\n",
        "\n",
        "from matplotlib import pyplot as plt\n",
        "\n",
        "sys.path.append('/content/training2017')\n",
        "\n",
        "import cardio.batchflow as bf\n",
        "index = bf.FilesIndex(path='/content/training2017/A*.hea', no_ext=True, sort=True)"
      ],
      "execution_count": 0,
      "outputs": []
    },
    {
      "cell_type": "code",
      "metadata": {
        "id": "p-j-w7QdG74_",
        "colab_type": "code",
        "outputId": "55f932cf-0d0d-4d15-a41d-8a697fb04ac4",
        "colab": {
          "base_uri": "https://localhost:8080/",
          "height": 34
        }
      },
      "source": [
        "print(index.indices)"
      ],
      "execution_count": 5,
      "outputs": [
        {
          "output_type": "stream",
          "text": [
            "['A00001' 'A00002' 'A00003' ... 'A08526' 'A08527' 'A08528']\n"
          ],
          "name": "stdout"
        }
      ]
    },
    {
      "cell_type": "code",
      "metadata": {
        "id": "-YiPEYEyHPNB",
        "colab_type": "code",
        "colab": {}
      },
      "source": [
        "from cardio import EcgBatch\n",
        "eds = bf.Dataset(index, batch_class=EcgBatch)"
      ],
      "execution_count": 0,
      "outputs": []
    },
    {
      "cell_type": "code",
      "metadata": {
        "id": "cVvVyUkJHxmH",
        "colab_type": "code",
        "colab": {}
      },
      "source": [
        "from cardio import EcgDataset\n",
        "eds = EcgDataset(path='/content/training2017/*.hea', no_ext=True, sort=True)"
      ],
      "execution_count": 0,
      "outputs": []
    },
    {
      "cell_type": "code",
      "metadata": {
        "id": "jNWjEAHtHspe",
        "colab_type": "code",
        "colab": {}
      },
      "source": [
        "batch = eds.next_batch(batch_size=8528, unique_labels=['A', 'N', 'O'])"
      ],
      "execution_count": 0,
      "outputs": []
    },
    {
      "cell_type": "code",
      "metadata": {
        "id": "C28AIES3rL6y",
        "colab_type": "code",
        "colab": {}
      },
      "source": [
        "batch_with_data = batch.load(fmt='wfdb', components=['signal', 'meta'])"
      ],
      "execution_count": 0,
      "outputs": []
    },
    {
      "cell_type": "code",
      "metadata": {
        "id": "Tbm3hOuprz11",
        "colab_type": "code",
        "colab": {}
      },
      "source": [
        "batch_with_data = batch_with_data.load(src='/content/training2017/REFERENCE.csv', fmt='csv', components='target')"
      ],
      "execution_count": 0,
      "outputs": []
    },
    {
      "cell_type": "code",
      "metadata": {
        "id": "YZ7OLaFyk0JK",
        "colab_type": "code",
        "outputId": "84237278-4ef8-4e87-99fb-20bdb6b86d36",
        "colab": {
          "base_uri": "https://localhost:8080/",
          "height": 67
        }
      },
      "source": [
        "print(batch_with_data['A04211'].signal.shape)\n",
        "print(batch_with_data['A04211'].target)\n",
        "print(batch_with_data['A04211'].signal)"
      ],
      "execution_count": 118,
      "outputs": [
        {
          "output_type": "stream",
          "text": [
            "(1, 18000)\n",
            "N\n",
            "[[-0.497 -0.633 -0.775 ... -0.01  -0.028 -0.04 ]]\n"
          ],
          "name": "stdout"
        }
      ]
    },
    {
      "cell_type": "code",
      "metadata": {
        "id": "FXMXfXyhnuJ8",
        "colab_type": "code",
        "outputId": "f7bd7df7-d71e-4a4c-e1a0-afc6142cdb47",
        "colab": {
          "base_uri": "https://localhost:8080/",
          "height": 34
        }
      },
      "source": [
        "import random\n",
        "\n",
        "Augmented = 0\n",
        "dataset = np.zeros((10000, 9001))\n",
        "pointer = 0\n",
        "for ecg in batch_with_data:\n",
        "  \n",
        "  if ecg.target == 'A' or ecg.target == 'O' or ecg.target == 'N': \n",
        "    if ecg.signal.shape[1] == 18000:\n",
        "        \n",
        "        dataset[pointer:pointer+1, :9000] = ecg.signal[:1, :9000]\n",
        "\n",
        "        ### pointer+2 for next slice ###\n",
        "\n",
        "        if ecg.target == 'A':\n",
        "          dataset[pointer:pointer+2, 9000:9001] = 0\n",
        "        elif ecg.target == 'N':\n",
        "          dataset[pointer:pointer+2, 9000:9001] = 1\n",
        "        elif ecg.target == 'O':\n",
        "          dataset[pointer:pointer+2, 9000:9001] = 2\n",
        "        \n",
        "        pointer += 1 \n",
        "          \n",
        "        ###### next slice ######\n",
        "\n",
        "        \n",
        "        dataset[pointer:pointer+1, :9000] = ecg.signal[:1, 9000:18000]\n",
        "        pointer += 1 \n",
        "        \n",
        "        ## target column is already filled ##\n",
        "\n",
        "    elif ecg.signal.shape[1] == 9000:\n",
        "        \n",
        "        dataset[pointer:pointer+1, :9000] = ecg.signal[:1, :9000]\n",
        "\n",
        "\n",
        "        if ecg.target == 'A':\n",
        "          dataset[pointer:pointer+1, 9000:9001] = 0\n",
        "        elif ecg.target == 'N':\n",
        "          dataset[pointer:pointer+1, 9000:9001] = 1\n",
        "        elif ecg.target == 'O':\n",
        "          dataset[pointer:pointer+1, 9000:9001] = 2\n",
        "        \n",
        "        pointer += 1\n",
        "\n",
        "    elif ecg.signal.shape[1] > 9000 and ecg.signal.shape[1] != 18000:\n",
        "      \n",
        "      dataset[pointer:pointer+1, :9000] = ecg.signal[:1, :9000]\n",
        "      \n",
        "\n",
        "      if ecg.target == 'A':\n",
        "        dataset[pointer:pointer+1, 9000:9001] = 0\n",
        "      elif ecg.target == 'N':\n",
        "        dataset[pointer:pointer+1, 9000:9001] = 1\n",
        "      elif ecg.target == 'O':\n",
        "        dataset[pointer:pointer+1, 9000:9001] = 2\n",
        "        \n",
        "        pointer += 1\n",
        "\n",
        "    #### data augmentation ######\n",
        "\n",
        "\n",
        "    if ecg.signal.shape[1] >= 9000:\n",
        "      chance = 0.02\n",
        "      rand_num = random.uniform(0, 1)\n",
        "        \n",
        "      if chance > rand_num :\n",
        "\n",
        "          \n",
        "        noise = np.random.normal(scale=0.01, size=9000)\n",
        "        new_signal = ecg.signal[:1, :9000] + noise  \n",
        "        dataset[pointer:pointer+1, :9000] = new_signal\n",
        "\n",
        "\n",
        "\n",
        "        if ecg.target == 'A':\n",
        "          dataset[pointer:pointer+1, 9000:9001] = 0\n",
        "        elif ecg.target == 'N':\n",
        "          dataset[pointer:pointer+1, 9000:9001] = 1\n",
        "        elif ecg.target == 'O':\n",
        "          dataset[pointer:pointer+1, 9000:9001] = 2\n",
        "        \n",
        "        pointer += 1\n",
        "        Augmented += 1\n",
        "\n",
        "    ################################\n",
        "\n",
        "    else: \n",
        "      pass\n",
        "\n",
        "  else:\n",
        "    pass\n",
        "\n",
        "\n",
        "\n",
        "print(Augmented)"
      ],
      "execution_count": 119,
      "outputs": [
        {
          "output_type": "stream",
          "text": [
            "156\n"
          ],
          "name": "stdout"
        }
      ]
    },
    {
      "cell_type": "code",
      "metadata": {
        "id": "ARyZgDd-B5B5",
        "colab_type": "code",
        "outputId": "f446a583-3d85-4165-9c98-739c0c2f80c5",
        "colab": {
          "base_uri": "https://localhost:8080/",
          "height": 50
        }
      },
      "source": [
        "dataset[7872:7874, :]"
      ],
      "execution_count": 125,
      "outputs": [
        {
          "output_type": "execute_result",
          "data": {
            "text/plain": [
              "array([[-0.237, -0.286, -0.338, ..., -0.017, -0.018,  1.   ],\n",
              "       [ 0.   ,  0.   ,  0.   , ...,  0.   ,  0.   ,  0.   ]])"
            ]
          },
          "metadata": {
            "tags": []
          },
          "execution_count": 125
        }
      ]
    },
    {
      "cell_type": "code",
      "metadata": {
        "id": "tZohjEhKye4s",
        "colab_type": "code",
        "colab": {}
      },
      "source": [
        "\n",
        "trainset = np.zeros((7872, 9001))\n",
        "trainset = dataset[:7872, :]\n",
        "\n",
        "# some of the signals are skipped because of different dimentions"
      ],
      "execution_count": 0,
      "outputs": []
    },
    {
      "cell_type": "code",
      "metadata": {
        "id": "LhehEw6Z7Wnd",
        "colab_type": "code",
        "outputId": "afeb5c4e-3bc9-47a7-d8df-ba8c84dbe7a6",
        "colab": {
          "base_uri": "https://localhost:8080/",
          "height": 298
        }
      },
      "source": [
        "import matplotlib.pyplot as plt\n",
        "\n",
        "# signal in trainset \n",
        "x = trainset[7000:7001, :-1]\n",
        "target = trainset[7000:7001, -1:] \n",
        "plt.plot(x[0])\n",
        "plt.show\n",
        "print(x)\n",
        "print(target)"
      ],
      "execution_count": 92,
      "outputs": [
        {
          "output_type": "stream",
          "text": [
            "[[-0.085 -0.099 -0.108 ... -0.121 -0.118 -0.113]]\n",
            "[[2.]]\n"
          ],
          "name": "stdout"
        },
        {
          "output_type": "display_data",
          "data": {
            "image/png": "[encoded data removed]",
            "text/plain": [
              "<Figure size 432x288 with 1 Axes>"
            ]
          },
          "metadata": {
            "tags": [],
            "needs_background": "light"
          }
        }
      ]
    },
    {
      "cell_type": "code",
      "metadata": {
        "id": "hFGvEmxT_KlZ",
        "colab_type": "code",
        "colab": {}
      },
      "source": [
        "temp = trainset[:, :]\n",
        "temp = np.take(temp,np.random.permutation(temp.shape[0]),axis=0,out=temp);\n",
        "X = temp[:, :-1]\n",
        "Y = temp[:, -1:].reshape(7872, )"
      ],
      "execution_count": 0,
      "outputs": []
    },
    {
      "cell_type": "code",
      "metadata": {
        "id": "E6Mr_ZSr7kdc",
        "colab_type": "code",
        "colab": {}
      },
      "source": [
        "from sklearn.model_selection import train_test_split\n",
        "\n",
        "X_train, X_test, y_train, y_test = train_test_split(X, Y, test_size=0.20)\n"
      ],
      "execution_count": 0,
      "outputs": []
    },
    {
      "cell_type": "code",
      "metadata": {
        "id": "GIgAyY2mLwPf",
        "colab_type": "code",
        "outputId": "c7e66c90-d192-4e0f-c6d0-00b69e9c8a37",
        "colab": {
          "base_uri": "https://localhost:8080/",
          "height": 50
        }
      },
      "source": [
        "########  teeeeest ########## \n",
        "for index,row in enumerate(X_train):\n",
        "\n",
        "  if row[0] == -0.497:\n",
        "    print(row)\n",
        "    print(y_train[index])\n",
        "\n",
        "\n",
        "#############################"
      ],
      "execution_count": 103,
      "outputs": [
        {
          "output_type": "stream",
          "text": [
            "[-0.497 -0.633 -0.775 ... -0.016 -0.014 -0.011]\n",
            "2.0\n"
          ],
          "name": "stdout"
        }
      ]
    },
    {
      "cell_type": "code",
      "metadata": {
        "id": "4b5Qe4IsIdaF",
        "colab_type": "code",
        "outputId": "f6760f74-7035-41a1-8d59-f2b5144d0d7b",
        "colab": {
          "base_uri": "https://localhost:8080/",
          "height": 84
        }
      },
      "source": [
        "print(\"X_train\", X_train.shape)\n",
        "print(\"y_train\", y_train.shape)\n",
        "print(\"X_test\", X_test.shape)\n",
        "print(\"y_test\", y_test.shape)"
      ],
      "execution_count": 129,
      "outputs": [
        {
          "output_type": "stream",
          "text": [
            "X_train (6297, 9000)\n",
            "y_train (6297,)\n",
            "X_test (1575, 9000)\n",
            "y_test (1575,)\n"
          ],
          "name": "stdout"
        }
      ]
    },
    {
      "cell_type": "code",
      "metadata": {
        "id": "7jba7CmZKkGI",
        "colab_type": "code",
        "colab": {}
      },
      "source": [
        "X_train = np.array(X_train.reshape(6297, 9000, 1))\n",
        "X_test = np.array(X_test.reshape(1575, 9000, 1))\n",
        "y_train = np.array(y_train)\n",
        "y_test = np.array(y_test)"
      ],
      "execution_count": 0,
      "outputs": []
    },
    {
      "cell_type": "code",
      "metadata": {
        "id": "JG-cNIHDAFfZ",
        "colab_type": "code",
        "outputId": "9c8d0ba7-7c2c-4138-b65d-835f8efa8cdd",
        "colab": {
          "base_uri": "https://localhost:8080/",
          "height": 84
        }
      },
      "source": [
        "print(\"X_train\", X_train.shape)\n",
        "print(\"y_train\", y_train.shape)\n",
        "print(\"X_test\", X_test.shape)\n",
        "print(\"y_test\", y_test.shape)"
      ],
      "execution_count": 131,
      "outputs": [
        {
          "output_type": "stream",
          "text": [
            "X_train (6297, 9000, 1)\n",
            "y_train (6297,)\n",
            "X_test (1575, 9000, 1)\n",
            "y_test (1575,)\n"
          ],
          "name": "stdout"
        }
      ]
    },
    {
      "cell_type": "code",
      "metadata": {
        "id": "zTm81vrLBpbv",
        "colab_type": "code",
        "colab": {}
      },
      "source": [
        "from sklearn.preprocessing import OneHotEncoder\n",
        "\n",
        "ohe = OneHotEncoder()\n",
        "y_train = ohe.fit_transform(y_train.reshape(-1,1))\n",
        "y_test = ohe.transform(y_test.reshape(-1,1))"
      ],
      "execution_count": 0,
      "outputs": []
    },
    {
      "cell_type": "code",
      "metadata": {
        "id": "Jq_BIRZBCCLn",
        "colab_type": "code",
        "outputId": "a47d24a6-42b1-473b-cfba-76f20ee66560",
        "colab": {
          "base_uri": "https://localhost:8080/",
          "height": 84
        }
      },
      "source": [
        "print(\"X_train\", X_train.shape)\n",
        "print(\"y_train\", y_train.shape)\n",
        "print(\"X_test\", X_test.shape)\n",
        "print(\"y_test\", y_test.shape)"
      ],
      "execution_count": 133,
      "outputs": [
        {
          "output_type": "stream",
          "text": [
            "X_train (6297, 9000, 1)\n",
            "y_train (6297, 3)\n",
            "X_test (1575, 9000, 1)\n",
            "y_test (1575, 3)\n"
          ],
          "name": "stdout"
        }
      ]
    },
    {
      "cell_type": "code",
      "metadata": {
        "id": "zhvO7xmOgczd",
        "colab_type": "code",
        "colab": {}
      },
      "source": [
        "from scipy.sparse import csr_matrix\n",
        "y_train = csr_matrix.toarray(y_train)\n",
        "y_test = csr_matrix.toarray(y_test)"
      ],
      "execution_count": 0,
      "outputs": []
    },
    {
      "cell_type": "code",
      "metadata": {
        "id": "htcsc7xKD6qw",
        "colab_type": "code",
        "colab": {}
      },
      "source": [
        "from tensorflow.keras.layers import Input, Conv1D, BatchNormalization, Activation, Add, MaxPooling1D, Flatten, Dense, Softmax, LeakyReLU, Dropout\n",
        "from tensorflow.keras.models import Model\n",
        "from tensorflow.keras.optimizers import Adam"
      ],
      "execution_count": 0,
      "outputs": []
    },
    {
      "cell_type": "code",
      "metadata": {
        "id": "a1pW4cb4CQ7U",
        "colab_type": "code",
        "outputId": "c7eea48b-e335-46d0-bfd3-1b7080d25ef1",
        "colab": {
          "base_uri": "https://localhost:8080/",
          "height": 1000
        }
      },
      "source": [
        "m, feature, depth = X_train.shape\n",
        "\n",
        "X_input = Input(shape=(feature, depth))\n",
        "Conv = Conv1D(filters=16, kernel_size=5, strides=2)(X_input)\n",
        "\n",
        "\n",
        "### step 1 \n",
        "\n",
        "Conv1_1 = Conv1D(filters=32, kernel_size=9, strides=1, padding='same')(Conv)\n",
        "Bn1_1 = BatchNormalization()(Conv1_1)\n",
        "Act1_1 = LeakyReLU()(Bn1_1)\n",
        "Conv1_2 = Conv1D(filters=32, kernel_size=7, strides=1, padding='same')(Act1_1)\n",
        "Bn1_2 = BatchNormalization()(Conv1_2)\n",
        "Act1_2 = LeakyReLU()(Bn1_2)\n",
        "DO1_1 = Dropout(0.2)(Act1_2)\n",
        "Conv1_3 = Conv1D(filters=16, kernel_size=9, strides=1, padding='same')(DO1_1)\n",
        "Bn1_3 = BatchNormalization()(Conv1_3)\n",
        "shortcut1_1 = Add()([Bn1_3, Conv])\n",
        "Bn1_4 = BatchNormalization()(shortcut1_1)\n",
        "Act1_3 = LeakyReLU()(Bn1_4)\n",
        "##### auxiliary\n",
        "Conv1_4 = Conv1D(filters=32, kernel_size=7, strides=1, padding='same')(Act1_3)\n",
        "Bn1_4 = BatchNormalization()(Conv1_4)\n",
        "Act1_4 = LeakyReLU()(Bn1_4)\n",
        "###############\n",
        "Max1_1 = MaxPooling1D(pool_size=5, strides=2)(Act1_4)\n",
        "\n",
        "\n",
        "## step 2\n",
        "\n",
        "Conv2_1 = Conv1D(filters=16, kernel_size=3, strides=1, padding='same')(Max1_1)\n",
        "Bn2_1 = BatchNormalization()(Conv2_1)\n",
        "Act2_1 = LeakyReLU()(Bn2_1)\n",
        "Conv2_2 = Conv1D(filters=32, kernel_size=5, strides=1, padding='same')(Act2_1)\n",
        "Bn2_2 = BatchNormalization()(Conv2_2)\n",
        "Act2_2 = LeakyReLU()(Bn2_2)\n",
        "DO2_1 = Dropout(0.2)(Act2_2)\n",
        "Conv2_3 = Conv1D(filters=32, kernel_size=3, strides=1, padding='same')(DO2_1)\n",
        "Bn2_3 = BatchNormalization()(Conv2_3)\n",
        "shortcut2_1 = Add()([Bn2_3, Max1_1])\n",
        "Bn2_4 = BatchNormalization()(shortcut2_1)\n",
        "Act2_3 = LeakyReLU()(Bn2_4)\n",
        "##### auxiliary\n",
        "Conv2_4 = Conv1D(filters=64, kernel_size=7, strides=1, padding='same')(Act2_3)\n",
        "Bn2_4 = BatchNormalization()(Conv2_4)\n",
        "Act2_4 = LeakyReLU()(Bn2_4)\n",
        "###############\n",
        "Max2_1 = MaxPooling1D(pool_size=5, strides=3)(Act2_4)\n",
        "\n",
        "\n",
        "## step 3\n",
        "\n",
        "Conv3_1 = Conv1D(filters=32, kernel_size=16, strides=1, padding='same')(Max2_1)\n",
        "Bn3_1 = BatchNormalization()(Conv3_1)\n",
        "Act3_1 = LeakyReLU()(Bn3_1)\n",
        "Conv3_2 = Conv1D(filters=64, kernel_size=32, strides=1, padding='same')(Act3_1)\n",
        "Bn3_2 = BatchNormalization()(Conv3_2)\n",
        "Act3_2 = LeakyReLU()(Bn3_2)\n",
        "Conv3_3 = Conv1D(filters=64, kernel_size=16, strides=1, padding='same')(Act3_2)\n",
        "Bn3_3 = BatchNormalization()(Conv3_3)\n",
        "shortcut3_1 = Add()([Bn3_3, Max2_1])\n",
        "Bn3_4 = BatchNormalization()(shortcut3_1)\n",
        "Act3_3 = LeakyReLU()(Bn3_4)\n",
        "##### auxiliary\n",
        "Conv3_4 = Conv1D(filters=128, kernel_size=7, strides=1, padding='same')(Act3_3)\n",
        "Bn3_4 = BatchNormalization()(Conv3_4)\n",
        "Act3_4 = LeakyReLU()(Bn3_4)\n",
        "###############\n",
        "Max3_1 = MaxPooling1D(pool_size=5, strides=2)(Act3_4)\n",
        "\n",
        "\n",
        "## step 4\n",
        "\n",
        "Conv4_1 = Conv1D(filters=64, kernel_size=64, strides=1, padding='same')(Max3_1)\n",
        "Bn4_1 = BatchNormalization()(Conv4_1)\n",
        "Act4_1 = LeakyReLU()(Bn4_1)\n",
        "Conv4_2 = Conv1D(filters=64, kernel_size=128, strides=1, padding='same')(Act4_1)\n",
        "Bn4_2 = BatchNormalization()(Conv4_2)\n",
        "Act4_2 = LeakyReLU()(Bn4_2)\n",
        "DO4_1 = Dropout(0.2)(Act4_2)\n",
        "Conv4_3 = Conv1D(filters=128, kernel_size=64, strides=1, padding='same')(DO4_1)\n",
        "Bn4_3 = BatchNormalization()(Conv4_3)\n",
        "shortcut4_1 = Add()([Bn4_3, Max3_1])\n",
        "Bn4_4 = BatchNormalization()(shortcut4_1)\n",
        "Act4_3 = LeakyReLU()(Bn4_4)\n",
        "##### auxiliary\n",
        "Conv4_4 = Conv1D(filters=256, kernel_size=7, strides=1, padding='same')(Act4_3)\n",
        "Bn4_4 = BatchNormalization()(Conv4_4)\n",
        "Act4_4 = LeakyReLU()(Bn4_4)\n",
        "###############\n",
        "Max4_1 = MaxPooling1D(pool_size=5, strides=3)(Act4_4)\n",
        "\n",
        "\n",
        "\n",
        "\n",
        "Flat1 = Flatten()(Max4_1)\n",
        "\n",
        "D1 = Dense(256)(Flat1)\n",
        "A6 = LeakyReLU()(D1)\n",
        "D_O = Dropout(0.15)(A6)\n",
        "D2 = Dense(128)(D_O)\n",
        "D3 = Dense(3)(D2)\n",
        "A7 = Softmax()(D3)\n",
        "\n",
        "model = Model(inputs=X_input, outputs=A7)\n",
        "\n",
        "model.summary()\n",
        "\n"
      ],
      "execution_count": 136,
      "outputs": [
        {
          "output_type": "stream",
          "text": [
            "Model: \"model_3\"\n",
            "__________________________________________________________________________________________________\n",
            "Layer (type)                    Output Shape         Param #     Connected to                     \n",
            "==================================================================================================\n",
            "input_4 (InputLayer)            [(None, 9000, 1)]    0                                            \n",
            "__________________________________________________________________________________________________\n",
            "conv1d_51 (Conv1D)              (None, 4498, 16)     96          input_4[0][0]                    \n",
            "__________________________________________________________________________________________________\n",
            "conv1d_52 (Conv1D)              (None, 4498, 32)     4640        conv1d_51[0][0]                  \n",
            "__________________________________________________________________________________________________\n",
            "batch_normalization_60 (BatchNo (None, 4498, 32)     128         conv1d_52[0][0]                  \n",
            "__________________________________________________________________________________________________\n",
            "leaky_re_lu_51 (LeakyReLU)      (None, 4498, 32)     0           batch_normalization_60[0][0]     \n",
            "__________________________________________________________________________________________________\n",
            "conv1d_53 (Conv1D)              (None, 4498, 32)     7200        leaky_re_lu_51[0][0]             \n",
            "__________________________________________________________________________________________________\n",
            "batch_normalization_61 (BatchNo (None, 4498, 32)     128         conv1d_53[0][0]                  \n",
            "__________________________________________________________________________________________________\n",
            "leaky_re_lu_52 (LeakyReLU)      (None, 4498, 32)     0           batch_normalization_61[0][0]     \n",
            "__________________________________________________________________________________________________\n",
            "dropout_12 (Dropout)            (None, 4498, 32)     0           leaky_re_lu_52[0][0]             \n",
            "__________________________________________________________________________________________________\n",
            "conv1d_54 (Conv1D)              (None, 4498, 16)     4624        dropout_12[0][0]                 \n",
            "__________________________________________________________________________________________________\n",
            "batch_normalization_62 (BatchNo (None, 4498, 16)     64          conv1d_54[0][0]                  \n",
            "__________________________________________________________________________________________________\n",
            "add_12 (Add)                    (None, 4498, 16)     0           batch_normalization_62[0][0]     \n",
            "                                                                 conv1d_51[0][0]                  \n",
            "__________________________________________________________________________________________________\n",
            "batch_normalization_63 (BatchNo (None, 4498, 16)     64          add_12[0][0]                     \n",
            "__________________________________________________________________________________________________\n",
            "leaky_re_lu_53 (LeakyReLU)      (None, 4498, 16)     0           batch_normalization_63[0][0]     \n",
            "__________________________________________________________________________________________________\n",
            "conv1d_55 (Conv1D)              (None, 4498, 32)     3616        leaky_re_lu_53[0][0]             \n",
            "__________________________________________________________________________________________________\n",
            "batch_normalization_64 (BatchNo (None, 4498, 32)     128         conv1d_55[0][0]                  \n",
            "__________________________________________________________________________________________________\n",
            "leaky_re_lu_54 (LeakyReLU)      (None, 4498, 32)     0           batch_normalization_64[0][0]     \n",
            "__________________________________________________________________________________________________\n",
            "max_pooling1d_12 (MaxPooling1D) (None, 2247, 32)     0           leaky_re_lu_54[0][0]             \n",
            "__________________________________________________________________________________________________\n",
            "conv1d_56 (Conv1D)              (None, 2247, 16)     1552        max_pooling1d_12[0][0]           \n",
            "__________________________________________________________________________________________________\n",
            "batch_normalization_65 (BatchNo (None, 2247, 16)     64          conv1d_56[0][0]                  \n",
            "__________________________________________________________________________________________________\n",
            "leaky_re_lu_55 (LeakyReLU)      (None, 2247, 16)     0           batch_normalization_65[0][0]     \n",
            "__________________________________________________________________________________________________\n",
            "conv1d_57 (Conv1D)              (None, 2247, 32)     2592        leaky_re_lu_55[0][0]             \n",
            "__________________________________________________________________________________________________\n",
            "batch_normalization_66 (BatchNo (None, 2247, 32)     128         conv1d_57[0][0]                  \n",
            "__________________________________________________________________________________________________\n",
            "leaky_re_lu_56 (LeakyReLU)      (None, 2247, 32)     0           batch_normalization_66[0][0]     \n",
            "__________________________________________________________________________________________________\n",
            "dropout_13 (Dropout)            (None, 2247, 32)     0           leaky_re_lu_56[0][0]             \n",
            "__________________________________________________________________________________________________\n",
            "conv1d_58 (Conv1D)              (None, 2247, 32)     3104        dropout_13[0][0]                 \n",
            "__________________________________________________________________________________________________\n",
            "batch_normalization_67 (BatchNo (None, 2247, 32)     128         conv1d_58[0][0]                  \n",
            "__________________________________________________________________________________________________\n",
            "add_13 (Add)                    (None, 2247, 32)     0           batch_normalization_67[0][0]     \n",
            "                                                                 max_pooling1d_12[0][0]           \n",
            "__________________________________________________________________________________________________\n",
            "batch_normalization_68 (BatchNo (None, 2247, 32)     128         add_13[0][0]                     \n",
            "__________________________________________________________________________________________________\n",
            "leaky_re_lu_57 (LeakyReLU)      (None, 2247, 32)     0           batch_normalization_68[0][0]     \n",
            "__________________________________________________________________________________________________\n",
            "conv1d_59 (Conv1D)              (None, 2247, 64)     14400       leaky_re_lu_57[0][0]             \n",
            "__________________________________________________________________________________________________\n",
            "batch_normalization_69 (BatchNo (None, 2247, 64)     256         conv1d_59[0][0]                  \n",
            "__________________________________________________________________________________________________\n",
            "leaky_re_lu_58 (LeakyReLU)      (None, 2247, 64)     0           batch_normalization_69[0][0]     \n",
            "__________________________________________________________________________________________________\n",
            "max_pooling1d_13 (MaxPooling1D) (None, 748, 64)      0           leaky_re_lu_58[0][0]             \n",
            "__________________________________________________________________________________________________\n",
            "conv1d_60 (Conv1D)              (None, 748, 32)      32800       max_pooling1d_13[0][0]           \n",
            "__________________________________________________________________________________________________\n",
            "batch_normalization_70 (BatchNo (None, 748, 32)      128         conv1d_60[0][0]                  \n",
            "__________________________________________________________________________________________________\n",
            "leaky_re_lu_59 (LeakyReLU)      (None, 748, 32)      0           batch_normalization_70[0][0]     \n",
            "__________________________________________________________________________________________________\n",
            "conv1d_61 (Conv1D)              (None, 748, 64)      65600       leaky_re_lu_59[0][0]             \n",
            "__________________________________________________________________________________________________\n",
            "batch_normalization_71 (BatchNo (None, 748, 64)      256         conv1d_61[0][0]                  \n",
            "__________________________________________________________________________________________________\n",
            "leaky_re_lu_60 (LeakyReLU)      (None, 748, 64)      0           batch_normalization_71[0][0]     \n",
            "__________________________________________________________________________________________________\n",
            "conv1d_62 (Conv1D)              (None, 748, 64)      65600       leaky_re_lu_60[0][0]             \n",
            "__________________________________________________________________________________________________\n",
            "batch_normalization_72 (BatchNo (None, 748, 64)      256         conv1d_62[0][0]                  \n",
            "__________________________________________________________________________________________________\n",
            "add_14 (Add)                    (None, 748, 64)      0           batch_normalization_72[0][0]     \n",
            "                                                                 max_pooling1d_13[0][0]           \n",
            "__________________________________________________________________________________________________\n",
            "batch_normalization_73 (BatchNo (None, 748, 64)      256         add_14[0][0]                     \n",
            "__________________________________________________________________________________________________\n",
            "leaky_re_lu_61 (LeakyReLU)      (None, 748, 64)      0           batch_normalization_73[0][0]     \n",
            "__________________________________________________________________________________________________\n",
            "conv1d_63 (Conv1D)              (None, 748, 128)     57472       leaky_re_lu_61[0][0]             \n",
            "__________________________________________________________________________________________________\n",
            "batch_normalization_74 (BatchNo (None, 748, 128)     512         conv1d_63[0][0]                  \n",
            "__________________________________________________________________________________________________\n",
            "leaky_re_lu_62 (LeakyReLU)      (None, 748, 128)     0           batch_normalization_74[0][0]     \n",
            "__________________________________________________________________________________________________\n",
            "max_pooling1d_14 (MaxPooling1D) (None, 372, 128)     0           leaky_re_lu_62[0][0]             \n",
            "__________________________________________________________________________________________________\n",
            "conv1d_64 (Conv1D)              (None, 372, 64)      524352      max_pooling1d_14[0][0]           \n",
            "__________________________________________________________________________________________________\n",
            "batch_normalization_75 (BatchNo (None, 372, 64)      256         conv1d_64[0][0]                  \n",
            "__________________________________________________________________________________________________\n",
            "leaky_re_lu_63 (LeakyReLU)      (None, 372, 64)      0           batch_normalization_75[0][0]     \n",
            "__________________________________________________________________________________________________\n",
            "conv1d_65 (Conv1D)              (None, 372, 64)      524352      leaky_re_lu_63[0][0]             \n",
            "__________________________________________________________________________________________________\n",
            "batch_normalization_76 (BatchNo (None, 372, 64)      256         conv1d_65[0][0]                  \n",
            "__________________________________________________________________________________________________\n",
            "leaky_re_lu_64 (LeakyReLU)      (None, 372, 64)      0           batch_normalization_76[0][0]     \n",
            "__________________________________________________________________________________________________\n",
            "dropout_14 (Dropout)            (None, 372, 64)      0           leaky_re_lu_64[0][0]             \n",
            "__________________________________________________________________________________________________\n",
            "conv1d_66 (Conv1D)              (None, 372, 128)     524416      dropout_14[0][0]                 \n",
            "__________________________________________________________________________________________________\n",
            "batch_normalization_77 (BatchNo (None, 372, 128)     512         conv1d_66[0][0]                  \n",
            "__________________________________________________________________________________________________\n",
            "add_15 (Add)                    (None, 372, 128)     0           batch_normalization_77[0][0]     \n",
            "                                                                 max_pooling1d_14[0][0]           \n",
            "__________________________________________________________________________________________________\n",
            "batch_normalization_78 (BatchNo (None, 372, 128)     512         add_15[0][0]                     \n",
            "__________________________________________________________________________________________________\n",
            "leaky_re_lu_65 (LeakyReLU)      (None, 372, 128)     0           batch_normalization_78[0][0]     \n",
            "__________________________________________________________________________________________________\n",
            "conv1d_67 (Conv1D)              (None, 372, 256)     229632      leaky_re_lu_65[0][0]             \n",
            "__________________________________________________________________________________________________\n",
            "batch_normalization_79 (BatchNo (None, 372, 256)     1024        conv1d_67[0][0]                  \n",
            "__________________________________________________________________________________________________\n",
            "leaky_re_lu_66 (LeakyReLU)      (None, 372, 256)     0           batch_normalization_79[0][0]     \n",
            "__________________________________________________________________________________________________\n",
            "max_pooling1d_15 (MaxPooling1D) (None, 123, 256)     0           leaky_re_lu_66[0][0]             \n",
            "__________________________________________________________________________________________________\n",
            "flatten_3 (Flatten)             (None, 31488)        0           max_pooling1d_15[0][0]           \n",
            "__________________________________________________________________________________________________\n",
            "dense_9 (Dense)                 (None, 256)          8061184     flatten_3[0][0]                  \n",
            "__________________________________________________________________________________________________\n",
            "leaky_re_lu_67 (LeakyReLU)      (None, 256)          0           dense_9[0][0]                    \n",
            "__________________________________________________________________________________________________\n",
            "dropout_15 (Dropout)            (None, 256)          0           leaky_re_lu_67[0][0]             \n",
            "__________________________________________________________________________________________________\n",
            "dense_10 (Dense)                (None, 128)          32896       dropout_15[0][0]                 \n",
            "__________________________________________________________________________________________________\n",
            "dense_11 (Dense)                (None, 3)            387         dense_10[0][0]                   \n",
            "__________________________________________________________________________________________________\n",
            "softmax_3 (Softmax)             (None, 3)            0           dense_11[0][0]                   \n",
            "==================================================================================================\n",
            "Total params: 10,165,699\n",
            "Trainable params: 10,163,107\n",
            "Non-trainable params: 2,592\n",
            "__________________________________________________________________________________________________\n"
          ],
          "name": "stdout"
        }
      ]
    },
    {
      "cell_type": "code",
      "metadata": {
        "id": "Xeq3PoZwKMwc",
        "colab_type": "code",
        "colab": {}
      },
      "source": [
        "# Compile Model\n",
        "model.compile(loss=\"categorical_crossentropy\", optimizer='adam', metrics=['accuracy'])"
      ],
      "execution_count": 0,
      "outputs": []
    },
    {
      "cell_type": "code",
      "metadata": {
        "id": "MNlDavTkO7Sy",
        "colab_type": "code",
        "outputId": "5973d226-32ce-43e6-cf27-7544659c2823",
        "colab": {
          "base_uri": "https://localhost:8080/",
          "height": 185
        }
      },
      "source": [
        "# Train Model\n",
        "es_callback = keras.callbacks.EarlyStopping(monitor='val_loss', patience=3)\n",
        "\n",
        "\n",
        "\n",
        "history = model.fit(X_train, y_train, epochs=5, batch_size=64, validation_data=(X_test, y_test), callbacks=[es_callback])"
      ],
      "execution_count": 141,
      "outputs": [
        {
          "output_type": "stream",
          "text": [
            "Epoch 1/5\n",
            "99/99 [==============================] - 1201s 12s/step - loss: 0.4800 - accuracy: 0.8021 - val_loss: 0.5092 - val_accuracy: 0.7975\n",
            "Epoch 2/5\n",
            "99/99 [==============================] - 1202s 12s/step - loss: 0.4521 - accuracy: 0.8209 - val_loss: 0.4884 - val_accuracy: 0.8146\n",
            "Epoch 3/5\n",
            "99/99 [==============================] - 1206s 12s/step - loss: 0.4230 - accuracy: 0.8264 - val_loss: 0.5245 - val_accuracy: 0.7968\n",
            "Epoch 4/5\n",
            "99/99 [==============================] - 1240s 13s/step - loss: 0.4176 - accuracy: 0.8355 - val_loss: 0.5144 - val_accuracy: 0.8171\n",
            "Epoch 5/5\n",
            "99/99 [==============================] - 1204s 12s/step - loss: 0.4246 - accuracy: 0.8293 - val_loss: 0.5556 - val_accuracy: 0.7956\n"
          ],
          "name": "stdout"
        }
      ]
    },
    {
      "cell_type": "code",
      "metadata": {
        "id": "VjzaZzVtQZ7c",
        "colab_type": "code",
        "colab": {
          "base_uri": "https://localhost:8080/",
          "height": 50
        },
        "outputId": "b37fee63-1694-40a5-8d3b-6f26ca1c8a45"
      },
      "source": [
        "scores = model.evaluate(X_test, y_test, verbose=0)\n",
        "print(\"%s: %.2f%%\" % (model.metrics_names[1], scores[1]*100))\n",
        "# save model and architecture to single file\n",
        "model.save('/content/drive/My Drive/Cardio/AF_Classification.h5')\n",
        "print(\"Saved model to disk\")"
      ],
      "execution_count": 144,
      "outputs": [
        {
          "output_type": "stream",
          "text": [
            "accuracy: 79.56%\n",
            "Saved model to disk\n"
          ],
          "name": "stdout"
        }
      ]
    }
  ]
}