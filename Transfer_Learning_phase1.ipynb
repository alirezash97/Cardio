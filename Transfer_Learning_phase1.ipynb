{
  "nbformat": 4,
  "nbformat_minor": 0,
  "metadata": {
    "colab": {
      "name": "Transfer_Learning_phase1.ipynb",
      "provenance": [],
      "mount_file_id": "1uQEs__YtD7fEzl-2Zi2vyx6PNWhSOwKp",
      "authorship_tag": "ABX9TyMbEqjV/mSE3lOHtYL+1K1X",
      "include_colab_link": true
    },
    "kernelspec": {
      "name": "python3",
      "display_name": "Python 3"
    }
  },
  "cells": [
    {
      "cell_type": "markdown",
      "metadata": {
        "id": "view-in-github",
        "colab_type": "text"
      },
      "source": [
        "<a href=\"https://colab.research.google.com/github/alirezash97/Cardio/blob/master/Transfer_Learning_phase1.ipynb\" target=\"_parent\"><img src=\"https://colab.research.google.com/assets/colab-badge.svg\" alt=\"Open In Colab\"/></a>"
      ]
    },
    {
      "cell_type": "code",
      "metadata": {
        "id": "sSBIApmRcABb",
        "colab_type": "code",
        "colab": {}
      },
      "source": [
        "import pandas as pd \n",
        "\n",
        "X_temp_train = pd.read_csv('/content/drive/My Drive/Cardio/X_train.csv', nrows=1000, engine='python')\n",
        "# X_temp_test = pd.read_csv('/content/drive/My Drive/Cardio/X_test.csv', nrows=3000)\n",
        "# Y_temp_train = pd.read_csv('/content/drive/My Drive/Cardio/Y_train.csv', nrows=20000)\n",
        "# Y_temp_test = pd.read_csv('/content/drive/My Drive/Cardio/Y_test.csv', nrows=3000)"
      ],
      "execution_count": 0,
      "outputs": []
    },
    {
      "cell_type": "code",
      "metadata": {
        "id": "X_zeTWNDhDsf",
        "colab_type": "code",
        "colab": {}
      },
      "source": [
        "X_train = X_temp_train.values\n",
        "# X_test = X_temp_test.values\n",
        "# Y_train = Y_temp_train.values\n",
        "# Y_test = Y_temp_test.values"
      ],
      "execution_count": 0,
      "outputs": []
    },
    {
      "cell_type": "code",
      "metadata": {
        "id": "FoS3kNvfhMn6",
        "colab_type": "code",
        "colab": {
          "base_uri": "https://localhost:8080/",
          "height": 34
        },
        "outputId": "7dd7ae05-0cbd-41f3-edb4-b022a2747f2a"
      },
      "source": [
        "print(\"X_train : \", X_train.shape)\n",
        "# print(\"X_test : \", X_test.shape)\n",
        "# print(\"Y_train : \", Y_train.shape)\n",
        "# print(\"Y_test : \", Y_test.shape)"
      ],
      "execution_count": 43,
      "outputs": [
        {
          "output_type": "stream",
          "text": [
            "X_train :  (1000, 9001)\n"
          ],
          "name": "stdout"
        }
      ]
    },
    {
      "cell_type": "code",
      "metadata": {
        "id": "jeY_7_WRjfBc",
        "colab_type": "code",
        "colab": {}
      },
      "source": [
        "X_train = X_train[:, 1:]\n",
        "X_test = X_test[:, 1:]\n",
        "Y_train = Y_train[:, 1:]\n",
        "Y_test = Y_test[:, 1:]"
      ],
      "execution_count": 0,
      "outputs": []
    },
    {
      "cell_type": "code",
      "metadata": {
        "id": "2IUJQ_d7klDI",
        "colab_type": "code",
        "colab": {
          "base_uri": "https://localhost:8080/",
          "height": 84
        },
        "outputId": "91fffb98-7717-4fca-d68c-32acc3915bca"
      },
      "source": [
        "print(\"X_train : \", X_train.shape)\n",
        "print(\"X_test : \", X_test.shape)\n",
        "print(\"Y_train : \", Y_train.shape)\n",
        "print(\"Y_test : \", Y_test.shape)"
      ],
      "execution_count": 27,
      "outputs": [
        {
          "output_type": "stream",
          "text": [
            "X_train :  (2000, 9000)\n",
            "X_test :  (400, 9000)\n",
            "Y_train :  (2000, 5)\n",
            "Y_test :  (400, 5)\n"
          ],
          "name": "stdout"
        }
      ]
    },
    {
      "cell_type": "code",
      "metadata": {
        "id": "s6S4Ars3kqPE",
        "colab_type": "code",
        "colab": {
          "base_uri": "https://localhost:8080/",
          "height": 282
        },
        "outputId": "78e0be33-c74b-41d0-f81f-95631011584c"
      },
      "source": [
        "import matplotlib.pyplot as plt\n",
        "\n",
        "plt.plot(X_train[1902, :])\n",
        "plt.show\n",
        "print(Y_train[1902, :])\n"
      ],
      "execution_count": 37,
      "outputs": [
        {
          "output_type": "stream",
          "text": [
            "[1. 0. 0. 0. 0.]\n"
          ],
          "name": "stdout"
        },
        {
          "output_type": "display_data",
          "data": {
            "image/png": "[encoded data removed]",
            "text/plain": [
              "<Figure size 432x288 with 1 Axes>"
            ]
          },
          "metadata": {
            "tags": [],
            "needs_background": "light"
          }
        }
      ]
    },
    {
      "cell_type": "code",
      "metadata": {
        "id": "VGt_5Qfdk6cc",
        "colab_type": "code",
        "colab": {}
      },
      "source": [
        ""
      ],
      "execution_count": 0,
      "outputs": []
    }
  ]
}