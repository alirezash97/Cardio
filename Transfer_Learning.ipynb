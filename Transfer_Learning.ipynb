{
  "nbformat": 4,
  "nbformat_minor": 0,
  "metadata": {
    "colab": {
      "name": "phase_2.ipynb",
      "provenance": [],
      "mount_file_id": "https://github.com/alirezash97/Cardio/blob/master/phase_2.ipynb",
      "authorship_tag": "ABX9TyMeXLaEBq4pAh+A633+iN1N",
      "include_colab_link": true
    },
    "kernelspec": {
      "name": "python3",
      "display_name": "Python 3"
    }
  },
  "cells": [
    {
      "cell_type": "markdown",
      "metadata": {
        "id": "view-in-github",
        "colab_type": "text"
      },
      "source": [
        "<a href=\"https://colab.research.google.com/github/alirezash97/Cardio/blob/master/Transfer_Learning.ipynb\" target=\"_parent\"><img src=\"https://colab.research.google.com/assets/colab-badge.svg\" alt=\"Open In Colab\"/></a>"
      ]
    },
    {
      "cell_type": "code",
      "metadata": {
        "id": "SpqX4tHKWL1h",
        "colab_type": "code",
        "colab": {}
      },
      "source": [
        "!pip install kaggle\n",
        "!mkdir .kaggle\n",
        "import json\n",
        "token = {\"username\":\"alirezashafaei97\",\"key\":\"9cb262aa0c5658ffc4eb45857c41903c\"}\n",
        "with open('/content/.kaggle/kaggle.json', 'w') as file:\n",
        "    json.dump(token, file)\n",
        "!mkdir ~/.kaggle\n",
        "!cp /content/.kaggle/kaggle.json ~/.kaggle/kaggle.json\n",
        "!kaggle config set -n path -v{/content}\n",
        "!chmod 600 /root/.kaggle/kaggle.json\n",
        "!kaggle datasets download -d shayanfazeli/heartbeat -p /content\n",
        "!unzip /content/heartbeat.zip -d /content/heartbeat"
      ],
      "execution_count": 0,
      "outputs": []
    },
    {
      "cell_type": "code",
      "metadata": {
        "id": "pMcvBYiiXNlz",
        "colab_type": "code",
        "colab": {}
      },
      "source": [
        "import pandas as pd\n",
        "import tensorflow as tf \n",
        "import numpy as np\n",
        "import matplotlib.pyplot as plt\n",
        "from tensorflow.keras.models import load_model, Sequential, Model\n",
        "from tensorflow.keras.layers import Input, Dense, LeakyReLU, Softmax, InputLayer, concatenate, Conv1D, Flatten, Dropout, ReLU\n",
        "from tensorflow.keras import backend as K\n",
        "from random import uniform \n",
        "import random\n",
        "\n",
        "\n",
        "from sklearn.preprocessing import OneHotEncoder\n",
        "from scipy.sparse import csr_matrix\n"
      ],
      "execution_count": 0,
      "outputs": []
    },
    {
      "cell_type": "code",
      "metadata": {
        "id": "ObgfqK0pW49z",
        "colab_type": "code",
        "colab": {}
      },
      "source": [
        "train_df=pd.read_csv('/content/heartbeat/mitbih_train.csv',header=None)\n",
        "test_df=pd.read_csv('/content/heartbeat/mitbih_test.csv',header=None)"
      ],
      "execution_count": 0,
      "outputs": []
    },
    {
      "cell_type": "code",
      "metadata": {
        "id": "i58wFx5vXQS7",
        "colab_type": "code",
        "outputId": "9826d5c8-e1fd-467e-dd29-fe5805b83b14",
        "colab": {
          "base_uri": "https://localhost:8080/",
          "height": 118
        }
      },
      "source": [
        "train_df[187]=train_df[187].astype(int)\n",
        "counter=train_df[187].value_counts()\n",
        "print(counter)"
      ],
      "execution_count": 3,
      "outputs": [
        {
          "output_type": "stream",
          "text": [
            "0    72471\n",
            "4     6431\n",
            "2     5788\n",
            "1     2223\n",
            "3      641\n",
            "Name: 187, dtype: int64\n"
          ],
          "name": "stdout"
        }
      ]
    },
    {
      "cell_type": "code",
      "metadata": {
        "id": "lz0aEgkhXamJ",
        "colab_type": "code",
        "colab": {}
      },
      "source": [
        "trainset = train_df.values\n",
        "testset = test_df.values"
      ],
      "execution_count": 0,
      "outputs": []
    },
    {
      "cell_type": "code",
      "metadata": {
        "id": "C5Yu65s0adg6",
        "colab_type": "code",
        "colab": {}
      },
      "source": [
        "def split(dataset, number_of_sample_per_category):\n",
        "  \n",
        "  new_dataset = np.zeros((np.sum(number_of_sample_per_category), dataset.shape[1]))\n",
        "  pointer = 0\n",
        "  \n",
        "  for row in dataset :\n",
        "    \n",
        "    row_label = int(row[-1])\n",
        "    \n",
        "    if number_of_sample_per_category[row_label] > 0 :\n",
        "      \n",
        "      number_of_sample_per_category[row_label] -= 1\n",
        "      new_dataset[pointer , :] = row\n",
        "      pointer += 1\n",
        "\n",
        "    else:\n",
        "\n",
        "      pass\n",
        "    \n",
        "  \n",
        "  return new_dataset\n",
        "\n",
        "\n"
      ],
      "execution_count": 0,
      "outputs": []
    },
    {
      "cell_type": "code",
      "metadata": {
        "id": "BTg8U_rCecMb",
        "colab_type": "code",
        "colab": {}
      },
      "source": [
        "temp_trainset = split(trainset, [4000, 2223, 4000, 641, 4000])\n",
        "temp_testset = split(testset, [500, 500, 500, 500, 500])"
      ],
      "execution_count": 0,
      "outputs": []
    },
    {
      "cell_type": "code",
      "metadata": {
        "id": "0VixGjo-J1uI",
        "colab_type": "code",
        "colab": {}
      },
      "source": [
        "def data_augmentation(dataset, chance):\n",
        "  \n",
        "  augmented = 0\n",
        "  number_of_rows = int(dataset.shape[0] + (dataset.shape[0] * (chance*2)))\n",
        "  new_dataset = np.zeros((number_of_rows, dataset.shape[1]))\n",
        "  pointer = 0 \n",
        "\n",
        "  for row in dataset:\n",
        "    \n",
        "    rand_num = random.uniform(0, 1)\n",
        "    if rand_num < chance:\n",
        "      \n",
        "      augmented += 1\n",
        "      noise = np.random.normal(scale=0.01, size=187)\n",
        "      new_signal = np.zeros((1, 188))\n",
        "      new_signal[:, :187] = row[:187] + noise\n",
        "      new_signal[:, -1:] = row[-1:] \n",
        "      new_dataset[pointer:pointer+1, :] = new_signal\n",
        "      pointer += 1\n",
        "\n",
        "    else :\n",
        "      pass\n",
        "\n",
        "    new_dataset[pointer, :] = row \n",
        "    pointer += 1\n",
        "\n",
        "  return augmented, new_dataset  \n",
        "\n",
        "  "
      ],
      "execution_count": 0,
      "outputs": []
    },
    {
      "cell_type": "code",
      "metadata": {
        "id": "K-WNJJaSNYR3",
        "colab_type": "code",
        "colab": {}
      },
      "source": [
        "augmented, trainset = data_augmentation(temp_trainset, 0.05)"
      ],
      "execution_count": 0,
      "outputs": []
    },
    {
      "cell_type": "code",
      "metadata": {
        "id": "IEkQ1k_zRnYb",
        "colab_type": "code",
        "colab": {}
      },
      "source": [
        "filled = augmented + temp_trainset.shape[0]\n",
        "trainset = trainset[:filled , :]"
      ],
      "execution_count": 0,
      "outputs": []
    },
    {
      "cell_type": "code",
      "metadata": {
        "id": "ULVB16ONXuex",
        "colab_type": "code",
        "colab": {}
      },
      "source": [
        "trainset = np.take(trainset,np.random.permutation(trainset.shape[0]),axis=0,out=trainset)\n",
        "testset = np.take(temp_testset,np.random.permutation(temp_testset.shape[0]),axis=0,out=temp_testset)"
      ],
      "execution_count": 0,
      "outputs": []
    },
    {
      "cell_type": "code",
      "metadata": {
        "id": "BXpOUPpHYPQp",
        "colab_type": "code",
        "colab": {}
      },
      "source": [
        "X_temp_train = trainset[:, :-1]\n",
        "Y_train = trainset[:, -1:]\n",
        "X_temp_test = testset[:, :-1]\n",
        "Y_test = testset[:, -1:]"
      ],
      "execution_count": 0,
      "outputs": []
    },
    {
      "cell_type": "code",
      "metadata": {
        "id": "W6wSnYvXY6AA",
        "colab_type": "code",
        "outputId": "e8adecb9-275f-4da3-be55-9e35ee1b3d58",
        "colab": {
          "base_uri": "https://localhost:8080/",
          "height": 84
        }
      },
      "source": [
        "print(\"X_train : \", X_temp_train.shape)\n",
        "print(\"Y_train : \", Y_train.shape)\n",
        "print(\"X_test : \", X_temp_test.shape)\n",
        "print(\"Y_test : \", Y_test.shape)"
      ],
      "execution_count": 12,
      "outputs": [
        {
          "output_type": "stream",
          "text": [
            "X_train :  (15598, 187)\n",
            "Y_train :  (15598, 1)\n",
            "X_test :  (2500, 187)\n",
            "Y_test :  (2500, 1)\n"
          ],
          "name": "stdout"
        }
      ]
    },
    {
      "cell_type": "code",
      "metadata": {
        "id": "R5EUIPSZZRqW",
        "colab_type": "code",
        "outputId": "0d72de79-8709-4ceb-f9ff-b73b1a1749e8",
        "colab": {
          "base_uri": "https://localhost:8080/",
          "height": 265
        }
      },
      "source": [
        "plt.plot(X_temp_train[7, :])\n",
        "plt.show()"
      ],
      "execution_count": 13,
      "outputs": [
        {
          "output_type": "display_data",
          "data": {
            "image/png": "[encoded data removed]",
            "text/plain": [
              "<Figure size 432x288 with 1 Axes>"
            ]
          },
          "metadata": {
            "tags": [],
            "needs_background": "light"
          }
        }
      ]
    },
    {
      "cell_type": "code",
      "metadata": {
        "id": "XQP8dTlBZw6p",
        "colab_type": "code",
        "colab": {}
      },
      "source": [
        "\n",
        "# One Hot enoding for target labels \n",
        "ohe = OneHotEncoder()\n",
        "Y_train = ohe.fit_transform(Y_train.reshape(-1,1))\n",
        "Y_test = ohe.transform(Y_test.reshape(-1,1))\n",
        "\n",
        "# handle sparse matrix for keras \n",
        "Y_train = csr_matrix.toarray(Y_train)\n",
        "Y_test = csr_matrix.toarray(Y_test)"
      ],
      "execution_count": 0,
      "outputs": []
    },
    {
      "cell_type": "code",
      "metadata": {
        "id": "YBhFohZUarKo",
        "colab_type": "code",
        "outputId": "a5e49a0d-315b-41ab-83ed-24fa187d5e95",
        "colab": {
          "base_uri": "https://localhost:8080/",
          "height": 84
        }
      },
      "source": [
        "print(\"X_train : \", X_temp_train.shape)\n",
        "print(\"Y_train : \", Y_train.shape)\n",
        "print(\"X_test : \", X_temp_test.shape)\n",
        "print(\"Y_test : \", Y_test.shape)"
      ],
      "execution_count": 15,
      "outputs": [
        {
          "output_type": "stream",
          "text": [
            "X_train :  (15598, 187)\n",
            "Y_train :  (15598, 5)\n",
            "X_test :  (2500, 187)\n",
            "Y_test :  (2500, 5)\n"
          ],
          "name": "stdout"
        }
      ]
    },
    {
      "cell_type": "code",
      "metadata": {
        "id": "CaLzDWFHa2AP",
        "colab_type": "code",
        "outputId": "4c674f42-ed66-4356-c4a4-ca03133f5e72",
        "colab": {
          "base_uri": "https://localhost:8080/",
          "height": 118
        }
      },
      "source": [
        "Y_train[1000:1006, :]"
      ],
      "execution_count": 16,
      "outputs": [
        {
          "output_type": "execute_result",
          "data": {
            "text/plain": [
              "array([[0., 1., 0., 0., 0.],\n",
              "       [0., 1., 0., 0., 0.],\n",
              "       [1., 0., 0., 0., 0.],\n",
              "       [0., 0., 1., 0., 0.],\n",
              "       [0., 1., 0., 0., 0.],\n",
              "       [1., 0., 0., 0., 0.]])"
            ]
          },
          "metadata": {
            "tags": []
          },
          "execution_count": 16
        }
      ]
    },
    {
      "cell_type": "code",
      "metadata": {
        "id": "9irj7VOWl22E",
        "colab_type": "code",
        "colab": {}
      },
      "source": [
        "def number_generator(a, b, n):\n",
        "  \n",
        "  n = n+1\n",
        "  Output = np.zeros((n-1))\n",
        "  if a > b :\n",
        "    s = (a - b) / n\n",
        "    temp = b\n",
        "    for i in range(n-1):\n",
        "      temp += s\n",
        "      Output[i] = temp\n",
        "  elif a < b :\n",
        "    s =  (b - a) / n\n",
        "    temp = a\n",
        "    for i in range(n-1):\n",
        "      temp += s\n",
        "      Output[i] = temp\n",
        "  else:\n",
        "    for i in range(n-1):\n",
        "      Output[i] = a\n",
        "\n",
        "  return Output\n"
      ],
      "execution_count": 0,
      "outputs": []
    },
    {
      "cell_type": "code",
      "metadata": {
        "id": "Xu-WavG8aOdQ",
        "colab_type": "code",
        "outputId": "986ccf8b-a336-4bf4-a0aa-28f31914f4cf",
        "colab": {
          "base_uri": "https://localhost:8080/",
          "height": 513
        }
      },
      "source": [
        "\n",
        "#### change X_train.shape from (1, 187) to (1, 9000) for transfer learning ####\n",
        "\n",
        "X_train = np.zeros((X_temp_train.shape[0], 9000))\n",
        "j = 48\n",
        "\n",
        "for i, signal in enumerate(X_temp_train):\n",
        "\n",
        "  for index, item in enumerate(signal):\n",
        "\n",
        "    if index != 186:\n",
        "      \n",
        "      temp = number_generator(signal[index], signal[index+1], 48)\n",
        "      \n",
        "      if (signal[index+1]) > (signal[index]) :\n",
        "        temp = np.sort(temp)\n",
        "      else:\n",
        "        temp = -np.sort(-temp)\n",
        "\n",
        "\n",
        "      X_train[i, index*j:(index+1)*(j)] = temp\n",
        "\n",
        "    else: \n",
        "      pass\n",
        "\n",
        "\n",
        "plt.plot(X_temp_train[1, :])\n",
        "plt.show()\n",
        "plt.plot(X_train[1, :])\n",
        "plt.show()\n"
      ],
      "execution_count": 18,
      "outputs": [
        {
          "output_type": "display_data",
          "data": {
            "image/png": "[encoded data removed]",
            "text/plain": [
              "<Figure size 432x288 with 1 Axes>"
            ]
          },
          "metadata": {
            "tags": [],
            "needs_background": "light"
          }
        },
        {
          "output_type": "display_data",
          "data": {
            "image/png": "[encoded data removed]",
            "text/plain": [
              "<Figure size 432x288 with 1 Axes>"
            ]
          },
          "metadata": {
            "tags": [],
            "needs_background": "light"
          }
        }
      ]
    },
    {
      "cell_type": "code",
      "metadata": {
        "id": "cVsU43DtoMsz",
        "colab_type": "code",
        "outputId": "bf037376-f839-48fd-c376-8e7d80a2f947",
        "colab": {
          "base_uri": "https://localhost:8080/",
          "height": 513
        }
      },
      "source": [
        "\n",
        "#### change X_test.shape from (1, 187) to (1, 9000) for transfer learning ####\n",
        "\n",
        "X_test = np.zeros((X_temp_test.shape[0], 9000))\n",
        "j = 48\n",
        "\n",
        "for i, signal in enumerate(X_temp_test):\n",
        "\n",
        "  for index, item in enumerate(signal):\n",
        "\n",
        "    if index != 186:\n",
        "      \n",
        "      temp = number_generator(signal[index], signal[index+1], 48)\n",
        "      \n",
        "      if (signal[index+1]) > (signal[index]) :\n",
        "        temp = np.sort(temp)\n",
        "      else:\n",
        "        temp = -np.sort(-temp)\n",
        "\n",
        "\n",
        "      X_test[i, index*j:(index+1)*(j)] = temp\n",
        "\n",
        "    else: \n",
        "      pass\n",
        "\n",
        "\n",
        "plt.plot(X_temp_test[1, :])\n",
        "plt.show()\n",
        "plt.plot(X_test[1, :])\n",
        "plt.show()\n"
      ],
      "execution_count": 19,
      "outputs": [
        {
          "output_type": "display_data",
          "data": {
            "image/png": "[encoded data removed]",
            "text/plain": [
              "<Figure size 432x288 with 1 Axes>"
            ]
          },
          "metadata": {
            "tags": [],
            "needs_background": "light"
          }
        },
        {
          "output_type": "display_data",
          "data": {
            "image/png": "[encoded data removed]",
            "text/plain": [
              "<Figure size 432x288 with 1 Axes>"
            ]
          },
          "metadata": {
            "tags": [],
            "needs_background": "light"
          }
        }
      ]
    },
    {
      "cell_type": "code",
      "metadata": {
        "id": "JKnIuILpkG2W",
        "colab_type": "code",
        "colab": {}
      },
      "source": [
        "X_train = X_train.reshape(15598, 9000, 1)\n",
        "X_test = X_test.reshape(2500, 9000, 1)"
      ],
      "execution_count": 0,
      "outputs": []
    },
    {
      "cell_type": "code",
      "metadata": {
        "id": "IhjMgTJrh7Z0",
        "colab_type": "code",
        "colab": {
          "base_uri": "https://localhost:8080/",
          "height": 84
        },
        "outputId": "dc761d6f-74ac-4e7c-b0ea-597aa50811b8"
      },
      "source": [
        "print(\"X_train : \", X_train.shape)\n",
        "print(\"Y_train : \", Y_train.shape)\n",
        "print(\"X_test : \", X_test.shape)\n",
        "print(\"Y_test : \", Y_test.shape)"
      ],
      "execution_count": 21,
      "outputs": [
        {
          "output_type": "stream",
          "text": [
            "X_train :  (15598, 9000, 1)\n",
            "Y_train :  (15598, 5)\n",
            "X_test :  (2500, 9000, 1)\n",
            "Y_test :  (2500, 5)\n"
          ],
          "name": "stdout"
        }
      ]
    },
    {
      "cell_type": "code",
      "metadata": {
        "id": "n74YKMDei_xK",
        "colab_type": "code",
        "colab": {
          "base_uri": "https://localhost:8080/",
          "height": 1000
        },
        "outputId": "95f0d1c6-fab1-440f-edde-368d4dcb0356"
      },
      "source": [
        "# load model\n",
        "model = load_model('/content/drive/My Drive/Cardio/AF_Classification.h5')\n",
        "\n",
        "# summarize model.\n",
        "model.summary()"
      ],
      "execution_count": 22,
      "outputs": [
        {
          "output_type": "stream",
          "text": [
            "Model: \"model_3\"\n",
            "__________________________________________________________________________________________________\n",
            "Layer (type)                    Output Shape         Param #     Connected to                     \n",
            "==================================================================================================\n",
            "input_4 (InputLayer)            [(None, 9000, 1)]    0                                            \n",
            "__________________________________________________________________________________________________\n",
            "conv1d_51 (Conv1D)              (None, 4498, 16)     96          input_4[0][0]                    \n",
            "__________________________________________________________________________________________________\n",
            "conv1d_52 (Conv1D)              (None, 4498, 32)     4640        conv1d_51[0][0]                  \n",
            "__________________________________________________________________________________________________\n",
            "batch_normalization_60 (BatchNo (None, 4498, 32)     128         conv1d_52[0][0]                  \n",
            "__________________________________________________________________________________________________\n",
            "leaky_re_lu_51 (LeakyReLU)      (None, 4498, 32)     0           batch_normalization_60[0][0]     \n",
            "__________________________________________________________________________________________________\n",
            "conv1d_53 (Conv1D)              (None, 4498, 32)     7200        leaky_re_lu_51[0][0]             \n",
            "__________________________________________________________________________________________________\n",
            "batch_normalization_61 (BatchNo (None, 4498, 32)     128         conv1d_53[0][0]                  \n",
            "__________________________________________________________________________________________________\n",
            "leaky_re_lu_52 (LeakyReLU)      (None, 4498, 32)     0           batch_normalization_61[0][0]     \n",
            "__________________________________________________________________________________________________\n",
            "dropout_12 (Dropout)            (None, 4498, 32)     0           leaky_re_lu_52[0][0]             \n",
            "__________________________________________________________________________________________________\n",
            "conv1d_54 (Conv1D)              (None, 4498, 16)     4624        dropout_12[0][0]                 \n",
            "__________________________________________________________________________________________________\n",
            "batch_normalization_62 (BatchNo (None, 4498, 16)     64          conv1d_54[0][0]                  \n",
            "__________________________________________________________________________________________________\n",
            "add_12 (Add)                    (None, 4498, 16)     0           batch_normalization_62[0][0]     \n",
            "                                                                 conv1d_51[0][0]                  \n",
            "__________________________________________________________________________________________________\n",
            "batch_normalization_63 (BatchNo (None, 4498, 16)     64          add_12[0][0]                     \n",
            "__________________________________________________________________________________________________\n",
            "leaky_re_lu_53 (LeakyReLU)      (None, 4498, 16)     0           batch_normalization_63[0][0]     \n",
            "__________________________________________________________________________________________________\n",
            "conv1d_55 (Conv1D)              (None, 4498, 32)     3616        leaky_re_lu_53[0][0]             \n",
            "__________________________________________________________________________________________________\n",
            "batch_normalization_64 (BatchNo (None, 4498, 32)     128         conv1d_55[0][0]                  \n",
            "__________________________________________________________________________________________________\n",
            "leaky_re_lu_54 (LeakyReLU)      (None, 4498, 32)     0           batch_normalization_64[0][0]     \n",
            "__________________________________________________________________________________________________\n",
            "max_pooling1d_12 (MaxPooling1D) (None, 2247, 32)     0           leaky_re_lu_54[0][0]             \n",
            "__________________________________________________________________________________________________\n",
            "conv1d_56 (Conv1D)              (None, 2247, 16)     1552        max_pooling1d_12[0][0]           \n",
            "__________________________________________________________________________________________________\n",
            "batch_normalization_65 (BatchNo (None, 2247, 16)     64          conv1d_56[0][0]                  \n",
            "__________________________________________________________________________________________________\n",
            "leaky_re_lu_55 (LeakyReLU)      (None, 2247, 16)     0           batch_normalization_65[0][0]     \n",
            "__________________________________________________________________________________________________\n",
            "conv1d_57 (Conv1D)              (None, 2247, 32)     2592        leaky_re_lu_55[0][0]             \n",
            "__________________________________________________________________________________________________\n",
            "batch_normalization_66 (BatchNo (None, 2247, 32)     128         conv1d_57[0][0]                  \n",
            "__________________________________________________________________________________________________\n",
            "leaky_re_lu_56 (LeakyReLU)      (None, 2247, 32)     0           batch_normalization_66[0][0]     \n",
            "__________________________________________________________________________________________________\n",
            "dropout_13 (Dropout)            (None, 2247, 32)     0           leaky_re_lu_56[0][0]             \n",
            "__________________________________________________________________________________________________\n",
            "conv1d_58 (Conv1D)              (None, 2247, 32)     3104        dropout_13[0][0]                 \n",
            "__________________________________________________________________________________________________\n",
            "batch_normalization_67 (BatchNo (None, 2247, 32)     128         conv1d_58[0][0]                  \n",
            "__________________________________________________________________________________________________\n",
            "add_13 (Add)                    (None, 2247, 32)     0           batch_normalization_67[0][0]     \n",
            "                                                                 max_pooling1d_12[0][0]           \n",
            "__________________________________________________________________________________________________\n",
            "batch_normalization_68 (BatchNo (None, 2247, 32)     128         add_13[0][0]                     \n",
            "__________________________________________________________________________________________________\n",
            "leaky_re_lu_57 (LeakyReLU)      (None, 2247, 32)     0           batch_normalization_68[0][0]     \n",
            "__________________________________________________________________________________________________\n",
            "conv1d_59 (Conv1D)              (None, 2247, 64)     14400       leaky_re_lu_57[0][0]             \n",
            "__________________________________________________________________________________________________\n",
            "batch_normalization_69 (BatchNo (None, 2247, 64)     256         conv1d_59[0][0]                  \n",
            "__________________________________________________________________________________________________\n",
            "leaky_re_lu_58 (LeakyReLU)      (None, 2247, 64)     0           batch_normalization_69[0][0]     \n",
            "__________________________________________________________________________________________________\n",
            "max_pooling1d_13 (MaxPooling1D) (None, 748, 64)      0           leaky_re_lu_58[0][0]             \n",
            "__________________________________________________________________________________________________\n",
            "conv1d_60 (Conv1D)              (None, 748, 32)      32800       max_pooling1d_13[0][0]           \n",
            "__________________________________________________________________________________________________\n",
            "batch_normalization_70 (BatchNo (None, 748, 32)      128         conv1d_60[0][0]                  \n",
            "__________________________________________________________________________________________________\n",
            "leaky_re_lu_59 (LeakyReLU)      (None, 748, 32)      0           batch_normalization_70[0][0]     \n",
            "__________________________________________________________________________________________________\n",
            "conv1d_61 (Conv1D)              (None, 748, 64)      65600       leaky_re_lu_59[0][0]             \n",
            "__________________________________________________________________________________________________\n",
            "batch_normalization_71 (BatchNo (None, 748, 64)      256         conv1d_61[0][0]                  \n",
            "__________________________________________________________________________________________________\n",
            "leaky_re_lu_60 (LeakyReLU)      (None, 748, 64)      0           batch_normalization_71[0][0]     \n",
            "__________________________________________________________________________________________________\n",
            "conv1d_62 (Conv1D)              (None, 748, 64)      65600       leaky_re_lu_60[0][0]             \n",
            "__________________________________________________________________________________________________\n",
            "batch_normalization_72 (BatchNo (None, 748, 64)      256         conv1d_62[0][0]                  \n",
            "__________________________________________________________________________________________________\n",
            "add_14 (Add)                    (None, 748, 64)      0           batch_normalization_72[0][0]     \n",
            "                                                                 max_pooling1d_13[0][0]           \n",
            "__________________________________________________________________________________________________\n",
            "batch_normalization_73 (BatchNo (None, 748, 64)      256         add_14[0][0]                     \n",
            "__________________________________________________________________________________________________\n",
            "leaky_re_lu_61 (LeakyReLU)      (None, 748, 64)      0           batch_normalization_73[0][0]     \n",
            "__________________________________________________________________________________________________\n",
            "conv1d_63 (Conv1D)              (None, 748, 128)     57472       leaky_re_lu_61[0][0]             \n",
            "__________________________________________________________________________________________________\n",
            "batch_normalization_74 (BatchNo (None, 748, 128)     512         conv1d_63[0][0]                  \n",
            "__________________________________________________________________________________________________\n",
            "leaky_re_lu_62 (LeakyReLU)      (None, 748, 128)     0           batch_normalization_74[0][0]     \n",
            "__________________________________________________________________________________________________\n",
            "max_pooling1d_14 (MaxPooling1D) (None, 372, 128)     0           leaky_re_lu_62[0][0]             \n",
            "__________________________________________________________________________________________________\n",
            "conv1d_64 (Conv1D)              (None, 372, 64)      524352      max_pooling1d_14[0][0]           \n",
            "__________________________________________________________________________________________________\n",
            "batch_normalization_75 (BatchNo (None, 372, 64)      256         conv1d_64[0][0]                  \n",
            "__________________________________________________________________________________________________\n",
            "leaky_re_lu_63 (LeakyReLU)      (None, 372, 64)      0           batch_normalization_75[0][0]     \n",
            "__________________________________________________________________________________________________\n",
            "conv1d_65 (Conv1D)              (None, 372, 64)      524352      leaky_re_lu_63[0][0]             \n",
            "__________________________________________________________________________________________________\n",
            "batch_normalization_76 (BatchNo (None, 372, 64)      256         conv1d_65[0][0]                  \n",
            "__________________________________________________________________________________________________\n",
            "leaky_re_lu_64 (LeakyReLU)      (None, 372, 64)      0           batch_normalization_76[0][0]     \n",
            "__________________________________________________________________________________________________\n",
            "dropout_14 (Dropout)            (None, 372, 64)      0           leaky_re_lu_64[0][0]             \n",
            "__________________________________________________________________________________________________\n",
            "conv1d_66 (Conv1D)              (None, 372, 128)     524416      dropout_14[0][0]                 \n",
            "__________________________________________________________________________________________________\n",
            "batch_normalization_77 (BatchNo (None, 372, 128)     512         conv1d_66[0][0]                  \n",
            "__________________________________________________________________________________________________\n",
            "add_15 (Add)                    (None, 372, 128)     0           batch_normalization_77[0][0]     \n",
            "                                                                 max_pooling1d_14[0][0]           \n",
            "__________________________________________________________________________________________________\n",
            "batch_normalization_78 (BatchNo (None, 372, 128)     512         add_15[0][0]                     \n",
            "__________________________________________________________________________________________________\n",
            "leaky_re_lu_65 (LeakyReLU)      (None, 372, 128)     0           batch_normalization_78[0][0]     \n",
            "__________________________________________________________________________________________________\n",
            "conv1d_67 (Conv1D)              (None, 372, 256)     229632      leaky_re_lu_65[0][0]             \n",
            "__________________________________________________________________________________________________\n",
            "batch_normalization_79 (BatchNo (None, 372, 256)     1024        conv1d_67[0][0]                  \n",
            "__________________________________________________________________________________________________\n",
            "leaky_re_lu_66 (LeakyReLU)      (None, 372, 256)     0           batch_normalization_79[0][0]     \n",
            "__________________________________________________________________________________________________\n",
            "max_pooling1d_15 (MaxPooling1D) (None, 123, 256)     0           leaky_re_lu_66[0][0]             \n",
            "__________________________________________________________________________________________________\n",
            "flatten_3 (Flatten)             (None, 31488)        0           max_pooling1d_15[0][0]           \n",
            "__________________________________________________________________________________________________\n",
            "dense_9 (Dense)                 (None, 256)          8061184     flatten_3[0][0]                  \n",
            "__________________________________________________________________________________________________\n",
            "leaky_re_lu_67 (LeakyReLU)      (None, 256)          0           dense_9[0][0]                    \n",
            "__________________________________________________________________________________________________\n",
            "dropout_15 (Dropout)            (None, 256)          0           leaky_re_lu_67[0][0]             \n",
            "__________________________________________________________________________________________________\n",
            "dense_10 (Dense)                (None, 128)          32896       dropout_15[0][0]                 \n",
            "__________________________________________________________________________________________________\n",
            "dense_11 (Dense)                (None, 3)            387         dense_10[0][0]                   \n",
            "__________________________________________________________________________________________________\n",
            "softmax_3 (Softmax)             (None, 3)            0           dense_11[0][0]                   \n",
            "==================================================================================================\n",
            "Total params: 10,165,699\n",
            "Trainable params: 10,163,107\n",
            "Non-trainable params: 2,592\n",
            "__________________________________________________________________________________________________\n"
          ],
          "name": "stdout"
        }
      ]
    },
    {
      "cell_type": "code",
      "metadata": {
        "id": "zKvIW2sWkaoP",
        "colab_type": "code",
        "colab": {
          "base_uri": "https://localhost:8080/",
          "height": 1000
        },
        "outputId": "fdd41a4c-85ef-4769-a126-34f936638ca8"
      },
      "source": [
        "X_input = model.layers[-7].output\n",
        "D0 = Dense(2048)(X_input)\n",
        "Drop0 = Dropout(0.3)(D0)\n",
        "Act0 = ReLU()(Drop0)\n",
        "D1 = Dense(512)(Act0)\n",
        "Drop1 = Dropout(0.1)(D1)\n",
        "Act1 = ReLU()(Drop1)\n",
        "D2 = Dense(5)(Act1)\n",
        "Act2 = Softmax()(D2)\n",
        "\n",
        "new_model = Model(inputs=model.inputs, outputs=Act2)\n",
        "new_model.summary()\n"
      ],
      "execution_count": 23,
      "outputs": [
        {
          "output_type": "stream",
          "text": [
            "Model: \"model\"\n",
            "__________________________________________________________________________________________________\n",
            "Layer (type)                    Output Shape         Param #     Connected to                     \n",
            "==================================================================================================\n",
            "input_4 (InputLayer)            [(None, 9000, 1)]    0                                            \n",
            "__________________________________________________________________________________________________\n",
            "conv1d_51 (Conv1D)              (None, 4498, 16)     96          input_4[0][0]                    \n",
            "__________________________________________________________________________________________________\n",
            "conv1d_52 (Conv1D)              (None, 4498, 32)     4640        conv1d_51[0][0]                  \n",
            "__________________________________________________________________________________________________\n",
            "batch_normalization_60 (BatchNo (None, 4498, 32)     128         conv1d_52[0][0]                  \n",
            "__________________________________________________________________________________________________\n",
            "leaky_re_lu_51 (LeakyReLU)      (None, 4498, 32)     0           batch_normalization_60[0][0]     \n",
            "__________________________________________________________________________________________________\n",
            "conv1d_53 (Conv1D)              (None, 4498, 32)     7200        leaky_re_lu_51[0][0]             \n",
            "__________________________________________________________________________________________________\n",
            "batch_normalization_61 (BatchNo (None, 4498, 32)     128         conv1d_53[0][0]                  \n",
            "__________________________________________________________________________________________________\n",
            "leaky_re_lu_52 (LeakyReLU)      (None, 4498, 32)     0           batch_normalization_61[0][0]     \n",
            "__________________________________________________________________________________________________\n",
            "dropout_12 (Dropout)            (None, 4498, 32)     0           leaky_re_lu_52[0][0]             \n",
            "__________________________________________________________________________________________________\n",
            "conv1d_54 (Conv1D)              (None, 4498, 16)     4624        dropout_12[0][0]                 \n",
            "__________________________________________________________________________________________________\n",
            "batch_normalization_62 (BatchNo (None, 4498, 16)     64          conv1d_54[0][0]                  \n",
            "__________________________________________________________________________________________________\n",
            "add_12 (Add)                    (None, 4498, 16)     0           batch_normalization_62[0][0]     \n",
            "                                                                 conv1d_51[0][0]                  \n",
            "__________________________________________________________________________________________________\n",
            "batch_normalization_63 (BatchNo (None, 4498, 16)     64          add_12[0][0]                     \n",
            "__________________________________________________________________________________________________\n",
            "leaky_re_lu_53 (LeakyReLU)      (None, 4498, 16)     0           batch_normalization_63[0][0]     \n",
            "__________________________________________________________________________________________________\n",
            "conv1d_55 (Conv1D)              (None, 4498, 32)     3616        leaky_re_lu_53[0][0]             \n",
            "__________________________________________________________________________________________________\n",
            "batch_normalization_64 (BatchNo (None, 4498, 32)     128         conv1d_55[0][0]                  \n",
            "__________________________________________________________________________________________________\n",
            "leaky_re_lu_54 (LeakyReLU)      (None, 4498, 32)     0           batch_normalization_64[0][0]     \n",
            "__________________________________________________________________________________________________\n",
            "max_pooling1d_12 (MaxPooling1D) (None, 2247, 32)     0           leaky_re_lu_54[0][0]             \n",
            "__________________________________________________________________________________________________\n",
            "conv1d_56 (Conv1D)              (None, 2247, 16)     1552        max_pooling1d_12[0][0]           \n",
            "__________________________________________________________________________________________________\n",
            "batch_normalization_65 (BatchNo (None, 2247, 16)     64          conv1d_56[0][0]                  \n",
            "__________________________________________________________________________________________________\n",
            "leaky_re_lu_55 (LeakyReLU)      (None, 2247, 16)     0           batch_normalization_65[0][0]     \n",
            "__________________________________________________________________________________________________\n",
            "conv1d_57 (Conv1D)              (None, 2247, 32)     2592        leaky_re_lu_55[0][0]             \n",
            "__________________________________________________________________________________________________\n",
            "batch_normalization_66 (BatchNo (None, 2247, 32)     128         conv1d_57[0][0]                  \n",
            "__________________________________________________________________________________________________\n",
            "leaky_re_lu_56 (LeakyReLU)      (None, 2247, 32)     0           batch_normalization_66[0][0]     \n",
            "__________________________________________________________________________________________________\n",
            "dropout_13 (Dropout)            (None, 2247, 32)     0           leaky_re_lu_56[0][0]             \n",
            "__________________________________________________________________________________________________\n",
            "conv1d_58 (Conv1D)              (None, 2247, 32)     3104        dropout_13[0][0]                 \n",
            "__________________________________________________________________________________________________\n",
            "batch_normalization_67 (BatchNo (None, 2247, 32)     128         conv1d_58[0][0]                  \n",
            "__________________________________________________________________________________________________\n",
            "add_13 (Add)                    (None, 2247, 32)     0           batch_normalization_67[0][0]     \n",
            "                                                                 max_pooling1d_12[0][0]           \n",
            "__________________________________________________________________________________________________\n",
            "batch_normalization_68 (BatchNo (None, 2247, 32)     128         add_13[0][0]                     \n",
            "__________________________________________________________________________________________________\n",
            "leaky_re_lu_57 (LeakyReLU)      (None, 2247, 32)     0           batch_normalization_68[0][0]     \n",
            "__________________________________________________________________________________________________\n",
            "conv1d_59 (Conv1D)              (None, 2247, 64)     14400       leaky_re_lu_57[0][0]             \n",
            "__________________________________________________________________________________________________\n",
            "batch_normalization_69 (BatchNo (None, 2247, 64)     256         conv1d_59[0][0]                  \n",
            "__________________________________________________________________________________________________\n",
            "leaky_re_lu_58 (LeakyReLU)      (None, 2247, 64)     0           batch_normalization_69[0][0]     \n",
            "__________________________________________________________________________________________________\n",
            "max_pooling1d_13 (MaxPooling1D) (None, 748, 64)      0           leaky_re_lu_58[0][0]             \n",
            "__________________________________________________________________________________________________\n",
            "conv1d_60 (Conv1D)              (None, 748, 32)      32800       max_pooling1d_13[0][0]           \n",
            "__________________________________________________________________________________________________\n",
            "batch_normalization_70 (BatchNo (None, 748, 32)      128         conv1d_60[0][0]                  \n",
            "__________________________________________________________________________________________________\n",
            "leaky_re_lu_59 (LeakyReLU)      (None, 748, 32)      0           batch_normalization_70[0][0]     \n",
            "__________________________________________________________________________________________________\n",
            "conv1d_61 (Conv1D)              (None, 748, 64)      65600       leaky_re_lu_59[0][0]             \n",
            "__________________________________________________________________________________________________\n",
            "batch_normalization_71 (BatchNo (None, 748, 64)      256         conv1d_61[0][0]                  \n",
            "__________________________________________________________________________________________________\n",
            "leaky_re_lu_60 (LeakyReLU)      (None, 748, 64)      0           batch_normalization_71[0][0]     \n",
            "__________________________________________________________________________________________________\n",
            "conv1d_62 (Conv1D)              (None, 748, 64)      65600       leaky_re_lu_60[0][0]             \n",
            "__________________________________________________________________________________________________\n",
            "batch_normalization_72 (BatchNo (None, 748, 64)      256         conv1d_62[0][0]                  \n",
            "__________________________________________________________________________________________________\n",
            "add_14 (Add)                    (None, 748, 64)      0           batch_normalization_72[0][0]     \n",
            "                                                                 max_pooling1d_13[0][0]           \n",
            "__________________________________________________________________________________________________\n",
            "batch_normalization_73 (BatchNo (None, 748, 64)      256         add_14[0][0]                     \n",
            "__________________________________________________________________________________________________\n",
            "leaky_re_lu_61 (LeakyReLU)      (None, 748, 64)      0           batch_normalization_73[0][0]     \n",
            "__________________________________________________________________________________________________\n",
            "conv1d_63 (Conv1D)              (None, 748, 128)     57472       leaky_re_lu_61[0][0]             \n",
            "__________________________________________________________________________________________________\n",
            "batch_normalization_74 (BatchNo (None, 748, 128)     512         conv1d_63[0][0]                  \n",
            "__________________________________________________________________________________________________\n",
            "leaky_re_lu_62 (LeakyReLU)      (None, 748, 128)     0           batch_normalization_74[0][0]     \n",
            "__________________________________________________________________________________________________\n",
            "max_pooling1d_14 (MaxPooling1D) (None, 372, 128)     0           leaky_re_lu_62[0][0]             \n",
            "__________________________________________________________________________________________________\n",
            "conv1d_64 (Conv1D)              (None, 372, 64)      524352      max_pooling1d_14[0][0]           \n",
            "__________________________________________________________________________________________________\n",
            "batch_normalization_75 (BatchNo (None, 372, 64)      256         conv1d_64[0][0]                  \n",
            "__________________________________________________________________________________________________\n",
            "leaky_re_lu_63 (LeakyReLU)      (None, 372, 64)      0           batch_normalization_75[0][0]     \n",
            "__________________________________________________________________________________________________\n",
            "conv1d_65 (Conv1D)              (None, 372, 64)      524352      leaky_re_lu_63[0][0]             \n",
            "__________________________________________________________________________________________________\n",
            "batch_normalization_76 (BatchNo (None, 372, 64)      256         conv1d_65[0][0]                  \n",
            "__________________________________________________________________________________________________\n",
            "leaky_re_lu_64 (LeakyReLU)      (None, 372, 64)      0           batch_normalization_76[0][0]     \n",
            "__________________________________________________________________________________________________\n",
            "dropout_14 (Dropout)            (None, 372, 64)      0           leaky_re_lu_64[0][0]             \n",
            "__________________________________________________________________________________________________\n",
            "conv1d_66 (Conv1D)              (None, 372, 128)     524416      dropout_14[0][0]                 \n",
            "__________________________________________________________________________________________________\n",
            "batch_normalization_77 (BatchNo (None, 372, 128)     512         conv1d_66[0][0]                  \n",
            "__________________________________________________________________________________________________\n",
            "add_15 (Add)                    (None, 372, 128)     0           batch_normalization_77[0][0]     \n",
            "                                                                 max_pooling1d_14[0][0]           \n",
            "__________________________________________________________________________________________________\n",
            "batch_normalization_78 (BatchNo (None, 372, 128)     512         add_15[0][0]                     \n",
            "__________________________________________________________________________________________________\n",
            "leaky_re_lu_65 (LeakyReLU)      (None, 372, 128)     0           batch_normalization_78[0][0]     \n",
            "__________________________________________________________________________________________________\n",
            "conv1d_67 (Conv1D)              (None, 372, 256)     229632      leaky_re_lu_65[0][0]             \n",
            "__________________________________________________________________________________________________\n",
            "batch_normalization_79 (BatchNo (None, 372, 256)     1024        conv1d_67[0][0]                  \n",
            "__________________________________________________________________________________________________\n",
            "leaky_re_lu_66 (LeakyReLU)      (None, 372, 256)     0           batch_normalization_79[0][0]     \n",
            "__________________________________________________________________________________________________\n",
            "max_pooling1d_15 (MaxPooling1D) (None, 123, 256)     0           leaky_re_lu_66[0][0]             \n",
            "__________________________________________________________________________________________________\n",
            "flatten_3 (Flatten)             (None, 31488)        0           max_pooling1d_15[0][0]           \n",
            "__________________________________________________________________________________________________\n",
            "dense (Dense)                   (None, 2048)         64489472    flatten_3[0][0]                  \n",
            "__________________________________________________________________________________________________\n",
            "dropout (Dropout)               (None, 2048)         0           dense[0][0]                      \n",
            "__________________________________________________________________________________________________\n",
            "re_lu (ReLU)                    (None, 2048)         0           dropout[0][0]                    \n",
            "__________________________________________________________________________________________________\n",
            "dense_1 (Dense)                 (None, 512)          1049088     re_lu[0][0]                      \n",
            "__________________________________________________________________________________________________\n",
            "dropout_1 (Dropout)             (None, 512)          0           dense_1[0][0]                    \n",
            "__________________________________________________________________________________________________\n",
            "re_lu_1 (ReLU)                  (None, 512)          0           dropout_1[0][0]                  \n",
            "__________________________________________________________________________________________________\n",
            "dense_2 (Dense)                 (None, 5)            2565        re_lu_1[0][0]                    \n",
            "__________________________________________________________________________________________________\n",
            "softmax (Softmax)               (None, 5)            0           dense_2[0][0]                    \n",
            "==================================================================================================\n",
            "Total params: 67,612,357\n",
            "Trainable params: 67,609,765\n",
            "Non-trainable params: 2,592\n",
            "__________________________________________________________________________________________________\n"
          ],
          "name": "stdout"
        }
      ]
    },
    {
      "cell_type": "code",
      "metadata": {
        "id": "CwDzPQ05mrT9",
        "colab_type": "code",
        "colab": {
          "base_uri": "https://localhost:8080/",
          "height": 1000
        },
        "outputId": "35a62fd9-f3aa-4ae2-e4c5-785c92af460f"
      },
      "source": [
        "new_model.get_layer('conv1d_51').trainable = False\n",
        "new_model.get_layer('conv1d_52').trainable = False\n",
        "new_model.get_layer('conv1d_53').trainable = False\n",
        "new_model.get_layer('conv1d_54').trainable = False\n",
        "new_model.get_layer('conv1d_55').trainable = False\n",
        "new_model.get_layer('conv1d_56').trainable = False\n",
        "new_model.get_layer('conv1d_57').trainable = False\n",
        "new_model.get_layer('conv1d_58').trainable = False\n",
        "new_model.get_layer('conv1d_59').trainable = False\n",
        "new_model.get_layer('conv1d_60').trainable = False\n",
        "new_model.get_layer('conv1d_61').trainable = False\n",
        "new_model.get_layer('conv1d_62').trainable = False\n",
        "new_model.get_layer('conv1d_63').trainable = False\n",
        "new_model.get_layer('conv1d_64').trainable = False\n",
        "new_model.get_layer('conv1d_65').trainable = False\n",
        "new_model.summary()"
      ],
      "execution_count": 24,
      "outputs": [
        {
          "output_type": "stream",
          "text": [
            "Model: \"model\"\n",
            "__________________________________________________________________________________________________\n",
            "Layer (type)                    Output Shape         Param #     Connected to                     \n",
            "==================================================================================================\n",
            "input_4 (InputLayer)            [(None, 9000, 1)]    0                                            \n",
            "__________________________________________________________________________________________________\n",
            "conv1d_51 (Conv1D)              (None, 4498, 16)     96          input_4[0][0]                    \n",
            "__________________________________________________________________________________________________\n",
            "conv1d_52 (Conv1D)              (None, 4498, 32)     4640        conv1d_51[0][0]                  \n",
            "__________________________________________________________________________________________________\n",
            "batch_normalization_60 (BatchNo (None, 4498, 32)     128         conv1d_52[0][0]                  \n",
            "__________________________________________________________________________________________________\n",
            "leaky_re_lu_51 (LeakyReLU)      (None, 4498, 32)     0           batch_normalization_60[0][0]     \n",
            "__________________________________________________________________________________________________\n",
            "conv1d_53 (Conv1D)              (None, 4498, 32)     7200        leaky_re_lu_51[0][0]             \n",
            "__________________________________________________________________________________________________\n",
            "batch_normalization_61 (BatchNo (None, 4498, 32)     128         conv1d_53[0][0]                  \n",
            "__________________________________________________________________________________________________\n",
            "leaky_re_lu_52 (LeakyReLU)      (None, 4498, 32)     0           batch_normalization_61[0][0]     \n",
            "__________________________________________________________________________________________________\n",
            "dropout_12 (Dropout)            (None, 4498, 32)     0           leaky_re_lu_52[0][0]             \n",
            "__________________________________________________________________________________________________\n",
            "conv1d_54 (Conv1D)              (None, 4498, 16)     4624        dropout_12[0][0]                 \n",
            "__________________________________________________________________________________________________\n",
            "batch_normalization_62 (BatchNo (None, 4498, 16)     64          conv1d_54[0][0]                  \n",
            "__________________________________________________________________________________________________\n",
            "add_12 (Add)                    (None, 4498, 16)     0           batch_normalization_62[0][0]     \n",
            "                                                                 conv1d_51[0][0]                  \n",
            "__________________________________________________________________________________________________\n",
            "batch_normalization_63 (BatchNo (None, 4498, 16)     64          add_12[0][0]                     \n",
            "__________________________________________________________________________________________________\n",
            "leaky_re_lu_53 (LeakyReLU)      (None, 4498, 16)     0           batch_normalization_63[0][0]     \n",
            "__________________________________________________________________________________________________\n",
            "conv1d_55 (Conv1D)              (None, 4498, 32)     3616        leaky_re_lu_53[0][0]             \n",
            "__________________________________________________________________________________________________\n",
            "batch_normalization_64 (BatchNo (None, 4498, 32)     128         conv1d_55[0][0]                  \n",
            "__________________________________________________________________________________________________\n",
            "leaky_re_lu_54 (LeakyReLU)      (None, 4498, 32)     0           batch_normalization_64[0][0]     \n",
            "__________________________________________________________________________________________________\n",
            "max_pooling1d_12 (MaxPooling1D) (None, 2247, 32)     0           leaky_re_lu_54[0][0]             \n",
            "__________________________________________________________________________________________________\n",
            "conv1d_56 (Conv1D)              (None, 2247, 16)     1552        max_pooling1d_12[0][0]           \n",
            "__________________________________________________________________________________________________\n",
            "batch_normalization_65 (BatchNo (None, 2247, 16)     64          conv1d_56[0][0]                  \n",
            "__________________________________________________________________________________________________\n",
            "leaky_re_lu_55 (LeakyReLU)      (None, 2247, 16)     0           batch_normalization_65[0][0]     \n",
            "__________________________________________________________________________________________________\n",
            "conv1d_57 (Conv1D)              (None, 2247, 32)     2592        leaky_re_lu_55[0][0]             \n",
            "__________________________________________________________________________________________________\n",
            "batch_normalization_66 (BatchNo (None, 2247, 32)     128         conv1d_57[0][0]                  \n",
            "__________________________________________________________________________________________________\n",
            "leaky_re_lu_56 (LeakyReLU)      (None, 2247, 32)     0           batch_normalization_66[0][0]     \n",
            "__________________________________________________________________________________________________\n",
            "dropout_13 (Dropout)            (None, 2247, 32)     0           leaky_re_lu_56[0][0]             \n",
            "__________________________________________________________________________________________________\n",
            "conv1d_58 (Conv1D)              (None, 2247, 32)     3104        dropout_13[0][0]                 \n",
            "__________________________________________________________________________________________________\n",
            "batch_normalization_67 (BatchNo (None, 2247, 32)     128         conv1d_58[0][0]                  \n",
            "__________________________________________________________________________________________________\n",
            "add_13 (Add)                    (None, 2247, 32)     0           batch_normalization_67[0][0]     \n",
            "                                                                 max_pooling1d_12[0][0]           \n",
            "__________________________________________________________________________________________________\n",
            "batch_normalization_68 (BatchNo (None, 2247, 32)     128         add_13[0][0]                     \n",
            "__________________________________________________________________________________________________\n",
            "leaky_re_lu_57 (LeakyReLU)      (None, 2247, 32)     0           batch_normalization_68[0][0]     \n",
            "__________________________________________________________________________________________________\n",
            "conv1d_59 (Conv1D)              (None, 2247, 64)     14400       leaky_re_lu_57[0][0]             \n",
            "__________________________________________________________________________________________________\n",
            "batch_normalization_69 (BatchNo (None, 2247, 64)     256         conv1d_59[0][0]                  \n",
            "__________________________________________________________________________________________________\n",
            "leaky_re_lu_58 (LeakyReLU)      (None, 2247, 64)     0           batch_normalization_69[0][0]     \n",
            "__________________________________________________________________________________________________\n",
            "max_pooling1d_13 (MaxPooling1D) (None, 748, 64)      0           leaky_re_lu_58[0][0]             \n",
            "__________________________________________________________________________________________________\n",
            "conv1d_60 (Conv1D)              (None, 748, 32)      32800       max_pooling1d_13[0][0]           \n",
            "__________________________________________________________________________________________________\n",
            "batch_normalization_70 (BatchNo (None, 748, 32)      128         conv1d_60[0][0]                  \n",
            "__________________________________________________________________________________________________\n",
            "leaky_re_lu_59 (LeakyReLU)      (None, 748, 32)      0           batch_normalization_70[0][0]     \n",
            "__________________________________________________________________________________________________\n",
            "conv1d_61 (Conv1D)              (None, 748, 64)      65600       leaky_re_lu_59[0][0]             \n",
            "__________________________________________________________________________________________________\n",
            "batch_normalization_71 (BatchNo (None, 748, 64)      256         conv1d_61[0][0]                  \n",
            "__________________________________________________________________________________________________\n",
            "leaky_re_lu_60 (LeakyReLU)      (None, 748, 64)      0           batch_normalization_71[0][0]     \n",
            "__________________________________________________________________________________________________\n",
            "conv1d_62 (Conv1D)              (None, 748, 64)      65600       leaky_re_lu_60[0][0]             \n",
            "__________________________________________________________________________________________________\n",
            "batch_normalization_72 (BatchNo (None, 748, 64)      256         conv1d_62[0][0]                  \n",
            "__________________________________________________________________________________________________\n",
            "add_14 (Add)                    (None, 748, 64)      0           batch_normalization_72[0][0]     \n",
            "                                                                 max_pooling1d_13[0][0]           \n",
            "__________________________________________________________________________________________________\n",
            "batch_normalization_73 (BatchNo (None, 748, 64)      256         add_14[0][0]                     \n",
            "__________________________________________________________________________________________________\n",
            "leaky_re_lu_61 (LeakyReLU)      (None, 748, 64)      0           batch_normalization_73[0][0]     \n",
            "__________________________________________________________________________________________________\n",
            "conv1d_63 (Conv1D)              (None, 748, 128)     57472       leaky_re_lu_61[0][0]             \n",
            "__________________________________________________________________________________________________\n",
            "batch_normalization_74 (BatchNo (None, 748, 128)     512         conv1d_63[0][0]                  \n",
            "__________________________________________________________________________________________________\n",
            "leaky_re_lu_62 (LeakyReLU)      (None, 748, 128)     0           batch_normalization_74[0][0]     \n",
            "__________________________________________________________________________________________________\n",
            "max_pooling1d_14 (MaxPooling1D) (None, 372, 128)     0           leaky_re_lu_62[0][0]             \n",
            "__________________________________________________________________________________________________\n",
            "conv1d_64 (Conv1D)              (None, 372, 64)      524352      max_pooling1d_14[0][0]           \n",
            "__________________________________________________________________________________________________\n",
            "batch_normalization_75 (BatchNo (None, 372, 64)      256         conv1d_64[0][0]                  \n",
            "__________________________________________________________________________________________________\n",
            "leaky_re_lu_63 (LeakyReLU)      (None, 372, 64)      0           batch_normalization_75[0][0]     \n",
            "__________________________________________________________________________________________________\n",
            "conv1d_65 (Conv1D)              (None, 372, 64)      524352      leaky_re_lu_63[0][0]             \n",
            "__________________________________________________________________________________________________\n",
            "batch_normalization_76 (BatchNo (None, 372, 64)      256         conv1d_65[0][0]                  \n",
            "__________________________________________________________________________________________________\n",
            "leaky_re_lu_64 (LeakyReLU)      (None, 372, 64)      0           batch_normalization_76[0][0]     \n",
            "__________________________________________________________________________________________________\n",
            "dropout_14 (Dropout)            (None, 372, 64)      0           leaky_re_lu_64[0][0]             \n",
            "__________________________________________________________________________________________________\n",
            "conv1d_66 (Conv1D)              (None, 372, 128)     524416      dropout_14[0][0]                 \n",
            "__________________________________________________________________________________________________\n",
            "batch_normalization_77 (BatchNo (None, 372, 128)     512         conv1d_66[0][0]                  \n",
            "__________________________________________________________________________________________________\n",
            "add_15 (Add)                    (None, 372, 128)     0           batch_normalization_77[0][0]     \n",
            "                                                                 max_pooling1d_14[0][0]           \n",
            "__________________________________________________________________________________________________\n",
            "batch_normalization_78 (BatchNo (None, 372, 128)     512         add_15[0][0]                     \n",
            "__________________________________________________________________________________________________\n",
            "leaky_re_lu_65 (LeakyReLU)      (None, 372, 128)     0           batch_normalization_78[0][0]     \n",
            "__________________________________________________________________________________________________\n",
            "conv1d_67 (Conv1D)              (None, 372, 256)     229632      leaky_re_lu_65[0][0]             \n",
            "__________________________________________________________________________________________________\n",
            "batch_normalization_79 (BatchNo (None, 372, 256)     1024        conv1d_67[0][0]                  \n",
            "__________________________________________________________________________________________________\n",
            "leaky_re_lu_66 (LeakyReLU)      (None, 372, 256)     0           batch_normalization_79[0][0]     \n",
            "__________________________________________________________________________________________________\n",
            "max_pooling1d_15 (MaxPooling1D) (None, 123, 256)     0           leaky_re_lu_66[0][0]             \n",
            "__________________________________________________________________________________________________\n",
            "flatten_3 (Flatten)             (None, 31488)        0           max_pooling1d_15[0][0]           \n",
            "__________________________________________________________________________________________________\n",
            "dense (Dense)                   (None, 2048)         64489472    flatten_3[0][0]                  \n",
            "__________________________________________________________________________________________________\n",
            "dropout (Dropout)               (None, 2048)         0           dense[0][0]                      \n",
            "__________________________________________________________________________________________________\n",
            "re_lu (ReLU)                    (None, 2048)         0           dropout[0][0]                    \n",
            "__________________________________________________________________________________________________\n",
            "dense_1 (Dense)                 (None, 512)          1049088     re_lu[0][0]                      \n",
            "__________________________________________________________________________________________________\n",
            "dropout_1 (Dropout)             (None, 512)          0           dense_1[0][0]                    \n",
            "__________________________________________________________________________________________________\n",
            "re_lu_1 (ReLU)                  (None, 512)          0           dropout_1[0][0]                  \n",
            "__________________________________________________________________________________________________\n",
            "dense_2 (Dense)                 (None, 5)            2565        re_lu_1[0][0]                    \n",
            "__________________________________________________________________________________________________\n",
            "softmax (Softmax)               (None, 5)            0           dense_2[0][0]                    \n",
            "==================================================================================================\n",
            "Total params: 67,612,357\n",
            "Trainable params: 66,297,765\n",
            "Non-trainable params: 1,314,592\n",
            "__________________________________________________________________________________________________\n"
          ],
          "name": "stdout"
        }
      ]
    },
    {
      "cell_type": "code",
      "metadata": {
        "id": "J51SxpfQofzM",
        "colab_type": "code",
        "colab": {
          "base_uri": "https://localhost:8080/",
          "height": 673
        },
        "outputId": "f9e28a64-e161-4282-84e7-b47f1358b4df"
      },
      "source": [
        "# compile model\n",
        "new_model.compile(loss='categorical_crossentropy', optimizer='adam', metrics=['accuracy'])\n",
        "\n",
        "# Early Stopping\n",
        "es_callback = tf.keras.callbacks.EarlyStopping(monitor='val_loss', patience=3)\n",
        "\n",
        "# Fit the model\n",
        "new_model.fit(X_train, Y_train, epochs=10, batch_size=64, validation_data=(X_test, Y_test), callbacks=[es_callback])"
      ],
      "execution_count": 25,
      "outputs": [
        {
          "output_type": "stream",
          "text": [
            "Epoch 1/10\n",
            "244/244 [==============================] - 2220s 9s/step - loss: 1.2084 - accuracy: 0.7415 - val_loss: 1.2894 - val_accuracy: 0.3808\n",
            "Epoch 2/10\n",
            "244/244 [==============================] - 2211s 9s/step - loss: 0.4084 - accuracy: 0.8545 - val_loss: 1.0171 - val_accuracy: 0.6544\n",
            "Epoch 3/10\n",
            "244/244 [==============================] - 2200s 9s/step - loss: 0.3117 - accuracy: 0.8906 - val_loss: 0.8144 - val_accuracy: 0.7264\n",
            "Epoch 4/10\n",
            "244/244 [==============================] - 2216s 9s/step - loss: 0.2602 - accuracy: 0.9090 - val_loss: 0.6949 - val_accuracy: 0.7812\n",
            "Epoch 5/10\n",
            "244/244 [==============================] - 2215s 9s/step - loss: 0.2217 - accuracy: 0.9195 - val_loss: 0.6057 - val_accuracy: 0.7172\n",
            "Epoch 6/10\n",
            "244/244 [==============================] - 2213s 9s/step - loss: 0.1943 - accuracy: 0.9302 - val_loss: 0.5836 - val_accuracy: 0.8324\n",
            "Epoch 7/10\n",
            "244/244 [==============================] - 2219s 9s/step - loss: 0.1654 - accuracy: 0.9412 - val_loss: 0.5274 - val_accuracy: 0.8416\n",
            "Epoch 8/10\n",
            "244/244 [==============================] - 2210s 9s/step - loss: 0.1447 - accuracy: 0.9482 - val_loss: 0.7057 - val_accuracy: 0.7044\n",
            "Epoch 9/10\n",
            "244/244 [==============================] - 2233s 9s/step - loss: 0.1359 - accuracy: 0.9523 - val_loss: 0.7274 - val_accuracy: 0.6900\n",
            "Epoch 10/10\n",
            " 83/244 [=========>....................] - ETA: 22:56 - loss: 0.1069 - accuracy: 0.9650"
          ],
          "name": "stdout"
        },
        {
          "output_type": "error",
          "ename": "KeyboardInterrupt",
          "evalue": "ignored",
          "traceback": [
            "\u001b[0;31m---------------------------------------------------------------------------\u001b[0m",
            "\u001b[0;31mKeyboardInterrupt\u001b[0m                         Traceback (most recent call last)",
            "\u001b[0;32m<ipython-input-25-75f3488c3345>\u001b[0m in \u001b[0;36m<module>\u001b[0;34m()\u001b[0m\n\u001b[1;32m      6\u001b[0m \u001b[0;34m\u001b[0m\u001b[0m\n\u001b[1;32m      7\u001b[0m \u001b[0;31m# Fit the model\u001b[0m\u001b[0;34m\u001b[0m\u001b[0;34m\u001b[0m\u001b[0;34m\u001b[0m\u001b[0m\n\u001b[0;32m----> 8\u001b[0;31m \u001b[0mnew_model\u001b[0m\u001b[0;34m.\u001b[0m\u001b[0mfit\u001b[0m\u001b[0;34m(\u001b[0m\u001b[0mX_train\u001b[0m\u001b[0;34m,\u001b[0m \u001b[0mY_train\u001b[0m\u001b[0;34m,\u001b[0m \u001b[0mepochs\u001b[0m\u001b[0;34m=\u001b[0m\u001b[0;36m10\u001b[0m\u001b[0;34m,\u001b[0m \u001b[0mbatch_size\u001b[0m\u001b[0;34m=\u001b[0m\u001b[0;36m64\u001b[0m\u001b[0;34m,\u001b[0m \u001b[0mvalidation_data\u001b[0m\u001b[0;34m=\u001b[0m\u001b[0;34m(\u001b[0m\u001b[0mX_test\u001b[0m\u001b[0;34m,\u001b[0m \u001b[0mY_test\u001b[0m\u001b[0;34m)\u001b[0m\u001b[0;34m,\u001b[0m \u001b[0mcallbacks\u001b[0m\u001b[0;34m=\u001b[0m\u001b[0;34m[\u001b[0m\u001b[0mes_callback\u001b[0m\u001b[0;34m]\u001b[0m\u001b[0;34m)\u001b[0m\u001b[0;34m\u001b[0m\u001b[0;34m\u001b[0m\u001b[0m\n\u001b[0m",
            "\u001b[0;32m/usr/local/lib/python3.6/dist-packages/tensorflow/python/keras/engine/training.py\u001b[0m in \u001b[0;36m_method_wrapper\u001b[0;34m(self, *args, **kwargs)\u001b[0m\n\u001b[1;32m     64\u001b[0m   \u001b[0;32mdef\u001b[0m \u001b[0m_method_wrapper\u001b[0m\u001b[0;34m(\u001b[0m\u001b[0mself\u001b[0m\u001b[0;34m,\u001b[0m \u001b[0;34m*\u001b[0m\u001b[0margs\u001b[0m\u001b[0;34m,\u001b[0m \u001b[0;34m**\u001b[0m\u001b[0mkwargs\u001b[0m\u001b[0;34m)\u001b[0m\u001b[0;34m:\u001b[0m\u001b[0;34m\u001b[0m\u001b[0;34m\u001b[0m\u001b[0m\n\u001b[1;32m     65\u001b[0m     \u001b[0;32mif\u001b[0m \u001b[0;32mnot\u001b[0m \u001b[0mself\u001b[0m\u001b[0;34m.\u001b[0m\u001b[0m_in_multi_worker_mode\u001b[0m\u001b[0;34m(\u001b[0m\u001b[0;34m)\u001b[0m\u001b[0;34m:\u001b[0m  \u001b[0;31m# pylint: disable=protected-access\u001b[0m\u001b[0;34m\u001b[0m\u001b[0;34m\u001b[0m\u001b[0m\n\u001b[0;32m---> 66\u001b[0;31m       \u001b[0;32mreturn\u001b[0m \u001b[0mmethod\u001b[0m\u001b[0;34m(\u001b[0m\u001b[0mself\u001b[0m\u001b[0;34m,\u001b[0m \u001b[0;34m*\u001b[0m\u001b[0margs\u001b[0m\u001b[0;34m,\u001b[0m \u001b[0;34m**\u001b[0m\u001b[0mkwargs\u001b[0m\u001b[0;34m)\u001b[0m\u001b[0;34m\u001b[0m\u001b[0;34m\u001b[0m\u001b[0m\n\u001b[0m\u001b[1;32m     67\u001b[0m \u001b[0;34m\u001b[0m\u001b[0m\n\u001b[1;32m     68\u001b[0m     \u001b[0;31m# Running inside `run_distribute_coordinator` already.\u001b[0m\u001b[0;34m\u001b[0m\u001b[0;34m\u001b[0m\u001b[0;34m\u001b[0m\u001b[0m\n",
            "\u001b[0;32m/usr/local/lib/python3.6/dist-packages/tensorflow/python/keras/engine/training.py\u001b[0m in \u001b[0;36mfit\u001b[0;34m(self, x, y, batch_size, epochs, verbose, callbacks, validation_split, validation_data, shuffle, class_weight, sample_weight, initial_epoch, steps_per_epoch, validation_steps, validation_batch_size, validation_freq, max_queue_size, workers, use_multiprocessing)\u001b[0m\n\u001b[1;32m    846\u001b[0m                 batch_size=batch_size):\n\u001b[1;32m    847\u001b[0m               \u001b[0mcallbacks\u001b[0m\u001b[0;34m.\u001b[0m\u001b[0mon_train_batch_begin\u001b[0m\u001b[0;34m(\u001b[0m\u001b[0mstep\u001b[0m\u001b[0;34m)\u001b[0m\u001b[0;34m\u001b[0m\u001b[0;34m\u001b[0m\u001b[0m\n\u001b[0;32m--> 848\u001b[0;31m               \u001b[0mtmp_logs\u001b[0m \u001b[0;34m=\u001b[0m \u001b[0mtrain_function\u001b[0m\u001b[0;34m(\u001b[0m\u001b[0miterator\u001b[0m\u001b[0;34m)\u001b[0m\u001b[0;34m\u001b[0m\u001b[0;34m\u001b[0m\u001b[0m\n\u001b[0m\u001b[1;32m    849\u001b[0m               \u001b[0;31m# Catch OutOfRangeError for Datasets of unknown size.\u001b[0m\u001b[0;34m\u001b[0m\u001b[0;34m\u001b[0m\u001b[0;34m\u001b[0m\u001b[0m\n\u001b[1;32m    850\u001b[0m               \u001b[0;31m# This blocks until the batch has finished executing.\u001b[0m\u001b[0;34m\u001b[0m\u001b[0;34m\u001b[0m\u001b[0;34m\u001b[0m\u001b[0m\n",
            "\u001b[0;32m/usr/local/lib/python3.6/dist-packages/tensorflow/python/eager/def_function.py\u001b[0m in \u001b[0;36m__call__\u001b[0;34m(self, *args, **kwds)\u001b[0m\n\u001b[1;32m    578\u001b[0m         \u001b[0mxla_context\u001b[0m\u001b[0;34m.\u001b[0m\u001b[0mExit\u001b[0m\u001b[0;34m(\u001b[0m\u001b[0;34m)\u001b[0m\u001b[0;34m\u001b[0m\u001b[0;34m\u001b[0m\u001b[0m\n\u001b[1;32m    579\u001b[0m     \u001b[0;32melse\u001b[0m\u001b[0;34m:\u001b[0m\u001b[0;34m\u001b[0m\u001b[0;34m\u001b[0m\u001b[0m\n\u001b[0;32m--> 580\u001b[0;31m       \u001b[0mresult\u001b[0m \u001b[0;34m=\u001b[0m \u001b[0mself\u001b[0m\u001b[0;34m.\u001b[0m\u001b[0m_call\u001b[0m\u001b[0;34m(\u001b[0m\u001b[0;34m*\u001b[0m\u001b[0margs\u001b[0m\u001b[0;34m,\u001b[0m \u001b[0;34m**\u001b[0m\u001b[0mkwds\u001b[0m\u001b[0;34m)\u001b[0m\u001b[0;34m\u001b[0m\u001b[0;34m\u001b[0m\u001b[0m\n\u001b[0m\u001b[1;32m    581\u001b[0m \u001b[0;34m\u001b[0m\u001b[0m\n\u001b[1;32m    582\u001b[0m     \u001b[0;32mif\u001b[0m \u001b[0mtracing_count\u001b[0m \u001b[0;34m==\u001b[0m \u001b[0mself\u001b[0m\u001b[0;34m.\u001b[0m\u001b[0m_get_tracing_count\u001b[0m\u001b[0;34m(\u001b[0m\u001b[0;34m)\u001b[0m\u001b[0;34m:\u001b[0m\u001b[0;34m\u001b[0m\u001b[0;34m\u001b[0m\u001b[0m\n",
            "\u001b[0;32m/usr/local/lib/python3.6/dist-packages/tensorflow/python/eager/def_function.py\u001b[0m in \u001b[0;36m_call\u001b[0;34m(self, *args, **kwds)\u001b[0m\n\u001b[1;32m    609\u001b[0m       \u001b[0;31m# In this case we have created variables on the first call, so we run the\u001b[0m\u001b[0;34m\u001b[0m\u001b[0;34m\u001b[0m\u001b[0;34m\u001b[0m\u001b[0m\n\u001b[1;32m    610\u001b[0m       \u001b[0;31m# defunned version which is guaranteed to never create variables.\u001b[0m\u001b[0;34m\u001b[0m\u001b[0;34m\u001b[0m\u001b[0;34m\u001b[0m\u001b[0m\n\u001b[0;32m--> 611\u001b[0;31m       \u001b[0;32mreturn\u001b[0m \u001b[0mself\u001b[0m\u001b[0;34m.\u001b[0m\u001b[0m_stateless_fn\u001b[0m\u001b[0;34m(\u001b[0m\u001b[0;34m*\u001b[0m\u001b[0margs\u001b[0m\u001b[0;34m,\u001b[0m \u001b[0;34m**\u001b[0m\u001b[0mkwds\u001b[0m\u001b[0;34m)\u001b[0m  \u001b[0;31m# pylint: disable=not-callable\u001b[0m\u001b[0;34m\u001b[0m\u001b[0;34m\u001b[0m\u001b[0m\n\u001b[0m\u001b[1;32m    612\u001b[0m     \u001b[0;32melif\u001b[0m \u001b[0mself\u001b[0m\u001b[0;34m.\u001b[0m\u001b[0m_stateful_fn\u001b[0m \u001b[0;32mis\u001b[0m \u001b[0;32mnot\u001b[0m \u001b[0;32mNone\u001b[0m\u001b[0;34m:\u001b[0m\u001b[0;34m\u001b[0m\u001b[0;34m\u001b[0m\u001b[0m\n\u001b[1;32m    613\u001b[0m       \u001b[0;31m# Release the lock early so that multiple threads can perform the call\u001b[0m\u001b[0;34m\u001b[0m\u001b[0;34m\u001b[0m\u001b[0;34m\u001b[0m\u001b[0m\n",
            "\u001b[0;32m/usr/local/lib/python3.6/dist-packages/tensorflow/python/eager/function.py\u001b[0m in \u001b[0;36m__call__\u001b[0;34m(self, *args, **kwargs)\u001b[0m\n\u001b[1;32m   2418\u001b[0m     \u001b[0;32mwith\u001b[0m \u001b[0mself\u001b[0m\u001b[0;34m.\u001b[0m\u001b[0m_lock\u001b[0m\u001b[0;34m:\u001b[0m\u001b[0;34m\u001b[0m\u001b[0;34m\u001b[0m\u001b[0m\n\u001b[1;32m   2419\u001b[0m       \u001b[0mgraph_function\u001b[0m\u001b[0;34m,\u001b[0m \u001b[0margs\u001b[0m\u001b[0;34m,\u001b[0m \u001b[0mkwargs\u001b[0m \u001b[0;34m=\u001b[0m \u001b[0mself\u001b[0m\u001b[0;34m.\u001b[0m\u001b[0m_maybe_define_function\u001b[0m\u001b[0;34m(\u001b[0m\u001b[0margs\u001b[0m\u001b[0;34m,\u001b[0m \u001b[0mkwargs\u001b[0m\u001b[0;34m)\u001b[0m\u001b[0;34m\u001b[0m\u001b[0;34m\u001b[0m\u001b[0m\n\u001b[0;32m-> 2420\u001b[0;31m     \u001b[0;32mreturn\u001b[0m \u001b[0mgraph_function\u001b[0m\u001b[0;34m.\u001b[0m\u001b[0m_filtered_call\u001b[0m\u001b[0;34m(\u001b[0m\u001b[0margs\u001b[0m\u001b[0;34m,\u001b[0m \u001b[0mkwargs\u001b[0m\u001b[0;34m)\u001b[0m  \u001b[0;31m# pylint: disable=protected-access\u001b[0m\u001b[0;34m\u001b[0m\u001b[0;34m\u001b[0m\u001b[0m\n\u001b[0m\u001b[1;32m   2421\u001b[0m \u001b[0;34m\u001b[0m\u001b[0m\n\u001b[1;32m   2422\u001b[0m   \u001b[0;34m@\u001b[0m\u001b[0mproperty\u001b[0m\u001b[0;34m\u001b[0m\u001b[0;34m\u001b[0m\u001b[0m\n",
            "\u001b[0;32m/usr/local/lib/python3.6/dist-packages/tensorflow/python/eager/function.py\u001b[0m in \u001b[0;36m_filtered_call\u001b[0;34m(self, args, kwargs)\u001b[0m\n\u001b[1;32m   1663\u001b[0m          if isinstance(t, (ops.Tensor,\n\u001b[1;32m   1664\u001b[0m                            resource_variable_ops.BaseResourceVariable))),\n\u001b[0;32m-> 1665\u001b[0;31m         self.captured_inputs)\n\u001b[0m\u001b[1;32m   1666\u001b[0m \u001b[0;34m\u001b[0m\u001b[0m\n\u001b[1;32m   1667\u001b[0m   \u001b[0;32mdef\u001b[0m \u001b[0m_call_flat\u001b[0m\u001b[0;34m(\u001b[0m\u001b[0mself\u001b[0m\u001b[0;34m,\u001b[0m \u001b[0margs\u001b[0m\u001b[0;34m,\u001b[0m \u001b[0mcaptured_inputs\u001b[0m\u001b[0;34m,\u001b[0m \u001b[0mcancellation_manager\u001b[0m\u001b[0;34m=\u001b[0m\u001b[0;32mNone\u001b[0m\u001b[0;34m)\u001b[0m\u001b[0;34m:\u001b[0m\u001b[0;34m\u001b[0m\u001b[0;34m\u001b[0m\u001b[0m\n",
            "\u001b[0;32m/usr/local/lib/python3.6/dist-packages/tensorflow/python/eager/function.py\u001b[0m in \u001b[0;36m_call_flat\u001b[0;34m(self, args, captured_inputs, cancellation_manager)\u001b[0m\n\u001b[1;32m   1744\u001b[0m       \u001b[0;31m# No tape is watching; skip to running the function.\u001b[0m\u001b[0;34m\u001b[0m\u001b[0;34m\u001b[0m\u001b[0;34m\u001b[0m\u001b[0m\n\u001b[1;32m   1745\u001b[0m       return self._build_call_outputs(self._inference_function.call(\n\u001b[0;32m-> 1746\u001b[0;31m           ctx, args, cancellation_manager=cancellation_manager))\n\u001b[0m\u001b[1;32m   1747\u001b[0m     forward_backward = self._select_forward_and_backward_functions(\n\u001b[1;32m   1748\u001b[0m         \u001b[0margs\u001b[0m\u001b[0;34m,\u001b[0m\u001b[0;34m\u001b[0m\u001b[0;34m\u001b[0m\u001b[0m\n",
            "\u001b[0;32m/usr/local/lib/python3.6/dist-packages/tensorflow/python/eager/function.py\u001b[0m in \u001b[0;36mcall\u001b[0;34m(self, ctx, args, cancellation_manager)\u001b[0m\n\u001b[1;32m    596\u001b[0m               \u001b[0minputs\u001b[0m\u001b[0;34m=\u001b[0m\u001b[0margs\u001b[0m\u001b[0;34m,\u001b[0m\u001b[0;34m\u001b[0m\u001b[0;34m\u001b[0m\u001b[0m\n\u001b[1;32m    597\u001b[0m               \u001b[0mattrs\u001b[0m\u001b[0;34m=\u001b[0m\u001b[0mattrs\u001b[0m\u001b[0;34m,\u001b[0m\u001b[0;34m\u001b[0m\u001b[0;34m\u001b[0m\u001b[0m\n\u001b[0;32m--> 598\u001b[0;31m               ctx=ctx)\n\u001b[0m\u001b[1;32m    599\u001b[0m         \u001b[0;32melse\u001b[0m\u001b[0;34m:\u001b[0m\u001b[0;34m\u001b[0m\u001b[0;34m\u001b[0m\u001b[0m\n\u001b[1;32m    600\u001b[0m           outputs = execute.execute_with_cancellation(\n",
            "\u001b[0;32m/usr/local/lib/python3.6/dist-packages/tensorflow/python/eager/execute.py\u001b[0m in \u001b[0;36mquick_execute\u001b[0;34m(op_name, num_outputs, inputs, attrs, ctx, name)\u001b[0m\n\u001b[1;32m     58\u001b[0m     \u001b[0mctx\u001b[0m\u001b[0;34m.\u001b[0m\u001b[0mensure_initialized\u001b[0m\u001b[0;34m(\u001b[0m\u001b[0;34m)\u001b[0m\u001b[0;34m\u001b[0m\u001b[0;34m\u001b[0m\u001b[0m\n\u001b[1;32m     59\u001b[0m     tensors = pywrap_tfe.TFE_Py_Execute(ctx._handle, device_name, op_name,\n\u001b[0;32m---> 60\u001b[0;31m                                         inputs, attrs, num_outputs)\n\u001b[0m\u001b[1;32m     61\u001b[0m   \u001b[0;32mexcept\u001b[0m \u001b[0mcore\u001b[0m\u001b[0;34m.\u001b[0m\u001b[0m_NotOkStatusException\u001b[0m \u001b[0;32mas\u001b[0m \u001b[0me\u001b[0m\u001b[0;34m:\u001b[0m\u001b[0;34m\u001b[0m\u001b[0;34m\u001b[0m\u001b[0m\n\u001b[1;32m     62\u001b[0m     \u001b[0;32mif\u001b[0m \u001b[0mname\u001b[0m \u001b[0;32mis\u001b[0m \u001b[0;32mnot\u001b[0m \u001b[0;32mNone\u001b[0m\u001b[0;34m:\u001b[0m\u001b[0;34m\u001b[0m\u001b[0;34m\u001b[0m\u001b[0m\n",
            "\u001b[0;31mKeyboardInterrupt\u001b[0m: "
          ]
        }
      ]
    },
    {
      "cell_type": "code",
      "metadata": {
        "id": "9uKkgNtLp-sH",
        "colab_type": "code",
        "colab": {}
      },
      "source": [
        ""
      ],
      "execution_count": 0,
      "outputs": []
    }
  ]
}