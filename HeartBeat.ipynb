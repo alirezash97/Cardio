{
  "nbformat": 4,
  "nbformat_minor": 0,
  "metadata": {
    "colab": {
      "name": "Untitled8.ipynb",
      "provenance": [],
      "authorship_tag": "ABX9TyP1Cml8kh3RhL7CpTIE5kMq",
      "include_colab_link": true
    },
    "kernelspec": {
      "name": "python3",
      "display_name": "Python 3"
    }
  },
  "cells": [
    {
      "cell_type": "markdown",
      "metadata": {
        "id": "view-in-github",
        "colab_type": "text"
      },
      "source": [
        "<a href=\"https://colab.research.google.com/github/alirezash97/Cardio/blob/master/HeartBeat.ipynb\" target=\"_parent\"><img src=\"https://colab.research.google.com/assets/colab-badge.svg\" alt=\"Open In Colab\"/></a>"
      ]
    },
    {
      "cell_type": "code",
      "metadata": {
        "id": "-aUFDobFVvj1",
        "colab_type": "code",
        "colab": {}
      },
      "source": [
        "!pip install kaggle\n",
        "!mkdir .kaggle\n",
        "import json\n",
        "token = {\"username\":\"alirezashafaei97\",\"key\":\"9cb262aa0c5658ffc4eb45857c41903c\"}\n",
        "with open('/content/.kaggle/kaggle.json', 'w') as file:\n",
        "    json.dump(token, file)\n",
        "!mkdir ~/.kaggle\n",
        "!cp /content/.kaggle/kaggle.json ~/.kaggle/kaggle.json\n",
        "!kaggle config set -n path -v{/content}\n",
        "!chmod 600 /root/.kaggle/kaggle.json\n",
        "!kaggle datasets download -d shayanfazeli/heartbeat -p /content\n",
        "!unzip /content/heartbeat.zip -d /content/heartbeat"
      ],
      "execution_count": 0,
      "outputs": []
    },
    {
      "cell_type": "code",
      "metadata": {
        "id": "Sio7SWAwWBLj",
        "colab_type": "code",
        "colab": {
          "base_uri": "https://localhost:8080/",
          "height": 34
        },
        "outputId": "670a0284-35fa-4f40-a42a-9c41ecd8854e"
      },
      "source": [
        "import pandas as pd\n",
        "import tensorflow as tf \n",
        "import numpy as np\n",
        "import matplotlib.pyplot as plt\n",
        "from tensorflow.keras.models import load_model, Sequential, Model\n",
        "from tensorflow.keras.layers import (Input, Dense, LeakyReLU, Softmax, InputLayer, concatenate, Conv1D, MaxPool1D, Add\n",
        " , Flatten, Dropout, ReLU, BatchNormalization, GlobalAveragePooling1D)\n",
        "from keras.utils.np_utils import to_categorical\n",
        "from tensorflow.keras import backend as K\n",
        "from tensorflow.keras import regularizers\n",
        "from random import uniform \n",
        "import random\n",
        "\n",
        "\n",
        "from sklearn.preprocessing import OneHotEncoder\n",
        "from scipy.sparse import csr_matrix\n"
      ],
      "execution_count": 112,
      "outputs": [
        {
          "output_type": "stream",
          "text": [
            "Using TensorFlow backend.\n"
          ],
          "name": "stderr"
        }
      ]
    },
    {
      "cell_type": "code",
      "metadata": {
        "id": "DTudiQO8WEXT",
        "colab_type": "code",
        "colab": {}
      },
      "source": [
        "train_df=pd.read_csv('/content/heartbeat/mitbih_train.csv',header=None)\n",
        "test_df=pd.read_csv('/content/heartbeat/mitbih_test.csv',header=None)"
      ],
      "execution_count": 0,
      "outputs": []
    },
    {
      "cell_type": "code",
      "metadata": {
        "id": "i58wFx5vXQS7",
        "colab_type": "code",
        "outputId": "c8272cc4-6cfe-416c-f371-db747877589e",
        "colab": {
          "base_uri": "https://localhost:8080/",
          "height": 118
        }
      },
      "source": [
        "train_df[187]=train_df[187].astype(int)\n",
        "counter=train_df[187].value_counts()\n",
        "print(counter)"
      ],
      "execution_count": 109,
      "outputs": [
        {
          "output_type": "stream",
          "text": [
            "0    72471\n",
            "4     6431\n",
            "2     5788\n",
            "1     2223\n",
            "3      641\n",
            "Name: 187, dtype: int64\n"
          ],
          "name": "stdout"
        }
      ]
    },
    {
      "cell_type": "code",
      "metadata": {
        "id": "asQqNZG2q59y",
        "colab_type": "code",
        "colab": {}
      },
      "source": [
        "from sklearn.utils import resample\n",
        "df_1=train_df[train_df[187]==1]\n",
        "df_2=train_df[train_df[187]==2]\n",
        "df_3=train_df[train_df[187]==3]\n",
        "df_4=train_df[train_df[187]==4]\n",
        "df_0=(train_df[train_df[187]==0]).sample(n=20000,random_state=42)\n",
        "\n",
        "df_1_upsample=resample(df_1,replace=True,n_samples=20000,random_state=123)\n",
        "df_2_upsample=resample(df_2,replace=True,n_samples=20000,random_state=124)\n",
        "df_3_upsample=resample(df_3,replace=True,n_samples=20000,random_state=125)\n",
        "df_4_upsample=resample(df_4,replace=True,n_samples=20000,random_state=126)\n",
        "\n",
        "train_df=pd.concat([df_0,df_1_upsample,df_2_upsample,df_3_upsample,df_4_upsample])"
      ],
      "execution_count": 0,
      "outputs": []
    },
    {
      "cell_type": "code",
      "metadata": {
        "id": "bomIXpkCrozb",
        "colab_type": "code",
        "colab": {}
      },
      "source": [
        "target_train=train_df[187]\n",
        "target_test=test_df[187]\n",
        "y_train=to_categorical(target_train)\n",
        "y_test=to_categorical(target_test)"
      ],
      "execution_count": 0,
      "outputs": []
    },
    {
      "cell_type": "code",
      "metadata": {
        "id": "yYBctv4Tr58D",
        "colab_type": "code",
        "colab": {
          "base_uri": "https://localhost:8080/",
          "height": 118
        },
        "outputId": "63f295a5-9998-42ac-f406-00bf206e564f"
      },
      "source": [
        "equilibre=train_df[187].value_counts()\n",
        "print(equilibre)"
      ],
      "execution_count": 114,
      "outputs": [
        {
          "output_type": "stream",
          "text": [
            "4    20000\n",
            "3    20000\n",
            "2    20000\n",
            "1    20000\n",
            "0    20000\n",
            "Name: 187, dtype: int64\n"
          ],
          "name": "stdout"
        }
      ]
    },
    {
      "cell_type": "code",
      "metadata": {
        "id": "vX3HJfHYr605",
        "colab_type": "code",
        "colab": {
          "base_uri": "https://localhost:8080/",
          "height": 244
        },
        "outputId": "920aa7a6-78f0-4872-c3fa-ffa13cb2ef99"
      },
      "source": [
        "c=train_df.groupby(187,group_keys=False).apply(lambda train_df : train_df.sample(1))\n",
        "c"
      ],
      "execution_count": 115,
      "outputs": [
        {
          "output_type": "execute_result",
          "data": {
            "text/html": [
              "<div>\n",
              "<style scoped>\n",
              "    .dataframe tbody tr th:only-of-type {\n",
              "        vertical-align: middle;\n",
              "    }\n",
              "\n",
              "    .dataframe tbody tr th {\n",
              "        vertical-align: top;\n",
              "    }\n",
              "\n",
              "    .dataframe thead th {\n",
              "        text-align: right;\n",
              "    }\n",
              "</style>\n",
              "<table border=\"1\" class=\"dataframe\">\n",
              "  <thead>\n",
              "    <tr style=\"text-align: right;\">\n",
              "      <th></th>\n",
              "      <th>0</th>\n",
              "      <th>1</th>\n",
              "      <th>2</th>\n",
              "      <th>3</th>\n",
              "      <th>4</th>\n",
              "      <th>5</th>\n",
              "      <th>6</th>\n",
              "      <th>7</th>\n",
              "      <th>8</th>\n",
              "      <th>9</th>\n",
              "      <th>10</th>\n",
              "      <th>11</th>\n",
              "      <th>12</th>\n",
              "      <th>13</th>\n",
              "      <th>14</th>\n",
              "      <th>15</th>\n",
              "      <th>16</th>\n",
              "      <th>17</th>\n",
              "      <th>18</th>\n",
              "      <th>19</th>\n",
              "      <th>20</th>\n",
              "      <th>21</th>\n",
              "      <th>22</th>\n",
              "      <th>23</th>\n",
              "      <th>24</th>\n",
              "      <th>25</th>\n",
              "      <th>26</th>\n",
              "      <th>27</th>\n",
              "      <th>28</th>\n",
              "      <th>29</th>\n",
              "      <th>30</th>\n",
              "      <th>31</th>\n",
              "      <th>32</th>\n",
              "      <th>33</th>\n",
              "      <th>34</th>\n",
              "      <th>35</th>\n",
              "      <th>36</th>\n",
              "      <th>37</th>\n",
              "      <th>38</th>\n",
              "      <th>39</th>\n",
              "      <th>...</th>\n",
              "      <th>148</th>\n",
              "      <th>149</th>\n",
              "      <th>150</th>\n",
              "      <th>151</th>\n",
              "      <th>152</th>\n",
              "      <th>153</th>\n",
              "      <th>154</th>\n",
              "      <th>155</th>\n",
              "      <th>156</th>\n",
              "      <th>157</th>\n",
              "      <th>158</th>\n",
              "      <th>159</th>\n",
              "      <th>160</th>\n",
              "      <th>161</th>\n",
              "      <th>162</th>\n",
              "      <th>163</th>\n",
              "      <th>164</th>\n",
              "      <th>165</th>\n",
              "      <th>166</th>\n",
              "      <th>167</th>\n",
              "      <th>168</th>\n",
              "      <th>169</th>\n",
              "      <th>170</th>\n",
              "      <th>171</th>\n",
              "      <th>172</th>\n",
              "      <th>173</th>\n",
              "      <th>174</th>\n",
              "      <th>175</th>\n",
              "      <th>176</th>\n",
              "      <th>177</th>\n",
              "      <th>178</th>\n",
              "      <th>179</th>\n",
              "      <th>180</th>\n",
              "      <th>181</th>\n",
              "      <th>182</th>\n",
              "      <th>183</th>\n",
              "      <th>184</th>\n",
              "      <th>185</th>\n",
              "      <th>186</th>\n",
              "      <th>187</th>\n",
              "    </tr>\n",
              "  </thead>\n",
              "  <tbody>\n",
              "    <tr>\n",
              "      <th>20149</th>\n",
              "      <td>1.000000</td>\n",
              "      <td>0.823529</td>\n",
              "      <td>0.620321</td>\n",
              "      <td>0.334225</td>\n",
              "      <td>0.208556</td>\n",
              "      <td>0.128342</td>\n",
              "      <td>0.120321</td>\n",
              "      <td>0.165775</td>\n",
              "      <td>0.195187</td>\n",
              "      <td>0.237968</td>\n",
              "      <td>0.237968</td>\n",
              "      <td>0.141711</td>\n",
              "      <td>0.125668</td>\n",
              "      <td>0.254011</td>\n",
              "      <td>0.427807</td>\n",
              "      <td>0.526738</td>\n",
              "      <td>0.540107</td>\n",
              "      <td>0.529412</td>\n",
              "      <td>0.481283</td>\n",
              "      <td>0.449198</td>\n",
              "      <td>0.443850</td>\n",
              "      <td>0.422460</td>\n",
              "      <td>0.406417</td>\n",
              "      <td>0.398396</td>\n",
              "      <td>0.406417</td>\n",
              "      <td>0.454545</td>\n",
              "      <td>0.454545</td>\n",
              "      <td>0.465241</td>\n",
              "      <td>0.489305</td>\n",
              "      <td>0.513369</td>\n",
              "      <td>0.508021</td>\n",
              "      <td>0.532086</td>\n",
              "      <td>0.524064</td>\n",
              "      <td>0.516043</td>\n",
              "      <td>0.478610</td>\n",
              "      <td>0.475936</td>\n",
              "      <td>0.427807</td>\n",
              "      <td>0.393048</td>\n",
              "      <td>0.385027</td>\n",
              "      <td>0.339572</td>\n",
              "      <td>...</td>\n",
              "      <td>0.0</td>\n",
              "      <td>0.0</td>\n",
              "      <td>0.0</td>\n",
              "      <td>0.0</td>\n",
              "      <td>0.0</td>\n",
              "      <td>0.0</td>\n",
              "      <td>0.0</td>\n",
              "      <td>0.0</td>\n",
              "      <td>0.0</td>\n",
              "      <td>0.0</td>\n",
              "      <td>0.0</td>\n",
              "      <td>0.0</td>\n",
              "      <td>0.0</td>\n",
              "      <td>0.0</td>\n",
              "      <td>0.0</td>\n",
              "      <td>0.0</td>\n",
              "      <td>0.0</td>\n",
              "      <td>0.0</td>\n",
              "      <td>0.0</td>\n",
              "      <td>0.0</td>\n",
              "      <td>0.0</td>\n",
              "      <td>0.0</td>\n",
              "      <td>0.0</td>\n",
              "      <td>0.0</td>\n",
              "      <td>0.0</td>\n",
              "      <td>0.0</td>\n",
              "      <td>0.0</td>\n",
              "      <td>0.0</td>\n",
              "      <td>0.0</td>\n",
              "      <td>0.0</td>\n",
              "      <td>0.0</td>\n",
              "      <td>0.0</td>\n",
              "      <td>0.0</td>\n",
              "      <td>0.0</td>\n",
              "      <td>0.0</td>\n",
              "      <td>0.0</td>\n",
              "      <td>0.0</td>\n",
              "      <td>0.0</td>\n",
              "      <td>0.0</td>\n",
              "      <td>0</td>\n",
              "    </tr>\n",
              "    <tr>\n",
              "      <th>74314</th>\n",
              "      <td>0.911340</td>\n",
              "      <td>0.954639</td>\n",
              "      <td>0.486598</td>\n",
              "      <td>0.053608</td>\n",
              "      <td>0.032990</td>\n",
              "      <td>0.088660</td>\n",
              "      <td>0.109278</td>\n",
              "      <td>0.109278</td>\n",
              "      <td>0.092784</td>\n",
              "      <td>0.090722</td>\n",
              "      <td>0.094845</td>\n",
              "      <td>0.088660</td>\n",
              "      <td>0.084536</td>\n",
              "      <td>0.080412</td>\n",
              "      <td>0.076289</td>\n",
              "      <td>0.076289</td>\n",
              "      <td>0.070103</td>\n",
              "      <td>0.059794</td>\n",
              "      <td>0.051546</td>\n",
              "      <td>0.053608</td>\n",
              "      <td>0.043299</td>\n",
              "      <td>0.035052</td>\n",
              "      <td>0.032990</td>\n",
              "      <td>0.030928</td>\n",
              "      <td>0.024742</td>\n",
              "      <td>0.026804</td>\n",
              "      <td>0.043299</td>\n",
              "      <td>0.057732</td>\n",
              "      <td>0.061856</td>\n",
              "      <td>0.070103</td>\n",
              "      <td>0.096907</td>\n",
              "      <td>0.117526</td>\n",
              "      <td>0.129897</td>\n",
              "      <td>0.136082</td>\n",
              "      <td>0.160825</td>\n",
              "      <td>0.156701</td>\n",
              "      <td>0.152577</td>\n",
              "      <td>0.152577</td>\n",
              "      <td>0.150515</td>\n",
              "      <td>0.144330</td>\n",
              "      <td>...</td>\n",
              "      <td>0.0</td>\n",
              "      <td>0.0</td>\n",
              "      <td>0.0</td>\n",
              "      <td>0.0</td>\n",
              "      <td>0.0</td>\n",
              "      <td>0.0</td>\n",
              "      <td>0.0</td>\n",
              "      <td>0.0</td>\n",
              "      <td>0.0</td>\n",
              "      <td>0.0</td>\n",
              "      <td>0.0</td>\n",
              "      <td>0.0</td>\n",
              "      <td>0.0</td>\n",
              "      <td>0.0</td>\n",
              "      <td>0.0</td>\n",
              "      <td>0.0</td>\n",
              "      <td>0.0</td>\n",
              "      <td>0.0</td>\n",
              "      <td>0.0</td>\n",
              "      <td>0.0</td>\n",
              "      <td>0.0</td>\n",
              "      <td>0.0</td>\n",
              "      <td>0.0</td>\n",
              "      <td>0.0</td>\n",
              "      <td>0.0</td>\n",
              "      <td>0.0</td>\n",
              "      <td>0.0</td>\n",
              "      <td>0.0</td>\n",
              "      <td>0.0</td>\n",
              "      <td>0.0</td>\n",
              "      <td>0.0</td>\n",
              "      <td>0.0</td>\n",
              "      <td>0.0</td>\n",
              "      <td>0.0</td>\n",
              "      <td>0.0</td>\n",
              "      <td>0.0</td>\n",
              "      <td>0.0</td>\n",
              "      <td>0.0</td>\n",
              "      <td>0.0</td>\n",
              "      <td>1</td>\n",
              "    </tr>\n",
              "    <tr>\n",
              "      <th>78634</th>\n",
              "      <td>0.763780</td>\n",
              "      <td>0.840551</td>\n",
              "      <td>0.805118</td>\n",
              "      <td>0.724409</td>\n",
              "      <td>0.688976</td>\n",
              "      <td>0.653543</td>\n",
              "      <td>0.685039</td>\n",
              "      <td>0.700787</td>\n",
              "      <td>0.584646</td>\n",
              "      <td>0.301181</td>\n",
              "      <td>0.183071</td>\n",
              "      <td>0.125984</td>\n",
              "      <td>0.112205</td>\n",
              "      <td>0.090551</td>\n",
              "      <td>0.090551</td>\n",
              "      <td>0.070866</td>\n",
              "      <td>0.074803</td>\n",
              "      <td>0.055118</td>\n",
              "      <td>0.059055</td>\n",
              "      <td>0.031496</td>\n",
              "      <td>0.035433</td>\n",
              "      <td>0.015748</td>\n",
              "      <td>0.015748</td>\n",
              "      <td>0.000000</td>\n",
              "      <td>0.007874</td>\n",
              "      <td>0.000000</td>\n",
              "      <td>0.011811</td>\n",
              "      <td>0.003937</td>\n",
              "      <td>0.019685</td>\n",
              "      <td>0.033465</td>\n",
              "      <td>0.074803</td>\n",
              "      <td>0.094488</td>\n",
              "      <td>0.149606</td>\n",
              "      <td>0.169291</td>\n",
              "      <td>0.214567</td>\n",
              "      <td>0.218504</td>\n",
              "      <td>0.228346</td>\n",
              "      <td>0.216535</td>\n",
              "      <td>0.222441</td>\n",
              "      <td>0.208661</td>\n",
              "      <td>...</td>\n",
              "      <td>0.0</td>\n",
              "      <td>0.0</td>\n",
              "      <td>0.0</td>\n",
              "      <td>0.0</td>\n",
              "      <td>0.0</td>\n",
              "      <td>0.0</td>\n",
              "      <td>0.0</td>\n",
              "      <td>0.0</td>\n",
              "      <td>0.0</td>\n",
              "      <td>0.0</td>\n",
              "      <td>0.0</td>\n",
              "      <td>0.0</td>\n",
              "      <td>0.0</td>\n",
              "      <td>0.0</td>\n",
              "      <td>0.0</td>\n",
              "      <td>0.0</td>\n",
              "      <td>0.0</td>\n",
              "      <td>0.0</td>\n",
              "      <td>0.0</td>\n",
              "      <td>0.0</td>\n",
              "      <td>0.0</td>\n",
              "      <td>0.0</td>\n",
              "      <td>0.0</td>\n",
              "      <td>0.0</td>\n",
              "      <td>0.0</td>\n",
              "      <td>0.0</td>\n",
              "      <td>0.0</td>\n",
              "      <td>0.0</td>\n",
              "      <td>0.0</td>\n",
              "      <td>0.0</td>\n",
              "      <td>0.0</td>\n",
              "      <td>0.0</td>\n",
              "      <td>0.0</td>\n",
              "      <td>0.0</td>\n",
              "      <td>0.0</td>\n",
              "      <td>0.0</td>\n",
              "      <td>0.0</td>\n",
              "      <td>0.0</td>\n",
              "      <td>0.0</td>\n",
              "      <td>2</td>\n",
              "    </tr>\n",
              "    <tr>\n",
              "      <th>80699</th>\n",
              "      <td>0.956522</td>\n",
              "      <td>1.000000</td>\n",
              "      <td>0.614625</td>\n",
              "      <td>0.332016</td>\n",
              "      <td>0.221344</td>\n",
              "      <td>0.169960</td>\n",
              "      <td>0.132411</td>\n",
              "      <td>0.116601</td>\n",
              "      <td>0.106719</td>\n",
              "      <td>0.118577</td>\n",
              "      <td>0.083004</td>\n",
              "      <td>0.088933</td>\n",
              "      <td>0.081028</td>\n",
              "      <td>0.055336</td>\n",
              "      <td>0.053360</td>\n",
              "      <td>0.049407</td>\n",
              "      <td>0.033597</td>\n",
              "      <td>0.021739</td>\n",
              "      <td>0.013834</td>\n",
              "      <td>0.007905</td>\n",
              "      <td>0.005929</td>\n",
              "      <td>0.011858</td>\n",
              "      <td>0.000000</td>\n",
              "      <td>0.025692</td>\n",
              "      <td>0.023715</td>\n",
              "      <td>0.047431</td>\n",
              "      <td>0.063241</td>\n",
              "      <td>0.092885</td>\n",
              "      <td>0.124506</td>\n",
              "      <td>0.150198</td>\n",
              "      <td>0.171937</td>\n",
              "      <td>0.166008</td>\n",
              "      <td>0.183794</td>\n",
              "      <td>0.193676</td>\n",
              "      <td>0.187747</td>\n",
              "      <td>0.181818</td>\n",
              "      <td>0.187747</td>\n",
              "      <td>0.177866</td>\n",
              "      <td>0.183794</td>\n",
              "      <td>0.187747</td>\n",
              "      <td>...</td>\n",
              "      <td>0.0</td>\n",
              "      <td>0.0</td>\n",
              "      <td>0.0</td>\n",
              "      <td>0.0</td>\n",
              "      <td>0.0</td>\n",
              "      <td>0.0</td>\n",
              "      <td>0.0</td>\n",
              "      <td>0.0</td>\n",
              "      <td>0.0</td>\n",
              "      <td>0.0</td>\n",
              "      <td>0.0</td>\n",
              "      <td>0.0</td>\n",
              "      <td>0.0</td>\n",
              "      <td>0.0</td>\n",
              "      <td>0.0</td>\n",
              "      <td>0.0</td>\n",
              "      <td>0.0</td>\n",
              "      <td>0.0</td>\n",
              "      <td>0.0</td>\n",
              "      <td>0.0</td>\n",
              "      <td>0.0</td>\n",
              "      <td>0.0</td>\n",
              "      <td>0.0</td>\n",
              "      <td>0.0</td>\n",
              "      <td>0.0</td>\n",
              "      <td>0.0</td>\n",
              "      <td>0.0</td>\n",
              "      <td>0.0</td>\n",
              "      <td>0.0</td>\n",
              "      <td>0.0</td>\n",
              "      <td>0.0</td>\n",
              "      <td>0.0</td>\n",
              "      <td>0.0</td>\n",
              "      <td>0.0</td>\n",
              "      <td>0.0</td>\n",
              "      <td>0.0</td>\n",
              "      <td>0.0</td>\n",
              "      <td>0.0</td>\n",
              "      <td>0.0</td>\n",
              "      <td>3</td>\n",
              "    </tr>\n",
              "    <tr>\n",
              "      <th>85126</th>\n",
              "      <td>1.000000</td>\n",
              "      <td>0.501859</td>\n",
              "      <td>0.513011</td>\n",
              "      <td>0.535316</td>\n",
              "      <td>0.539033</td>\n",
              "      <td>0.520446</td>\n",
              "      <td>0.513011</td>\n",
              "      <td>0.531599</td>\n",
              "      <td>0.509294</td>\n",
              "      <td>0.405204</td>\n",
              "      <td>0.260223</td>\n",
              "      <td>0.152416</td>\n",
              "      <td>0.193309</td>\n",
              "      <td>0.174721</td>\n",
              "      <td>0.107807</td>\n",
              "      <td>0.107807</td>\n",
              "      <td>0.092937</td>\n",
              "      <td>0.089219</td>\n",
              "      <td>0.096654</td>\n",
              "      <td>0.078067</td>\n",
              "      <td>0.066914</td>\n",
              "      <td>0.100372</td>\n",
              "      <td>0.107807</td>\n",
              "      <td>0.115242</td>\n",
              "      <td>0.104089</td>\n",
              "      <td>0.107807</td>\n",
              "      <td>0.118959</td>\n",
              "      <td>0.137546</td>\n",
              "      <td>0.122677</td>\n",
              "      <td>0.122677</td>\n",
              "      <td>0.115242</td>\n",
              "      <td>0.122677</td>\n",
              "      <td>0.163569</td>\n",
              "      <td>0.171004</td>\n",
              "      <td>0.156134</td>\n",
              "      <td>0.193309</td>\n",
              "      <td>0.204461</td>\n",
              "      <td>0.223048</td>\n",
              "      <td>0.252788</td>\n",
              "      <td>0.293680</td>\n",
              "      <td>...</td>\n",
              "      <td>0.0</td>\n",
              "      <td>0.0</td>\n",
              "      <td>0.0</td>\n",
              "      <td>0.0</td>\n",
              "      <td>0.0</td>\n",
              "      <td>0.0</td>\n",
              "      <td>0.0</td>\n",
              "      <td>0.0</td>\n",
              "      <td>0.0</td>\n",
              "      <td>0.0</td>\n",
              "      <td>0.0</td>\n",
              "      <td>0.0</td>\n",
              "      <td>0.0</td>\n",
              "      <td>0.0</td>\n",
              "      <td>0.0</td>\n",
              "      <td>0.0</td>\n",
              "      <td>0.0</td>\n",
              "      <td>0.0</td>\n",
              "      <td>0.0</td>\n",
              "      <td>0.0</td>\n",
              "      <td>0.0</td>\n",
              "      <td>0.0</td>\n",
              "      <td>0.0</td>\n",
              "      <td>0.0</td>\n",
              "      <td>0.0</td>\n",
              "      <td>0.0</td>\n",
              "      <td>0.0</td>\n",
              "      <td>0.0</td>\n",
              "      <td>0.0</td>\n",
              "      <td>0.0</td>\n",
              "      <td>0.0</td>\n",
              "      <td>0.0</td>\n",
              "      <td>0.0</td>\n",
              "      <td>0.0</td>\n",
              "      <td>0.0</td>\n",
              "      <td>0.0</td>\n",
              "      <td>0.0</td>\n",
              "      <td>0.0</td>\n",
              "      <td>0.0</td>\n",
              "      <td>4</td>\n",
              "    </tr>\n",
              "  </tbody>\n",
              "</table>\n",
              "<p>5 rows × 188 columns</p>\n",
              "</div>"
            ],
            "text/plain": [
              "            0         1         2         3    ...  184  185  186  187\n",
              "20149  1.000000  0.823529  0.620321  0.334225  ...  0.0  0.0  0.0    0\n",
              "74314  0.911340  0.954639  0.486598  0.053608  ...  0.0  0.0  0.0    1\n",
              "78634  0.763780  0.840551  0.805118  0.724409  ...  0.0  0.0  0.0    2\n",
              "80699  0.956522  1.000000  0.614625  0.332016  ...  0.0  0.0  0.0    3\n",
              "85126  1.000000  0.501859  0.513011  0.535316  ...  0.0  0.0  0.0    4\n",
              "\n",
              "[5 rows x 188 columns]"
            ]
          },
          "metadata": {
            "tags": []
          },
          "execution_count": 115
        }
      ]
    },
    {
      "cell_type": "code",
      "metadata": {
        "id": "VwB80IzMo1iK",
        "colab_type": "code",
        "colab": {}
      },
      "source": [
        "def add_gaussian_noise(signal):\n",
        "    noise=np.random.normal(0,0.05,186)\n",
        "    return (signal+noise)"
      ],
      "execution_count": 0,
      "outputs": []
    },
    {
      "cell_type": "code",
      "metadata": {
        "id": "PJB5fWu5sWNc",
        "colab_type": "code",
        "colab": {
          "base_uri": "https://localhost:8080/",
          "height": 265
        },
        "outputId": "84237c5f-4846-40fd-d58f-8fe17e9151c0"
      },
      "source": [
        "tempo=c.iloc[0,:186]\n",
        "bruiter=add_gaussian_noise(tempo)\n",
        "\n",
        "plt.subplot(2,1,1)\n",
        "plt.plot(c.iloc[0,:186])\n",
        "\n",
        "plt.subplot(2,1,2)\n",
        "plt.plot(bruiter)\n",
        "\n",
        "plt.show()"
      ],
      "execution_count": 119,
      "outputs": [
        {
          "output_type": "display_data",
          "data": {
            "image/png": "[encoded data removed]",
            "text/plain": [
              "<Figure size 432x288 with 2 Axes>"
            ]
          },
          "metadata": {
            "tags": [],
            "needs_background": "light"
          }
        }
      ]
    },
    {
      "cell_type": "code",
      "metadata": {
        "id": "VG4fXuypr6vv",
        "colab_type": "code",
        "colab": {}
      },
      "source": [
        "target_train=train_df[187]\n",
        "target_test=test_df[187]\n",
        "y_train=to_categorical(target_train)\n",
        "y_test=to_categorical(target_test)"
      ],
      "execution_count": 0,
      "outputs": []
    },
    {
      "cell_type": "code",
      "metadata": {
        "id": "PUVlLpKPsQUz",
        "colab_type": "code",
        "colab": {}
      },
      "source": [
        "X_train=train_df.iloc[:,:186].values\n",
        "X_test=test_df.iloc[:,:186].values\n",
        "#for i in range(len(X_train)):\n",
        "#    X_train[i,:186]= add_gaussian_noise(X_train[i,:186])\n",
        "X_train = X_train.reshape(len(X_train), X_train.shape[1],1)\n",
        "X_test = X_test.reshape(len(X_test), X_test.shape[1],1)"
      ],
      "execution_count": 0,
      "outputs": []
    },
    {
      "cell_type": "code",
      "metadata": {
        "id": "dzROJp1Fr6q6",
        "colab_type": "code",
        "colab": {}
      },
      "source": [
        ""
      ],
      "execution_count": 0,
      "outputs": []
    },
    {
      "cell_type": "code",
      "metadata": {
        "id": "kOzIlNPzr6kY",
        "colab_type": "code",
        "colab": {}
      },
      "source": [
        ""
      ],
      "execution_count": 0,
      "outputs": []
    },
    {
      "cell_type": "code",
      "metadata": {
        "id": "zHbRK3GDr6bc",
        "colab_type": "code",
        "colab": {}
      },
      "source": [
        ""
      ],
      "execution_count": 0,
      "outputs": []
    },
    {
      "cell_type": "code",
      "metadata": {
        "id": "lz0aEgkhXamJ",
        "colab_type": "code",
        "colab": {}
      },
      "source": [
        "trainset = train_df.values\n",
        "testset = test_df.values"
      ],
      "execution_count": 0,
      "outputs": []
    },
    {
      "cell_type": "code",
      "metadata": {
        "id": "C5Yu65s0adg6",
        "colab_type": "code",
        "colab": {}
      },
      "source": [
        "def split(dataset, number_of_sample_per_category):\n",
        "  \n",
        "  new_dataset = np.zeros((np.sum(number_of_sample_per_category), dataset.shape[1]))\n",
        "  pointer = 0\n",
        "  \n",
        "  for row in dataset :\n",
        "    \n",
        "    row_label = int(row[-1])\n",
        "    \n",
        "    if number_of_sample_per_category[row_label] > 0 :\n",
        "      \n",
        "      number_of_sample_per_category[row_label] -= 1\n",
        "      new_dataset[pointer , :] = row\n",
        "      pointer += 1\n",
        "\n",
        "    else:\n",
        "\n",
        "      pass\n",
        "    \n",
        "  \n",
        "  return new_dataset\n",
        "\n",
        "\n"
      ],
      "execution_count": 0,
      "outputs": []
    },
    {
      "cell_type": "code",
      "metadata": {
        "id": "BTg8U_rCecMb",
        "colab_type": "code",
        "colab": {}
      },
      "source": [
        "temp_trainset = split(trainset, [5500, 2223, 5500, 641, 5500])\n",
        "temp_testset = split(testset, [500, 500, 500, 500, 500])"
      ],
      "execution_count": 0,
      "outputs": []
    },
    {
      "cell_type": "code",
      "metadata": {
        "id": "0VixGjo-J1uI",
        "colab_type": "code",
        "colab": {}
      },
      "source": [
        "augmented = 0\n",
        "def data_augmentation(dataset, chance):\n",
        "  \n",
        "  augmented = 0\n",
        "  number_of_rows = int(dataset.shape[0] + (dataset.shape[0] * (chance*2)))\n",
        "  new_dataset = np.zeros((number_of_rows, dataset.shape[1]))\n",
        "  pointer = 0 \n",
        "\n",
        "  for row in dataset:\n",
        "    \n",
        "    rand_num = random.uniform(0, 1)\n",
        "    if rand_num < chance:\n",
        "      \n",
        "      augmented += 1\n",
        "      noise = np.random.normal(scale=0.01, size=187)\n",
        "      new_signal = np.zeros((1, 188))\n",
        "      new_signal[:, :187] = row[:187] + noise\n",
        "      new_signal[:, -1:] = row[-1:] \n",
        "      new_dataset[pointer:pointer+1, :] = new_signal\n",
        "      pointer += 1\n",
        "\n",
        "    else :\n",
        "      pass\n",
        "\n",
        "    new_dataset[pointer, :] = row \n",
        "    pointer += 1\n",
        "\n",
        "  return augmented, new_dataset  \n",
        "\n",
        "  "
      ],
      "execution_count": 0,
      "outputs": []
    },
    {
      "cell_type": "code",
      "metadata": {
        "id": "K-WNJJaSNYR3",
        "colab_type": "code",
        "colab": {}
      },
      "source": [
        "# augmented, trainset = data_augmentation(temp_trainset, 0.08)"
      ],
      "execution_count": 0,
      "outputs": []
    },
    {
      "cell_type": "code",
      "metadata": {
        "id": "IEkQ1k_zRnYb",
        "colab_type": "code",
        "colab": {}
      },
      "source": [
        "filled = augmented + temp_trainset.shape[0]\n",
        "trainset = trainset[:filled , :]"
      ],
      "execution_count": 0,
      "outputs": []
    },
    {
      "cell_type": "code",
      "metadata": {
        "id": "ULVB16ONXuex",
        "colab_type": "code",
        "colab": {}
      },
      "source": [
        "trainset = np.take(trainset,np.random.permutation(trainset.shape[0]),axis=0,out=trainset)\n",
        "testset = np.take(temp_testset,np.random.permutation(temp_testset.shape[0]),axis=0,out=temp_testset)"
      ],
      "execution_count": 0,
      "outputs": []
    },
    {
      "cell_type": "code",
      "metadata": {
        "id": "BXpOUPpHYPQp",
        "colab_type": "code",
        "colab": {}
      },
      "source": [
        "X_temp_train = trainset[:, :-1]\n",
        "Y_train = trainset[:, -1:]\n",
        "X_temp_test = testset[:, :-1]\n",
        "Y_test = testset[:, -1:]"
      ],
      "execution_count": 0,
      "outputs": []
    },
    {
      "cell_type": "code",
      "metadata": {
        "id": "W6wSnYvXY6AA",
        "colab_type": "code",
        "outputId": "6d709b2c-fb0b-49e9-beeb-92a431b809c4",
        "colab": {
          "base_uri": "https://localhost:8080/",
          "height": 84
        }
      },
      "source": [
        "print(\"X_train : \", X_temp_train.shape)\n",
        "print(\"Y_train : \", Y_train.shape)\n",
        "print(\"X_test : \", X_temp_test.shape)\n",
        "print(\"Y_test : \", Y_test.shape)"
      ],
      "execution_count": 62,
      "outputs": [
        {
          "output_type": "stream",
          "text": [
            "X_train :  (20946, 187)\n",
            "Y_train :  (20946, 1)\n",
            "X_test :  (2500, 187)\n",
            "Y_test :  (2500, 1)\n"
          ],
          "name": "stdout"
        }
      ]
    },
    {
      "cell_type": "code",
      "metadata": {
        "id": "XQP8dTlBZw6p",
        "colab_type": "code",
        "colab": {
          "base_uri": "https://localhost:8080/",
          "height": 370
        },
        "outputId": "ce55b288-d2c1-43e3-d5e8-a042aba1ca19"
      },
      "source": [
        "\n",
        "# One Hot enoding for target labels \n",
        "ohe = OneHotEncoder()\n",
        "Y_train = ohe.fit_transform(Y_train.reshape(-1,1))\n",
        "Y_test = ohe.transform(Y_test.reshape(-1,1))\n",
        "\n",
        "# handle sparse matrix for keras \n",
        "Y_train = csr_matrix.toarray(Y_train)\n",
        "Y_test = csr_matrix.toarray(Y_test)"
      ],
      "execution_count": 107,
      "outputs": [
        {
          "output_type": "error",
          "ename": "ValueError",
          "evalue": "ignored",
          "traceback": [
            "\u001b[0;31m---------------------------------------------------------------------------\u001b[0m",
            "\u001b[0;31mValueError\u001b[0m                                Traceback (most recent call last)",
            "\u001b[0;32m<ipython-input-107-0ae71b4c0280>\u001b[0m in \u001b[0;36m<module>\u001b[0;34m()\u001b[0m\n\u001b[1;32m      3\u001b[0m \u001b[0mohe\u001b[0m \u001b[0;34m=\u001b[0m \u001b[0mOneHotEncoder\u001b[0m\u001b[0;34m(\u001b[0m\u001b[0;34m)\u001b[0m\u001b[0;34m\u001b[0m\u001b[0;34m\u001b[0m\u001b[0m\n\u001b[1;32m      4\u001b[0m \u001b[0mY_train\u001b[0m \u001b[0;34m=\u001b[0m \u001b[0mohe\u001b[0m\u001b[0;34m.\u001b[0m\u001b[0mfit_transform\u001b[0m\u001b[0;34m(\u001b[0m\u001b[0mY_train\u001b[0m\u001b[0;34m.\u001b[0m\u001b[0mreshape\u001b[0m\u001b[0;34m(\u001b[0m\u001b[0;34m-\u001b[0m\u001b[0;36m1\u001b[0m\u001b[0;34m,\u001b[0m\u001b[0;36m1\u001b[0m\u001b[0;34m)\u001b[0m\u001b[0;34m)\u001b[0m\u001b[0;34m\u001b[0m\u001b[0;34m\u001b[0m\u001b[0m\n\u001b[0;32m----> 5\u001b[0;31m \u001b[0mY_test\u001b[0m \u001b[0;34m=\u001b[0m \u001b[0mohe\u001b[0m\u001b[0;34m.\u001b[0m\u001b[0mtransform\u001b[0m\u001b[0;34m(\u001b[0m\u001b[0mY_test\u001b[0m\u001b[0;34m.\u001b[0m\u001b[0mreshape\u001b[0m\u001b[0;34m(\u001b[0m\u001b[0;34m-\u001b[0m\u001b[0;36m1\u001b[0m\u001b[0;34m,\u001b[0m\u001b[0;36m1\u001b[0m\u001b[0;34m)\u001b[0m\u001b[0;34m)\u001b[0m\u001b[0;34m\u001b[0m\u001b[0;34m\u001b[0m\u001b[0m\n\u001b[0m\u001b[1;32m      6\u001b[0m \u001b[0;34m\u001b[0m\u001b[0m\n\u001b[1;32m      7\u001b[0m \u001b[0;31m# handle sparse matrix for keras\u001b[0m\u001b[0;34m\u001b[0m\u001b[0;34m\u001b[0m\u001b[0;34m\u001b[0m\u001b[0m\n",
            "\u001b[0;32m/usr/local/lib/python3.6/dist-packages/sklearn/preprocessing/_encoders.py\u001b[0m in \u001b[0;36mtransform\u001b[0;34m(self, X)\u001b[0m\n\u001b[1;32m    388\u001b[0m         \u001b[0mcheck_is_fitted\u001b[0m\u001b[0;34m(\u001b[0m\u001b[0mself\u001b[0m\u001b[0;34m)\u001b[0m\u001b[0;34m\u001b[0m\u001b[0;34m\u001b[0m\u001b[0m\n\u001b[1;32m    389\u001b[0m         \u001b[0;31m# validation of X happens in _check_X called by _transform\u001b[0m\u001b[0;34m\u001b[0m\u001b[0;34m\u001b[0m\u001b[0;34m\u001b[0m\u001b[0m\n\u001b[0;32m--> 390\u001b[0;31m         \u001b[0mX_int\u001b[0m\u001b[0;34m,\u001b[0m \u001b[0mX_mask\u001b[0m \u001b[0;34m=\u001b[0m \u001b[0mself\u001b[0m\u001b[0;34m.\u001b[0m\u001b[0m_transform\u001b[0m\u001b[0;34m(\u001b[0m\u001b[0mX\u001b[0m\u001b[0;34m,\u001b[0m \u001b[0mhandle_unknown\u001b[0m\u001b[0;34m=\u001b[0m\u001b[0mself\u001b[0m\u001b[0;34m.\u001b[0m\u001b[0mhandle_unknown\u001b[0m\u001b[0;34m)\u001b[0m\u001b[0;34m\u001b[0m\u001b[0;34m\u001b[0m\u001b[0m\n\u001b[0m\u001b[1;32m    391\u001b[0m \u001b[0;34m\u001b[0m\u001b[0m\n\u001b[1;32m    392\u001b[0m         \u001b[0mn_samples\u001b[0m\u001b[0;34m,\u001b[0m \u001b[0mn_features\u001b[0m \u001b[0;34m=\u001b[0m \u001b[0mX_int\u001b[0m\u001b[0;34m.\u001b[0m\u001b[0mshape\u001b[0m\u001b[0;34m\u001b[0m\u001b[0;34m\u001b[0m\u001b[0m\n",
            "\u001b[0;32m/usr/local/lib/python3.6/dist-packages/sklearn/preprocessing/_encoders.py\u001b[0m in \u001b[0;36m_transform\u001b[0;34m(self, X, handle_unknown)\u001b[0m\n\u001b[1;32m    122\u001b[0m                     msg = (\"Found unknown categories {0} in column {1}\"\n\u001b[1;32m    123\u001b[0m                            \" during transform\".format(diff, i))\n\u001b[0;32m--> 124\u001b[0;31m                     \u001b[0;32mraise\u001b[0m \u001b[0mValueError\u001b[0m\u001b[0;34m(\u001b[0m\u001b[0mmsg\u001b[0m\u001b[0;34m)\u001b[0m\u001b[0;34m\u001b[0m\u001b[0;34m\u001b[0m\u001b[0m\n\u001b[0m\u001b[1;32m    125\u001b[0m                 \u001b[0;32melse\u001b[0m\u001b[0;34m:\u001b[0m\u001b[0;34m\u001b[0m\u001b[0;34m\u001b[0m\u001b[0m\n\u001b[1;32m    126\u001b[0m                     \u001b[0;31m# Set the problematic rows to an acceptable value and\u001b[0m\u001b[0;34m\u001b[0m\u001b[0;34m\u001b[0m\u001b[0;34m\u001b[0m\u001b[0m\n",
            "\u001b[0;31mValueError\u001b[0m: Found unknown categories [1.0, 2.0, 3.0, 4.0] in column 0 during transform"
          ]
        }
      ]
    },
    {
      "cell_type": "code",
      "metadata": {
        "id": "YBhFohZUarKo",
        "colab_type": "code",
        "outputId": "d4467e62-67b7-491e-9dc4-aac0ded2b08e",
        "colab": {
          "base_uri": "https://localhost:8080/",
          "height": 84
        }
      },
      "source": [
        "print(\"X_train : \", X_temp_train.shape)\n",
        "print(\"Y_train : \", Y_train.shape)\n",
        "print(\"X_test : \", X_temp_test.shape)\n",
        "print(\"Y_test : \", Y_test.shape)"
      ],
      "execution_count": 64,
      "outputs": [
        {
          "output_type": "stream",
          "text": [
            "X_train :  (20946, 187)\n",
            "Y_train :  (20946, 5)\n",
            "X_test :  (2500, 187)\n",
            "Y_test :  (2500, 5)\n"
          ],
          "name": "stdout"
        }
      ]
    },
    {
      "cell_type": "code",
      "metadata": {
        "id": "E525NqY3aGSp",
        "colab_type": "code",
        "colab": {}
      },
      "source": [
        "# periodic signal extend \n",
        "\n",
        "# import pywt\n",
        "\n",
        "# XF_train = np.zeros((X_temp_train.shape[0], 9000))\n",
        "# XF_test = np.zeros((X_temp_test.shape[0], 9000))\n",
        "\n",
        "\n",
        "# for index, row in enumerate(X_temp_train):\n",
        "#   XF_train[index, :-1] = pywt.pad(row, 4406, 'symmetric')\n",
        "#   XF_train[index, -1:] = 0\n",
        "\n",
        "\n",
        "# for index, row in enumerate(X_temp_test):\n",
        "#   XF_test[index, :-1] = pywt.pad(row, 4406, 'symmetric')\n",
        "#   XF_test[index, -1:] = 0\n",
        " \n",
        "\n"
      ],
      "execution_count": 0,
      "outputs": []
    },
    {
      "cell_type": "code",
      "metadata": {
        "id": "UhCEcchWo3cd",
        "colab_type": "code",
        "colab": {}
      },
      "source": [
        "for index, row in enumerate(X_temp_train):\n",
        "  X_temp_train[index] = add_gaussian_noise(row)\n",
        "for index, row in enumerate(X_temp_test):\n",
        "  X_temp_test[index] = add_gaussian_noise(row)\n"
      ],
      "execution_count": 0,
      "outputs": []
    },
    {
      "cell_type": "code",
      "metadata": {
        "id": "cmANeCYtjmgE",
        "colab_type": "code",
        "colab": {}
      },
      "source": [
        "XF_train = X_temp_train.reshape((20946, 187, 1))\n",
        "XF_test = X_temp_test.reshape((2500, 187, 1))"
      ],
      "execution_count": 0,
      "outputs": []
    },
    {
      "cell_type": "code",
      "metadata": {
        "id": "vZNvkTDCjyoA",
        "colab_type": "code",
        "outputId": "7a12d4bc-8531-49df-f340-fa39d600df29",
        "colab": {
          "base_uri": "https://localhost:8080/",
          "height": 84
        }
      },
      "source": [
        "print(\"X_train : \", XF_train.shape)\n",
        "print(\"Y_train : \", Y_train.shape)\n",
        "print(\"X_test : \", XF_test.shape)\n",
        "print(\"Y_test : \", Y_test.shape)"
      ],
      "execution_count": 78,
      "outputs": [
        {
          "output_type": "stream",
          "text": [
            "X_train :  (20946, 187, 1)\n",
            "Y_train :  (20946, 5)\n",
            "X_test :  (2500, 187, 1)\n",
            "Y_test :  (2500, 5)\n"
          ],
          "name": "stdout"
        }
      ]
    },
    {
      "cell_type": "code",
      "metadata": {
        "id": "zKvIW2sWkaoP",
        "colab_type": "code",
        "outputId": "eaa8542b-e8a2-44b8-a21e-a460c9650e83",
        "colab": {
          "base_uri": "https://localhost:8080/",
          "height": 655
        }
      },
      "source": [
        "im_shape=(X_train.shape[1], 1)\n",
        "inputs_cnn=Input(shape=(im_shape), name='inputs_cnn')\n",
        "conv1_1=Conv1D(64, (6), activation='relu', input_shape=im_shape)(inputs_cnn)\n",
        "conv1_1=BatchNormalization()(conv1_1)\n",
        "pool1=MaxPool1D(pool_size=(3), strides=(2), padding=\"same\")(conv1_1)\n",
        "conv2_1=Conv1D(64, (3), activation='relu', input_shape=im_shape)(pool1)\n",
        "conv2_1=BatchNormalization()(conv2_1)\n",
        "pool2=MaxPool1D(pool_size=(2), strides=(2), padding=\"same\")(conv2_1)\n",
        "conv3_1=Conv1D(64, (3), activation='relu', input_shape=im_shape)(pool2)\n",
        "conv3_1=BatchNormalization()(conv3_1)\n",
        "pool3=MaxPool1D(pool_size=(2), strides=(2), padding=\"same\")(conv3_1)\n",
        "flatten=Flatten()(pool3)\n",
        "dense_end1 = Dense(64, activation='relu')(flatten)\n",
        "Drop0 = Dropout(0.5)(dense_end1)\n",
        "dense_end2 = Dense(32, activation='relu')(Drop0)\n",
        "main_output = Dense(5, activation='softmax', name='main_output')(dense_end2)\n",
        "\n",
        "model = Model(inputs=inputs_cnn, outputs=main_output)\n",
        "\n",
        "model.summary()\n"
      ],
      "execution_count": 122,
      "outputs": [
        {
          "output_type": "stream",
          "text": [
            "Model: \"model_10\"\n",
            "_________________________________________________________________\n",
            "Layer (type)                 Output Shape              Param #   \n",
            "=================================================================\n",
            "inputs_cnn (InputLayer)      [(None, 186, 1)]          0         \n",
            "_________________________________________________________________\n",
            "conv1d_43 (Conv1D)           (None, 181, 64)           448       \n",
            "_________________________________________________________________\n",
            "batch_normalization_45 (Batc (None, 181, 64)           256       \n",
            "_________________________________________________________________\n",
            "max_pooling1d_28 (MaxPooling (None, 91, 64)            0         \n",
            "_________________________________________________________________\n",
            "conv1d_44 (Conv1D)           (None, 89, 64)            12352     \n",
            "_________________________________________________________________\n",
            "batch_normalization_46 (Batc (None, 89, 64)            256       \n",
            "_________________________________________________________________\n",
            "max_pooling1d_29 (MaxPooling (None, 45, 64)            0         \n",
            "_________________________________________________________________\n",
            "conv1d_45 (Conv1D)           (None, 43, 64)            12352     \n",
            "_________________________________________________________________\n",
            "batch_normalization_47 (Batc (None, 43, 64)            256       \n",
            "_________________________________________________________________\n",
            "max_pooling1d_30 (MaxPooling (None, 22, 64)            0         \n",
            "_________________________________________________________________\n",
            "flatten_10 (Flatten)         (None, 1408)              0         \n",
            "_________________________________________________________________\n",
            "dense_22 (Dense)             (None, 64)                90176     \n",
            "_________________________________________________________________\n",
            "dropout_7 (Dropout)          (None, 64)                0         \n",
            "_________________________________________________________________\n",
            "dense_23 (Dense)             (None, 32)                2080      \n",
            "_________________________________________________________________\n",
            "main_output (Dense)          (None, 5)                 165       \n",
            "=================================================================\n",
            "Total params: 118,341\n",
            "Trainable params: 117,957\n",
            "Non-trainable params: 384\n",
            "_________________________________________________________________\n"
          ],
          "name": "stdout"
        }
      ]
    },
    {
      "cell_type": "code",
      "metadata": {
        "id": "J51SxpfQofzM",
        "colab_type": "code",
        "outputId": "f712c935-5c15-47d0-8ac3-1d686a562f8a",
        "colab": {
          "base_uri": "https://localhost:8080/",
          "height": 336
        }
      },
      "source": [
        "# compile model\n",
        "model.compile(loss='categorical_crossentropy', optimizer='adam', metrics=['accuracy'])\n",
        "\n",
        "# Early Stopping\n",
        "es_callback = tf.keras.callbacks.EarlyStopping(monitor='val_loss', patience=3)\n",
        "\n",
        "# Fit the model\n",
        "model.fit(X_train, y_train, epochs=20, batch_size=128, validation_data=(X_test, y_test), callbacks=[es_callback])"
      ],
      "execution_count": 124,
      "outputs": [
        {
          "output_type": "stream",
          "text": [
            "Epoch 1/20\n",
            "782/782 [==============================] - 75s 96ms/step - loss: 0.3866 - accuracy: 0.8595 - val_loss: 0.4437 - val_accuracy: 0.8464\n",
            "Epoch 2/20\n",
            "782/782 [==============================] - 73s 94ms/step - loss: 0.1866 - accuracy: 0.9329 - val_loss: 0.2054 - val_accuracy: 0.9296\n",
            "Epoch 3/20\n",
            "782/782 [==============================] - 73s 94ms/step - loss: 0.1297 - accuracy: 0.9535 - val_loss: 0.1705 - val_accuracy: 0.9405\n",
            "Epoch 4/20\n",
            "782/782 [==============================] - 73s 94ms/step - loss: 0.1029 - accuracy: 0.9636 - val_loss: 0.1493 - val_accuracy: 0.9490\n",
            "Epoch 5/20\n",
            "782/782 [==============================] - 73s 93ms/step - loss: 0.0857 - accuracy: 0.9698 - val_loss: 0.1317 - val_accuracy: 0.9566\n",
            "Epoch 6/20\n",
            "782/782 [==============================] - 74s 94ms/step - loss: 0.0750 - accuracy: 0.9738 - val_loss: 0.1283 - val_accuracy: 0.9610\n",
            "Epoch 7/20\n",
            "782/782 [==============================] - 74s 95ms/step - loss: 0.0660 - accuracy: 0.9771 - val_loss: 0.1294 - val_accuracy: 0.9599\n",
            "Epoch 8/20\n",
            "782/782 [==============================] - 77s 98ms/step - loss: 0.0606 - accuracy: 0.9794 - val_loss: 0.1387 - val_accuracy: 0.9622\n",
            "Epoch 9/20\n",
            "782/782 [==============================] - 75s 96ms/step - loss: 0.0558 - accuracy: 0.9806 - val_loss: 0.1349 - val_accuracy: 0.9616\n"
          ],
          "name": "stdout"
        },
        {
          "output_type": "execute_result",
          "data": {
            "text/plain": [
              "<tensorflow.python.keras.callbacks.History at 0x7f6fe8144160>"
            ]
          },
          "metadata": {
            "tags": []
          },
          "execution_count": 124
        }
      ]
    },
    {
      "cell_type": "code",
      "metadata": {
        "id": "KrUPC94zqTiE",
        "colab_type": "code",
        "colab": {}
      },
      "source": [
        ""
      ],
      "execution_count": 0,
      "outputs": []
    }
  ]
}